{
 "cells": [
  {
   "cell_type": "markdown",
   "id": "707e9d5d",
   "metadata": {},
   "source": [
    "# Información y Programación Financiera, TI, Algoritmos y Ciencia de Datos"
   ]
  },
  {
   "cell_type": "markdown",
   "id": "4ff071e9",
   "metadata": {},
   "source": [
    "Neftalí Valdez\n",
    "\n",
    "<a href=\"http://twitter.com/neftalivldz\" target=\"_blank\">@neftalivldz</a> | <a href=\"mailto:nvaldez@tec.mx\">nvaldez@tec.mx</a>"
   ]
  },
  {
   "cell_type": "code",
   "execution_count": 28,
   "id": "567dd8d9",
   "metadata": {},
   "outputs": [
    {
     "data": {
      "text/html": [
       "        <script type=\"text/javascript\">\n",
       "        window.PlotlyConfig = {MathJaxConfig: 'local'};\n",
       "        if (window.MathJax && window.MathJax.Hub && window.MathJax.Hub.Config) {window.MathJax.Hub.Config({SVG: {font: \"STIX-Web\"}});}\n",
       "        if (typeof require !== 'undefined') {\n",
       "        require.undef(\"plotly\");\n",
       "        requirejs.config({\n",
       "            paths: {\n",
       "                'plotly': ['https://cdn.plot.ly/plotly-2.25.2.min']\n",
       "            }\n",
       "        });\n",
       "        require(['plotly'], function(Plotly) {\n",
       "            window._Plotly = Plotly;\n",
       "        });\n",
       "        }\n",
       "        </script>\n",
       "        "
      ]
     },
     "metadata": {},
     "output_type": "display_data"
    }
   ],
   "source": [
    "import eikon as ek  # the Eikon Python wrapper package\n",
    "import datetime as dt\n",
    "import numpy as np  # NumPy\n",
    "import pandas as pd  # pandas\n",
    "import cufflinks as cf  # Cufflinks\n",
    "import configparser as cp\n",
    "cf.set_config_file(offline=True)  # set the plotting mode to offline\n"
   ]
  },
  {
   "cell_type": "code",
   "execution_count": 29,
   "id": "18abd0fc",
   "metadata": {},
   "outputs": [],
   "source": [
    "#!pip3 install heatmapcluster"
   ]
  },
  {
   "cell_type": "code",
   "execution_count": 30,
   "id": "83792ba6",
   "metadata": {},
   "outputs": [],
   "source": [
    "cfg = cp.ConfigParser()\n",
    "cfg.read('../refinitiv.cfg')\n",
    "ek.set_app_key(cfg['eikon']['app_id'])"
   ]
  },
  {
   "cell_type": "code",
   "execution_count": 31,
   "id": "d2e48f8c",
   "metadata": {},
   "outputs": [],
   "source": [
    "XLE= ek.get_data('XLE', ['TR.FundHoldingRIC','TR.FundHoldingName', 'TR.FundPercentageOfFundAssets',\n",
    "                           'TR.FundNumberOfShares', 'TR.FundNumberOfSharesChanged'],\n",
    "            {'Endnum':'5000'})[0]"
   ]
  },
  {
   "cell_type": "code",
   "execution_count": 38,
   "id": "28a22acb",
   "metadata": {},
   "outputs": [],
   "source": [
    "portafolio = ['INGR.N',\n",
    "'DINO.N',\n",
    "'STLAM.MI', \n",
    "'DOW.N', \n",
    "'8035.T', \n",
    "'AIR.PA',\n",
    "'NOVOb.CO',\n",
    "'ASML.AS', \n",
    "'005930.KS',\n",
    "'GD']"
   ]
  },
  {
   "cell_type": "code",
   "execution_count": 34,
   "id": "f22168f7",
   "metadata": {},
   "outputs": [
    {
     "name": "stdout",
     "output_type": "stream",
     "text": [
      "2014-04-26 17:24:23.262789 2024-04-25 17:24:23.262789\n"
     ]
    }
   ],
   "source": [
    "from datetime import datetime, timedelta\n",
    "end = datetime.today()\n",
    "start = end - timedelta(days=(365.2*10))\n",
    "print(start, end)"
   ]
  },
  {
   "cell_type": "code",
   "execution_count": 39,
   "id": "a23f9888",
   "metadata": {},
   "outputs": [
    {
     "data": {
      "text/plain": [
       "['INGR.N',\n",
       " 'DINO.N',\n",
       " 'STLAM.MI',\n",
       " 'DOW.N',\n",
       " '8035.T',\n",
       " 'AIR.PA',\n",
       " 'NOVOb.CO',\n",
       " 'ASML.AS',\n",
       " '005930.KS',\n",
       " 'GD']"
      ]
     },
     "execution_count": 39,
     "metadata": {},
     "output_type": "execute_result"
    }
   ],
   "source": [
    "const = [i for i in portafolio if i != '']\n",
    "const"
   ]
  },
  {
   "cell_type": "code",
   "execution_count": 40,
   "id": "6c8daa88",
   "metadata": {},
   "outputs": [
    {
     "name": "stdout",
     "output_type": "stream",
     "text": [
      "2021-04-26 03:01:18.422806 2024-04-25 17:25:18.422806\n"
     ]
    }
   ],
   "source": [
    "from datetime import datetime, timedelta\n",
    "end = datetime.today()\n",
    "start = end - timedelta(days=(365.2*3))\n",
    "print(start, end)"
   ]
  },
  {
   "cell_type": "code",
   "execution_count": 41,
   "id": "395c72cc",
   "metadata": {},
   "outputs": [
    {
     "data": {
      "text/html": [
       "<div>\n",
       "<style scoped>\n",
       "    .dataframe tbody tr th:only-of-type {\n",
       "        vertical-align: middle;\n",
       "    }\n",
       "\n",
       "    .dataframe tbody tr th {\n",
       "        vertical-align: top;\n",
       "    }\n",
       "\n",
       "    .dataframe thead th {\n",
       "        text-align: right;\n",
       "    }\n",
       "</style>\n",
       "<table border=\"1\" class=\"dataframe\">\n",
       "  <thead>\n",
       "    <tr style=\"text-align: right;\">\n",
       "      <th>INGR.N</th>\n",
       "      <th>INGR.N</th>\n",
       "    </tr>\n",
       "    <tr>\n",
       "      <th>Date</th>\n",
       "      <th></th>\n",
       "    </tr>\n",
       "  </thead>\n",
       "  <tbody>\n",
       "    <tr>\n",
       "      <th>2021-04-27</th>\n",
       "      <td>&lt;NA&gt;</td>\n",
       "    </tr>\n",
       "    <tr>\n",
       "      <th>2021-04-28</th>\n",
       "      <td>0.001716</td>\n",
       "    </tr>\n",
       "    <tr>\n",
       "      <th>2021-04-29</th>\n",
       "      <td>-0.000322</td>\n",
       "    </tr>\n",
       "    <tr>\n",
       "      <th>2021-04-30</th>\n",
       "      <td>0.001393</td>\n",
       "    </tr>\n",
       "    <tr>\n",
       "      <th>2021-05-03</th>\n",
       "      <td>0.011178</td>\n",
       "    </tr>\n",
       "    <tr>\n",
       "      <th>...</th>\n",
       "      <td>...</td>\n",
       "    </tr>\n",
       "    <tr>\n",
       "      <th>2024-04-19</th>\n",
       "      <td>0.011419</td>\n",
       "    </tr>\n",
       "    <tr>\n",
       "      <th>2024-04-22</th>\n",
       "      <td>0.006055</td>\n",
       "    </tr>\n",
       "    <tr>\n",
       "      <th>2024-04-23</th>\n",
       "      <td>0.000175</td>\n",
       "    </tr>\n",
       "    <tr>\n",
       "      <th>2024-04-24</th>\n",
       "      <td>0.006712</td>\n",
       "    </tr>\n",
       "    <tr>\n",
       "      <th>2024-04-25</th>\n",
       "      <td>-0.005401</td>\n",
       "    </tr>\n",
       "  </tbody>\n",
       "</table>\n",
       "<p>755 rows × 1 columns</p>\n",
       "</div>"
      ],
      "text/plain": [
       "INGR.N        INGR.N\n",
       "Date                \n",
       "2021-04-27      <NA>\n",
       "2021-04-28  0.001716\n",
       "2021-04-29 -0.000322\n",
       "2021-04-30  0.001393\n",
       "2021-05-03  0.011178\n",
       "...              ...\n",
       "2024-04-19  0.011419\n",
       "2024-04-22  0.006055\n",
       "2024-04-23  0.000175\n",
       "2024-04-24  0.006712\n",
       "2024-04-25 -0.005401\n",
       "\n",
       "[755 rows x 1 columns]"
      ]
     },
     "execution_count": 41,
     "metadata": {},
     "output_type": "execute_result"
    }
   ],
   "source": [
    "df = ek.get_timeseries(const[0], start_date = start, end_date = end, fields='CLOSE', interval=\"daily\")\n",
    "df[const[0]] = np.log(df['CLOSE'].div(df['CLOSE'].shift(1)))\n",
    "weekly_returns = df.drop(columns=[\"CLOSE\"])\n",
    "weekly_returns"
   ]
  },
  {
   "cell_type": "code",
   "execution_count": 42,
   "id": "0840c975",
   "metadata": {},
   "outputs": [],
   "source": [
    "semanas = weekly_returns.shape[0] -1"
   ]
  },
  {
   "cell_type": "code",
   "execution_count": 43,
   "id": "0e82a662",
   "metadata": {},
   "outputs": [
    {
     "name": "stdout",
     "output_type": "stream",
     "text": [
      "DINO.N 754\n",
      "STLAM.MI 767\n",
      "DOW.N 754\n",
      "8035.T 733\n",
      "AIR.PA 771\n",
      "NOVOb.CO 754\n",
      "ASML.AS 771\n",
      "005930.KS 739\n",
      "GD 754\n"
     ]
    }
   ],
   "source": [
    "for i in const[1:]:\n",
    "    w = ek.get_timeseries(i, start_date = start, end_date = end, fields='CLOSE', interval=\"daily\")\n",
    "    w[i] = np.log(w['CLOSE'].div(w['CLOSE'].shift(1)))\n",
    "    w1 = w.drop(columns=[\"CLOSE\"])\n",
    "    p = round(w1.count()[0])\n",
    "    print(i, p)\n",
    "    if p == semanas:    \n",
    "        weekly_returns = weekly_returns.join(w1, lsuffix=\"_left\", rsuffix=\"_right\")"
   ]
  },
  {
   "cell_type": "code",
   "execution_count": 44,
   "id": "789c6407",
   "metadata": {},
   "outputs": [
    {
     "data": {
      "text/html": [
       "<div>\n",
       "<style scoped>\n",
       "    .dataframe tbody tr th:only-of-type {\n",
       "        vertical-align: middle;\n",
       "    }\n",
       "\n",
       "    .dataframe tbody tr th {\n",
       "        vertical-align: top;\n",
       "    }\n",
       "\n",
       "    .dataframe thead th {\n",
       "        text-align: right;\n",
       "    }\n",
       "</style>\n",
       "<table border=\"1\" class=\"dataframe\">\n",
       "  <thead>\n",
       "    <tr style=\"text-align: right;\">\n",
       "      <th></th>\n",
       "      <th>INGR.N</th>\n",
       "      <th>DINO.N</th>\n",
       "      <th>DOW.N</th>\n",
       "      <th>NOVOb.CO</th>\n",
       "      <th>GD</th>\n",
       "    </tr>\n",
       "    <tr>\n",
       "      <th>Date</th>\n",
       "      <th></th>\n",
       "      <th></th>\n",
       "      <th></th>\n",
       "      <th></th>\n",
       "      <th></th>\n",
       "    </tr>\n",
       "  </thead>\n",
       "  <tbody>\n",
       "    <tr>\n",
       "      <th>2021-04-28</th>\n",
       "      <td>0.001716</td>\n",
       "      <td>0.032426</td>\n",
       "      <td>0.01048</td>\n",
       "      <td>0.006278</td>\n",
       "      <td>-0.003395</td>\n",
       "    </tr>\n",
       "    <tr>\n",
       "      <th>2021-04-29</th>\n",
       "      <td>-0.000322</td>\n",
       "      <td>-0.001681</td>\n",
       "      <td>0.011777</td>\n",
       "      <td>-0.005174</td>\n",
       "      <td>0.028994</td>\n",
       "    </tr>\n",
       "    <tr>\n",
       "      <th>2021-05-03</th>\n",
       "      <td>0.011178</td>\n",
       "      <td>0.05557</td>\n",
       "      <td>0.032274</td>\n",
       "      <td>0.022588</td>\n",
       "      <td>0.007646</td>\n",
       "    </tr>\n",
       "    <tr>\n",
       "      <th>2021-05-04</th>\n",
       "      <td>-0.008398</td>\n",
       "      <td>-0.021306</td>\n",
       "      <td>0.025542</td>\n",
       "      <td>-0.012486</td>\n",
       "      <td>0.001564</td>\n",
       "    </tr>\n",
       "    <tr>\n",
       "      <th>2021-05-05</th>\n",
       "      <td>-0.01973</td>\n",
       "      <td>-0.043448</td>\n",
       "      <td>0.027554</td>\n",
       "      <td>0.00349</td>\n",
       "      <td>-0.006847</td>\n",
       "    </tr>\n",
       "    <tr>\n",
       "      <th>...</th>\n",
       "      <td>...</td>\n",
       "      <td>...</td>\n",
       "      <td>...</td>\n",
       "      <td>...</td>\n",
       "      <td>...</td>\n",
       "    </tr>\n",
       "    <tr>\n",
       "      <th>2024-04-19</th>\n",
       "      <td>0.011419</td>\n",
       "      <td>0.010077</td>\n",
       "      <td>0.003005</td>\n",
       "      <td>0.004049</td>\n",
       "      <td>0.011675</td>\n",
       "    </tr>\n",
       "    <tr>\n",
       "      <th>2024-04-22</th>\n",
       "      <td>0.006055</td>\n",
       "      <td>0.005613</td>\n",
       "      <td>0.005807</td>\n",
       "      <td>0.010451</td>\n",
       "      <td>0.009277</td>\n",
       "    </tr>\n",
       "    <tr>\n",
       "      <th>2024-04-23</th>\n",
       "      <td>0.000175</td>\n",
       "      <td>0.00506</td>\n",
       "      <td>-0.004396</td>\n",
       "      <td>0.018114</td>\n",
       "      <td>0.004829</td>\n",
       "    </tr>\n",
       "    <tr>\n",
       "      <th>2024-04-24</th>\n",
       "      <td>0.006712</td>\n",
       "      <td>-0.000522</td>\n",
       "      <td>0.004221</td>\n",
       "      <td>-0.014238</td>\n",
       "      <td>-0.04047</td>\n",
       "    </tr>\n",
       "    <tr>\n",
       "      <th>2024-04-25</th>\n",
       "      <td>-0.005401</td>\n",
       "      <td>0.003997</td>\n",
       "      <td>-0.009522</td>\n",
       "      <td>-0.013635</td>\n",
       "      <td>0.013392</td>\n",
       "    </tr>\n",
       "  </tbody>\n",
       "</table>\n",
       "<p>734 rows × 5 columns</p>\n",
       "</div>"
      ],
      "text/plain": [
       "              INGR.N    DINO.N     DOW.N  NOVOb.CO        GD\n",
       "Date                                                        \n",
       "2021-04-28  0.001716  0.032426   0.01048  0.006278 -0.003395\n",
       "2021-04-29 -0.000322 -0.001681  0.011777 -0.005174  0.028994\n",
       "2021-05-03  0.011178   0.05557  0.032274  0.022588  0.007646\n",
       "2021-05-04 -0.008398 -0.021306  0.025542 -0.012486  0.001564\n",
       "2021-05-05  -0.01973 -0.043448  0.027554   0.00349 -0.006847\n",
       "...              ...       ...       ...       ...       ...\n",
       "2024-04-19  0.011419  0.010077  0.003005  0.004049  0.011675\n",
       "2024-04-22  0.006055  0.005613  0.005807  0.010451  0.009277\n",
       "2024-04-23  0.000175   0.00506 -0.004396  0.018114  0.004829\n",
       "2024-04-24  0.006712 -0.000522  0.004221 -0.014238  -0.04047\n",
       "2024-04-25 -0.005401  0.003997 -0.009522 -0.013635  0.013392\n",
       "\n",
       "[734 rows x 5 columns]"
      ]
     },
     "execution_count": 44,
     "metadata": {},
     "output_type": "execute_result"
    }
   ],
   "source": [
    "weekly_returns.dropna()"
   ]
  },
  {
   "cell_type": "code",
   "execution_count": 45,
   "id": "e3b2792d",
   "metadata": {},
   "outputs": [],
   "source": [
    "X = weekly_returns.dropna().transpose()"
   ]
  },
  {
   "cell_type": "code",
   "execution_count": 46,
   "id": "549a087e",
   "metadata": {},
   "outputs": [
    {
     "data": {
      "image/png": "[encoded data removed]",
      "text/plain": [
       "<Figure size 1200x900 with 1 Axes>"
      ]
     },
     "metadata": {},
     "output_type": "display_data"
    }
   ],
   "source": [
    "# Calculate the distance between each sample\n",
    "Z = linkage(X, 'ward')\n",
    "\n",
    "# Plot with Custom leaves\n",
    "dendrogram(Z, leaf_rotation=90, leaf_font_size=8, labels=X.index)\n",
    "\n",
    "# Show the graph\n",
    "plt.show()"
   ]
  },
  {
   "cell_type": "code",
   "execution_count": null,
   "id": "88377fa9",
   "metadata": {},
   "outputs": [],
   "source": []
  }
 ],
 "metadata": {
  "kernelspec": {
   "display_name": "Python 3 (ipykernel)",
   "language": "python",
   "name": "python3"
  },
  "language_info": {
   "codemirror_mode": {
    "name": "ipython",
    "version": 3
   },
   "file_extension": ".py",
   "mimetype": "text/x-python",
   "name": "python",
   "nbconvert_exporter": "python",
   "pygments_lexer": "ipython3",
   "version": "3.8.15"
  }
 },
 "nbformat": 4,
 "nbformat_minor": 5
}
