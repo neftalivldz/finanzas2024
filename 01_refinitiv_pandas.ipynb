{
 "cells": [
  {
   "cell_type": "markdown",
   "id": "1334912b",
   "metadata": {},
   "source": [
    "# Información y Programación Financiera, TI, Algoritmos y Ciencia de Datos"
   ]
  },
  {
   "cell_type": "markdown",
   "id": "d582e293",
   "metadata": {},
   "source": [
    "Neftalí Valdez\n",
    "\n",
    "<a href=\"http://twitter.com/neftalivldz\" target=\"_blank\">@neftalivldz</a> | <a href=\"mailto:nvaldez@tec.mx\">nvaldez@tec.mx</a>"
   ]
  },
  {
   "cell_type": "code",
   "execution_count": 1,
   "id": "d7e54f6e",
   "metadata": {},
   "outputs": [],
   "source": [
    "#!pip3 install eikon\n",
    "#!pip3 install cufflinks\n",
    "#!pip3 install seaborn\n",
    "!pip3 install numpy"
   ]
  },
  {
   "cell_type": "markdown",
   "id": "ce666ef7",
   "metadata": {},
   "source": [
    "# Importar librerías"
   ]
  },
  {
   "cell_type": "code",
   "execution_count": 2,
   "id": "500ee4fb",
   "metadata": {},
   "outputs": [
    {
     "data": {
      "text/html": [
       "        <script type=\"text/javascript\">\n",
       "        window.PlotlyConfig = {MathJaxConfig: 'local'};\n",
       "        if (window.MathJax && window.MathJax.Hub && window.MathJax.Hub.Config) {window.MathJax.Hub.Config({SVG: {font: \"STIX-Web\"}});}\n",
       "        if (typeof require !== 'undefined') {\n",
       "        require.undef(\"plotly\");\n",
       "        requirejs.config({\n",
       "            paths: {\n",
       "                'plotly': ['https://cdn.plot.ly/plotly-2.25.2.min']\n",
       "            }\n",
       "        });\n",
       "        require(['plotly'], function(Plotly) {\n",
       "            window._Plotly = Plotly;\n",
       "        });\n",
       "        }\n",
       "        </script>\n",
       "        "
      ]
     },
     "metadata": {},
     "output_type": "display_data"
    },
    {
     "data": {
      "text/html": [
       "        <script type=\"text/javascript\">\n",
       "        window.PlotlyConfig = {MathJaxConfig: 'local'};\n",
       "        if (window.MathJax && window.MathJax.Hub && window.MathJax.Hub.Config) {window.MathJax.Hub.Config({SVG: {font: \"STIX-Web\"}});}\n",
       "        if (typeof require !== 'undefined') {\n",
       "        require.undef(\"plotly\");\n",
       "        requirejs.config({\n",
       "            paths: {\n",
       "                'plotly': ['https://cdn.plot.ly/plotly-2.25.2.min']\n",
       "            }\n",
       "        });\n",
       "        require(['plotly'], function(Plotly) {\n",
       "            window._Plotly = Plotly;\n",
       "        });\n",
       "        }\n",
       "        </script>\n",
       "        "
      ]
     },
     "metadata": {},
     "output_type": "display_data"
    }
   ],
   "source": [
    "import eikon as ek  # the Eikon Python wrapper package\n",
    "import numpy as np  # NumPy\n",
    "import pandas as pd  # pandas\n",
    "import cufflinks as cf  # Cufflinks\n",
    "import configparser as cp\n",
    "cf.set_config_file(offline=True)  # set the plotting mode to offline"
   ]
  },
  {
   "cell_type": "code",
   "execution_count": 2,
   "id": "d7f3a7fa",
   "metadata": {},
   "outputs": [],
   "source": [
    "# Se inicia la conexión a refinitiv mediante eikon "
   ]
  },
  {
   "cell_type": "code",
   "execution_count": 4,
   "id": "90dded4e",
   "metadata": {},
   "outputs": [],
   "source": [
    "cfg = cp.ConfigParser()\n",
    "cfg.read('../refinitiv.cfg')\n",
    "ek.set_app_key(cfg['eikon']['app_id'])"
   ]
  },
  {
   "cell_type": "code",
   "execution_count": null,
   "id": "2a6b21a0",
   "metadata": {},
   "outputs": [],
   "source": []
  },
  {
   "cell_type": "markdown",
   "id": "09f06a5a",
   "metadata": {},
   "source": [
    "### Numpy"
   ]
  },
  {
   "cell_type": "code",
   "execution_count": 6,
   "id": "73a8c712",
   "metadata": {},
   "outputs": [
    {
     "name": "stdout",
     "output_type": "stream",
     "text": [
      "Array is of type:  <class 'numpy.ndarray'>\n",
      "No. of dimensions:  2\n",
      "Shape of array:  (2, 3)\n",
      "Size of array:  6\n",
      "Array stores elements of type:  int64\n"
     ]
    }
   ],
   "source": [
    "# Python program to demonstrate\n",
    "# basic array characteristics\n",
    "import numpy as np\n",
    " \n",
    "# Creating array object\n",
    "arr = np.array( [[ 1, 2, 3],\n",
    "                 [ 4, 2, 5]] )\n",
    " \n",
    "# Printing type of arr object\n",
    "print(\"Array is of type: \", type(arr))\n",
    " \n",
    "# Printing array dimensions (axes)\n",
    "print(\"No. of dimensions: \", arr.ndim)\n",
    " \n",
    "# Printing shape of array\n",
    "print(\"Shape of array: \", arr.shape)\n",
    " \n",
    "# Printing size (total number of elements) of array\n",
    "print(\"Size of array: \", arr.size)\n",
    " \n",
    "# Printing type of elements in array\n",
    "print(\"Array stores elements of type: \", arr.dtype)"
   ]
  },
  {
   "cell_type": "code",
   "execution_count": null,
   "id": "fb37cad5",
   "metadata": {},
   "outputs": [],
   "source": []
  },
  {
   "cell_type": "markdown",
   "id": "5721f01e",
   "metadata": {},
   "source": [
    "## Python Pandas"
   ]
  },
  {
   "cell_type": "code",
   "execution_count": 10,
   "id": "bdde4180",
   "metadata": {},
   "outputs": [
    {
     "data": {
      "text/html": [
       "<div>\n",
       "<style scoped>\n",
       "    .dataframe tbody tr th:only-of-type {\n",
       "        vertical-align: middle;\n",
       "    }\n",
       "\n",
       "    .dataframe tbody tr th {\n",
       "        vertical-align: top;\n",
       "    }\n",
       "\n",
       "    .dataframe thead th {\n",
       "        text-align: right;\n",
       "    }\n",
       "</style>\n",
       "<table border=\"1\" class=\"dataframe\">\n",
       "  <thead>\n",
       "    <tr style=\"text-align: right;\">\n",
       "      <th></th>\n",
       "      <th>sesion</th>\n",
       "      <th>asistencia</th>\n",
       "    </tr>\n",
       "  </thead>\n",
       "  <tbody>\n",
       "    <tr>\n",
       "      <th>0</th>\n",
       "      <td>420</td>\n",
       "      <td>25</td>\n",
       "    </tr>\n",
       "    <tr>\n",
       "      <th>1</th>\n",
       "      <td>380</td>\n",
       "      <td>20</td>\n",
       "    </tr>\n",
       "    <tr>\n",
       "      <th>2</th>\n",
       "      <td>390</td>\n",
       "      <td>27</td>\n",
       "    </tr>\n",
       "  </tbody>\n",
       "</table>\n",
       "</div>"
      ],
      "text/plain": [
       "   sesion  asistencia\n",
       "0     420          25\n",
       "1     380          20\n",
       "2     390          27"
      ]
     },
     "execution_count": 10,
     "metadata": {},
     "output_type": "execute_result"
    }
   ],
   "source": [
    "import pandas as pd \n",
    "\n",
    "data = {\n",
    "  \"sesion\": [420, 380, 390],\n",
    "  \"asistencia\": [25, 20, 27]\n",
    "}\n",
    "\n",
    "#load data into a DataFrame object:\n",
    "df = pd.DataFrame(data)\n",
    "\n",
    "df"
   ]
  },
  {
   "cell_type": "code",
   "execution_count": 12,
   "id": "fc2645c4",
   "metadata": {},
   "outputs": [
    {
     "name": "stdout",
     "output_type": "stream",
     "text": [
      "sesion        380\n",
      "asistencia     20\n",
      "Name: 1, dtype: int64\n"
     ]
    }
   ],
   "source": [
    "#utilización de índice:\n",
    "print(df.loc[1])"
   ]
  },
  {
   "cell_type": "code",
   "execution_count": 13,
   "id": "4505a8b9",
   "metadata": {},
   "outputs": [
    {
     "data": {
      "text/html": [
       "<div>\n",
       "<style scoped>\n",
       "    .dataframe tbody tr th:only-of-type {\n",
       "        vertical-align: middle;\n",
       "    }\n",
       "\n",
       "    .dataframe tbody tr th {\n",
       "        vertical-align: top;\n",
       "    }\n",
       "\n",
       "    .dataframe thead th {\n",
       "        text-align: right;\n",
       "    }\n",
       "</style>\n",
       "<table border=\"1\" class=\"dataframe\">\n",
       "  <thead>\n",
       "    <tr style=\"text-align: right;\">\n",
       "      <th></th>\n",
       "      <th>sesion</th>\n",
       "      <th>asistencia</th>\n",
       "    </tr>\n",
       "  </thead>\n",
       "  <tbody>\n",
       "    <tr>\n",
       "      <th>dia1</th>\n",
       "      <td>420</td>\n",
       "      <td>25</td>\n",
       "    </tr>\n",
       "    <tr>\n",
       "      <th>dia2</th>\n",
       "      <td>380</td>\n",
       "      <td>20</td>\n",
       "    </tr>\n",
       "    <tr>\n",
       "      <th>dia3</th>\n",
       "      <td>390</td>\n",
       "      <td>27</td>\n",
       "    </tr>\n",
       "  </tbody>\n",
       "</table>\n",
       "</div>"
      ],
      "text/plain": [
       "      sesion  asistencia\n",
       "dia1     420          25\n",
       "dia2     380          20\n",
       "dia3     390          27"
      ]
     },
     "execution_count": 13,
     "metadata": {},
     "output_type": "execute_result"
    }
   ],
   "source": [
    "df = pd.DataFrame(data, index = [\"dia1\", \"dia2\", \"dia3\"])\n",
    "\n",
    "df "
   ]
  },
  {
   "cell_type": "code",
   "execution_count": 14,
   "id": "6b27f989",
   "metadata": {},
   "outputs": [
    {
     "data": {
      "text/html": [
       "<div>\n",
       "<style scoped>\n",
       "    .dataframe tbody tr th:only-of-type {\n",
       "        vertical-align: middle;\n",
       "    }\n",
       "\n",
       "    .dataframe tbody tr th {\n",
       "        vertical-align: top;\n",
       "    }\n",
       "\n",
       "    .dataframe thead th {\n",
       "        text-align: right;\n",
       "    }\n",
       "</style>\n",
       "<table border=\"1\" class=\"dataframe\">\n",
       "  <thead>\n",
       "    <tr style=\"text-align: right;\">\n",
       "      <th></th>\n",
       "      <th>sesion</th>\n",
       "      <th>asistencia</th>\n",
       "    </tr>\n",
       "  </thead>\n",
       "  <tbody>\n",
       "    <tr>\n",
       "      <th>dia1</th>\n",
       "      <td>420</td>\n",
       "      <td>25</td>\n",
       "    </tr>\n",
       "    <tr>\n",
       "      <th>dia2</th>\n",
       "      <td>380</td>\n",
       "      <td>20</td>\n",
       "    </tr>\n",
       "    <tr>\n",
       "      <th>dia3</th>\n",
       "      <td>390</td>\n",
       "      <td>27</td>\n",
       "    </tr>\n",
       "  </tbody>\n",
       "</table>\n",
       "</div>"
      ],
      "text/plain": [
       "      sesion  asistencia\n",
       "dia1     420          25\n",
       "dia2     380          20\n",
       "dia3     390          27"
      ]
     },
     "execution_count": 14,
     "metadata": {},
     "output_type": "execute_result"
    }
   ],
   "source": [
    "df"
   ]
  },
  {
   "cell_type": "markdown",
   "id": "198cec1a",
   "metadata": {},
   "source": [
    "# Refinitiv Python"
   ]
  },
  {
   "cell_type": "markdown",
   "id": "ce4c3fe1",
   "metadata": {},
   "source": [
    "# Extracción de datos estructurados"
   ]
  },
  {
   "cell_type": "markdown",
   "id": "4b52959d",
   "metadata": {},
   "source": [
    "Las funciones básicas para extraer datos de eikon son las siguiente:\n",
    "- get_symbology\n",
    "- get_data\n",
    "- get_timeseries\n",
    "\n",
    "get_symbology(symbol, from_symbol_type='RIC', to_symbol_type=None, raw_output=False, debug=False, bestMatch=True)\n",
    "Devuelve una lista de nombre de instrumentos convertiods en el código del intrumento.\n",
    "\n",
    "get_data(instruments, fields, parameters=None, field_name=False, raw_output=False, debug=False)\n",
    "Devuelve un dataframe de pandas con campos en columnas e intrumentos como índice de renglones.\n",
    "\n",
    "get_timeseries(rics, fields='*', start_date=None, end_date=None, interval='daily', count=None, calendar=None, corax=None, normalize=False, raw_output=False, debug=False)\n",
    "Devuelve series históricas de uno o varios RICs.\n",
    "<br>\n",
    "Referencia: https://docs-developers.refinitiv.com/1594387995587/14684/book/en/eikon/index.html\n",
    "RICs Reuters instrument code"
   ]
  },
  {
   "cell_type": "markdown",
   "id": "42f95495",
   "metadata": {},
   "source": [
    "# Obtener datos"
   ]
  },
  {
   "cell_type": "code",
   "execution_count": 25,
   "id": "2dc2e867",
   "metadata": {},
   "outputs": [],
   "source": [
    "hh = 1, 2"
   ]
  },
  {
   "cell_type": "code",
   "execution_count": 27,
   "id": "993d4f90",
   "metadata": {},
   "outputs": [
    {
     "data": {
      "text/plain": [
       "1"
      ]
     },
     "execution_count": 27,
     "metadata": {},
     "output_type": "execute_result"
    }
   ],
   "source": [
    "hh[0]"
   ]
  },
  {
   "cell_type": "code",
   "execution_count": 32,
   "id": "5e9a470c",
   "metadata": {},
   "outputs": [
    {
     "name": "stdout",
     "output_type": "stream",
     "text": [
      "Help on package eikon:\n",
      "\n",
      "NAME\n",
      "    eikon - # coding: utf-8\n",
      "\n",
      "PACKAGE CONTENTS\n",
      "    Profile\n",
      "    data_grid\n",
      "    eikonError\n",
      "    json_requests\n",
      "    news_request\n",
      "    streaming_session (package)\n",
      "    symbology\n",
      "    time_series\n",
      "    tools\n",
      "    vendor (package)\n",
      "\n",
      "SUBMODULES\n",
      "    cache\n",
      "    desktop_session\n",
      "    istream_callback\n",
      "    itemstream\n",
      "    session\n",
      "    stream\n",
      "    stream_connection\n",
      "    streamingprice\n",
      "    streamingprice_callback\n",
      "    streamingprices\n",
      "\n",
      "VERSION\n",
      "    1.1.16\n",
      "\n",
      "FILE\n",
      "    /opt/homebrew/Caskroom/miniforge/base/envs/mlp/lib/python3.8/site-packages/eikon/__init__.py\n",
      "\n",
      "\n"
     ]
    }
   ],
   "source": [
    "help(ek)"
   ]
  },
  {
   "cell_type": "code",
   "execution_count": null,
   "id": "05b7d96b",
   "metadata": {},
   "outputs": [],
   "source": []
  },
  {
   "cell_type": "code",
   "execution_count": 30,
   "id": "7bb540fd",
   "metadata": {},
   "outputs": [],
   "source": [
    "data = ek.get_data([\"SPOT.K\", \"IBM\", \"GOOG.O\", \"MSFT.O\"], [\"TR.PriceClose\", \"TR.Volume\", \"TR.PriceLow\", \"TR.TotalReturnYTD\"])[0]"
   ]
  },
  {
   "cell_type": "code",
   "execution_count": 31,
   "id": "26d9d49d",
   "metadata": {},
   "outputs": [
    {
     "data": {
      "text/html": [
       "<div>\n",
       "<style scoped>\n",
       "    .dataframe tbody tr th:only-of-type {\n",
       "        vertical-align: middle;\n",
       "    }\n",
       "\n",
       "    .dataframe tbody tr th {\n",
       "        vertical-align: top;\n",
       "    }\n",
       "\n",
       "    .dataframe thead th {\n",
       "        text-align: right;\n",
       "    }\n",
       "</style>\n",
       "<table border=\"1\" class=\"dataframe\">\n",
       "  <thead>\n",
       "    <tr style=\"text-align: right;\">\n",
       "      <th></th>\n",
       "      <th>Instrument</th>\n",
       "      <th>Price Close</th>\n",
       "      <th>Volume</th>\n",
       "      <th>Price Low</th>\n",
       "      <th>YTD Total Return</th>\n",
       "    </tr>\n",
       "  </thead>\n",
       "  <tbody>\n",
       "    <tr>\n",
       "      <th>0</th>\n",
       "      <td>SPOT.K</td>\n",
       "      <td>254.99</td>\n",
       "      <td>1728708</td>\n",
       "      <td>250.23</td>\n",
       "      <td>36.288649</td>\n",
       "    </tr>\n",
       "    <tr>\n",
       "      <th>1</th>\n",
       "      <td>IBM</td>\n",
       "      <td>184.13</td>\n",
       "      <td>4618785</td>\n",
       "      <td>184.06</td>\n",
       "      <td>14.577955</td>\n",
       "    </tr>\n",
       "    <tr>\n",
       "      <th>2</th>\n",
       "      <td>GOOG.O</td>\n",
       "      <td>138.75</td>\n",
       "      <td>33358019</td>\n",
       "      <td>138.74</td>\n",
       "      <td>3.093734</td>\n",
       "    </tr>\n",
       "    <tr>\n",
       "      <th>3</th>\n",
       "      <td>MSFT.O</td>\n",
       "      <td>407.54</td>\n",
       "      <td>15935197</td>\n",
       "      <td>407.36</td>\n",
       "      <td>9.321231</td>\n",
       "    </tr>\n",
       "  </tbody>\n",
       "</table>\n",
       "</div>"
      ],
      "text/plain": [
       "  Instrument  Price Close    Volume  Price Low  YTD Total Return\n",
       "0     SPOT.K       254.99   1728708     250.23         36.288649\n",
       "1        IBM       184.13   4618785     184.06         14.577955\n",
       "2     GOOG.O       138.75  33358019     138.74          3.093734\n",
       "3     MSFT.O       407.54  15935197     407.36          9.321231"
      ]
     },
     "execution_count": 31,
     "metadata": {},
     "output_type": "execute_result"
    }
   ],
   "source": [
    "data"
   ]
  },
  {
   "cell_type": "code",
   "execution_count": 12,
   "id": "0d47737c",
   "metadata": {},
   "outputs": [
    {
     "data": {
      "text/plain": [
       "pandas.core.frame.DataFrame"
      ]
     },
     "execution_count": 12,
     "metadata": {},
     "output_type": "execute_result"
    }
   ],
   "source": [
    "type(data)"
   ]
  },
  {
   "cell_type": "code",
   "execution_count": 13,
   "id": "cadc4ce3",
   "metadata": {},
   "outputs": [
    {
     "data": {
      "text/plain": [
       "RangeIndex(start=0, stop=4, step=1)"
      ]
     },
     "execution_count": 13,
     "metadata": {},
     "output_type": "execute_result"
    }
   ],
   "source": [
    "data.index"
   ]
  },
  {
   "cell_type": "code",
   "execution_count": null,
   "id": "9f2898b0",
   "metadata": {},
   "outputs": [],
   "source": []
  },
  {
   "cell_type": "markdown",
   "id": "81795762",
   "metadata": {},
   "source": [
    "# Obtener datos de un índice"
   ]
  },
  {
   "cell_type": "code",
   "execution_count": 33,
   "id": "2e09b33a",
   "metadata": {},
   "outputs": [],
   "source": [
    "dax = ek.get_data('0#.GDAXI', fields=['TR.CommonName', 'TR.PriceClose',\n",
    "                                      'TR.Volume', 'TR.TotalReturnYTD'])[0]"
   ]
  },
  {
   "cell_type": "code",
   "execution_count": 34,
   "id": "d9e23858",
   "metadata": {},
   "outputs": [
    {
     "data": {
      "text/html": [
       "<div>\n",
       "<style scoped>\n",
       "    .dataframe tbody tr th:only-of-type {\n",
       "        vertical-align: middle;\n",
       "    }\n",
       "\n",
       "    .dataframe tbody tr th {\n",
       "        vertical-align: top;\n",
       "    }\n",
       "\n",
       "    .dataframe thead th {\n",
       "        text-align: right;\n",
       "    }\n",
       "</style>\n",
       "<table border=\"1\" class=\"dataframe\">\n",
       "  <thead>\n",
       "    <tr style=\"text-align: right;\">\n",
       "      <th></th>\n",
       "      <th>Instrument</th>\n",
       "      <th>Company Common Name</th>\n",
       "      <th>Price Close</th>\n",
       "      <th>Volume</th>\n",
       "      <th>YTD Total Return</th>\n",
       "    </tr>\n",
       "  </thead>\n",
       "  <tbody>\n",
       "    <tr>\n",
       "      <th>0</th>\n",
       "      <td>BASFn.DE</td>\n",
       "      <td>BASF SE</td>\n",
       "      <td>46.33</td>\n",
       "      <td>2282454</td>\n",
       "      <td>-5.02255</td>\n",
       "    </tr>\n",
       "    <tr>\n",
       "      <th>1</th>\n",
       "      <td>IFXGn.DE</td>\n",
       "      <td>Infineon Technologies AG</td>\n",
       "      <td>33.225</td>\n",
       "      <td>3182174</td>\n",
       "      <td>-11.177249</td>\n",
       "    </tr>\n",
       "    <tr>\n",
       "      <th>2</th>\n",
       "      <td>SIEGn.DE</td>\n",
       "      <td>Siemens AG</td>\n",
       "      <td>174.9</td>\n",
       "      <td>1043062</td>\n",
       "      <td>5.853548</td>\n",
       "    </tr>\n",
       "    <tr>\n",
       "      <th>3</th>\n",
       "      <td>EONGn.DE</td>\n",
       "      <td>E ON SE</td>\n",
       "      <td>11.74</td>\n",
       "      <td>3805719</td>\n",
       "      <td>-3.374486</td>\n",
       "    </tr>\n",
       "    <tr>\n",
       "      <th>4</th>\n",
       "      <td>DBKGn.DE</td>\n",
       "      <td>Deutsche Bank AG</td>\n",
       "      <td>12.302</td>\n",
       "      <td>4469550</td>\n",
       "      <td>-0.501456</td>\n",
       "    </tr>\n",
       "    <tr>\n",
       "      <th>5</th>\n",
       "      <td>SATG_p.DE</td>\n",
       "      <td>Sartorius AG</td>\n",
       "      <td>337.2</td>\n",
       "      <td>40578</td>\n",
       "      <td>1.20048</td>\n",
       "    </tr>\n",
       "    <tr>\n",
       "      <th>6</th>\n",
       "      <td>SAPG.DE</td>\n",
       "      <td>Sap Se</td>\n",
       "      <td>173.0</td>\n",
       "      <td>1969921</td>\n",
       "      <td>24.032119</td>\n",
       "    </tr>\n",
       "    <tr>\n",
       "      <th>7</th>\n",
       "      <td>BAYGn.DE</td>\n",
       "      <td>Bayer AG</td>\n",
       "      <td>28.585</td>\n",
       "      <td>2182694</td>\n",
       "      <td>-15.001487</td>\n",
       "    </tr>\n",
       "    <tr>\n",
       "      <th>8</th>\n",
       "      <td>RWEG.DE</td>\n",
       "      <td>RWE AG</td>\n",
       "      <td>30.36</td>\n",
       "      <td>2434906</td>\n",
       "      <td>-26.274891</td>\n",
       "    </tr>\n",
       "    <tr>\n",
       "      <th>9</th>\n",
       "      <td>1COV.DE</td>\n",
       "      <td>Covestro AG</td>\n",
       "      <td>50.08</td>\n",
       "      <td>379112</td>\n",
       "      <td>-4.935459</td>\n",
       "    </tr>\n",
       "    <tr>\n",
       "      <th>10</th>\n",
       "      <td>HNKG_p.DE</td>\n",
       "      <td>Henkel AG &amp; Co KGaA</td>\n",
       "      <td>70.04</td>\n",
       "      <td>231637</td>\n",
       "      <td>-3.870436</td>\n",
       "    </tr>\n",
       "    <tr>\n",
       "      <th>11</th>\n",
       "      <td>ZALG.DE</td>\n",
       "      <td>Zalando SE</td>\n",
       "      <td>19.12</td>\n",
       "      <td>1491583</td>\n",
       "      <td>-10.862471</td>\n",
       "    </tr>\n",
       "    <tr>\n",
       "      <th>12</th>\n",
       "      <td>DTEGn.DE</td>\n",
       "      <td>Deutsche Telekom AG</td>\n",
       "      <td>22.05</td>\n",
       "      <td>5532478</td>\n",
       "      <td>1.37931</td>\n",
       "    </tr>\n",
       "    <tr>\n",
       "      <th>13</th>\n",
       "      <td>MRCG.DE</td>\n",
       "      <td>Merck KGaA</td>\n",
       "      <td>156.25</td>\n",
       "      <td>155766</td>\n",
       "      <td>8.431645</td>\n",
       "    </tr>\n",
       "    <tr>\n",
       "      <th>14</th>\n",
       "      <td>PSHG_p.DE</td>\n",
       "      <td>Porsche Automobil Holding SE</td>\n",
       "      <td>48.92</td>\n",
       "      <td>522323</td>\n",
       "      <td>5.613126</td>\n",
       "    </tr>\n",
       "    <tr>\n",
       "      <th>15</th>\n",
       "      <td>VOWG_p.DE</td>\n",
       "      <td>Volkswagen AG</td>\n",
       "      <td>123.02</td>\n",
       "      <td>521656</td>\n",
       "      <td>10.035778</td>\n",
       "    </tr>\n",
       "    <tr>\n",
       "      <th>16</th>\n",
       "      <td>BMWG.DE</td>\n",
       "      <td>Bayerische Motoren Werke AG</td>\n",
       "      <td>107.48</td>\n",
       "      <td>824691</td>\n",
       "      <td>6.648144</td>\n",
       "    </tr>\n",
       "    <tr>\n",
       "      <th>17</th>\n",
       "      <td>BEIG.DE</td>\n",
       "      <td>Beiersdorf AG</td>\n",
       "      <td>140.95</td>\n",
       "      <td>198445</td>\n",
       "      <td>3.868828</td>\n",
       "    </tr>\n",
       "    <tr>\n",
       "      <th>18</th>\n",
       "      <td>HEIG.DE</td>\n",
       "      <td>Heidelberg Materials AG</td>\n",
       "      <td>86.12</td>\n",
       "      <td>480591</td>\n",
       "      <td>6.399802</td>\n",
       "    </tr>\n",
       "    <tr>\n",
       "      <th>19</th>\n",
       "      <td>RHMG.DE</td>\n",
       "      <td>Rheinmetall AG</td>\n",
       "      <td>421.8</td>\n",
       "      <td>422557</td>\n",
       "      <td>46.968641</td>\n",
       "    </tr>\n",
       "    <tr>\n",
       "      <th>20</th>\n",
       "      <td>MTXGn.DE</td>\n",
       "      <td>MTU Aero Engines AG</td>\n",
       "      <td>215.3</td>\n",
       "      <td>132542</td>\n",
       "      <td>10.268886</td>\n",
       "    </tr>\n",
       "    <tr>\n",
       "      <th>21</th>\n",
       "      <td>FREG.DE</td>\n",
       "      <td>Fresenius SE &amp; Co KGaA</td>\n",
       "      <td>25.95</td>\n",
       "      <td>1058471</td>\n",
       "      <td>-7.552547</td>\n",
       "    </tr>\n",
       "    <tr>\n",
       "      <th>22</th>\n",
       "      <td>DHLn.DE</td>\n",
       "      <td>Deutsche Post AG</td>\n",
       "      <td>42.92</td>\n",
       "      <td>1552780</td>\n",
       "      <td>-4.3139</td>\n",
       "    </tr>\n",
       "    <tr>\n",
       "      <th>23</th>\n",
       "      <td>ALVG.DE</td>\n",
       "      <td>Allianz SE</td>\n",
       "      <td>245.65</td>\n",
       "      <td>931605</td>\n",
       "      <td>1.529242</td>\n",
       "    </tr>\n",
       "    <tr>\n",
       "      <th>24</th>\n",
       "      <td>MUVGn.DE</td>\n",
       "      <td>Muenchener Rueckversicherungs Gesellschaft in ...</td>\n",
       "      <td>421.5</td>\n",
       "      <td>229328</td>\n",
       "      <td>12.370035</td>\n",
       "    </tr>\n",
       "    <tr>\n",
       "      <th>25</th>\n",
       "      <td>CONG.DE</td>\n",
       "      <td>Continental AG</td>\n",
       "      <td>73.48</td>\n",
       "      <td>219292</td>\n",
       "      <td>-4.472179</td>\n",
       "    </tr>\n",
       "    <tr>\n",
       "      <th>26</th>\n",
       "      <td>SHLG.DE</td>\n",
       "      <td>Siemens Healthineers AG</td>\n",
       "      <td>55.54</td>\n",
       "      <td>793682</td>\n",
       "      <td>5.589354</td>\n",
       "    </tr>\n",
       "    <tr>\n",
       "      <th>27</th>\n",
       "      <td>SY1G.DE</td>\n",
       "      <td>Symrise AG</td>\n",
       "      <td>97.9</td>\n",
       "      <td>221379</td>\n",
       "      <td>-1.746287</td>\n",
       "    </tr>\n",
       "    <tr>\n",
       "      <th>28</th>\n",
       "      <td>ADSGn.DE</td>\n",
       "      <td>Adidas AG</td>\n",
       "      <td>188.2</td>\n",
       "      <td>323448</td>\n",
       "      <td>2.193745</td>\n",
       "    </tr>\n",
       "    <tr>\n",
       "      <th>29</th>\n",
       "      <td>HNRGn.DE</td>\n",
       "      <td>Hannover Rueck SE</td>\n",
       "      <td>235.9</td>\n",
       "      <td>62338</td>\n",
       "      <td>9.061489</td>\n",
       "    </tr>\n",
       "    <tr>\n",
       "      <th>30</th>\n",
       "      <td>DTGGe.DE</td>\n",
       "      <td>Daimler Truck Holding AG</td>\n",
       "      <td>36.91</td>\n",
       "      <td>816644</td>\n",
       "      <td>8.495003</td>\n",
       "    </tr>\n",
       "    <tr>\n",
       "      <th>31</th>\n",
       "      <td>ENR1n.DE</td>\n",
       "      <td>Siemens Energy AG</td>\n",
       "      <td>13.89</td>\n",
       "      <td>1743463</td>\n",
       "      <td>15.75</td>\n",
       "    </tr>\n",
       "    <tr>\n",
       "      <th>32</th>\n",
       "      <td>MBGn.DE</td>\n",
       "      <td>Mercedes Benz Group AG</td>\n",
       "      <td>71.36</td>\n",
       "      <td>2730537</td>\n",
       "      <td>14.084732</td>\n",
       "    </tr>\n",
       "    <tr>\n",
       "      <th>33</th>\n",
       "      <td>BNRGn.DE</td>\n",
       "      <td>Brenntag SE</td>\n",
       "      <td>83.06</td>\n",
       "      <td>219822</td>\n",
       "      <td>-0.192261</td>\n",
       "    </tr>\n",
       "    <tr>\n",
       "      <th>34</th>\n",
       "      <td>CBKG.DE</td>\n",
       "      <td>Commerzbank AG</td>\n",
       "      <td>10.745</td>\n",
       "      <td>7512842</td>\n",
       "      <td>-0.139405</td>\n",
       "    </tr>\n",
       "    <tr>\n",
       "      <th>35</th>\n",
       "      <td>AIRG.DE</td>\n",
       "      <td>Airbus SE</td>\n",
       "      <td>147.4</td>\n",
       "      <td>165368</td>\n",
       "      <td>5.225585</td>\n",
       "    </tr>\n",
       "    <tr>\n",
       "      <th>36</th>\n",
       "      <td>VNAn.DE</td>\n",
       "      <td>Vonovia SE</td>\n",
       "      <td>26.03</td>\n",
       "      <td>1103763</td>\n",
       "      <td>-8.794674</td>\n",
       "    </tr>\n",
       "    <tr>\n",
       "      <th>37</th>\n",
       "      <td>DB1Gn.DE</td>\n",
       "      <td>Deutsche Boerse AG</td>\n",
       "      <td>192.55</td>\n",
       "      <td>365983</td>\n",
       "      <td>3.243968</td>\n",
       "    </tr>\n",
       "    <tr>\n",
       "      <th>38</th>\n",
       "      <td>QIA.DE</td>\n",
       "      <td>Qiagen NV</td>\n",
       "      <td>40.095</td>\n",
       "      <td>486438</td>\n",
       "      <td>1.683225</td>\n",
       "    </tr>\n",
       "    <tr>\n",
       "      <th>39</th>\n",
       "      <td>P911_p.DE</td>\n",
       "      <td>Dr Ing hc F Porsche AG</td>\n",
       "      <td>82.5</td>\n",
       "      <td>314732</td>\n",
       "      <td>3.254068</td>\n",
       "    </tr>\n",
       "  </tbody>\n",
       "</table>\n",
       "</div>"
      ],
      "text/plain": [
       "   Instrument                                Company Common Name  Price Close   \n",
       "0    BASFn.DE                                            BASF SE        46.33  \\\n",
       "1    IFXGn.DE                           Infineon Technologies AG       33.225   \n",
       "2    SIEGn.DE                                         Siemens AG        174.9   \n",
       "3    EONGn.DE                                            E ON SE        11.74   \n",
       "4    DBKGn.DE                                   Deutsche Bank AG       12.302   \n",
       "5   SATG_p.DE                                       Sartorius AG        337.2   \n",
       "6     SAPG.DE                                             Sap Se        173.0   \n",
       "7    BAYGn.DE                                           Bayer AG       28.585   \n",
       "8     RWEG.DE                                             RWE AG        30.36   \n",
       "9     1COV.DE                                        Covestro AG        50.08   \n",
       "10  HNKG_p.DE                                Henkel AG & Co KGaA        70.04   \n",
       "11    ZALG.DE                                         Zalando SE        19.12   \n",
       "12   DTEGn.DE                                Deutsche Telekom AG        22.05   \n",
       "13    MRCG.DE                                         Merck KGaA       156.25   \n",
       "14  PSHG_p.DE                       Porsche Automobil Holding SE        48.92   \n",
       "15  VOWG_p.DE                                      Volkswagen AG       123.02   \n",
       "16    BMWG.DE                        Bayerische Motoren Werke AG       107.48   \n",
       "17    BEIG.DE                                      Beiersdorf AG       140.95   \n",
       "18    HEIG.DE                            Heidelberg Materials AG        86.12   \n",
       "19    RHMG.DE                                     Rheinmetall AG        421.8   \n",
       "20   MTXGn.DE                                MTU Aero Engines AG        215.3   \n",
       "21    FREG.DE                             Fresenius SE & Co KGaA        25.95   \n",
       "22    DHLn.DE                                   Deutsche Post AG        42.92   \n",
       "23    ALVG.DE                                         Allianz SE       245.65   \n",
       "24   MUVGn.DE  Muenchener Rueckversicherungs Gesellschaft in ...        421.5   \n",
       "25    CONG.DE                                     Continental AG        73.48   \n",
       "26    SHLG.DE                            Siemens Healthineers AG        55.54   \n",
       "27    SY1G.DE                                         Symrise AG         97.9   \n",
       "28   ADSGn.DE                                          Adidas AG        188.2   \n",
       "29   HNRGn.DE                                  Hannover Rueck SE        235.9   \n",
       "30   DTGGe.DE                           Daimler Truck Holding AG        36.91   \n",
       "31   ENR1n.DE                                  Siemens Energy AG        13.89   \n",
       "32    MBGn.DE                             Mercedes Benz Group AG        71.36   \n",
       "33   BNRGn.DE                                        Brenntag SE        83.06   \n",
       "34    CBKG.DE                                     Commerzbank AG       10.745   \n",
       "35    AIRG.DE                                          Airbus SE        147.4   \n",
       "36    VNAn.DE                                         Vonovia SE        26.03   \n",
       "37   DB1Gn.DE                                 Deutsche Boerse AG       192.55   \n",
       "38     QIA.DE                                          Qiagen NV       40.095   \n",
       "39  P911_p.DE                             Dr Ing hc F Porsche AG         82.5   \n",
       "\n",
       "     Volume  YTD Total Return  \n",
       "0   2282454          -5.02255  \n",
       "1   3182174        -11.177249  \n",
       "2   1043062          5.853548  \n",
       "3   3805719         -3.374486  \n",
       "4   4469550         -0.501456  \n",
       "5     40578           1.20048  \n",
       "6   1969921         24.032119  \n",
       "7   2182694        -15.001487  \n",
       "8   2434906        -26.274891  \n",
       "9    379112         -4.935459  \n",
       "10   231637         -3.870436  \n",
       "11  1491583        -10.862471  \n",
       "12  5532478           1.37931  \n",
       "13   155766          8.431645  \n",
       "14   522323          5.613126  \n",
       "15   521656         10.035778  \n",
       "16   824691          6.648144  \n",
       "17   198445          3.868828  \n",
       "18   480591          6.399802  \n",
       "19   422557         46.968641  \n",
       "20   132542         10.268886  \n",
       "21  1058471         -7.552547  \n",
       "22  1552780           -4.3139  \n",
       "23   931605          1.529242  \n",
       "24   229328         12.370035  \n",
       "25   219292         -4.472179  \n",
       "26   793682          5.589354  \n",
       "27   221379         -1.746287  \n",
       "28   323448          2.193745  \n",
       "29    62338          9.061489  \n",
       "30   816644          8.495003  \n",
       "31  1743463             15.75  \n",
       "32  2730537         14.084732  \n",
       "33   219822         -0.192261  \n",
       "34  7512842         -0.139405  \n",
       "35   165368          5.225585  \n",
       "36  1103763         -8.794674  \n",
       "37   365983          3.243968  \n",
       "38   486438          1.683225  \n",
       "39   314732          3.254068  "
      ]
     },
     "execution_count": 34,
     "metadata": {},
     "output_type": "execute_result"
    }
   ],
   "source": [
    "dax"
   ]
  },
  {
   "cell_type": "code",
   "execution_count": 35,
   "id": "b897c1a9",
   "metadata": {},
   "outputs": [
    {
     "data": {
      "text/html": [
       "<div>\n",
       "<style scoped>\n",
       "    .dataframe tbody tr th:only-of-type {\n",
       "        vertical-align: middle;\n",
       "    }\n",
       "\n",
       "    .dataframe tbody tr th {\n",
       "        vertical-align: top;\n",
       "    }\n",
       "\n",
       "    .dataframe thead th {\n",
       "        text-align: right;\n",
       "    }\n",
       "</style>\n",
       "<table border=\"1\" class=\"dataframe\">\n",
       "  <thead>\n",
       "    <tr style=\"text-align: right;\">\n",
       "      <th></th>\n",
       "      <th>Instrument</th>\n",
       "      <th>Company Common Name</th>\n",
       "      <th>Price Close</th>\n",
       "      <th>Volume</th>\n",
       "      <th>YTD Total Return</th>\n",
       "    </tr>\n",
       "  </thead>\n",
       "  <tbody>\n",
       "    <tr>\n",
       "      <th>0</th>\n",
       "      <td>BASFn.DE</td>\n",
       "      <td>BASF SE</td>\n",
       "      <td>46.33</td>\n",
       "      <td>2282454</td>\n",
       "      <td>-5.02255</td>\n",
       "    </tr>\n",
       "    <tr>\n",
       "      <th>1</th>\n",
       "      <td>IFXGn.DE</td>\n",
       "      <td>Infineon Technologies AG</td>\n",
       "      <td>33.225</td>\n",
       "      <td>3182174</td>\n",
       "      <td>-11.177249</td>\n",
       "    </tr>\n",
       "    <tr>\n",
       "      <th>2</th>\n",
       "      <td>SIEGn.DE</td>\n",
       "      <td>Siemens AG</td>\n",
       "      <td>174.9</td>\n",
       "      <td>1043062</td>\n",
       "      <td>5.853548</td>\n",
       "    </tr>\n",
       "    <tr>\n",
       "      <th>3</th>\n",
       "      <td>EONGn.DE</td>\n",
       "      <td>E ON SE</td>\n",
       "      <td>11.74</td>\n",
       "      <td>3805719</td>\n",
       "      <td>-3.374486</td>\n",
       "    </tr>\n",
       "    <tr>\n",
       "      <th>4</th>\n",
       "      <td>DBKGn.DE</td>\n",
       "      <td>Deutsche Bank AG</td>\n",
       "      <td>12.302</td>\n",
       "      <td>4469550</td>\n",
       "      <td>-0.501456</td>\n",
       "    </tr>\n",
       "  </tbody>\n",
       "</table>\n",
       "</div>"
      ],
      "text/plain": [
       "  Instrument       Company Common Name  Price Close   Volume  YTD Total Return\n",
       "0   BASFn.DE                   BASF SE        46.33  2282454          -5.02255\n",
       "1   IFXGn.DE  Infineon Technologies AG       33.225  3182174        -11.177249\n",
       "2   SIEGn.DE                Siemens AG        174.9  1043062          5.853548\n",
       "3   EONGn.DE                   E ON SE        11.74  3805719         -3.374486\n",
       "4   DBKGn.DE          Deutsche Bank AG       12.302  4469550         -0.501456"
      ]
     },
     "execution_count": 35,
     "metadata": {},
     "output_type": "execute_result"
    }
   ],
   "source": [
    "dax[0:5]"
   ]
  },
  {
   "cell_type": "code",
   "execution_count": 38,
   "id": "9d88c1a6",
   "metadata": {},
   "outputs": [
    {
     "data": {
      "text/html": [
       "<div>\n",
       "<style scoped>\n",
       "    .dataframe tbody tr th:only-of-type {\n",
       "        vertical-align: middle;\n",
       "    }\n",
       "\n",
       "    .dataframe tbody tr th {\n",
       "        vertical-align: top;\n",
       "    }\n",
       "\n",
       "    .dataframe thead th {\n",
       "        text-align: right;\n",
       "    }\n",
       "</style>\n",
       "<table border=\"1\" class=\"dataframe\">\n",
       "  <thead>\n",
       "    <tr style=\"text-align: right;\">\n",
       "      <th></th>\n",
       "      <th>Instrument</th>\n",
       "      <th>Holding RIC</th>\n",
       "      <th>Holding Name</th>\n",
       "      <th>Percentage of Fund Assets</th>\n",
       "      <th>Number of Shares</th>\n",
       "      <th>Number of Shares Changed</th>\n",
       "    </tr>\n",
       "  </thead>\n",
       "  <tbody>\n",
       "    <tr>\n",
       "      <th>0</th>\n",
       "      <td>IVV</td>\n",
       "      <td>MSFT.OQ</td>\n",
       "      <td>MICROSOFT CORP ORD</td>\n",
       "      <td>7.2476</td>\n",
       "      <td>76262210.0</td>\n",
       "      <td>2279218.0</td>\n",
       "    </tr>\n",
       "    <tr>\n",
       "      <th>1</th>\n",
       "      <td>IVV</td>\n",
       "      <td>AAPL.OQ</td>\n",
       "      <td>APPLE INC ORD</td>\n",
       "      <td>6.6122</td>\n",
       "      <td>150011064.0</td>\n",
       "      <td>4483445.0</td>\n",
       "    </tr>\n",
       "    <tr>\n",
       "      <th>2</th>\n",
       "      <td>IVV</td>\n",
       "      <td>NVDA.OQ</td>\n",
       "      <td>NVIDIA CORP ORD</td>\n",
       "      <td>3.7274</td>\n",
       "      <td>25344509.0</td>\n",
       "      <td>757684.0</td>\n",
       "    </tr>\n",
       "    <tr>\n",
       "      <th>3</th>\n",
       "      <td>IVV</td>\n",
       "      <td>AMZN.OQ</td>\n",
       "      <td>AMAZON.COM INC ORD</td>\n",
       "      <td>3.4617</td>\n",
       "      <td>93312685.0</td>\n",
       "      <td>2788765.0</td>\n",
       "    </tr>\n",
       "    <tr>\n",
       "      <th>4</th>\n",
       "      <td>IVV</td>\n",
       "      <td>META.OQ</td>\n",
       "      <td>META PLATFORMS INC ORD</td>\n",
       "      <td>2.1239</td>\n",
       "      <td>22775278.0</td>\n",
       "      <td>680485.0</td>\n",
       "    </tr>\n",
       "    <tr>\n",
       "      <th>...</th>\n",
       "      <td>...</td>\n",
       "      <td>...</td>\n",
       "      <td>...</td>\n",
       "      <td>...</td>\n",
       "      <td>...</td>\n",
       "      <td>...</td>\n",
       "    </tr>\n",
       "    <tr>\n",
       "      <th>505</th>\n",
       "      <td>IVV</td>\n",
       "      <td>ESH24</td>\n",
       "      <td>EMINI S&amp;P MAR4</td>\n",
       "      <td>0.0088</td>\n",
       "      <td>3644.0</td>\n",
       "      <td>-746.0</td>\n",
       "    </tr>\n",
       "    <tr>\n",
       "      <th>506</th>\n",
       "      <td>IVV</td>\n",
       "      <td>NWS.OQ</td>\n",
       "      <td>NEWS CORP ORD</td>\n",
       "      <td>0.0072</td>\n",
       "      <td>1176343.0</td>\n",
       "      <td>33660.0</td>\n",
       "    </tr>\n",
       "    <tr>\n",
       "      <th>507</th>\n",
       "      <td>IVV</td>\n",
       "      <td></td>\n",
       "      <td>OTHER FEES</td>\n",
       "      <td>0.0</td>\n",
       "      <td>4.0</td>\n",
       "      <td>0.0</td>\n",
       "    </tr>\n",
       "    <tr>\n",
       "      <th>508</th>\n",
       "      <td>IVV</td>\n",
       "      <td></td>\n",
       "      <td>TOPSIDE ADJUSTMENT</td>\n",
       "      <td>0.0</td>\n",
       "      <td>1.0</td>\n",
       "      <td>0.0</td>\n",
       "    </tr>\n",
       "    <tr>\n",
       "      <th>509</th>\n",
       "      <td>IVV</td>\n",
       "      <td></td>\n",
       "      <td>USD CASH</td>\n",
       "      <td>-0.5927</td>\n",
       "      <td>-2479435997.49</td>\n",
       "      <td>-403526951.06</td>\n",
       "    </tr>\n",
       "  </tbody>\n",
       "</table>\n",
       "<p>510 rows × 6 columns</p>\n",
       "</div>"
      ],
      "text/plain": [
       "    Instrument Holding RIC            Holding Name  Percentage of Fund Assets   \n",
       "0          IVV     MSFT.OQ      MICROSOFT CORP ORD                     7.2476  \\\n",
       "1          IVV     AAPL.OQ           APPLE INC ORD                     6.6122   \n",
       "2          IVV     NVDA.OQ         NVIDIA CORP ORD                     3.7274   \n",
       "3          IVV     AMZN.OQ      AMAZON.COM INC ORD                     3.4617   \n",
       "4          IVV     META.OQ  META PLATFORMS INC ORD                     2.1239   \n",
       "..         ...         ...                     ...                        ...   \n",
       "505        IVV       ESH24          EMINI S&P MAR4                     0.0088   \n",
       "506        IVV      NWS.OQ           NEWS CORP ORD                     0.0072   \n",
       "507        IVV                          OTHER FEES                        0.0   \n",
       "508        IVV                  TOPSIDE ADJUSTMENT                        0.0   \n",
       "509        IVV                            USD CASH                    -0.5927   \n",
       "\n",
       "     Number of Shares  Number of Shares Changed  \n",
       "0          76262210.0                 2279218.0  \n",
       "1         150011064.0                 4483445.0  \n",
       "2          25344509.0                  757684.0  \n",
       "3          93312685.0                 2788765.0  \n",
       "4          22775278.0                  680485.0  \n",
       "..                ...                       ...  \n",
       "505            3644.0                    -746.0  \n",
       "506         1176343.0                   33660.0  \n",
       "507               4.0                       0.0  \n",
       "508               1.0                       0.0  \n",
       "509    -2479435997.49             -403526951.06  \n",
       "\n",
       "[510 rows x 6 columns]"
      ]
     },
     "execution_count": 38,
     "metadata": {},
     "output_type": "execute_result"
    }
   ],
   "source": [
    "ivv"
   ]
  },
  {
   "cell_type": "code",
   "execution_count": 39,
   "id": "89c1f46a",
   "metadata": {},
   "outputs": [
    {
     "data": {
      "text/plain": [
       "Instrument\n",
       "BASFn.DE      -5.02255\n",
       "IFXGn.DE    -11.177249\n",
       "SIEGn.DE      5.853548\n",
       "EONGn.DE     -3.374486\n",
       "DBKGn.DE     -0.501456\n",
       "SATG_p.DE      1.20048\n",
       "SAPG.DE      24.032119\n",
       "BAYGn.DE    -15.001487\n",
       "RWEG.DE     -26.274891\n",
       "1COV.DE      -4.935459\n",
       "HNKG_p.DE    -3.870436\n",
       "ZALG.DE     -10.862471\n",
       "DTEGn.DE       1.37931\n",
       "MRCG.DE       8.431645\n",
       "PSHG_p.DE     5.613126\n",
       "VOWG_p.DE    10.035778\n",
       "BMWG.DE       6.648144\n",
       "BEIG.DE       3.868828\n",
       "HEIG.DE       6.399802\n",
       "RHMG.DE      46.968641\n",
       "MTXGn.DE     10.268886\n",
       "FREG.DE      -7.552547\n",
       "DHLn.DE        -4.3139\n",
       "ALVG.DE       1.529242\n",
       "MUVGn.DE     12.370035\n",
       "CONG.DE      -4.472179\n",
       "SHLG.DE       5.589354\n",
       "SY1G.DE      -1.746287\n",
       "ADSGn.DE      2.193745\n",
       "HNRGn.DE      9.061489\n",
       "DTGGe.DE      8.495003\n",
       "ENR1n.DE         15.75\n",
       "MBGn.DE      14.084732\n",
       "BNRGn.DE     -0.192261\n",
       "CBKG.DE      -0.139405\n",
       "AIRG.DE       5.225585\n",
       "VNAn.DE      -8.794674\n",
       "DB1Gn.DE      3.243968\n",
       "QIA.DE        1.683225\n",
       "P911_p.DE     3.254068\n",
       "Name: YTD Total Return, dtype: Float64"
      ]
     },
     "execution_count": 39,
     "metadata": {},
     "output_type": "execute_result"
    }
   ],
   "source": [
    "dax.set_index('Instrument')['YTD Total Return']"
   ]
  },
  {
   "cell_type": "code",
   "execution_count": 40,
   "id": "f586f060",
   "metadata": {},
   "outputs": [
    {
     "data": {
      "application/vnd.plotly.v1+json": {
       "config": {
        "linkText": "Export to plot.ly",
        "plotlyServerURL": "https://plot.ly",
        "showLink": true
       },
       "data": [
        {
         "marker": {
          "color": "rgba(55, 128, 191, 0.6)",
          "line": {
           "color": "rgba(55, 128, 191, 1.0)",
           "width": 1
          }
         },
         "name": "YTD Total Return",
         "orientation": "v",
         "text": "",
         "type": "bar",
         "x": [
          "RWEG.DE",
          "BAYGn.DE",
          "IFXGn.DE",
          "ZALG.DE",
          "VNAn.DE",
          "FREG.DE",
          "BASFn.DE",
          "1COV.DE",
          "CONG.DE",
          "DHLn.DE",
          "HNKG_p.DE",
          "EONGn.DE",
          "SY1G.DE",
          "DBKGn.DE",
          "BNRGn.DE",
          "CBKG.DE",
          "SATG_p.DE",
          "DTEGn.DE",
          "ALVG.DE",
          "QIA.DE",
          "ADSGn.DE",
          "DB1Gn.DE",
          "P911_p.DE",
          "BEIG.DE",
          "AIRG.DE",
          "SHLG.DE",
          "PSHG_p.DE",
          "SIEGn.DE",
          "HEIG.DE",
          "BMWG.DE",
          "MRCG.DE",
          "DTGGe.DE",
          "HNRGn.DE",
          "VOWG_p.DE",
          "MTXGn.DE",
          "MUVGn.DE",
          "MBGn.DE",
          "ENR1n.DE",
          "SAPG.DE",
          "RHMG.DE"
         ],
         "y": [
          -26.2748907229075,
          -15.0014867675855,
          -11.1772486802581,
          -10.8624708628843,
          -8.79467414392727,
          -7.55254720294229,
          -5.02255022660937,
          -4.93545937557642,
          -4.47217888797359,
          -4.31390034665192,
          -3.87043645316459,
          -3.37448559532827,
          -1.74628663270218,
          -0.501455838117904,
          -0.192261476751066,
          -0.139405202157061,
          1.20048019030097,
          1.37931034260259,
          1.52924157959615,
          1.6832254954978,
          2.19374456920338,
          3.24396783068213,
          3.25406758335509,
          3.86882829767961,
          5.22558538243347,
          5.58935361172208,
          5.61312608033526,
          5.85354783359664,
          6.39980232278687,
          6.64814447314883,
          8.43164469283979,
          8.49500293883325,
          9.06148867067211,
          10.0357781794042,
          10.2688860391409,
          12.3700346581694,
          14.0847322113049,
          15.7499999987281,
          24.0321192982232,
          46.9686411131986
         ]
        }
       ],
       "layout": {
        "legend": {
         "bgcolor": "#F5F6F9",
         "font": {
          "color": "#4D5663"
         }
        },
        "paper_bgcolor": "#F5F6F9",
        "plot_bgcolor": "#F5F6F9",
        "template": {
         "data": {
          "bar": [
           {
            "error_x": {
             "color": "#2a3f5f"
            },
            "error_y": {
             "color": "#2a3f5f"
            },
            "marker": {
             "line": {
              "color": "#E5ECF6",
              "width": 0.5
             },
             "pattern": {
              "fillmode": "overlay",
              "size": 10,
              "solidity": 0.2
             }
            },
            "type": "bar"
           }
          ],
          "barpolar": [
           {
            "marker": {
             "line": {
              "color": "#E5ECF6",
              "width": 0.5
             },
             "pattern": {
              "fillmode": "overlay",
              "size": 10,
              "solidity": 0.2
             }
            },
            "type": "barpolar"
           }
          ],
          "carpet": [
           {
            "aaxis": {
             "endlinecolor": "#2a3f5f",
             "gridcolor": "white",
             "linecolor": "white",
             "minorgridcolor": "white",
             "startlinecolor": "#2a3f5f"
            },
            "baxis": {
             "endlinecolor": "#2a3f5f",
             "gridcolor": "white",
             "linecolor": "white",
             "minorgridcolor": "white",
             "startlinecolor": "#2a3f5f"
            },
            "type": "carpet"
           }
          ],
          "choropleth": [
           {
            "colorbar": {
             "outlinewidth": 0,
             "ticks": ""
            },
            "type": "choropleth"
           }
          ],
          "contour": [
           {
            "colorbar": {
             "outlinewidth": 0,
             "ticks": ""
            },
            "colorscale": [
             [
              0,
              "#0d0887"
             ],
             [
              0.1111111111111111,
              "#46039f"
             ],
             [
              0.2222222222222222,
              "#7201a8"
             ],
             [
              0.3333333333333333,
              "#9c179e"
             ],
             [
              0.4444444444444444,
              "#bd3786"
             ],
             [
              0.5555555555555556,
              "#d8576b"
             ],
             [
              0.6666666666666666,
              "#ed7953"
             ],
             [
              0.7777777777777778,
              "#fb9f3a"
             ],
             [
              0.8888888888888888,
              "#fdca26"
             ],
             [
              1,
              "#f0f921"
             ]
            ],
            "type": "contour"
           }
          ],
          "contourcarpet": [
           {
            "colorbar": {
             "outlinewidth": 0,
             "ticks": ""
            },
            "type": "contourcarpet"
           }
          ],
          "heatmap": [
           {
            "colorbar": {
             "outlinewidth": 0,
             "ticks": ""
            },
            "colorscale": [
             [
              0,
              "#0d0887"
             ],
             [
              0.1111111111111111,
              "#46039f"
             ],
             [
              0.2222222222222222,
              "#7201a8"
             ],
             [
              0.3333333333333333,
              "#9c179e"
             ],
             [
              0.4444444444444444,
              "#bd3786"
             ],
             [
              0.5555555555555556,
              "#d8576b"
             ],
             [
              0.6666666666666666,
              "#ed7953"
             ],
             [
              0.7777777777777778,
              "#fb9f3a"
             ],
             [
              0.8888888888888888,
              "#fdca26"
             ],
             [
              1,
              "#f0f921"
             ]
            ],
            "type": "heatmap"
           }
          ],
          "heatmapgl": [
           {
            "colorbar": {
             "outlinewidth": 0,
             "ticks": ""
            },
            "colorscale": [
             [
              0,
              "#0d0887"
             ],
             [
              0.1111111111111111,
              "#46039f"
             ],
             [
              0.2222222222222222,
              "#7201a8"
             ],
             [
              0.3333333333333333,
              "#9c179e"
             ],
             [
              0.4444444444444444,
              "#bd3786"
             ],
             [
              0.5555555555555556,
              "#d8576b"
             ],
             [
              0.6666666666666666,
              "#ed7953"
             ],
             [
              0.7777777777777778,
              "#fb9f3a"
             ],
             [
              0.8888888888888888,
              "#fdca26"
             ],
             [
              1,
              "#f0f921"
             ]
            ],
            "type": "heatmapgl"
           }
          ],
          "histogram": [
           {
            "marker": {
             "pattern": {
              "fillmode": "overlay",
              "size": 10,
              "solidity": 0.2
             }
            },
            "type": "histogram"
           }
          ],
          "histogram2d": [
           {
            "colorbar": {
             "outlinewidth": 0,
             "ticks": ""
            },
            "colorscale": [
             [
              0,
              "#0d0887"
             ],
             [
              0.1111111111111111,
              "#46039f"
             ],
             [
              0.2222222222222222,
              "#7201a8"
             ],
             [
              0.3333333333333333,
              "#9c179e"
             ],
             [
              0.4444444444444444,
              "#bd3786"
             ],
             [
              0.5555555555555556,
              "#d8576b"
             ],
             [
              0.6666666666666666,
              "#ed7953"
             ],
             [
              0.7777777777777778,
              "#fb9f3a"
             ],
             [
              0.8888888888888888,
              "#fdca26"
             ],
             [
              1,
              "#f0f921"
             ]
            ],
            "type": "histogram2d"
           }
          ],
          "histogram2dcontour": [
           {
            "colorbar": {
             "outlinewidth": 0,
             "ticks": ""
            },
            "colorscale": [
             [
              0,
              "#0d0887"
             ],
             [
              0.1111111111111111,
              "#46039f"
             ],
             [
              0.2222222222222222,
              "#7201a8"
             ],
             [
              0.3333333333333333,
              "#9c179e"
             ],
             [
              0.4444444444444444,
              "#bd3786"
             ],
             [
              0.5555555555555556,
              "#d8576b"
             ],
             [
              0.6666666666666666,
              "#ed7953"
             ],
             [
              0.7777777777777778,
              "#fb9f3a"
             ],
             [
              0.8888888888888888,
              "#fdca26"
             ],
             [
              1,
              "#f0f921"
             ]
            ],
            "type": "histogram2dcontour"
           }
          ],
          "mesh3d": [
           {
            "colorbar": {
             "outlinewidth": 0,
             "ticks": ""
            },
            "type": "mesh3d"
           }
          ],
          "parcoords": [
           {
            "line": {
             "colorbar": {
              "outlinewidth": 0,
              "ticks": ""
             }
            },
            "type": "parcoords"
           }
          ],
          "pie": [
           {
            "automargin": true,
            "type": "pie"
           }
          ],
          "scatter": [
           {
            "fillpattern": {
             "fillmode": "overlay",
             "size": 10,
             "solidity": 0.2
            },
            "type": "scatter"
           }
          ],
          "scatter3d": [
           {
            "line": {
             "colorbar": {
              "outlinewidth": 0,
              "ticks": ""
             }
            },
            "marker": {
             "colorbar": {
              "outlinewidth": 0,
              "ticks": ""
             }
            },
            "type": "scatter3d"
           }
          ],
          "scattercarpet": [
           {
            "marker": {
             "colorbar": {
              "outlinewidth": 0,
              "ticks": ""
             }
            },
            "type": "scattercarpet"
           }
          ],
          "scattergeo": [
           {
            "marker": {
             "colorbar": {
              "outlinewidth": 0,
              "ticks": ""
             }
            },
            "type": "scattergeo"
           }
          ],
          "scattergl": [
           {
            "marker": {
             "colorbar": {
              "outlinewidth": 0,
              "ticks": ""
             }
            },
            "type": "scattergl"
           }
          ],
          "scattermapbox": [
           {
            "marker": {
             "colorbar": {
              "outlinewidth": 0,
              "ticks": ""
             }
            },
            "type": "scattermapbox"
           }
          ],
          "scatterpolar": [
           {
            "marker": {
             "colorbar": {
              "outlinewidth": 0,
              "ticks": ""
             }
            },
            "type": "scatterpolar"
           }
          ],
          "scatterpolargl": [
           {
            "marker": {
             "colorbar": {
              "outlinewidth": 0,
              "ticks": ""
             }
            },
            "type": "scatterpolargl"
           }
          ],
          "scatterternary": [
           {
            "marker": {
             "colorbar": {
              "outlinewidth": 0,
              "ticks": ""
             }
            },
            "type": "scatterternary"
           }
          ],
          "surface": [
           {
            "colorbar": {
             "outlinewidth": 0,
             "ticks": ""
            },
            "colorscale": [
             [
              0,
              "#0d0887"
             ],
             [
              0.1111111111111111,
              "#46039f"
             ],
             [
              0.2222222222222222,
              "#7201a8"
             ],
             [
              0.3333333333333333,
              "#9c179e"
             ],
             [
              0.4444444444444444,
              "#bd3786"
             ],
             [
              0.5555555555555556,
              "#d8576b"
             ],
             [
              0.6666666666666666,
              "#ed7953"
             ],
             [
              0.7777777777777778,
              "#fb9f3a"
             ],
             [
              0.8888888888888888,
              "#fdca26"
             ],
             [
              1,
              "#f0f921"
             ]
            ],
            "type": "surface"
           }
          ],
          "table": [
           {
            "cells": {
             "fill": {
              "color": "#EBF0F8"
             },
             "line": {
              "color": "white"
             }
            },
            "header": {
             "fill": {
              "color": "#C8D4E3"
             },
             "line": {
              "color": "white"
             }
            },
            "type": "table"
           }
          ]
         },
         "layout": {
          "annotationdefaults": {
           "arrowcolor": "#2a3f5f",
           "arrowhead": 0,
           "arrowwidth": 1
          },
          "autotypenumbers": "strict",
          "coloraxis": {
           "colorbar": {
            "outlinewidth": 0,
            "ticks": ""
           }
          },
          "colorscale": {
           "diverging": [
            [
             0,
             "#8e0152"
            ],
            [
             0.1,
             "#c51b7d"
            ],
            [
             0.2,
             "#de77ae"
            ],
            [
             0.3,
             "#f1b6da"
            ],
            [
             0.4,
             "#fde0ef"
            ],
            [
             0.5,
             "#f7f7f7"
            ],
            [
             0.6,
             "#e6f5d0"
            ],
            [
             0.7,
             "#b8e186"
            ],
            [
             0.8,
             "#7fbc41"
            ],
            [
             0.9,
             "#4d9221"
            ],
            [
             1,
             "#276419"
            ]
           ],
           "sequential": [
            [
             0,
             "#0d0887"
            ],
            [
             0.1111111111111111,
             "#46039f"
            ],
            [
             0.2222222222222222,
             "#7201a8"
            ],
            [
             0.3333333333333333,
             "#9c179e"
            ],
            [
             0.4444444444444444,
             "#bd3786"
            ],
            [
             0.5555555555555556,
             "#d8576b"
            ],
            [
             0.6666666666666666,
             "#ed7953"
            ],
            [
             0.7777777777777778,
             "#fb9f3a"
            ],
            [
             0.8888888888888888,
             "#fdca26"
            ],
            [
             1,
             "#f0f921"
            ]
           ],
           "sequentialminus": [
            [
             0,
             "#0d0887"
            ],
            [
             0.1111111111111111,
             "#46039f"
            ],
            [
             0.2222222222222222,
             "#7201a8"
            ],
            [
             0.3333333333333333,
             "#9c179e"
            ],
            [
             0.4444444444444444,
             "#bd3786"
            ],
            [
             0.5555555555555556,
             "#d8576b"
            ],
            [
             0.6666666666666666,
             "#ed7953"
            ],
            [
             0.7777777777777778,
             "#fb9f3a"
            ],
            [
             0.8888888888888888,
             "#fdca26"
            ],
            [
             1,
             "#f0f921"
            ]
           ]
          },
          "colorway": [
           "#636efa",
           "#EF553B",
           "#00cc96",
           "#ab63fa",
           "#FFA15A",
           "#19d3f3",
           "#FF6692",
           "#B6E880",
           "#FF97FF",
           "#FECB52"
          ],
          "font": {
           "color": "#2a3f5f"
          },
          "geo": {
           "bgcolor": "white",
           "lakecolor": "white",
           "landcolor": "#E5ECF6",
           "showlakes": true,
           "showland": true,
           "subunitcolor": "white"
          },
          "hoverlabel": {
           "align": "left"
          },
          "hovermode": "closest",
          "mapbox": {
           "style": "light"
          },
          "paper_bgcolor": "white",
          "plot_bgcolor": "#E5ECF6",
          "polar": {
           "angularaxis": {
            "gridcolor": "white",
            "linecolor": "white",
            "ticks": ""
           },
           "bgcolor": "#E5ECF6",
           "radialaxis": {
            "gridcolor": "white",
            "linecolor": "white",
            "ticks": ""
           }
          },
          "scene": {
           "xaxis": {
            "backgroundcolor": "#E5ECF6",
            "gridcolor": "white",
            "gridwidth": 2,
            "linecolor": "white",
            "showbackground": true,
            "ticks": "",
            "zerolinecolor": "white"
           },
           "yaxis": {
            "backgroundcolor": "#E5ECF6",
            "gridcolor": "white",
            "gridwidth": 2,
            "linecolor": "white",
            "showbackground": true,
            "ticks": "",
            "zerolinecolor": "white"
           },
           "zaxis": {
            "backgroundcolor": "#E5ECF6",
            "gridcolor": "white",
            "gridwidth": 2,
            "linecolor": "white",
            "showbackground": true,
            "ticks": "",
            "zerolinecolor": "white"
           }
          },
          "shapedefaults": {
           "line": {
            "color": "#2a3f5f"
           }
          },
          "ternary": {
           "aaxis": {
            "gridcolor": "white",
            "linecolor": "white",
            "ticks": ""
           },
           "baxis": {
            "gridcolor": "white",
            "linecolor": "white",
            "ticks": ""
           },
           "bgcolor": "#E5ECF6",
           "caxis": {
            "gridcolor": "white",
            "linecolor": "white",
            "ticks": ""
           }
          },
          "title": {
           "x": 0.05
          },
          "xaxis": {
           "automargin": true,
           "gridcolor": "white",
           "linecolor": "white",
           "ticks": "",
           "title": {
            "standoff": 15
           },
           "zerolinecolor": "white",
           "zerolinewidth": 2
          },
          "yaxis": {
           "automargin": true,
           "gridcolor": "white",
           "linecolor": "white",
           "ticks": "",
           "title": {
            "standoff": 15
           },
           "zerolinecolor": "white",
           "zerolinewidth": 2
          }
         }
        },
        "title": {
         "font": {
          "color": "#4D5663"
         }
        },
        "xaxis": {
         "gridcolor": "#E1E5ED",
         "showgrid": true,
         "tickfont": {
          "color": "#4D5663"
         },
         "title": {
          "font": {
           "color": "#4D5663"
          },
          "text": ""
         },
         "zerolinecolor": "#E1E5ED"
        },
        "yaxis": {
         "gridcolor": "#E1E5ED",
         "showgrid": true,
         "tickfont": {
          "color": "#4D5663"
         },
         "title": {
          "font": {
           "color": "#4D5663"
          },
          "text": ""
         },
         "zerolinecolor": "#E1E5ED"
        }
       }
      },
      "text/html": [
       "<div>                            <div id=\"8b60d552-8b09-4610-b96e-2a2e68cbf54e\" class=\"plotly-graph-div\" style=\"height:525px; width:100%;\"></div>            <script type=\"text/javascript\">                require([\"plotly\"], function(Plotly) {                    window.PLOTLYENV=window.PLOTLYENV || {};\n",
       "                    window.PLOTLYENV.BASE_URL='https://plot.ly';                                    if (document.getElementById(\"8b60d552-8b09-4610-b96e-2a2e68cbf54e\")) {                    Plotly.newPlot(                        \"8b60d552-8b09-4610-b96e-2a2e68cbf54e\",                        [{\"marker\":{\"color\":\"rgba(55, 128, 191, 0.6)\",\"line\":{\"color\":\"rgba(55, 128, 191, 1.0)\",\"width\":1}},\"name\":\"YTD Total Return\",\"orientation\":\"v\",\"text\":\"\",\"x\":[\"RWEG.DE\",\"BAYGn.DE\",\"IFXGn.DE\",\"ZALG.DE\",\"VNAn.DE\",\"FREG.DE\",\"BASFn.DE\",\"1COV.DE\",\"CONG.DE\",\"DHLn.DE\",\"HNKG_p.DE\",\"EONGn.DE\",\"SY1G.DE\",\"DBKGn.DE\",\"BNRGn.DE\",\"CBKG.DE\",\"SATG_p.DE\",\"DTEGn.DE\",\"ALVG.DE\",\"QIA.DE\",\"ADSGn.DE\",\"DB1Gn.DE\",\"P911_p.DE\",\"BEIG.DE\",\"AIRG.DE\",\"SHLG.DE\",\"PSHG_p.DE\",\"SIEGn.DE\",\"HEIG.DE\",\"BMWG.DE\",\"MRCG.DE\",\"DTGGe.DE\",\"HNRGn.DE\",\"VOWG_p.DE\",\"MTXGn.DE\",\"MUVGn.DE\",\"MBGn.DE\",\"ENR1n.DE\",\"SAPG.DE\",\"RHMG.DE\"],\"y\":[-26.2748907229075,-15.0014867675855,-11.1772486802581,-10.8624708628843,-8.79467414392727,-7.55254720294229,-5.02255022660937,-4.93545937557642,-4.47217888797359,-4.31390034665192,-3.87043645316459,-3.37448559532827,-1.74628663270218,-0.501455838117904,-0.192261476751066,-0.139405202157061,1.20048019030097,1.37931034260259,1.52924157959615,1.6832254954978,2.19374456920338,3.24396783068213,3.25406758335509,3.86882829767961,5.22558538243347,5.58935361172208,5.61312608033526,5.85354783359664,6.39980232278687,6.64814447314883,8.43164469283979,8.49500293883325,9.06148867067211,10.0357781794042,10.2688860391409,12.3700346581694,14.0847322113049,15.7499999987281,24.0321192982232,46.9686411131986],\"type\":\"bar\"}],                        {\"legend\":{\"bgcolor\":\"#F5F6F9\",\"font\":{\"color\":\"#4D5663\"}},\"paper_bgcolor\":\"#F5F6F9\",\"plot_bgcolor\":\"#F5F6F9\",\"template\":{\"data\":{\"barpolar\":[{\"marker\":{\"line\":{\"color\":\"#E5ECF6\",\"width\":0.5},\"pattern\":{\"fillmode\":\"overlay\",\"size\":10,\"solidity\":0.2}},\"type\":\"barpolar\"}],\"bar\":[{\"error_x\":{\"color\":\"#2a3f5f\"},\"error_y\":{\"color\":\"#2a3f5f\"},\"marker\":{\"line\":{\"color\":\"#E5ECF6\",\"width\":0.5},\"pattern\":{\"fillmode\":\"overlay\",\"size\":10,\"solidity\":0.2}},\"type\":\"bar\"}],\"carpet\":[{\"aaxis\":{\"endlinecolor\":\"#2a3f5f\",\"gridcolor\":\"white\",\"linecolor\":\"white\",\"minorgridcolor\":\"white\",\"startlinecolor\":\"#2a3f5f\"},\"baxis\":{\"endlinecolor\":\"#2a3f5f\",\"gridcolor\":\"white\",\"linecolor\":\"white\",\"minorgridcolor\":\"white\",\"startlinecolor\":\"#2a3f5f\"},\"type\":\"carpet\"}],\"choropleth\":[{\"colorbar\":{\"outlinewidth\":0,\"ticks\":\"\"},\"type\":\"choropleth\"}],\"contourcarpet\":[{\"colorbar\":{\"outlinewidth\":0,\"ticks\":\"\"},\"type\":\"contourcarpet\"}],\"contour\":[{\"colorbar\":{\"outlinewidth\":0,\"ticks\":\"\"},\"colorscale\":[[0.0,\"#0d0887\"],[0.1111111111111111,\"#46039f\"],[0.2222222222222222,\"#7201a8\"],[0.3333333333333333,\"#9c179e\"],[0.4444444444444444,\"#bd3786\"],[0.5555555555555556,\"#d8576b\"],[0.6666666666666666,\"#ed7953\"],[0.7777777777777778,\"#fb9f3a\"],[0.8888888888888888,\"#fdca26\"],[1.0,\"#f0f921\"]],\"type\":\"contour\"}],\"heatmapgl\":[{\"colorbar\":{\"outlinewidth\":0,\"ticks\":\"\"},\"colorscale\":[[0.0,\"#0d0887\"],[0.1111111111111111,\"#46039f\"],[0.2222222222222222,\"#7201a8\"],[0.3333333333333333,\"#9c179e\"],[0.4444444444444444,\"#bd3786\"],[0.5555555555555556,\"#d8576b\"],[0.6666666666666666,\"#ed7953\"],[0.7777777777777778,\"#fb9f3a\"],[0.8888888888888888,\"#fdca26\"],[1.0,\"#f0f921\"]],\"type\":\"heatmapgl\"}],\"heatmap\":[{\"colorbar\":{\"outlinewidth\":0,\"ticks\":\"\"},\"colorscale\":[[0.0,\"#0d0887\"],[0.1111111111111111,\"#46039f\"],[0.2222222222222222,\"#7201a8\"],[0.3333333333333333,\"#9c179e\"],[0.4444444444444444,\"#bd3786\"],[0.5555555555555556,\"#d8576b\"],[0.6666666666666666,\"#ed7953\"],[0.7777777777777778,\"#fb9f3a\"],[0.8888888888888888,\"#fdca26\"],[1.0,\"#f0f921\"]],\"type\":\"heatmap\"}],\"histogram2dcontour\":[{\"colorbar\":{\"outlinewidth\":0,\"ticks\":\"\"},\"colorscale\":[[0.0,\"#0d0887\"],[0.1111111111111111,\"#46039f\"],[0.2222222222222222,\"#7201a8\"],[0.3333333333333333,\"#9c179e\"],[0.4444444444444444,\"#bd3786\"],[0.5555555555555556,\"#d8576b\"],[0.6666666666666666,\"#ed7953\"],[0.7777777777777778,\"#fb9f3a\"],[0.8888888888888888,\"#fdca26\"],[1.0,\"#f0f921\"]],\"type\":\"histogram2dcontour\"}],\"histogram2d\":[{\"colorbar\":{\"outlinewidth\":0,\"ticks\":\"\"},\"colorscale\":[[0.0,\"#0d0887\"],[0.1111111111111111,\"#46039f\"],[0.2222222222222222,\"#7201a8\"],[0.3333333333333333,\"#9c179e\"],[0.4444444444444444,\"#bd3786\"],[0.5555555555555556,\"#d8576b\"],[0.6666666666666666,\"#ed7953\"],[0.7777777777777778,\"#fb9f3a\"],[0.8888888888888888,\"#fdca26\"],[1.0,\"#f0f921\"]],\"type\":\"histogram2d\"}],\"histogram\":[{\"marker\":{\"pattern\":{\"fillmode\":\"overlay\",\"size\":10,\"solidity\":0.2}},\"type\":\"histogram\"}],\"mesh3d\":[{\"colorbar\":{\"outlinewidth\":0,\"ticks\":\"\"},\"type\":\"mesh3d\"}],\"parcoords\":[{\"line\":{\"colorbar\":{\"outlinewidth\":0,\"ticks\":\"\"}},\"type\":\"parcoords\"}],\"pie\":[{\"automargin\":true,\"type\":\"pie\"}],\"scatter3d\":[{\"line\":{\"colorbar\":{\"outlinewidth\":0,\"ticks\":\"\"}},\"marker\":{\"colorbar\":{\"outlinewidth\":0,\"ticks\":\"\"}},\"type\":\"scatter3d\"}],\"scattercarpet\":[{\"marker\":{\"colorbar\":{\"outlinewidth\":0,\"ticks\":\"\"}},\"type\":\"scattercarpet\"}],\"scattergeo\":[{\"marker\":{\"colorbar\":{\"outlinewidth\":0,\"ticks\":\"\"}},\"type\":\"scattergeo\"}],\"scattergl\":[{\"marker\":{\"colorbar\":{\"outlinewidth\":0,\"ticks\":\"\"}},\"type\":\"scattergl\"}],\"scattermapbox\":[{\"marker\":{\"colorbar\":{\"outlinewidth\":0,\"ticks\":\"\"}},\"type\":\"scattermapbox\"}],\"scatterpolargl\":[{\"marker\":{\"colorbar\":{\"outlinewidth\":0,\"ticks\":\"\"}},\"type\":\"scatterpolargl\"}],\"scatterpolar\":[{\"marker\":{\"colorbar\":{\"outlinewidth\":0,\"ticks\":\"\"}},\"type\":\"scatterpolar\"}],\"scatter\":[{\"fillpattern\":{\"fillmode\":\"overlay\",\"size\":10,\"solidity\":0.2},\"type\":\"scatter\"}],\"scatterternary\":[{\"marker\":{\"colorbar\":{\"outlinewidth\":0,\"ticks\":\"\"}},\"type\":\"scatterternary\"}],\"surface\":[{\"colorbar\":{\"outlinewidth\":0,\"ticks\":\"\"},\"colorscale\":[[0.0,\"#0d0887\"],[0.1111111111111111,\"#46039f\"],[0.2222222222222222,\"#7201a8\"],[0.3333333333333333,\"#9c179e\"],[0.4444444444444444,\"#bd3786\"],[0.5555555555555556,\"#d8576b\"],[0.6666666666666666,\"#ed7953\"],[0.7777777777777778,\"#fb9f3a\"],[0.8888888888888888,\"#fdca26\"],[1.0,\"#f0f921\"]],\"type\":\"surface\"}],\"table\":[{\"cells\":{\"fill\":{\"color\":\"#EBF0F8\"},\"line\":{\"color\":\"white\"}},\"header\":{\"fill\":{\"color\":\"#C8D4E3\"},\"line\":{\"color\":\"white\"}},\"type\":\"table\"}]},\"layout\":{\"annotationdefaults\":{\"arrowcolor\":\"#2a3f5f\",\"arrowhead\":0,\"arrowwidth\":1},\"autotypenumbers\":\"strict\",\"coloraxis\":{\"colorbar\":{\"outlinewidth\":0,\"ticks\":\"\"}},\"colorscale\":{\"diverging\":[[0,\"#8e0152\"],[0.1,\"#c51b7d\"],[0.2,\"#de77ae\"],[0.3,\"#f1b6da\"],[0.4,\"#fde0ef\"],[0.5,\"#f7f7f7\"],[0.6,\"#e6f5d0\"],[0.7,\"#b8e186\"],[0.8,\"#7fbc41\"],[0.9,\"#4d9221\"],[1,\"#276419\"]],\"sequential\":[[0.0,\"#0d0887\"],[0.1111111111111111,\"#46039f\"],[0.2222222222222222,\"#7201a8\"],[0.3333333333333333,\"#9c179e\"],[0.4444444444444444,\"#bd3786\"],[0.5555555555555556,\"#d8576b\"],[0.6666666666666666,\"#ed7953\"],[0.7777777777777778,\"#fb9f3a\"],[0.8888888888888888,\"#fdca26\"],[1.0,\"#f0f921\"]],\"sequentialminus\":[[0.0,\"#0d0887\"],[0.1111111111111111,\"#46039f\"],[0.2222222222222222,\"#7201a8\"],[0.3333333333333333,\"#9c179e\"],[0.4444444444444444,\"#bd3786\"],[0.5555555555555556,\"#d8576b\"],[0.6666666666666666,\"#ed7953\"],[0.7777777777777778,\"#fb9f3a\"],[0.8888888888888888,\"#fdca26\"],[1.0,\"#f0f921\"]]},\"colorway\":[\"#636efa\",\"#EF553B\",\"#00cc96\",\"#ab63fa\",\"#FFA15A\",\"#19d3f3\",\"#FF6692\",\"#B6E880\",\"#FF97FF\",\"#FECB52\"],\"font\":{\"color\":\"#2a3f5f\"},\"geo\":{\"bgcolor\":\"white\",\"lakecolor\":\"white\",\"landcolor\":\"#E5ECF6\",\"showlakes\":true,\"showland\":true,\"subunitcolor\":\"white\"},\"hoverlabel\":{\"align\":\"left\"},\"hovermode\":\"closest\",\"mapbox\":{\"style\":\"light\"},\"paper_bgcolor\":\"white\",\"plot_bgcolor\":\"#E5ECF6\",\"polar\":{\"angularaxis\":{\"gridcolor\":\"white\",\"linecolor\":\"white\",\"ticks\":\"\"},\"bgcolor\":\"#E5ECF6\",\"radialaxis\":{\"gridcolor\":\"white\",\"linecolor\":\"white\",\"ticks\":\"\"}},\"scene\":{\"xaxis\":{\"backgroundcolor\":\"#E5ECF6\",\"gridcolor\":\"white\",\"gridwidth\":2,\"linecolor\":\"white\",\"showbackground\":true,\"ticks\":\"\",\"zerolinecolor\":\"white\"},\"yaxis\":{\"backgroundcolor\":\"#E5ECF6\",\"gridcolor\":\"white\",\"gridwidth\":2,\"linecolor\":\"white\",\"showbackground\":true,\"ticks\":\"\",\"zerolinecolor\":\"white\"},\"zaxis\":{\"backgroundcolor\":\"#E5ECF6\",\"gridcolor\":\"white\",\"gridwidth\":2,\"linecolor\":\"white\",\"showbackground\":true,\"ticks\":\"\",\"zerolinecolor\":\"white\"}},\"shapedefaults\":{\"line\":{\"color\":\"#2a3f5f\"}},\"ternary\":{\"aaxis\":{\"gridcolor\":\"white\",\"linecolor\":\"white\",\"ticks\":\"\"},\"baxis\":{\"gridcolor\":\"white\",\"linecolor\":\"white\",\"ticks\":\"\"},\"bgcolor\":\"#E5ECF6\",\"caxis\":{\"gridcolor\":\"white\",\"linecolor\":\"white\",\"ticks\":\"\"}},\"title\":{\"x\":0.05},\"xaxis\":{\"automargin\":true,\"gridcolor\":\"white\",\"linecolor\":\"white\",\"ticks\":\"\",\"title\":{\"standoff\":15},\"zerolinecolor\":\"white\",\"zerolinewidth\":2},\"yaxis\":{\"automargin\":true,\"gridcolor\":\"white\",\"linecolor\":\"white\",\"ticks\":\"\",\"title\":{\"standoff\":15},\"zerolinecolor\":\"white\",\"zerolinewidth\":2}}},\"title\":{\"font\":{\"color\":\"#4D5663\"}},\"xaxis\":{\"gridcolor\":\"#E1E5ED\",\"showgrid\":true,\"tickfont\":{\"color\":\"#4D5663\"},\"title\":{\"font\":{\"color\":\"#4D5663\"},\"text\":\"\"},\"zerolinecolor\":\"#E1E5ED\"},\"yaxis\":{\"gridcolor\":\"#E1E5ED\",\"showgrid\":true,\"tickfont\":{\"color\":\"#4D5663\"},\"title\":{\"font\":{\"color\":\"#4D5663\"},\"text\":\"\"},\"zerolinecolor\":\"#E1E5ED\"}},                        {\"showLink\": true, \"linkText\": \"Export to plot.ly\", \"plotlyServerURL\": \"https://plot.ly\", \"responsive\": true}                    ).then(function(){\n",
       "                            \n",
       "var gd = document.getElementById('8b60d552-8b09-4610-b96e-2a2e68cbf54e');\n",
       "var x = new MutationObserver(function (mutations, observer) {{\n",
       "        var display = window.getComputedStyle(gd).display;\n",
       "        if (!display || display === 'none') {{\n",
       "            console.log([gd, 'removed!']);\n",
       "            Plotly.purge(gd);\n",
       "            observer.disconnect();\n",
       "        }}\n",
       "}});\n",
       "\n",
       "// Listen for the removal of the full notebook cells\n",
       "var notebookContainer = gd.closest('#notebook-container');\n",
       "if (notebookContainer) {{\n",
       "    x.observe(notebookContainer, {childList: true});\n",
       "}}\n",
       "\n",
       "// Listen for the clearing of the current output cell\n",
       "var outputEl = gd.closest('.output');\n",
       "if (outputEl) {{\n",
       "    x.observe(outputEl, {childList: true});\n",
       "}}\n",
       "\n",
       "                        })                };                });            </script>        </div>"
      ]
     },
     "metadata": {},
     "output_type": "display_data"
    }
   ],
   "source": [
    "dax.set_index('Instrument')['YTD Total Return'].sort_values().iplot(kind='bar', color='blue')"
   ]
  },
  {
   "cell_type": "code",
   "execution_count": 43,
   "id": "9f0fcc5c",
   "metadata": {},
   "outputs": [
    {
     "data": {
      "text/html": [
       "<div>\n",
       "<style scoped>\n",
       "    .dataframe tbody tr th:only-of-type {\n",
       "        vertical-align: middle;\n",
       "    }\n",
       "\n",
       "    .dataframe tbody tr th {\n",
       "        vertical-align: top;\n",
       "    }\n",
       "\n",
       "    .dataframe thead th {\n",
       "        text-align: right;\n",
       "    }\n",
       "</style>\n",
       "<table border=\"1\" class=\"dataframe\">\n",
       "  <thead>\n",
       "    <tr style=\"text-align: right;\">\n",
       "      <th></th>\n",
       "      <th>Instrument</th>\n",
       "      <th>Holding RIC</th>\n",
       "      <th>Holding Name</th>\n",
       "      <th>Percentage of Fund Assets</th>\n",
       "      <th>Number of Shares</th>\n",
       "      <th>Number of Shares Changed</th>\n",
       "    </tr>\n",
       "  </thead>\n",
       "  <tbody>\n",
       "    <tr>\n",
       "      <th>0</th>\n",
       "      <td>IVV</td>\n",
       "      <td>MSFT.OQ</td>\n",
       "      <td>MICROSOFT CORP ORD</td>\n",
       "      <td>7.2476</td>\n",
       "      <td>76262210.0</td>\n",
       "      <td>2279218.0</td>\n",
       "    </tr>\n",
       "    <tr>\n",
       "      <th>1</th>\n",
       "      <td>IVV</td>\n",
       "      <td>AAPL.OQ</td>\n",
       "      <td>APPLE INC ORD</td>\n",
       "      <td>6.6122</td>\n",
       "      <td>150011064.0</td>\n",
       "      <td>4483445.0</td>\n",
       "    </tr>\n",
       "    <tr>\n",
       "      <th>2</th>\n",
       "      <td>IVV</td>\n",
       "      <td>NVDA.OQ</td>\n",
       "      <td>NVIDIA CORP ORD</td>\n",
       "      <td>3.7274</td>\n",
       "      <td>25344509.0</td>\n",
       "      <td>757684.0</td>\n",
       "    </tr>\n",
       "    <tr>\n",
       "      <th>3</th>\n",
       "      <td>IVV</td>\n",
       "      <td>AMZN.OQ</td>\n",
       "      <td>AMAZON.COM INC ORD</td>\n",
       "      <td>3.4617</td>\n",
       "      <td>93312685.0</td>\n",
       "      <td>2788765.0</td>\n",
       "    </tr>\n",
       "    <tr>\n",
       "      <th>4</th>\n",
       "      <td>IVV</td>\n",
       "      <td>META.OQ</td>\n",
       "      <td>META PLATFORMS INC ORD</td>\n",
       "      <td>2.1239</td>\n",
       "      <td>22775278.0</td>\n",
       "      <td>680485.0</td>\n",
       "    </tr>\n",
       "    <tr>\n",
       "      <th>...</th>\n",
       "      <td>...</td>\n",
       "      <td>...</td>\n",
       "      <td>...</td>\n",
       "      <td>...</td>\n",
       "      <td>...</td>\n",
       "      <td>...</td>\n",
       "    </tr>\n",
       "    <tr>\n",
       "      <th>505</th>\n",
       "      <td>IVV</td>\n",
       "      <td>ESH24</td>\n",
       "      <td>EMINI S&amp;P MAR4</td>\n",
       "      <td>0.0088</td>\n",
       "      <td>3644.0</td>\n",
       "      <td>-746.0</td>\n",
       "    </tr>\n",
       "    <tr>\n",
       "      <th>506</th>\n",
       "      <td>IVV</td>\n",
       "      <td>NWS.OQ</td>\n",
       "      <td>NEWS CORP ORD</td>\n",
       "      <td>0.0072</td>\n",
       "      <td>1176343.0</td>\n",
       "      <td>33660.0</td>\n",
       "    </tr>\n",
       "    <tr>\n",
       "      <th>507</th>\n",
       "      <td>IVV</td>\n",
       "      <td></td>\n",
       "      <td>OTHER FEES</td>\n",
       "      <td>0.0</td>\n",
       "      <td>4.0</td>\n",
       "      <td>0.0</td>\n",
       "    </tr>\n",
       "    <tr>\n",
       "      <th>508</th>\n",
       "      <td>IVV</td>\n",
       "      <td></td>\n",
       "      <td>TOPSIDE ADJUSTMENT</td>\n",
       "      <td>0.0</td>\n",
       "      <td>1.0</td>\n",
       "      <td>0.0</td>\n",
       "    </tr>\n",
       "    <tr>\n",
       "      <th>509</th>\n",
       "      <td>IVV</td>\n",
       "      <td></td>\n",
       "      <td>USD CASH</td>\n",
       "      <td>-0.5927</td>\n",
       "      <td>-2479435997.49</td>\n",
       "      <td>-403526951.06</td>\n",
       "    </tr>\n",
       "  </tbody>\n",
       "</table>\n",
       "<p>510 rows × 6 columns</p>\n",
       "</div>"
      ],
      "text/plain": [
       "    Instrument Holding RIC            Holding Name  Percentage of Fund Assets   \n",
       "0          IVV     MSFT.OQ      MICROSOFT CORP ORD                     7.2476  \\\n",
       "1          IVV     AAPL.OQ           APPLE INC ORD                     6.6122   \n",
       "2          IVV     NVDA.OQ         NVIDIA CORP ORD                     3.7274   \n",
       "3          IVV     AMZN.OQ      AMAZON.COM INC ORD                     3.4617   \n",
       "4          IVV     META.OQ  META PLATFORMS INC ORD                     2.1239   \n",
       "..         ...         ...                     ...                        ...   \n",
       "505        IVV       ESH24          EMINI S&P MAR4                     0.0088   \n",
       "506        IVV      NWS.OQ           NEWS CORP ORD                     0.0072   \n",
       "507        IVV                          OTHER FEES                        0.0   \n",
       "508        IVV                  TOPSIDE ADJUSTMENT                        0.0   \n",
       "509        IVV                            USD CASH                    -0.5927   \n",
       "\n",
       "     Number of Shares  Number of Shares Changed  \n",
       "0          76262210.0                 2279218.0  \n",
       "1         150011064.0                 4483445.0  \n",
       "2          25344509.0                  757684.0  \n",
       "3          93312685.0                 2788765.0  \n",
       "4          22775278.0                  680485.0  \n",
       "..                ...                       ...  \n",
       "505            3644.0                    -746.0  \n",
       "506         1176343.0                   33660.0  \n",
       "507               4.0                       0.0  \n",
       "508               1.0                       0.0  \n",
       "509    -2479435997.49             -403526951.06  \n",
       "\n",
       "[510 rows x 6 columns]"
      ]
     },
     "execution_count": 43,
     "metadata": {},
     "output_type": "execute_result"
    }
   ],
   "source": [
    "ivv = ek.get_data('IVV', ['TR.FundHoldingRIC','TR.FundHoldingName',\n",
    "                           'TR.FundPercentageOfFundAssets',\n",
    "                           'TR.FundNumberOfShares',\n",
    "                           'TR.FundNumberOfSharesChanged'],\n",
    "            {'Endnum':'5000'})[0]\n",
    "ivv"
   ]
  },
  {
   "cell_type": "markdown",
   "id": "47a9aaee",
   "metadata": {},
   "source": [
    "filtren los instrumentos cuya inversión sea mayor a 1%\n",
    "Generen el gráfico con los rendimientos de dichos intrumentos"
   ]
  },
  {
   "cell_type": "code",
   "execution_count": 44,
   "id": "3ae5e24f",
   "metadata": {},
   "outputs": [
    {
     "data": {
      "text/html": [
       "<div>\n",
       "<style scoped>\n",
       "    .dataframe tbody tr th:only-of-type {\n",
       "        vertical-align: middle;\n",
       "    }\n",
       "\n",
       "    .dataframe tbody tr th {\n",
       "        vertical-align: top;\n",
       "    }\n",
       "\n",
       "    .dataframe thead th {\n",
       "        text-align: right;\n",
       "    }\n",
       "</style>\n",
       "<table border=\"1\" class=\"dataframe\">\n",
       "  <thead>\n",
       "    <tr style=\"text-align: right;\">\n",
       "      <th></th>\n",
       "      <th>Instrument</th>\n",
       "      <th>Holding RIC</th>\n",
       "      <th>Holding Name</th>\n",
       "      <th>Percentage of Fund Assets</th>\n",
       "      <th>Number of Shares</th>\n",
       "      <th>Number of Shares Changed</th>\n",
       "    </tr>\n",
       "  </thead>\n",
       "  <tbody>\n",
       "    <tr>\n",
       "      <th>0</th>\n",
       "      <td>IVV</td>\n",
       "      <td>MSFT.OQ</td>\n",
       "      <td>MICROSOFT CORP ORD</td>\n",
       "      <td>7.2476</td>\n",
       "      <td>76262210.0</td>\n",
       "      <td>2279218.0</td>\n",
       "    </tr>\n",
       "    <tr>\n",
       "      <th>1</th>\n",
       "      <td>IVV</td>\n",
       "      <td>AAPL.OQ</td>\n",
       "      <td>APPLE INC ORD</td>\n",
       "      <td>6.6122</td>\n",
       "      <td>150011064.0</td>\n",
       "      <td>4483445.0</td>\n",
       "    </tr>\n",
       "    <tr>\n",
       "      <th>2</th>\n",
       "      <td>IVV</td>\n",
       "      <td>NVDA.OQ</td>\n",
       "      <td>NVIDIA CORP ORD</td>\n",
       "      <td>3.7274</td>\n",
       "      <td>25344509.0</td>\n",
       "      <td>757684.0</td>\n",
       "    </tr>\n",
       "    <tr>\n",
       "      <th>3</th>\n",
       "      <td>IVV</td>\n",
       "      <td>AMZN.OQ</td>\n",
       "      <td>AMAZON.COM INC ORD</td>\n",
       "      <td>3.4617</td>\n",
       "      <td>93312685.0</td>\n",
       "      <td>2788765.0</td>\n",
       "    </tr>\n",
       "    <tr>\n",
       "      <th>4</th>\n",
       "      <td>IVV</td>\n",
       "      <td>META.OQ</td>\n",
       "      <td>META PLATFORMS INC ORD</td>\n",
       "      <td>2.1239</td>\n",
       "      <td>22775278.0</td>\n",
       "      <td>680485.0</td>\n",
       "    </tr>\n",
       "    <tr>\n",
       "      <th>5</th>\n",
       "      <td>IVV</td>\n",
       "      <td>GOOGL.OQ</td>\n",
       "      <td>ALPHABET INC CLASS A ORD</td>\n",
       "      <td>2.0336</td>\n",
       "      <td>60724479.0</td>\n",
       "      <td>1815255.0</td>\n",
       "    </tr>\n",
       "    <tr>\n",
       "      <th>6</th>\n",
       "      <td>IVV</td>\n",
       "      <td>GOOG.OQ</td>\n",
       "      <td>ALPHABET INC CLASS C ORD</td>\n",
       "      <td>1.7323</td>\n",
       "      <td>51107368.0</td>\n",
       "      <td>1527677.0</td>\n",
       "    </tr>\n",
       "    <tr>\n",
       "      <th>7</th>\n",
       "      <td>IVV</td>\n",
       "      <td>BRKb.N</td>\n",
       "      <td>BERKSHIRE HATHAWAY INC ORD</td>\n",
       "      <td>1.7125</td>\n",
       "      <td>18669249.0</td>\n",
       "      <td>557855.0</td>\n",
       "    </tr>\n",
       "    <tr>\n",
       "      <th>8</th>\n",
       "      <td>IVV</td>\n",
       "      <td>TSLA.OQ</td>\n",
       "      <td>TESLA INC ORD</td>\n",
       "      <td>1.2705</td>\n",
       "      <td>28378290.0</td>\n",
       "      <td>848250.0</td>\n",
       "    </tr>\n",
       "    <tr>\n",
       "      <th>9</th>\n",
       "      <td>IVV</td>\n",
       "      <td>AVGO.OQ</td>\n",
       "      <td>BROADCOM INC ORD</td>\n",
       "      <td>1.2704</td>\n",
       "      <td>4503915.0</td>\n",
       "      <td>134531.0</td>\n",
       "    </tr>\n",
       "    <tr>\n",
       "      <th>10</th>\n",
       "      <td>IVV</td>\n",
       "      <td>LLY.N</td>\n",
       "      <td>ELI LILLY AND CO ORD</td>\n",
       "      <td>1.2627</td>\n",
       "      <td>8182362.0</td>\n",
       "      <td>244684.0</td>\n",
       "    </tr>\n",
       "    <tr>\n",
       "      <th>11</th>\n",
       "      <td>IVV</td>\n",
       "      <td>JPM.N</td>\n",
       "      <td>JPMORGAN CHASE &amp; CO ORD</td>\n",
       "      <td>1.2364</td>\n",
       "      <td>29664584.0</td>\n",
       "      <td>886560.0</td>\n",
       "    </tr>\n",
       "    <tr>\n",
       "      <th>12</th>\n",
       "      <td>IVV</td>\n",
       "      <td>UNH.N</td>\n",
       "      <td>UNITEDHEALTH GROUP INC ORD</td>\n",
       "      <td>1.1609</td>\n",
       "      <td>9490741.0</td>\n",
       "      <td>283723.0</td>\n",
       "    </tr>\n",
       "    <tr>\n",
       "      <th>13</th>\n",
       "      <td>IVV</td>\n",
       "      <td>V.N</td>\n",
       "      <td>VISA INC ORD</td>\n",
       "      <td>1.0683</td>\n",
       "      <td>16356040.0</td>\n",
       "      <td>488752.0</td>\n",
       "    </tr>\n",
       "    <tr>\n",
       "      <th>14</th>\n",
       "      <td>IVV</td>\n",
       "      <td>XOM.N</td>\n",
       "      <td>EXXON MOBIL CORP ORD</td>\n",
       "      <td>1.0101</td>\n",
       "      <td>41102042.0</td>\n",
       "      <td>1228147.0</td>\n",
       "    </tr>\n",
       "  </tbody>\n",
       "</table>\n",
       "</div>"
      ],
      "text/plain": [
       "   Instrument Holding RIC                Holding Name   \n",
       "0         IVV     MSFT.OQ          MICROSOFT CORP ORD  \\\n",
       "1         IVV     AAPL.OQ               APPLE INC ORD   \n",
       "2         IVV     NVDA.OQ             NVIDIA CORP ORD   \n",
       "3         IVV     AMZN.OQ          AMAZON.COM INC ORD   \n",
       "4         IVV     META.OQ      META PLATFORMS INC ORD   \n",
       "5         IVV    GOOGL.OQ    ALPHABET INC CLASS A ORD   \n",
       "6         IVV     GOOG.OQ    ALPHABET INC CLASS C ORD   \n",
       "7         IVV      BRKb.N  BERKSHIRE HATHAWAY INC ORD   \n",
       "8         IVV     TSLA.OQ               TESLA INC ORD   \n",
       "9         IVV     AVGO.OQ            BROADCOM INC ORD   \n",
       "10        IVV       LLY.N        ELI LILLY AND CO ORD   \n",
       "11        IVV       JPM.N     JPMORGAN CHASE & CO ORD   \n",
       "12        IVV       UNH.N  UNITEDHEALTH GROUP INC ORD   \n",
       "13        IVV         V.N                VISA INC ORD   \n",
       "14        IVV       XOM.N        EXXON MOBIL CORP ORD   \n",
       "\n",
       "    Percentage of Fund Assets  Number of Shares  Number of Shares Changed  \n",
       "0                      7.2476        76262210.0                 2279218.0  \n",
       "1                      6.6122       150011064.0                 4483445.0  \n",
       "2                      3.7274        25344509.0                  757684.0  \n",
       "3                      3.4617        93312685.0                 2788765.0  \n",
       "4                      2.1239        22775278.0                  680485.0  \n",
       "5                      2.0336        60724479.0                 1815255.0  \n",
       "6                      1.7323        51107368.0                 1527677.0  \n",
       "7                      1.7125        18669249.0                  557855.0  \n",
       "8                      1.2705        28378290.0                  848250.0  \n",
       "9                      1.2704         4503915.0                  134531.0  \n",
       "10                     1.2627         8182362.0                  244684.0  \n",
       "11                     1.2364        29664584.0                  886560.0  \n",
       "12                     1.1609         9490741.0                  283723.0  \n",
       "13                     1.0683        16356040.0                  488752.0  \n",
       "14                     1.0101        41102042.0                 1228147.0  "
      ]
     },
     "execution_count": 44,
     "metadata": {},
     "output_type": "execute_result"
    }
   ],
   "source": [
    "# Filter rows where column 'A' is greater than 3\n",
    "filtered_df = ivv[ivv['Percentage of Fund Assets'] > 1]\n",
    "filtered_df"
   ]
  },
  {
   "cell_type": "code",
   "execution_count": 46,
   "id": "8f863932",
   "metadata": {},
   "outputs": [
    {
     "data": {
      "application/vnd.plotly.v1+json": {
       "config": {
        "linkText": "Export to plot.ly",
        "plotlyServerURL": "https://plot.ly",
        "showLink": true
       },
       "data": [
        {
         "marker": {
          "color": "rgba(55, 128, 191, 0.6)",
          "line": {
           "color": "rgba(55, 128, 191, 1.0)",
           "width": 1
          }
         },
         "name": "Percentage of Fund Assets",
         "orientation": "v",
         "text": "",
         "type": "bar",
         "x": [
          "XOM.N",
          "V.N",
          "UNH.N",
          "JPM.N",
          "LLY.N",
          "AVGO.OQ",
          "TSLA.OQ",
          "BRKb.N",
          "GOOG.OQ",
          "GOOGL.OQ",
          "META.OQ",
          "AMZN.OQ",
          "NVDA.OQ",
          "AAPL.OQ",
          "MSFT.OQ"
         ],
         "y": [
          1.0101,
          1.0683,
          1.1609,
          1.2364,
          1.2627,
          1.2704,
          1.2705,
          1.7125,
          1.7323,
          2.0336,
          2.1239,
          3.4617,
          3.7274,
          6.6122,
          7.2476
         ]
        }
       ],
       "layout": {
        "legend": {
         "bgcolor": "#F5F6F9",
         "font": {
          "color": "#4D5663"
         }
        },
        "paper_bgcolor": "#F5F6F9",
        "plot_bgcolor": "#F5F6F9",
        "template": {
         "data": {
          "bar": [
           {
            "error_x": {
             "color": "#2a3f5f"
            },
            "error_y": {
             "color": "#2a3f5f"
            },
            "marker": {
             "line": {
              "color": "#E5ECF6",
              "width": 0.5
             },
             "pattern": {
              "fillmode": "overlay",
              "size": 10,
              "solidity": 0.2
             }
            },
            "type": "bar"
           }
          ],
          "barpolar": [
           {
            "marker": {
             "line": {
              "color": "#E5ECF6",
              "width": 0.5
             },
             "pattern": {
              "fillmode": "overlay",
              "size": 10,
              "solidity": 0.2
             }
            },
            "type": "barpolar"
           }
          ],
          "carpet": [
           {
            "aaxis": {
             "endlinecolor": "#2a3f5f",
             "gridcolor": "white",
             "linecolor": "white",
             "minorgridcolor": "white",
             "startlinecolor": "#2a3f5f"
            },
            "baxis": {
             "endlinecolor": "#2a3f5f",
             "gridcolor": "white",
             "linecolor": "white",
             "minorgridcolor": "white",
             "startlinecolor": "#2a3f5f"
            },
            "type": "carpet"
           }
          ],
          "choropleth": [
           {
            "colorbar": {
             "outlinewidth": 0,
             "ticks": ""
            },
            "type": "choropleth"
           }
          ],
          "contour": [
           {
            "colorbar": {
             "outlinewidth": 0,
             "ticks": ""
            },
            "colorscale": [
             [
              0,
              "#0d0887"
             ],
             [
              0.1111111111111111,
              "#46039f"
             ],
             [
              0.2222222222222222,
              "#7201a8"
             ],
             [
              0.3333333333333333,
              "#9c179e"
             ],
             [
              0.4444444444444444,
              "#bd3786"
             ],
             [
              0.5555555555555556,
              "#d8576b"
             ],
             [
              0.6666666666666666,
              "#ed7953"
             ],
             [
              0.7777777777777778,
              "#fb9f3a"
             ],
             [
              0.8888888888888888,
              "#fdca26"
             ],
             [
              1,
              "#f0f921"
             ]
            ],
            "type": "contour"
           }
          ],
          "contourcarpet": [
           {
            "colorbar": {
             "outlinewidth": 0,
             "ticks": ""
            },
            "type": "contourcarpet"
           }
          ],
          "heatmap": [
           {
            "colorbar": {
             "outlinewidth": 0,
             "ticks": ""
            },
            "colorscale": [
             [
              0,
              "#0d0887"
             ],
             [
              0.1111111111111111,
              "#46039f"
             ],
             [
              0.2222222222222222,
              "#7201a8"
             ],
             [
              0.3333333333333333,
              "#9c179e"
             ],
             [
              0.4444444444444444,
              "#bd3786"
             ],
             [
              0.5555555555555556,
              "#d8576b"
             ],
             [
              0.6666666666666666,
              "#ed7953"
             ],
             [
              0.7777777777777778,
              "#fb9f3a"
             ],
             [
              0.8888888888888888,
              "#fdca26"
             ],
             [
              1,
              "#f0f921"
             ]
            ],
            "type": "heatmap"
           }
          ],
          "heatmapgl": [
           {
            "colorbar": {
             "outlinewidth": 0,
             "ticks": ""
            },
            "colorscale": [
             [
              0,
              "#0d0887"
             ],
             [
              0.1111111111111111,
              "#46039f"
             ],
             [
              0.2222222222222222,
              "#7201a8"
             ],
             [
              0.3333333333333333,
              "#9c179e"
             ],
             [
              0.4444444444444444,
              "#bd3786"
             ],
             [
              0.5555555555555556,
              "#d8576b"
             ],
             [
              0.6666666666666666,
              "#ed7953"
             ],
             [
              0.7777777777777778,
              "#fb9f3a"
             ],
             [
              0.8888888888888888,
              "#fdca26"
             ],
             [
              1,
              "#f0f921"
             ]
            ],
            "type": "heatmapgl"
           }
          ],
          "histogram": [
           {
            "marker": {
             "pattern": {
              "fillmode": "overlay",
              "size": 10,
              "solidity": 0.2
             }
            },
            "type": "histogram"
           }
          ],
          "histogram2d": [
           {
            "colorbar": {
             "outlinewidth": 0,
             "ticks": ""
            },
            "colorscale": [
             [
              0,
              "#0d0887"
             ],
             [
              0.1111111111111111,
              "#46039f"
             ],
             [
              0.2222222222222222,
              "#7201a8"
             ],
             [
              0.3333333333333333,
              "#9c179e"
             ],
             [
              0.4444444444444444,
              "#bd3786"
             ],
             [
              0.5555555555555556,
              "#d8576b"
             ],
             [
              0.6666666666666666,
              "#ed7953"
             ],
             [
              0.7777777777777778,
              "#fb9f3a"
             ],
             [
              0.8888888888888888,
              "#fdca26"
             ],
             [
              1,
              "#f0f921"
             ]
            ],
            "type": "histogram2d"
           }
          ],
          "histogram2dcontour": [
           {
            "colorbar": {
             "outlinewidth": 0,
             "ticks": ""
            },
            "colorscale": [
             [
              0,
              "#0d0887"
             ],
             [
              0.1111111111111111,
              "#46039f"
             ],
             [
              0.2222222222222222,
              "#7201a8"
             ],
             [
              0.3333333333333333,
              "#9c179e"
             ],
             [
              0.4444444444444444,
              "#bd3786"
             ],
             [
              0.5555555555555556,
              "#d8576b"
             ],
             [
              0.6666666666666666,
              "#ed7953"
             ],
             [
              0.7777777777777778,
              "#fb9f3a"
             ],
             [
              0.8888888888888888,
              "#fdca26"
             ],
             [
              1,
              "#f0f921"
             ]
            ],
            "type": "histogram2dcontour"
           }
          ],
          "mesh3d": [
           {
            "colorbar": {
             "outlinewidth": 0,
             "ticks": ""
            },
            "type": "mesh3d"
           }
          ],
          "parcoords": [
           {
            "line": {
             "colorbar": {
              "outlinewidth": 0,
              "ticks": ""
             }
            },
            "type": "parcoords"
           }
          ],
          "pie": [
           {
            "automargin": true,
            "type": "pie"
           }
          ],
          "scatter": [
           {
            "fillpattern": {
             "fillmode": "overlay",
             "size": 10,
             "solidity": 0.2
            },
            "type": "scatter"
           }
          ],
          "scatter3d": [
           {
            "line": {
             "colorbar": {
              "outlinewidth": 0,
              "ticks": ""
             }
            },
            "marker": {
             "colorbar": {
              "outlinewidth": 0,
              "ticks": ""
             }
            },
            "type": "scatter3d"
           }
          ],
          "scattercarpet": [
           {
            "marker": {
             "colorbar": {
              "outlinewidth": 0,
              "ticks": ""
             }
            },
            "type": "scattercarpet"
           }
          ],
          "scattergeo": [
           {
            "marker": {
             "colorbar": {
              "outlinewidth": 0,
              "ticks": ""
             }
            },
            "type": "scattergeo"
           }
          ],
          "scattergl": [
           {
            "marker": {
             "colorbar": {
              "outlinewidth": 0,
              "ticks": ""
             }
            },
            "type": "scattergl"
           }
          ],
          "scattermapbox": [
           {
            "marker": {
             "colorbar": {
              "outlinewidth": 0,
              "ticks": ""
             }
            },
            "type": "scattermapbox"
           }
          ],
          "scatterpolar": [
           {
            "marker": {
             "colorbar": {
              "outlinewidth": 0,
              "ticks": ""
             }
            },
            "type": "scatterpolar"
           }
          ],
          "scatterpolargl": [
           {
            "marker": {
             "colorbar": {
              "outlinewidth": 0,
              "ticks": ""
             }
            },
            "type": "scatterpolargl"
           }
          ],
          "scatterternary": [
           {
            "marker": {
             "colorbar": {
              "outlinewidth": 0,
              "ticks": ""
             }
            },
            "type": "scatterternary"
           }
          ],
          "surface": [
           {
            "colorbar": {
             "outlinewidth": 0,
             "ticks": ""
            },
            "colorscale": [
             [
              0,
              "#0d0887"
             ],
             [
              0.1111111111111111,
              "#46039f"
             ],
             [
              0.2222222222222222,
              "#7201a8"
             ],
             [
              0.3333333333333333,
              "#9c179e"
             ],
             [
              0.4444444444444444,
              "#bd3786"
             ],
             [
              0.5555555555555556,
              "#d8576b"
             ],
             [
              0.6666666666666666,
              "#ed7953"
             ],
             [
              0.7777777777777778,
              "#fb9f3a"
             ],
             [
              0.8888888888888888,
              "#fdca26"
             ],
             [
              1,
              "#f0f921"
             ]
            ],
            "type": "surface"
           }
          ],
          "table": [
           {
            "cells": {
             "fill": {
              "color": "#EBF0F8"
             },
             "line": {
              "color": "white"
             }
            },
            "header": {
             "fill": {
              "color": "#C8D4E3"
             },
             "line": {
              "color": "white"
             }
            },
            "type": "table"
           }
          ]
         },
         "layout": {
          "annotationdefaults": {
           "arrowcolor": "#2a3f5f",
           "arrowhead": 0,
           "arrowwidth": 1
          },
          "autotypenumbers": "strict",
          "coloraxis": {
           "colorbar": {
            "outlinewidth": 0,
            "ticks": ""
           }
          },
          "colorscale": {
           "diverging": [
            [
             0,
             "#8e0152"
            ],
            [
             0.1,
             "#c51b7d"
            ],
            [
             0.2,
             "#de77ae"
            ],
            [
             0.3,
             "#f1b6da"
            ],
            [
             0.4,
             "#fde0ef"
            ],
            [
             0.5,
             "#f7f7f7"
            ],
            [
             0.6,
             "#e6f5d0"
            ],
            [
             0.7,
             "#b8e186"
            ],
            [
             0.8,
             "#7fbc41"
            ],
            [
             0.9,
             "#4d9221"
            ],
            [
             1,
             "#276419"
            ]
           ],
           "sequential": [
            [
             0,
             "#0d0887"
            ],
            [
             0.1111111111111111,
             "#46039f"
            ],
            [
             0.2222222222222222,
             "#7201a8"
            ],
            [
             0.3333333333333333,
             "#9c179e"
            ],
            [
             0.4444444444444444,
             "#bd3786"
            ],
            [
             0.5555555555555556,
             "#d8576b"
            ],
            [
             0.6666666666666666,
             "#ed7953"
            ],
            [
             0.7777777777777778,
             "#fb9f3a"
            ],
            [
             0.8888888888888888,
             "#fdca26"
            ],
            [
             1,
             "#f0f921"
            ]
           ],
           "sequentialminus": [
            [
             0,
             "#0d0887"
            ],
            [
             0.1111111111111111,
             "#46039f"
            ],
            [
             0.2222222222222222,
             "#7201a8"
            ],
            [
             0.3333333333333333,
             "#9c179e"
            ],
            [
             0.4444444444444444,
             "#bd3786"
            ],
            [
             0.5555555555555556,
             "#d8576b"
            ],
            [
             0.6666666666666666,
             "#ed7953"
            ],
            [
             0.7777777777777778,
             "#fb9f3a"
            ],
            [
             0.8888888888888888,
             "#fdca26"
            ],
            [
             1,
             "#f0f921"
            ]
           ]
          },
          "colorway": [
           "#636efa",
           "#EF553B",
           "#00cc96",
           "#ab63fa",
           "#FFA15A",
           "#19d3f3",
           "#FF6692",
           "#B6E880",
           "#FF97FF",
           "#FECB52"
          ],
          "font": {
           "color": "#2a3f5f"
          },
          "geo": {
           "bgcolor": "white",
           "lakecolor": "white",
           "landcolor": "#E5ECF6",
           "showlakes": true,
           "showland": true,
           "subunitcolor": "white"
          },
          "hoverlabel": {
           "align": "left"
          },
          "hovermode": "closest",
          "mapbox": {
           "style": "light"
          },
          "paper_bgcolor": "white",
          "plot_bgcolor": "#E5ECF6",
          "polar": {
           "angularaxis": {
            "gridcolor": "white",
            "linecolor": "white",
            "ticks": ""
           },
           "bgcolor": "#E5ECF6",
           "radialaxis": {
            "gridcolor": "white",
            "linecolor": "white",
            "ticks": ""
           }
          },
          "scene": {
           "xaxis": {
            "backgroundcolor": "#E5ECF6",
            "gridcolor": "white",
            "gridwidth": 2,
            "linecolor": "white",
            "showbackground": true,
            "ticks": "",
            "zerolinecolor": "white"
           },
           "yaxis": {
            "backgroundcolor": "#E5ECF6",
            "gridcolor": "white",
            "gridwidth": 2,
            "linecolor": "white",
            "showbackground": true,
            "ticks": "",
            "zerolinecolor": "white"
           },
           "zaxis": {
            "backgroundcolor": "#E5ECF6",
            "gridcolor": "white",
            "gridwidth": 2,
            "linecolor": "white",
            "showbackground": true,
            "ticks": "",
            "zerolinecolor": "white"
           }
          },
          "shapedefaults": {
           "line": {
            "color": "#2a3f5f"
           }
          },
          "ternary": {
           "aaxis": {
            "gridcolor": "white",
            "linecolor": "white",
            "ticks": ""
           },
           "baxis": {
            "gridcolor": "white",
            "linecolor": "white",
            "ticks": ""
           },
           "bgcolor": "#E5ECF6",
           "caxis": {
            "gridcolor": "white",
            "linecolor": "white",
            "ticks": ""
           }
          },
          "title": {
           "x": 0.05
          },
          "xaxis": {
           "automargin": true,
           "gridcolor": "white",
           "linecolor": "white",
           "ticks": "",
           "title": {
            "standoff": 15
           },
           "zerolinecolor": "white",
           "zerolinewidth": 2
          },
          "yaxis": {
           "automargin": true,
           "gridcolor": "white",
           "linecolor": "white",
           "ticks": "",
           "title": {
            "standoff": 15
           },
           "zerolinecolor": "white",
           "zerolinewidth": 2
          }
         }
        },
        "title": {
         "font": {
          "color": "#4D5663"
         }
        },
        "xaxis": {
         "gridcolor": "#E1E5ED",
         "showgrid": true,
         "tickfont": {
          "color": "#4D5663"
         },
         "title": {
          "font": {
           "color": "#4D5663"
          },
          "text": ""
         },
         "zerolinecolor": "#E1E5ED"
        },
        "yaxis": {
         "gridcolor": "#E1E5ED",
         "showgrid": true,
         "tickfont": {
          "color": "#4D5663"
         },
         "title": {
          "font": {
           "color": "#4D5663"
          },
          "text": ""
         },
         "zerolinecolor": "#E1E5ED"
        }
       }
      },
      "text/html": [
       "<div>                            <div id=\"e6ac165c-da8c-4cbb-b20a-4194a3677a28\" class=\"plotly-graph-div\" style=\"height:525px; width:100%;\"></div>            <script type=\"text/javascript\">                require([\"plotly\"], function(Plotly) {                    window.PLOTLYENV=window.PLOTLYENV || {};\n",
       "                    window.PLOTLYENV.BASE_URL='https://plot.ly';                                    if (document.getElementById(\"e6ac165c-da8c-4cbb-b20a-4194a3677a28\")) {                    Plotly.newPlot(                        \"e6ac165c-da8c-4cbb-b20a-4194a3677a28\",                        [{\"marker\":{\"color\":\"rgba(55, 128, 191, 0.6)\",\"line\":{\"color\":\"rgba(55, 128, 191, 1.0)\",\"width\":1}},\"name\":\"Percentage of Fund Assets\",\"orientation\":\"v\",\"text\":\"\",\"x\":[\"XOM.N\",\"V.N\",\"UNH.N\",\"JPM.N\",\"LLY.N\",\"AVGO.OQ\",\"TSLA.OQ\",\"BRKb.N\",\"GOOG.OQ\",\"GOOGL.OQ\",\"META.OQ\",\"AMZN.OQ\",\"NVDA.OQ\",\"AAPL.OQ\",\"MSFT.OQ\"],\"y\":[1.0101,1.0683,1.1609,1.2364,1.2627,1.2704,1.2705,1.7125,1.7323,2.0336,2.1239,3.4617,3.7274,6.6122,7.2476],\"type\":\"bar\"}],                        {\"legend\":{\"bgcolor\":\"#F5F6F9\",\"font\":{\"color\":\"#4D5663\"}},\"paper_bgcolor\":\"#F5F6F9\",\"plot_bgcolor\":\"#F5F6F9\",\"template\":{\"data\":{\"barpolar\":[{\"marker\":{\"line\":{\"color\":\"#E5ECF6\",\"width\":0.5},\"pattern\":{\"fillmode\":\"overlay\",\"size\":10,\"solidity\":0.2}},\"type\":\"barpolar\"}],\"bar\":[{\"error_x\":{\"color\":\"#2a3f5f\"},\"error_y\":{\"color\":\"#2a3f5f\"},\"marker\":{\"line\":{\"color\":\"#E5ECF6\",\"width\":0.5},\"pattern\":{\"fillmode\":\"overlay\",\"size\":10,\"solidity\":0.2}},\"type\":\"bar\"}],\"carpet\":[{\"aaxis\":{\"endlinecolor\":\"#2a3f5f\",\"gridcolor\":\"white\",\"linecolor\":\"white\",\"minorgridcolor\":\"white\",\"startlinecolor\":\"#2a3f5f\"},\"baxis\":{\"endlinecolor\":\"#2a3f5f\",\"gridcolor\":\"white\",\"linecolor\":\"white\",\"minorgridcolor\":\"white\",\"startlinecolor\":\"#2a3f5f\"},\"type\":\"carpet\"}],\"choropleth\":[{\"colorbar\":{\"outlinewidth\":0,\"ticks\":\"\"},\"type\":\"choropleth\"}],\"contourcarpet\":[{\"colorbar\":{\"outlinewidth\":0,\"ticks\":\"\"},\"type\":\"contourcarpet\"}],\"contour\":[{\"colorbar\":{\"outlinewidth\":0,\"ticks\":\"\"},\"colorscale\":[[0.0,\"#0d0887\"],[0.1111111111111111,\"#46039f\"],[0.2222222222222222,\"#7201a8\"],[0.3333333333333333,\"#9c179e\"],[0.4444444444444444,\"#bd3786\"],[0.5555555555555556,\"#d8576b\"],[0.6666666666666666,\"#ed7953\"],[0.7777777777777778,\"#fb9f3a\"],[0.8888888888888888,\"#fdca26\"],[1.0,\"#f0f921\"]],\"type\":\"contour\"}],\"heatmapgl\":[{\"colorbar\":{\"outlinewidth\":0,\"ticks\":\"\"},\"colorscale\":[[0.0,\"#0d0887\"],[0.1111111111111111,\"#46039f\"],[0.2222222222222222,\"#7201a8\"],[0.3333333333333333,\"#9c179e\"],[0.4444444444444444,\"#bd3786\"],[0.5555555555555556,\"#d8576b\"],[0.6666666666666666,\"#ed7953\"],[0.7777777777777778,\"#fb9f3a\"],[0.8888888888888888,\"#fdca26\"],[1.0,\"#f0f921\"]],\"type\":\"heatmapgl\"}],\"heatmap\":[{\"colorbar\":{\"outlinewidth\":0,\"ticks\":\"\"},\"colorscale\":[[0.0,\"#0d0887\"],[0.1111111111111111,\"#46039f\"],[0.2222222222222222,\"#7201a8\"],[0.3333333333333333,\"#9c179e\"],[0.4444444444444444,\"#bd3786\"],[0.5555555555555556,\"#d8576b\"],[0.6666666666666666,\"#ed7953\"],[0.7777777777777778,\"#fb9f3a\"],[0.8888888888888888,\"#fdca26\"],[1.0,\"#f0f921\"]],\"type\":\"heatmap\"}],\"histogram2dcontour\":[{\"colorbar\":{\"outlinewidth\":0,\"ticks\":\"\"},\"colorscale\":[[0.0,\"#0d0887\"],[0.1111111111111111,\"#46039f\"],[0.2222222222222222,\"#7201a8\"],[0.3333333333333333,\"#9c179e\"],[0.4444444444444444,\"#bd3786\"],[0.5555555555555556,\"#d8576b\"],[0.6666666666666666,\"#ed7953\"],[0.7777777777777778,\"#fb9f3a\"],[0.8888888888888888,\"#fdca26\"],[1.0,\"#f0f921\"]],\"type\":\"histogram2dcontour\"}],\"histogram2d\":[{\"colorbar\":{\"outlinewidth\":0,\"ticks\":\"\"},\"colorscale\":[[0.0,\"#0d0887\"],[0.1111111111111111,\"#46039f\"],[0.2222222222222222,\"#7201a8\"],[0.3333333333333333,\"#9c179e\"],[0.4444444444444444,\"#bd3786\"],[0.5555555555555556,\"#d8576b\"],[0.6666666666666666,\"#ed7953\"],[0.7777777777777778,\"#fb9f3a\"],[0.8888888888888888,\"#fdca26\"],[1.0,\"#f0f921\"]],\"type\":\"histogram2d\"}],\"histogram\":[{\"marker\":{\"pattern\":{\"fillmode\":\"overlay\",\"size\":10,\"solidity\":0.2}},\"type\":\"histogram\"}],\"mesh3d\":[{\"colorbar\":{\"outlinewidth\":0,\"ticks\":\"\"},\"type\":\"mesh3d\"}],\"parcoords\":[{\"line\":{\"colorbar\":{\"outlinewidth\":0,\"ticks\":\"\"}},\"type\":\"parcoords\"}],\"pie\":[{\"automargin\":true,\"type\":\"pie\"}],\"scatter3d\":[{\"line\":{\"colorbar\":{\"outlinewidth\":0,\"ticks\":\"\"}},\"marker\":{\"colorbar\":{\"outlinewidth\":0,\"ticks\":\"\"}},\"type\":\"scatter3d\"}],\"scattercarpet\":[{\"marker\":{\"colorbar\":{\"outlinewidth\":0,\"ticks\":\"\"}},\"type\":\"scattercarpet\"}],\"scattergeo\":[{\"marker\":{\"colorbar\":{\"outlinewidth\":0,\"ticks\":\"\"}},\"type\":\"scattergeo\"}],\"scattergl\":[{\"marker\":{\"colorbar\":{\"outlinewidth\":0,\"ticks\":\"\"}},\"type\":\"scattergl\"}],\"scattermapbox\":[{\"marker\":{\"colorbar\":{\"outlinewidth\":0,\"ticks\":\"\"}},\"type\":\"scattermapbox\"}],\"scatterpolargl\":[{\"marker\":{\"colorbar\":{\"outlinewidth\":0,\"ticks\":\"\"}},\"type\":\"scatterpolargl\"}],\"scatterpolar\":[{\"marker\":{\"colorbar\":{\"outlinewidth\":0,\"ticks\":\"\"}},\"type\":\"scatterpolar\"}],\"scatter\":[{\"fillpattern\":{\"fillmode\":\"overlay\",\"size\":10,\"solidity\":0.2},\"type\":\"scatter\"}],\"scatterternary\":[{\"marker\":{\"colorbar\":{\"outlinewidth\":0,\"ticks\":\"\"}},\"type\":\"scatterternary\"}],\"surface\":[{\"colorbar\":{\"outlinewidth\":0,\"ticks\":\"\"},\"colorscale\":[[0.0,\"#0d0887\"],[0.1111111111111111,\"#46039f\"],[0.2222222222222222,\"#7201a8\"],[0.3333333333333333,\"#9c179e\"],[0.4444444444444444,\"#bd3786\"],[0.5555555555555556,\"#d8576b\"],[0.6666666666666666,\"#ed7953\"],[0.7777777777777778,\"#fb9f3a\"],[0.8888888888888888,\"#fdca26\"],[1.0,\"#f0f921\"]],\"type\":\"surface\"}],\"table\":[{\"cells\":{\"fill\":{\"color\":\"#EBF0F8\"},\"line\":{\"color\":\"white\"}},\"header\":{\"fill\":{\"color\":\"#C8D4E3\"},\"line\":{\"color\":\"white\"}},\"type\":\"table\"}]},\"layout\":{\"annotationdefaults\":{\"arrowcolor\":\"#2a3f5f\",\"arrowhead\":0,\"arrowwidth\":1},\"autotypenumbers\":\"strict\",\"coloraxis\":{\"colorbar\":{\"outlinewidth\":0,\"ticks\":\"\"}},\"colorscale\":{\"diverging\":[[0,\"#8e0152\"],[0.1,\"#c51b7d\"],[0.2,\"#de77ae\"],[0.3,\"#f1b6da\"],[0.4,\"#fde0ef\"],[0.5,\"#f7f7f7\"],[0.6,\"#e6f5d0\"],[0.7,\"#b8e186\"],[0.8,\"#7fbc41\"],[0.9,\"#4d9221\"],[1,\"#276419\"]],\"sequential\":[[0.0,\"#0d0887\"],[0.1111111111111111,\"#46039f\"],[0.2222222222222222,\"#7201a8\"],[0.3333333333333333,\"#9c179e\"],[0.4444444444444444,\"#bd3786\"],[0.5555555555555556,\"#d8576b\"],[0.6666666666666666,\"#ed7953\"],[0.7777777777777778,\"#fb9f3a\"],[0.8888888888888888,\"#fdca26\"],[1.0,\"#f0f921\"]],\"sequentialminus\":[[0.0,\"#0d0887\"],[0.1111111111111111,\"#46039f\"],[0.2222222222222222,\"#7201a8\"],[0.3333333333333333,\"#9c179e\"],[0.4444444444444444,\"#bd3786\"],[0.5555555555555556,\"#d8576b\"],[0.6666666666666666,\"#ed7953\"],[0.7777777777777778,\"#fb9f3a\"],[0.8888888888888888,\"#fdca26\"],[1.0,\"#f0f921\"]]},\"colorway\":[\"#636efa\",\"#EF553B\",\"#00cc96\",\"#ab63fa\",\"#FFA15A\",\"#19d3f3\",\"#FF6692\",\"#B6E880\",\"#FF97FF\",\"#FECB52\"],\"font\":{\"color\":\"#2a3f5f\"},\"geo\":{\"bgcolor\":\"white\",\"lakecolor\":\"white\",\"landcolor\":\"#E5ECF6\",\"showlakes\":true,\"showland\":true,\"subunitcolor\":\"white\"},\"hoverlabel\":{\"align\":\"left\"},\"hovermode\":\"closest\",\"mapbox\":{\"style\":\"light\"},\"paper_bgcolor\":\"white\",\"plot_bgcolor\":\"#E5ECF6\",\"polar\":{\"angularaxis\":{\"gridcolor\":\"white\",\"linecolor\":\"white\",\"ticks\":\"\"},\"bgcolor\":\"#E5ECF6\",\"radialaxis\":{\"gridcolor\":\"white\",\"linecolor\":\"white\",\"ticks\":\"\"}},\"scene\":{\"xaxis\":{\"backgroundcolor\":\"#E5ECF6\",\"gridcolor\":\"white\",\"gridwidth\":2,\"linecolor\":\"white\",\"showbackground\":true,\"ticks\":\"\",\"zerolinecolor\":\"white\"},\"yaxis\":{\"backgroundcolor\":\"#E5ECF6\",\"gridcolor\":\"white\",\"gridwidth\":2,\"linecolor\":\"white\",\"showbackground\":true,\"ticks\":\"\",\"zerolinecolor\":\"white\"},\"zaxis\":{\"backgroundcolor\":\"#E5ECF6\",\"gridcolor\":\"white\",\"gridwidth\":2,\"linecolor\":\"white\",\"showbackground\":true,\"ticks\":\"\",\"zerolinecolor\":\"white\"}},\"shapedefaults\":{\"line\":{\"color\":\"#2a3f5f\"}},\"ternary\":{\"aaxis\":{\"gridcolor\":\"white\",\"linecolor\":\"white\",\"ticks\":\"\"},\"baxis\":{\"gridcolor\":\"white\",\"linecolor\":\"white\",\"ticks\":\"\"},\"bgcolor\":\"#E5ECF6\",\"caxis\":{\"gridcolor\":\"white\",\"linecolor\":\"white\",\"ticks\":\"\"}},\"title\":{\"x\":0.05},\"xaxis\":{\"automargin\":true,\"gridcolor\":\"white\",\"linecolor\":\"white\",\"ticks\":\"\",\"title\":{\"standoff\":15},\"zerolinecolor\":\"white\",\"zerolinewidth\":2},\"yaxis\":{\"automargin\":true,\"gridcolor\":\"white\",\"linecolor\":\"white\",\"ticks\":\"\",\"title\":{\"standoff\":15},\"zerolinecolor\":\"white\",\"zerolinewidth\":2}}},\"title\":{\"font\":{\"color\":\"#4D5663\"}},\"xaxis\":{\"gridcolor\":\"#E1E5ED\",\"showgrid\":true,\"tickfont\":{\"color\":\"#4D5663\"},\"title\":{\"font\":{\"color\":\"#4D5663\"},\"text\":\"\"},\"zerolinecolor\":\"#E1E5ED\"},\"yaxis\":{\"gridcolor\":\"#E1E5ED\",\"showgrid\":true,\"tickfont\":{\"color\":\"#4D5663\"},\"title\":{\"font\":{\"color\":\"#4D5663\"},\"text\":\"\"},\"zerolinecolor\":\"#E1E5ED\"}},                        {\"showLink\": true, \"linkText\": \"Export to plot.ly\", \"plotlyServerURL\": \"https://plot.ly\", \"responsive\": true}                    ).then(function(){\n",
       "                            \n",
       "var gd = document.getElementById('e6ac165c-da8c-4cbb-b20a-4194a3677a28');\n",
       "var x = new MutationObserver(function (mutations, observer) {{\n",
       "        var display = window.getComputedStyle(gd).display;\n",
       "        if (!display || display === 'none') {{\n",
       "            console.log([gd, 'removed!']);\n",
       "            Plotly.purge(gd);\n",
       "            observer.disconnect();\n",
       "        }}\n",
       "}});\n",
       "\n",
       "// Listen for the removal of the full notebook cells\n",
       "var notebookContainer = gd.closest('#notebook-container');\n",
       "if (notebookContainer) {{\n",
       "    x.observe(notebookContainer, {childList: true});\n",
       "}}\n",
       "\n",
       "// Listen for the clearing of the current output cell\n",
       "var outputEl = gd.closest('.output');\n",
       "if (outputEl) {{\n",
       "    x.observe(outputEl, {childList: true});\n",
       "}}\n",
       "\n",
       "                        })                };                });            </script>        </div>"
      ]
     },
     "metadata": {},
     "output_type": "display_data"
    }
   ],
   "source": [
    "filtered_df.set_index('Holding RIC')['Percentage of Fund Assets'].sort_values().iplot(kind='bar', color='blue')"
   ]
  },
  {
   "cell_type": "code",
   "execution_count": null,
   "id": "afa57d9f",
   "metadata": {},
   "outputs": [],
   "source": []
  },
  {
   "cell_type": "code",
   "execution_count": 47,
   "id": "e79b0aed",
   "metadata": {},
   "outputs": [],
   "source": [
    "lp4 = ek.get_data('LP40065886', ['TR.FundHoldingRIC','TR.FundHoldingName',\n",
    "                           'TR.FundPercentageOfFundAssets',\n",
    "                           'TR.FundNumberOfShares',\n",
    "                           'TR.FundNumberOfSharesChanged'],\n",
    "            {'Endnum':'5000'})[0]"
   ]
  },
  {
   "cell_type": "code",
   "execution_count": 48,
   "id": "d3db9b8a",
   "metadata": {},
   "outputs": [
    {
     "data": {
      "text/html": [
       "<div>\n",
       "<style scoped>\n",
       "    .dataframe tbody tr th:only-of-type {\n",
       "        vertical-align: middle;\n",
       "    }\n",
       "\n",
       "    .dataframe tbody tr th {\n",
       "        vertical-align: top;\n",
       "    }\n",
       "\n",
       "    .dataframe thead th {\n",
       "        text-align: right;\n",
       "    }\n",
       "</style>\n",
       "<table border=\"1\" class=\"dataframe\">\n",
       "  <thead>\n",
       "    <tr style=\"text-align: right;\">\n",
       "      <th></th>\n",
       "      <th>Instrument</th>\n",
       "      <th>Holding RIC</th>\n",
       "      <th>Holding Name</th>\n",
       "      <th>Percentage of Fund Assets</th>\n",
       "      <th>Number of Shares</th>\n",
       "      <th>Number of Shares Changed</th>\n",
       "    </tr>\n",
       "  </thead>\n",
       "  <tbody>\n",
       "    <tr>\n",
       "      <th>0</th>\n",
       "      <td>LP40065886</td>\n",
       "      <td>MSFT.OQ</td>\n",
       "      <td>MICROSOFT CORP ORD</td>\n",
       "      <td>6.2948</td>\n",
       "      <td>5010898.0</td>\n",
       "      <td>29309.0</td>\n",
       "    </tr>\n",
       "    <tr>\n",
       "      <th>1</th>\n",
       "      <td>LP40065886</td>\n",
       "      <td>AAPL.OQ</td>\n",
       "      <td>APPLE INC ORD</td>\n",
       "      <td>5.8043</td>\n",
       "      <td>9962101.0</td>\n",
       "      <td>58523.0</td>\n",
       "    </tr>\n",
       "    <tr>\n",
       "      <th>2</th>\n",
       "      <td>LP40065886</td>\n",
       "      <td>NVDA.OQ</td>\n",
       "      <td>NVIDIA CORP ORD</td>\n",
       "      <td>3.0757</td>\n",
       "      <td>1582120.0</td>\n",
       "      <td>9323.0</td>\n",
       "    </tr>\n",
       "    <tr>\n",
       "      <th>3</th>\n",
       "      <td>LP40065886</td>\n",
       "      <td>AMZN.OQ</td>\n",
       "      <td>AMAZON.COM INC ORD</td>\n",
       "      <td>3.0752</td>\n",
       "      <td>6271046.0</td>\n",
       "      <td>36710.0</td>\n",
       "    </tr>\n",
       "    <tr>\n",
       "      <th>4</th>\n",
       "      <td>LP40065886</td>\n",
       "      <td>META.OQ</td>\n",
       "      <td>META PLATFORMS INC ORD</td>\n",
       "      <td>1.8449</td>\n",
       "      <td>1496643.0</td>\n",
       "      <td>8861.0</td>\n",
       "    </tr>\n",
       "    <tr>\n",
       "      <th>...</th>\n",
       "      <td>...</td>\n",
       "      <td>...</td>\n",
       "      <td>...</td>\n",
       "      <td>...</td>\n",
       "      <td>...</td>\n",
       "      <td>...</td>\n",
       "    </tr>\n",
       "    <tr>\n",
       "      <th>3368</th>\n",
       "      <td>LP40065886</td>\n",
       "      <td></td>\n",
       "      <td>NEXT BRIDGE HYDROCARBONS INC</td>\n",
       "      <td>0.0</td>\n",
       "      <td>49663.0</td>\n",
       "      <td>0.0</td>\n",
       "    </tr>\n",
       "    <tr>\n",
       "      <th>3369</th>\n",
       "      <td>LP40065886</td>\n",
       "      <td></td>\n",
       "      <td>CARISMA THERAPEUTICS INC CVR</td>\n",
       "      <td>0.0</td>\n",
       "      <td>143290.0</td>\n",
       "      <td>0.0</td>\n",
       "    </tr>\n",
       "    <tr>\n",
       "      <th>3370</th>\n",
       "      <td>LP40065886</td>\n",
       "      <td></td>\n",
       "      <td>GCI LIBERTY INC ESCROW SHARES</td>\n",
       "      <td>0.0</td>\n",
       "      <td>82371.0</td>\n",
       "      <td>0.0</td>\n",
       "    </tr>\n",
       "    <tr>\n",
       "      <th>3371</th>\n",
       "      <td>LP40065886</td>\n",
       "      <td></td>\n",
       "      <td>SPECTRUM PHARMACEUTICALS INC CVR</td>\n",
       "      <td>0.0</td>\n",
       "      <td>109299.0</td>\n",
       "      <td>0.0</td>\n",
       "    </tr>\n",
       "    <tr>\n",
       "      <th>3372</th>\n",
       "      <td>LP40065886</td>\n",
       "      <td></td>\n",
       "      <td>MAGENTA THERAPEUTICS INC CVR</td>\n",
       "      <td>0.0</td>\n",
       "      <td>33990.0</td>\n",
       "      <td>0.0</td>\n",
       "    </tr>\n",
       "  </tbody>\n",
       "</table>\n",
       "<p>3373 rows × 6 columns</p>\n",
       "</div>"
      ],
      "text/plain": [
       "      Instrument Holding RIC                      Holding Name   \n",
       "0     LP40065886     MSFT.OQ                MICROSOFT CORP ORD  \\\n",
       "1     LP40065886     AAPL.OQ                     APPLE INC ORD   \n",
       "2     LP40065886     NVDA.OQ                   NVIDIA CORP ORD   \n",
       "3     LP40065886     AMZN.OQ                AMAZON.COM INC ORD   \n",
       "4     LP40065886     META.OQ            META PLATFORMS INC ORD   \n",
       "...          ...         ...                               ...   \n",
       "3368  LP40065886                  NEXT BRIDGE HYDROCARBONS INC   \n",
       "3369  LP40065886                  CARISMA THERAPEUTICS INC CVR   \n",
       "3370  LP40065886                 GCI LIBERTY INC ESCROW SHARES   \n",
       "3371  LP40065886              SPECTRUM PHARMACEUTICALS INC CVR   \n",
       "3372  LP40065886                  MAGENTA THERAPEUTICS INC CVR   \n",
       "\n",
       "      Percentage of Fund Assets  Number of Shares  Number of Shares Changed  \n",
       "0                        6.2948         5010898.0                   29309.0  \n",
       "1                        5.8043         9962101.0                   58523.0  \n",
       "2                        3.0757         1582120.0                    9323.0  \n",
       "3                        3.0752         6271046.0                   36710.0  \n",
       "4                        1.8449         1496643.0                    8861.0  \n",
       "...                         ...               ...                       ...  \n",
       "3368                        0.0           49663.0                       0.0  \n",
       "3369                        0.0          143290.0                       0.0  \n",
       "3370                        0.0           82371.0                       0.0  \n",
       "3371                        0.0          109299.0                       0.0  \n",
       "3372                        0.0           33990.0                       0.0  \n",
       "\n",
       "[3373 rows x 6 columns]"
      ]
     },
     "execution_count": 48,
     "metadata": {},
     "output_type": "execute_result"
    }
   ],
   "source": [
    "lp4"
   ]
  },
  {
   "cell_type": "code",
   "execution_count": 49,
   "id": "13a8119c",
   "metadata": {},
   "outputs": [
    {
     "data": {
      "application/vnd.plotly.v1+json": {
       "config": {
        "linkText": "Export to plot.ly",
        "plotlyServerURL": "https://plot.ly",
        "showLink": true
       },
       "data": [
        {
         "marker": {
          "color": "rgba(55, 128, 191, 0.6)",
          "line": {
           "color": "rgba(55, 128, 191, 1.0)",
           "width": 1
          }
         },
         "name": "YTD Total Return",
         "orientation": "v",
         "text": "",
         "type": "bar",
         "x": [
          "RWEG.DE",
          "BAYGn.DE",
          "IFXGn.DE",
          "ZALG.DE",
          "VNAn.DE",
          "FREG.DE",
          "BASFn.DE",
          "1COV.DE",
          "CONG.DE",
          "DHLn.DE",
          "HNKG_p.DE",
          "EONGn.DE",
          "SY1G.DE",
          "DBKGn.DE",
          "BNRGn.DE",
          "CBKG.DE",
          "SATG_p.DE",
          "DTEGn.DE",
          "ALVG.DE",
          "QIA.DE",
          "ADSGn.DE",
          "DB1Gn.DE",
          "P911_p.DE",
          "BEIG.DE",
          "AIRG.DE",
          "SHLG.DE",
          "PSHG_p.DE",
          "SIEGn.DE",
          "HEIG.DE",
          "BMWG.DE",
          "MRCG.DE",
          "DTGGe.DE",
          "HNRGn.DE",
          "VOWG_p.DE",
          "MTXGn.DE",
          "MUVGn.DE",
          "MBGn.DE",
          "ENR1n.DE",
          "SAPG.DE",
          "RHMG.DE"
         ],
         "y": [
          -26.2748907229075,
          -15.0014867675855,
          -11.1772486802581,
          -10.8624708628843,
          -8.79467414392727,
          -7.55254720294229,
          -5.02255022660937,
          -4.93545937557642,
          -4.47217888797359,
          -4.31390034665192,
          -3.87043645316459,
          -3.37448559532827,
          -1.74628663270218,
          -0.501455838117904,
          -0.192261476751066,
          -0.139405202157061,
          1.20048019030097,
          1.37931034260259,
          1.52924157959615,
          1.6832254954978,
          2.19374456920338,
          3.24396783068213,
          3.25406758335509,
          3.86882829767961,
          5.22558538243347,
          5.58935361172208,
          5.61312608033526,
          5.85354783359664,
          6.39980232278687,
          6.64814447314883,
          8.43164469283979,
          8.49500293883325,
          9.06148867067211,
          10.0357781794042,
          10.2688860391409,
          12.3700346581694,
          14.0847322113049,
          15.7499999987281,
          24.0321192982232,
          46.9686411131986
         ]
        }
       ],
       "layout": {
        "legend": {
         "bgcolor": "#F5F6F9",
         "font": {
          "color": "#4D5663"
         }
        },
        "paper_bgcolor": "#F5F6F9",
        "plot_bgcolor": "#F5F6F9",
        "template": {
         "data": {
          "bar": [
           {
            "error_x": {
             "color": "#2a3f5f"
            },
            "error_y": {
             "color": "#2a3f5f"
            },
            "marker": {
             "line": {
              "color": "#E5ECF6",
              "width": 0.5
             },
             "pattern": {
              "fillmode": "overlay",
              "size": 10,
              "solidity": 0.2
             }
            },
            "type": "bar"
           }
          ],
          "barpolar": [
           {
            "marker": {
             "line": {
              "color": "#E5ECF6",
              "width": 0.5
             },
             "pattern": {
              "fillmode": "overlay",
              "size": 10,
              "solidity": 0.2
             }
            },
            "type": "barpolar"
           }
          ],
          "carpet": [
           {
            "aaxis": {
             "endlinecolor": "#2a3f5f",
             "gridcolor": "white",
             "linecolor": "white",
             "minorgridcolor": "white",
             "startlinecolor": "#2a3f5f"
            },
            "baxis": {
             "endlinecolor": "#2a3f5f",
             "gridcolor": "white",
             "linecolor": "white",
             "minorgridcolor": "white",
             "startlinecolor": "#2a3f5f"
            },
            "type": "carpet"
           }
          ],
          "choropleth": [
           {
            "colorbar": {
             "outlinewidth": 0,
             "ticks": ""
            },
            "type": "choropleth"
           }
          ],
          "contour": [
           {
            "colorbar": {
             "outlinewidth": 0,
             "ticks": ""
            },
            "colorscale": [
             [
              0,
              "#0d0887"
             ],
             [
              0.1111111111111111,
              "#46039f"
             ],
             [
              0.2222222222222222,
              "#7201a8"
             ],
             [
              0.3333333333333333,
              "#9c179e"
             ],
             [
              0.4444444444444444,
              "#bd3786"
             ],
             [
              0.5555555555555556,
              "#d8576b"
             ],
             [
              0.6666666666666666,
              "#ed7953"
             ],
             [
              0.7777777777777778,
              "#fb9f3a"
             ],
             [
              0.8888888888888888,
              "#fdca26"
             ],
             [
              1,
              "#f0f921"
             ]
            ],
            "type": "contour"
           }
          ],
          "contourcarpet": [
           {
            "colorbar": {
             "outlinewidth": 0,
             "ticks": ""
            },
            "type": "contourcarpet"
           }
          ],
          "heatmap": [
           {
            "colorbar": {
             "outlinewidth": 0,
             "ticks": ""
            },
            "colorscale": [
             [
              0,
              "#0d0887"
             ],
             [
              0.1111111111111111,
              "#46039f"
             ],
             [
              0.2222222222222222,
              "#7201a8"
             ],
             [
              0.3333333333333333,
              "#9c179e"
             ],
             [
              0.4444444444444444,
              "#bd3786"
             ],
             [
              0.5555555555555556,
              "#d8576b"
             ],
             [
              0.6666666666666666,
              "#ed7953"
             ],
             [
              0.7777777777777778,
              "#fb9f3a"
             ],
             [
              0.8888888888888888,
              "#fdca26"
             ],
             [
              1,
              "#f0f921"
             ]
            ],
            "type": "heatmap"
           }
          ],
          "heatmapgl": [
           {
            "colorbar": {
             "outlinewidth": 0,
             "ticks": ""
            },
            "colorscale": [
             [
              0,
              "#0d0887"
             ],
             [
              0.1111111111111111,
              "#46039f"
             ],
             [
              0.2222222222222222,
              "#7201a8"
             ],
             [
              0.3333333333333333,
              "#9c179e"
             ],
             [
              0.4444444444444444,
              "#bd3786"
             ],
             [
              0.5555555555555556,
              "#d8576b"
             ],
             [
              0.6666666666666666,
              "#ed7953"
             ],
             [
              0.7777777777777778,
              "#fb9f3a"
             ],
             [
              0.8888888888888888,
              "#fdca26"
             ],
             [
              1,
              "#f0f921"
             ]
            ],
            "type": "heatmapgl"
           }
          ],
          "histogram": [
           {
            "marker": {
             "pattern": {
              "fillmode": "overlay",
              "size": 10,
              "solidity": 0.2
             }
            },
            "type": "histogram"
           }
          ],
          "histogram2d": [
           {
            "colorbar": {
             "outlinewidth": 0,
             "ticks": ""
            },
            "colorscale": [
             [
              0,
              "#0d0887"
             ],
             [
              0.1111111111111111,
              "#46039f"
             ],
             [
              0.2222222222222222,
              "#7201a8"
             ],
             [
              0.3333333333333333,
              "#9c179e"
             ],
             [
              0.4444444444444444,
              "#bd3786"
             ],
             [
              0.5555555555555556,
              "#d8576b"
             ],
             [
              0.6666666666666666,
              "#ed7953"
             ],
             [
              0.7777777777777778,
              "#fb9f3a"
             ],
             [
              0.8888888888888888,
              "#fdca26"
             ],
             [
              1,
              "#f0f921"
             ]
            ],
            "type": "histogram2d"
           }
          ],
          "histogram2dcontour": [
           {
            "colorbar": {
             "outlinewidth": 0,
             "ticks": ""
            },
            "colorscale": [
             [
              0,
              "#0d0887"
             ],
             [
              0.1111111111111111,
              "#46039f"
             ],
             [
              0.2222222222222222,
              "#7201a8"
             ],
             [
              0.3333333333333333,
              "#9c179e"
             ],
             [
              0.4444444444444444,
              "#bd3786"
             ],
             [
              0.5555555555555556,
              "#d8576b"
             ],
             [
              0.6666666666666666,
              "#ed7953"
             ],
             [
              0.7777777777777778,
              "#fb9f3a"
             ],
             [
              0.8888888888888888,
              "#fdca26"
             ],
             [
              1,
              "#f0f921"
             ]
            ],
            "type": "histogram2dcontour"
           }
          ],
          "mesh3d": [
           {
            "colorbar": {
             "outlinewidth": 0,
             "ticks": ""
            },
            "type": "mesh3d"
           }
          ],
          "parcoords": [
           {
            "line": {
             "colorbar": {
              "outlinewidth": 0,
              "ticks": ""
             }
            },
            "type": "parcoords"
           }
          ],
          "pie": [
           {
            "automargin": true,
            "type": "pie"
           }
          ],
          "scatter": [
           {
            "fillpattern": {
             "fillmode": "overlay",
             "size": 10,
             "solidity": 0.2
            },
            "type": "scatter"
           }
          ],
          "scatter3d": [
           {
            "line": {
             "colorbar": {
              "outlinewidth": 0,
              "ticks": ""
             }
            },
            "marker": {
             "colorbar": {
              "outlinewidth": 0,
              "ticks": ""
             }
            },
            "type": "scatter3d"
           }
          ],
          "scattercarpet": [
           {
            "marker": {
             "colorbar": {
              "outlinewidth": 0,
              "ticks": ""
             }
            },
            "type": "scattercarpet"
           }
          ],
          "scattergeo": [
           {
            "marker": {
             "colorbar": {
              "outlinewidth": 0,
              "ticks": ""
             }
            },
            "type": "scattergeo"
           }
          ],
          "scattergl": [
           {
            "marker": {
             "colorbar": {
              "outlinewidth": 0,
              "ticks": ""
             }
            },
            "type": "scattergl"
           }
          ],
          "scattermapbox": [
           {
            "marker": {
             "colorbar": {
              "outlinewidth": 0,
              "ticks": ""
             }
            },
            "type": "scattermapbox"
           }
          ],
          "scatterpolar": [
           {
            "marker": {
             "colorbar": {
              "outlinewidth": 0,
              "ticks": ""
             }
            },
            "type": "scatterpolar"
           }
          ],
          "scatterpolargl": [
           {
            "marker": {
             "colorbar": {
              "outlinewidth": 0,
              "ticks": ""
             }
            },
            "type": "scatterpolargl"
           }
          ],
          "scatterternary": [
           {
            "marker": {
             "colorbar": {
              "outlinewidth": 0,
              "ticks": ""
             }
            },
            "type": "scatterternary"
           }
          ],
          "surface": [
           {
            "colorbar": {
             "outlinewidth": 0,
             "ticks": ""
            },
            "colorscale": [
             [
              0,
              "#0d0887"
             ],
             [
              0.1111111111111111,
              "#46039f"
             ],
             [
              0.2222222222222222,
              "#7201a8"
             ],
             [
              0.3333333333333333,
              "#9c179e"
             ],
             [
              0.4444444444444444,
              "#bd3786"
             ],
             [
              0.5555555555555556,
              "#d8576b"
             ],
             [
              0.6666666666666666,
              "#ed7953"
             ],
             [
              0.7777777777777778,
              "#fb9f3a"
             ],
             [
              0.8888888888888888,
              "#fdca26"
             ],
             [
              1,
              "#f0f921"
             ]
            ],
            "type": "surface"
           }
          ],
          "table": [
           {
            "cells": {
             "fill": {
              "color": "#EBF0F8"
             },
             "line": {
              "color": "white"
             }
            },
            "header": {
             "fill": {
              "color": "#C8D4E3"
             },
             "line": {
              "color": "white"
             }
            },
            "type": "table"
           }
          ]
         },
         "layout": {
          "annotationdefaults": {
           "arrowcolor": "#2a3f5f",
           "arrowhead": 0,
           "arrowwidth": 1
          },
          "autotypenumbers": "strict",
          "coloraxis": {
           "colorbar": {
            "outlinewidth": 0,
            "ticks": ""
           }
          },
          "colorscale": {
           "diverging": [
            [
             0,
             "#8e0152"
            ],
            [
             0.1,
             "#c51b7d"
            ],
            [
             0.2,
             "#de77ae"
            ],
            [
             0.3,
             "#f1b6da"
            ],
            [
             0.4,
             "#fde0ef"
            ],
            [
             0.5,
             "#f7f7f7"
            ],
            [
             0.6,
             "#e6f5d0"
            ],
            [
             0.7,
             "#b8e186"
            ],
            [
             0.8,
             "#7fbc41"
            ],
            [
             0.9,
             "#4d9221"
            ],
            [
             1,
             "#276419"
            ]
           ],
           "sequential": [
            [
             0,
             "#0d0887"
            ],
            [
             0.1111111111111111,
             "#46039f"
            ],
            [
             0.2222222222222222,
             "#7201a8"
            ],
            [
             0.3333333333333333,
             "#9c179e"
            ],
            [
             0.4444444444444444,
             "#bd3786"
            ],
            [
             0.5555555555555556,
             "#d8576b"
            ],
            [
             0.6666666666666666,
             "#ed7953"
            ],
            [
             0.7777777777777778,
             "#fb9f3a"
            ],
            [
             0.8888888888888888,
             "#fdca26"
            ],
            [
             1,
             "#f0f921"
            ]
           ],
           "sequentialminus": [
            [
             0,
             "#0d0887"
            ],
            [
             0.1111111111111111,
             "#46039f"
            ],
            [
             0.2222222222222222,
             "#7201a8"
            ],
            [
             0.3333333333333333,
             "#9c179e"
            ],
            [
             0.4444444444444444,
             "#bd3786"
            ],
            [
             0.5555555555555556,
             "#d8576b"
            ],
            [
             0.6666666666666666,
             "#ed7953"
            ],
            [
             0.7777777777777778,
             "#fb9f3a"
            ],
            [
             0.8888888888888888,
             "#fdca26"
            ],
            [
             1,
             "#f0f921"
            ]
           ]
          },
          "colorway": [
           "#636efa",
           "#EF553B",
           "#00cc96",
           "#ab63fa",
           "#FFA15A",
           "#19d3f3",
           "#FF6692",
           "#B6E880",
           "#FF97FF",
           "#FECB52"
          ],
          "font": {
           "color": "#2a3f5f"
          },
          "geo": {
           "bgcolor": "white",
           "lakecolor": "white",
           "landcolor": "#E5ECF6",
           "showlakes": true,
           "showland": true,
           "subunitcolor": "white"
          },
          "hoverlabel": {
           "align": "left"
          },
          "hovermode": "closest",
          "mapbox": {
           "style": "light"
          },
          "paper_bgcolor": "white",
          "plot_bgcolor": "#E5ECF6",
          "polar": {
           "angularaxis": {
            "gridcolor": "white",
            "linecolor": "white",
            "ticks": ""
           },
           "bgcolor": "#E5ECF6",
           "radialaxis": {
            "gridcolor": "white",
            "linecolor": "white",
            "ticks": ""
           }
          },
          "scene": {
           "xaxis": {
            "backgroundcolor": "#E5ECF6",
            "gridcolor": "white",
            "gridwidth": 2,
            "linecolor": "white",
            "showbackground": true,
            "ticks": "",
            "zerolinecolor": "white"
           },
           "yaxis": {
            "backgroundcolor": "#E5ECF6",
            "gridcolor": "white",
            "gridwidth": 2,
            "linecolor": "white",
            "showbackground": true,
            "ticks": "",
            "zerolinecolor": "white"
           },
           "zaxis": {
            "backgroundcolor": "#E5ECF6",
            "gridcolor": "white",
            "gridwidth": 2,
            "linecolor": "white",
            "showbackground": true,
            "ticks": "",
            "zerolinecolor": "white"
           }
          },
          "shapedefaults": {
           "line": {
            "color": "#2a3f5f"
           }
          },
          "ternary": {
           "aaxis": {
            "gridcolor": "white",
            "linecolor": "white",
            "ticks": ""
           },
           "baxis": {
            "gridcolor": "white",
            "linecolor": "white",
            "ticks": ""
           },
           "bgcolor": "#E5ECF6",
           "caxis": {
            "gridcolor": "white",
            "linecolor": "white",
            "ticks": ""
           }
          },
          "title": {
           "x": 0.05
          },
          "xaxis": {
           "automargin": true,
           "gridcolor": "white",
           "linecolor": "white",
           "ticks": "",
           "title": {
            "standoff": 15
           },
           "zerolinecolor": "white",
           "zerolinewidth": 2
          },
          "yaxis": {
           "automargin": true,
           "gridcolor": "white",
           "linecolor": "white",
           "ticks": "",
           "title": {
            "standoff": 15
           },
           "zerolinecolor": "white",
           "zerolinewidth": 2
          }
         }
        },
        "title": {
         "font": {
          "color": "#4D5663"
         }
        },
        "xaxis": {
         "gridcolor": "#E1E5ED",
         "showgrid": true,
         "tickfont": {
          "color": "#4D5663"
         },
         "title": {
          "font": {
           "color": "#4D5663"
          },
          "text": ""
         },
         "zerolinecolor": "#E1E5ED"
        },
        "yaxis": {
         "gridcolor": "#E1E5ED",
         "showgrid": true,
         "tickfont": {
          "color": "#4D5663"
         },
         "title": {
          "font": {
           "color": "#4D5663"
          },
          "text": ""
         },
         "zerolinecolor": "#E1E5ED"
        }
       }
      },
      "text/html": [
       "<div>                            <div id=\"4bf00c18-7cbc-4cfa-8945-83ab4999d9f0\" class=\"plotly-graph-div\" style=\"height:525px; width:100%;\"></div>            <script type=\"text/javascript\">                require([\"plotly\"], function(Plotly) {                    window.PLOTLYENV=window.PLOTLYENV || {};\n",
       "                    window.PLOTLYENV.BASE_URL='https://plot.ly';                                    if (document.getElementById(\"4bf00c18-7cbc-4cfa-8945-83ab4999d9f0\")) {                    Plotly.newPlot(                        \"4bf00c18-7cbc-4cfa-8945-83ab4999d9f0\",                        [{\"marker\":{\"color\":\"rgba(55, 128, 191, 0.6)\",\"line\":{\"color\":\"rgba(55, 128, 191, 1.0)\",\"width\":1}},\"name\":\"YTD Total Return\",\"orientation\":\"v\",\"text\":\"\",\"x\":[\"RWEG.DE\",\"BAYGn.DE\",\"IFXGn.DE\",\"ZALG.DE\",\"VNAn.DE\",\"FREG.DE\",\"BASFn.DE\",\"1COV.DE\",\"CONG.DE\",\"DHLn.DE\",\"HNKG_p.DE\",\"EONGn.DE\",\"SY1G.DE\",\"DBKGn.DE\",\"BNRGn.DE\",\"CBKG.DE\",\"SATG_p.DE\",\"DTEGn.DE\",\"ALVG.DE\",\"QIA.DE\",\"ADSGn.DE\",\"DB1Gn.DE\",\"P911_p.DE\",\"BEIG.DE\",\"AIRG.DE\",\"SHLG.DE\",\"PSHG_p.DE\",\"SIEGn.DE\",\"HEIG.DE\",\"BMWG.DE\",\"MRCG.DE\",\"DTGGe.DE\",\"HNRGn.DE\",\"VOWG_p.DE\",\"MTXGn.DE\",\"MUVGn.DE\",\"MBGn.DE\",\"ENR1n.DE\",\"SAPG.DE\",\"RHMG.DE\"],\"y\":[-26.2748907229075,-15.0014867675855,-11.1772486802581,-10.8624708628843,-8.79467414392727,-7.55254720294229,-5.02255022660937,-4.93545937557642,-4.47217888797359,-4.31390034665192,-3.87043645316459,-3.37448559532827,-1.74628663270218,-0.501455838117904,-0.192261476751066,-0.139405202157061,1.20048019030097,1.37931034260259,1.52924157959615,1.6832254954978,2.19374456920338,3.24396783068213,3.25406758335509,3.86882829767961,5.22558538243347,5.58935361172208,5.61312608033526,5.85354783359664,6.39980232278687,6.64814447314883,8.43164469283979,8.49500293883325,9.06148867067211,10.0357781794042,10.2688860391409,12.3700346581694,14.0847322113049,15.7499999987281,24.0321192982232,46.9686411131986],\"type\":\"bar\"}],                        {\"legend\":{\"bgcolor\":\"#F5F6F9\",\"font\":{\"color\":\"#4D5663\"}},\"paper_bgcolor\":\"#F5F6F9\",\"plot_bgcolor\":\"#F5F6F9\",\"template\":{\"data\":{\"barpolar\":[{\"marker\":{\"line\":{\"color\":\"#E5ECF6\",\"width\":0.5},\"pattern\":{\"fillmode\":\"overlay\",\"size\":10,\"solidity\":0.2}},\"type\":\"barpolar\"}],\"bar\":[{\"error_x\":{\"color\":\"#2a3f5f\"},\"error_y\":{\"color\":\"#2a3f5f\"},\"marker\":{\"line\":{\"color\":\"#E5ECF6\",\"width\":0.5},\"pattern\":{\"fillmode\":\"overlay\",\"size\":10,\"solidity\":0.2}},\"type\":\"bar\"}],\"carpet\":[{\"aaxis\":{\"endlinecolor\":\"#2a3f5f\",\"gridcolor\":\"white\",\"linecolor\":\"white\",\"minorgridcolor\":\"white\",\"startlinecolor\":\"#2a3f5f\"},\"baxis\":{\"endlinecolor\":\"#2a3f5f\",\"gridcolor\":\"white\",\"linecolor\":\"white\",\"minorgridcolor\":\"white\",\"startlinecolor\":\"#2a3f5f\"},\"type\":\"carpet\"}],\"choropleth\":[{\"colorbar\":{\"outlinewidth\":0,\"ticks\":\"\"},\"type\":\"choropleth\"}],\"contourcarpet\":[{\"colorbar\":{\"outlinewidth\":0,\"ticks\":\"\"},\"type\":\"contourcarpet\"}],\"contour\":[{\"colorbar\":{\"outlinewidth\":0,\"ticks\":\"\"},\"colorscale\":[[0.0,\"#0d0887\"],[0.1111111111111111,\"#46039f\"],[0.2222222222222222,\"#7201a8\"],[0.3333333333333333,\"#9c179e\"],[0.4444444444444444,\"#bd3786\"],[0.5555555555555556,\"#d8576b\"],[0.6666666666666666,\"#ed7953\"],[0.7777777777777778,\"#fb9f3a\"],[0.8888888888888888,\"#fdca26\"],[1.0,\"#f0f921\"]],\"type\":\"contour\"}],\"heatmapgl\":[{\"colorbar\":{\"outlinewidth\":0,\"ticks\":\"\"},\"colorscale\":[[0.0,\"#0d0887\"],[0.1111111111111111,\"#46039f\"],[0.2222222222222222,\"#7201a8\"],[0.3333333333333333,\"#9c179e\"],[0.4444444444444444,\"#bd3786\"],[0.5555555555555556,\"#d8576b\"],[0.6666666666666666,\"#ed7953\"],[0.7777777777777778,\"#fb9f3a\"],[0.8888888888888888,\"#fdca26\"],[1.0,\"#f0f921\"]],\"type\":\"heatmapgl\"}],\"heatmap\":[{\"colorbar\":{\"outlinewidth\":0,\"ticks\":\"\"},\"colorscale\":[[0.0,\"#0d0887\"],[0.1111111111111111,\"#46039f\"],[0.2222222222222222,\"#7201a8\"],[0.3333333333333333,\"#9c179e\"],[0.4444444444444444,\"#bd3786\"],[0.5555555555555556,\"#d8576b\"],[0.6666666666666666,\"#ed7953\"],[0.7777777777777778,\"#fb9f3a\"],[0.8888888888888888,\"#fdca26\"],[1.0,\"#f0f921\"]],\"type\":\"heatmap\"}],\"histogram2dcontour\":[{\"colorbar\":{\"outlinewidth\":0,\"ticks\":\"\"},\"colorscale\":[[0.0,\"#0d0887\"],[0.1111111111111111,\"#46039f\"],[0.2222222222222222,\"#7201a8\"],[0.3333333333333333,\"#9c179e\"],[0.4444444444444444,\"#bd3786\"],[0.5555555555555556,\"#d8576b\"],[0.6666666666666666,\"#ed7953\"],[0.7777777777777778,\"#fb9f3a\"],[0.8888888888888888,\"#fdca26\"],[1.0,\"#f0f921\"]],\"type\":\"histogram2dcontour\"}],\"histogram2d\":[{\"colorbar\":{\"outlinewidth\":0,\"ticks\":\"\"},\"colorscale\":[[0.0,\"#0d0887\"],[0.1111111111111111,\"#46039f\"],[0.2222222222222222,\"#7201a8\"],[0.3333333333333333,\"#9c179e\"],[0.4444444444444444,\"#bd3786\"],[0.5555555555555556,\"#d8576b\"],[0.6666666666666666,\"#ed7953\"],[0.7777777777777778,\"#fb9f3a\"],[0.8888888888888888,\"#fdca26\"],[1.0,\"#f0f921\"]],\"type\":\"histogram2d\"}],\"histogram\":[{\"marker\":{\"pattern\":{\"fillmode\":\"overlay\",\"size\":10,\"solidity\":0.2}},\"type\":\"histogram\"}],\"mesh3d\":[{\"colorbar\":{\"outlinewidth\":0,\"ticks\":\"\"},\"type\":\"mesh3d\"}],\"parcoords\":[{\"line\":{\"colorbar\":{\"outlinewidth\":0,\"ticks\":\"\"}},\"type\":\"parcoords\"}],\"pie\":[{\"automargin\":true,\"type\":\"pie\"}],\"scatter3d\":[{\"line\":{\"colorbar\":{\"outlinewidth\":0,\"ticks\":\"\"}},\"marker\":{\"colorbar\":{\"outlinewidth\":0,\"ticks\":\"\"}},\"type\":\"scatter3d\"}],\"scattercarpet\":[{\"marker\":{\"colorbar\":{\"outlinewidth\":0,\"ticks\":\"\"}},\"type\":\"scattercarpet\"}],\"scattergeo\":[{\"marker\":{\"colorbar\":{\"outlinewidth\":0,\"ticks\":\"\"}},\"type\":\"scattergeo\"}],\"scattergl\":[{\"marker\":{\"colorbar\":{\"outlinewidth\":0,\"ticks\":\"\"}},\"type\":\"scattergl\"}],\"scattermapbox\":[{\"marker\":{\"colorbar\":{\"outlinewidth\":0,\"ticks\":\"\"}},\"type\":\"scattermapbox\"}],\"scatterpolargl\":[{\"marker\":{\"colorbar\":{\"outlinewidth\":0,\"ticks\":\"\"}},\"type\":\"scatterpolargl\"}],\"scatterpolar\":[{\"marker\":{\"colorbar\":{\"outlinewidth\":0,\"ticks\":\"\"}},\"type\":\"scatterpolar\"}],\"scatter\":[{\"fillpattern\":{\"fillmode\":\"overlay\",\"size\":10,\"solidity\":0.2},\"type\":\"scatter\"}],\"scatterternary\":[{\"marker\":{\"colorbar\":{\"outlinewidth\":0,\"ticks\":\"\"}},\"type\":\"scatterternary\"}],\"surface\":[{\"colorbar\":{\"outlinewidth\":0,\"ticks\":\"\"},\"colorscale\":[[0.0,\"#0d0887\"],[0.1111111111111111,\"#46039f\"],[0.2222222222222222,\"#7201a8\"],[0.3333333333333333,\"#9c179e\"],[0.4444444444444444,\"#bd3786\"],[0.5555555555555556,\"#d8576b\"],[0.6666666666666666,\"#ed7953\"],[0.7777777777777778,\"#fb9f3a\"],[0.8888888888888888,\"#fdca26\"],[1.0,\"#f0f921\"]],\"type\":\"surface\"}],\"table\":[{\"cells\":{\"fill\":{\"color\":\"#EBF0F8\"},\"line\":{\"color\":\"white\"}},\"header\":{\"fill\":{\"color\":\"#C8D4E3\"},\"line\":{\"color\":\"white\"}},\"type\":\"table\"}]},\"layout\":{\"annotationdefaults\":{\"arrowcolor\":\"#2a3f5f\",\"arrowhead\":0,\"arrowwidth\":1},\"autotypenumbers\":\"strict\",\"coloraxis\":{\"colorbar\":{\"outlinewidth\":0,\"ticks\":\"\"}},\"colorscale\":{\"diverging\":[[0,\"#8e0152\"],[0.1,\"#c51b7d\"],[0.2,\"#de77ae\"],[0.3,\"#f1b6da\"],[0.4,\"#fde0ef\"],[0.5,\"#f7f7f7\"],[0.6,\"#e6f5d0\"],[0.7,\"#b8e186\"],[0.8,\"#7fbc41\"],[0.9,\"#4d9221\"],[1,\"#276419\"]],\"sequential\":[[0.0,\"#0d0887\"],[0.1111111111111111,\"#46039f\"],[0.2222222222222222,\"#7201a8\"],[0.3333333333333333,\"#9c179e\"],[0.4444444444444444,\"#bd3786\"],[0.5555555555555556,\"#d8576b\"],[0.6666666666666666,\"#ed7953\"],[0.7777777777777778,\"#fb9f3a\"],[0.8888888888888888,\"#fdca26\"],[1.0,\"#f0f921\"]],\"sequentialminus\":[[0.0,\"#0d0887\"],[0.1111111111111111,\"#46039f\"],[0.2222222222222222,\"#7201a8\"],[0.3333333333333333,\"#9c179e\"],[0.4444444444444444,\"#bd3786\"],[0.5555555555555556,\"#d8576b\"],[0.6666666666666666,\"#ed7953\"],[0.7777777777777778,\"#fb9f3a\"],[0.8888888888888888,\"#fdca26\"],[1.0,\"#f0f921\"]]},\"colorway\":[\"#636efa\",\"#EF553B\",\"#00cc96\",\"#ab63fa\",\"#FFA15A\",\"#19d3f3\",\"#FF6692\",\"#B6E880\",\"#FF97FF\",\"#FECB52\"],\"font\":{\"color\":\"#2a3f5f\"},\"geo\":{\"bgcolor\":\"white\",\"lakecolor\":\"white\",\"landcolor\":\"#E5ECF6\",\"showlakes\":true,\"showland\":true,\"subunitcolor\":\"white\"},\"hoverlabel\":{\"align\":\"left\"},\"hovermode\":\"closest\",\"mapbox\":{\"style\":\"light\"},\"paper_bgcolor\":\"white\",\"plot_bgcolor\":\"#E5ECF6\",\"polar\":{\"angularaxis\":{\"gridcolor\":\"white\",\"linecolor\":\"white\",\"ticks\":\"\"},\"bgcolor\":\"#E5ECF6\",\"radialaxis\":{\"gridcolor\":\"white\",\"linecolor\":\"white\",\"ticks\":\"\"}},\"scene\":{\"xaxis\":{\"backgroundcolor\":\"#E5ECF6\",\"gridcolor\":\"white\",\"gridwidth\":2,\"linecolor\":\"white\",\"showbackground\":true,\"ticks\":\"\",\"zerolinecolor\":\"white\"},\"yaxis\":{\"backgroundcolor\":\"#E5ECF6\",\"gridcolor\":\"white\",\"gridwidth\":2,\"linecolor\":\"white\",\"showbackground\":true,\"ticks\":\"\",\"zerolinecolor\":\"white\"},\"zaxis\":{\"backgroundcolor\":\"#E5ECF6\",\"gridcolor\":\"white\",\"gridwidth\":2,\"linecolor\":\"white\",\"showbackground\":true,\"ticks\":\"\",\"zerolinecolor\":\"white\"}},\"shapedefaults\":{\"line\":{\"color\":\"#2a3f5f\"}},\"ternary\":{\"aaxis\":{\"gridcolor\":\"white\",\"linecolor\":\"white\",\"ticks\":\"\"},\"baxis\":{\"gridcolor\":\"white\",\"linecolor\":\"white\",\"ticks\":\"\"},\"bgcolor\":\"#E5ECF6\",\"caxis\":{\"gridcolor\":\"white\",\"linecolor\":\"white\",\"ticks\":\"\"}},\"title\":{\"x\":0.05},\"xaxis\":{\"automargin\":true,\"gridcolor\":\"white\",\"linecolor\":\"white\",\"ticks\":\"\",\"title\":{\"standoff\":15},\"zerolinecolor\":\"white\",\"zerolinewidth\":2},\"yaxis\":{\"automargin\":true,\"gridcolor\":\"white\",\"linecolor\":\"white\",\"ticks\":\"\",\"title\":{\"standoff\":15},\"zerolinecolor\":\"white\",\"zerolinewidth\":2}}},\"title\":{\"font\":{\"color\":\"#4D5663\"}},\"xaxis\":{\"gridcolor\":\"#E1E5ED\",\"showgrid\":true,\"tickfont\":{\"color\":\"#4D5663\"},\"title\":{\"font\":{\"color\":\"#4D5663\"},\"text\":\"\"},\"zerolinecolor\":\"#E1E5ED\"},\"yaxis\":{\"gridcolor\":\"#E1E5ED\",\"showgrid\":true,\"tickfont\":{\"color\":\"#4D5663\"},\"title\":{\"font\":{\"color\":\"#4D5663\"},\"text\":\"\"},\"zerolinecolor\":\"#E1E5ED\"}},                        {\"showLink\": true, \"linkText\": \"Export to plot.ly\", \"plotlyServerURL\": \"https://plot.ly\", \"responsive\": true}                    ).then(function(){\n",
       "                            \n",
       "var gd = document.getElementById('4bf00c18-7cbc-4cfa-8945-83ab4999d9f0');\n",
       "var x = new MutationObserver(function (mutations, observer) {{\n",
       "        var display = window.getComputedStyle(gd).display;\n",
       "        if (!display || display === 'none') {{\n",
       "            console.log([gd, 'removed!']);\n",
       "            Plotly.purge(gd);\n",
       "            observer.disconnect();\n",
       "        }}\n",
       "}});\n",
       "\n",
       "// Listen for the removal of the full notebook cells\n",
       "var notebookContainer = gd.closest('#notebook-container');\n",
       "if (notebookContainer) {{\n",
       "    x.observe(notebookContainer, {childList: true});\n",
       "}}\n",
       "\n",
       "// Listen for the clearing of the current output cell\n",
       "var outputEl = gd.closest('.output');\n",
       "if (outputEl) {{\n",
       "    x.observe(outputEl, {childList: true});\n",
       "}}\n",
       "\n",
       "                        })                };                });            </script>        </div>"
      ]
     },
     "metadata": {},
     "output_type": "display_data"
    }
   ],
   "source": [
    "dax.set_index('Instrument')['YTD Total Return'].sort_values().iplot(kind='bar', color='blue')"
   ]
  },
  {
   "cell_type": "code",
   "execution_count": 28,
   "id": "b0e8c7cf",
   "metadata": {},
   "outputs": [],
   "source": [
    "f = [[1, 2], [2, 3]]"
   ]
  },
  {
   "cell_type": "code",
   "execution_count": 29,
   "id": "54a33815",
   "metadata": {},
   "outputs": [
    {
     "name": "stdout",
     "output_type": "stream",
     "text": [
      "[[1, 2], [2, 3]]\n"
     ]
    }
   ],
   "source": [
    "print(f)"
   ]
  },
  {
   "cell_type": "code",
   "execution_count": 50,
   "id": "f407c898",
   "metadata": {},
   "outputs": [],
   "source": [
    "XLE= ek.get_data('XLE', ['TR.FundHoldingRIC','TR.FundHoldingName', 'TR.FundPercentageOfFundAssets',\n",
    "                           'TR.FundNumberOfShares', 'TR.FundNumberOfSharesChanged'],\n",
    "            {'Endnum':'5000'})[0]"
   ]
  },
  {
   "cell_type": "code",
   "execution_count": 51,
   "id": "397ab251",
   "metadata": {},
   "outputs": [
    {
     "data": {
      "text/html": [
       "<div>\n",
       "<style scoped>\n",
       "    .dataframe tbody tr th:only-of-type {\n",
       "        vertical-align: middle;\n",
       "    }\n",
       "\n",
       "    .dataframe tbody tr th {\n",
       "        vertical-align: top;\n",
       "    }\n",
       "\n",
       "    .dataframe thead th {\n",
       "        text-align: right;\n",
       "    }\n",
       "</style>\n",
       "<table border=\"1\" class=\"dataframe\">\n",
       "  <thead>\n",
       "    <tr style=\"text-align: right;\">\n",
       "      <th></th>\n",
       "      <th>Instrument</th>\n",
       "      <th>Holding RIC</th>\n",
       "      <th>Holding Name</th>\n",
       "      <th>Percentage of Fund Assets</th>\n",
       "      <th>Number of Shares</th>\n",
       "      <th>Number of Shares Changed</th>\n",
       "    </tr>\n",
       "  </thead>\n",
       "  <tbody>\n",
       "    <tr>\n",
       "      <th>0</th>\n",
       "      <td>XLE</td>\n",
       "      <td>XOM.N</td>\n",
       "      <td>EXXON MOBIL CORP ORD</td>\n",
       "      <td>23.1747</td>\n",
       "      <td>81790606.0</td>\n",
       "      <td>747838.0</td>\n",
       "    </tr>\n",
       "    <tr>\n",
       "      <th>1</th>\n",
       "      <td>XLE</td>\n",
       "      <td>CVX.N</td>\n",
       "      <td>CHEVRON CORP ORD</td>\n",
       "      <td>17.4105</td>\n",
       "      <td>42849825.0</td>\n",
       "      <td>391790.0</td>\n",
       "    </tr>\n",
       "    <tr>\n",
       "      <th>2</th>\n",
       "      <td>XLE</td>\n",
       "      <td>COP.N</td>\n",
       "      <td>CONOCOPHILLIPS ORD</td>\n",
       "      <td>8.9353</td>\n",
       "      <td>28981520.0</td>\n",
       "      <td>264942.0</td>\n",
       "    </tr>\n",
       "    <tr>\n",
       "      <th>3</th>\n",
       "      <td>XLE</td>\n",
       "      <td>EOG.N</td>\n",
       "      <td>EOG RESOURCES INC ORD</td>\n",
       "      <td>4.4636</td>\n",
       "      <td>14233161.0</td>\n",
       "      <td>130068.0</td>\n",
       "    </tr>\n",
       "    <tr>\n",
       "      <th>4</th>\n",
       "      <td>XLE</td>\n",
       "      <td>SLB.N</td>\n",
       "      <td>SCHLUMBERGER NV ORD</td>\n",
       "      <td>4.3814</td>\n",
       "      <td>32644460.0</td>\n",
       "      <td>298466.0</td>\n",
       "    </tr>\n",
       "    <tr>\n",
       "      <th>5</th>\n",
       "      <td>XLE</td>\n",
       "      <td>PSX.N</td>\n",
       "      <td>PHILLIPS 66 ORD</td>\n",
       "      <td>4.3028</td>\n",
       "      <td>10818827.0</td>\n",
       "      <td>98965.0</td>\n",
       "    </tr>\n",
       "    <tr>\n",
       "      <th>6</th>\n",
       "      <td>XLE</td>\n",
       "      <td>MPC.N</td>\n",
       "      <td>MARATHON PETROLEUM CORP ORD</td>\n",
       "      <td>4.2613</td>\n",
       "      <td>9337025.0</td>\n",
       "      <td>85360.0</td>\n",
       "    </tr>\n",
       "    <tr>\n",
       "      <th>7</th>\n",
       "      <td>XLE</td>\n",
       "      <td>PXD.N</td>\n",
       "      <td>PIONEER NATURAL RESOURCES CO ORD</td>\n",
       "      <td>3.634</td>\n",
       "      <td>5737253.0</td>\n",
       "      <td>52504.0</td>\n",
       "    </tr>\n",
       "    <tr>\n",
       "      <th>8</th>\n",
       "      <td>XLE</td>\n",
       "      <td>VLO.N</td>\n",
       "      <td>VALERO ENERGY CORP ORD</td>\n",
       "      <td>3.2048</td>\n",
       "      <td>8371980.0</td>\n",
       "      <td>76611.0</td>\n",
       "    </tr>\n",
       "    <tr>\n",
       "      <th>9</th>\n",
       "      <td>XLE</td>\n",
       "      <td>WMB.N</td>\n",
       "      <td>WILLIAMS COMPANIES INC ORD</td>\n",
       "      <td>2.8575</td>\n",
       "      <td>29914459.0</td>\n",
       "      <td>273551.0</td>\n",
       "    </tr>\n",
       "    <tr>\n",
       "      <th>10</th>\n",
       "      <td>XLE</td>\n",
       "      <td>OKE.N</td>\n",
       "      <td>ONEOK INC ORD</td>\n",
       "      <td>2.6945</td>\n",
       "      <td>14325268.0</td>\n",
       "      <td>130982.0</td>\n",
       "    </tr>\n",
       "    <tr>\n",
       "      <th>11</th>\n",
       "      <td>XLE</td>\n",
       "      <td>HES.N</td>\n",
       "      <td>HESS CORP ORD</td>\n",
       "      <td>2.6328</td>\n",
       "      <td>6797872.0</td>\n",
       "      <td>62133.0</td>\n",
       "    </tr>\n",
       "    <tr>\n",
       "      <th>12</th>\n",
       "      <td>XLE</td>\n",
       "      <td>OXY.N</td>\n",
       "      <td>OCCIDENTAL PETROLEUM CORP ORD</td>\n",
       "      <td>2.5761</td>\n",
       "      <td>16236699.0</td>\n",
       "      <td>148467.0</td>\n",
       "    </tr>\n",
       "    <tr>\n",
       "      <th>13</th>\n",
       "      <td>XLE</td>\n",
       "      <td>KMI.N</td>\n",
       "      <td>KINDER MORGAN INC ORD</td>\n",
       "      <td>2.2175</td>\n",
       "      <td>47553722.0</td>\n",
       "      <td>434772.0</td>\n",
       "    </tr>\n",
       "    <tr>\n",
       "      <th>14</th>\n",
       "      <td>XLE</td>\n",
       "      <td>HAL.N</td>\n",
       "      <td>HALLIBURTON CO ORD</td>\n",
       "      <td>2.1625</td>\n",
       "      <td>22009918.0</td>\n",
       "      <td>201255.0</td>\n",
       "    </tr>\n",
       "    <tr>\n",
       "      <th>15</th>\n",
       "      <td>XLE</td>\n",
       "      <td>BKR.OQ</td>\n",
       "      <td>BAKER HUGHES CO ORD</td>\n",
       "      <td>1.9435</td>\n",
       "      <td>24743956.0</td>\n",
       "      <td>226217.0</td>\n",
       "    </tr>\n",
       "    <tr>\n",
       "      <th>16</th>\n",
       "      <td>XLE</td>\n",
       "      <td>FANG.OQ</td>\n",
       "      <td>DIAMONDBACK ENERGY INC ORD</td>\n",
       "      <td>1.8649</td>\n",
       "      <td>4401392.0</td>\n",
       "      <td>40259.0</td>\n",
       "    </tr>\n",
       "    <tr>\n",
       "      <th>17</th>\n",
       "      <td>XLE</td>\n",
       "      <td>DVN.N</td>\n",
       "      <td>DEVON ENERGY CORP ORD</td>\n",
       "      <td>1.8246</td>\n",
       "      <td>15755239.0</td>\n",
       "      <td>144113.0</td>\n",
       "    </tr>\n",
       "    <tr>\n",
       "      <th>18</th>\n",
       "      <td>XLE</td>\n",
       "      <td>TRGP.N</td>\n",
       "      <td>TARGA RESOURCES CORP ORD</td>\n",
       "      <td>1.2839</td>\n",
       "      <td>5483164.0</td>\n",
       "      <td>50262.0</td>\n",
       "    </tr>\n",
       "    <tr>\n",
       "      <th>19</th>\n",
       "      <td>XLE</td>\n",
       "      <td>CTRA.N</td>\n",
       "      <td>COTERRA ENERGY INC ORD</td>\n",
       "      <td>1.2683</td>\n",
       "      <td>18496916.0</td>\n",
       "      <td>169098.0</td>\n",
       "    </tr>\n",
       "    <tr>\n",
       "      <th>20</th>\n",
       "      <td>XLE</td>\n",
       "      <td>EQT.N</td>\n",
       "      <td>EQT CORP ORD</td>\n",
       "      <td>0.9868</td>\n",
       "      <td>10114969.0</td>\n",
       "      <td>92514.0</td>\n",
       "    </tr>\n",
       "    <tr>\n",
       "      <th>21</th>\n",
       "      <td>XLE</td>\n",
       "      <td>MRO.N</td>\n",
       "      <td>MARATHON OIL CORP ORD</td>\n",
       "      <td>0.9063</td>\n",
       "      <td>14391582.0</td>\n",
       "      <td>131650.0</td>\n",
       "    </tr>\n",
       "    <tr>\n",
       "      <th>22</th>\n",
       "      <td>XLE</td>\n",
       "      <td>APA.OQ</td>\n",
       "      <td>APA CORP (US) ORD</td>\n",
       "      <td>0.6512</td>\n",
       "      <td>7542373.0</td>\n",
       "      <td>68892.0</td>\n",
       "    </tr>\n",
       "    <tr>\n",
       "      <th>23</th>\n",
       "      <td>XLE</td>\n",
       "      <td>XAEH24</td>\n",
       "      <td>EMINI ENRGY H24</td>\n",
       "      <td>0.3364</td>\n",
       "      <td>139200.0</td>\n",
       "      <td>0.0</td>\n",
       "    </tr>\n",
       "    <tr>\n",
       "      <th>24</th>\n",
       "      <td>XLE</td>\n",
       "      <td>LP40098642</td>\n",
       "      <td>STATE STREET INSTITUTIONAL LIQUID RESERVES FD;...</td>\n",
       "      <td>0.2486</td>\n",
       "      <td>90164858.93</td>\n",
       "      <td>-17180758.87</td>\n",
       "    </tr>\n",
       "    <tr>\n",
       "      <th>25</th>\n",
       "      <td>XLE</td>\n",
       "      <td></td>\n",
       "      <td>USD CASH</td>\n",
       "      <td>0.0162</td>\n",
       "      <td>5874190.96</td>\n",
       "      <td>-835200.0</td>\n",
       "    </tr>\n",
       "    <tr>\n",
       "      <th>26</th>\n",
       "      <td>XLE</td>\n",
       "      <td></td>\n",
       "      <td>OTHER ASSETS LESS LIABILITIES</td>\n",
       "      <td>-0.2401</td>\n",
       "      <td>&lt;NA&gt;</td>\n",
       "      <td>&lt;NA&gt;</td>\n",
       "    </tr>\n",
       "  </tbody>\n",
       "</table>\n",
       "</div>"
      ],
      "text/plain": [
       "   Instrument Holding RIC                                       Holding Name   \n",
       "0         XLE       XOM.N                               EXXON MOBIL CORP ORD  \\\n",
       "1         XLE       CVX.N                                   CHEVRON CORP ORD   \n",
       "2         XLE       COP.N                                 CONOCOPHILLIPS ORD   \n",
       "3         XLE       EOG.N                              EOG RESOURCES INC ORD   \n",
       "4         XLE       SLB.N                                SCHLUMBERGER NV ORD   \n",
       "5         XLE       PSX.N                                    PHILLIPS 66 ORD   \n",
       "6         XLE       MPC.N                        MARATHON PETROLEUM CORP ORD   \n",
       "7         XLE       PXD.N                   PIONEER NATURAL RESOURCES CO ORD   \n",
       "8         XLE       VLO.N                             VALERO ENERGY CORP ORD   \n",
       "9         XLE       WMB.N                         WILLIAMS COMPANIES INC ORD   \n",
       "10        XLE       OKE.N                                      ONEOK INC ORD   \n",
       "11        XLE       HES.N                                      HESS CORP ORD   \n",
       "12        XLE       OXY.N                      OCCIDENTAL PETROLEUM CORP ORD   \n",
       "13        XLE       KMI.N                              KINDER MORGAN INC ORD   \n",
       "14        XLE       HAL.N                                 HALLIBURTON CO ORD   \n",
       "15        XLE      BKR.OQ                                BAKER HUGHES CO ORD   \n",
       "16        XLE     FANG.OQ                         DIAMONDBACK ENERGY INC ORD   \n",
       "17        XLE       DVN.N                              DEVON ENERGY CORP ORD   \n",
       "18        XLE      TRGP.N                           TARGA RESOURCES CORP ORD   \n",
       "19        XLE      CTRA.N                             COTERRA ENERGY INC ORD   \n",
       "20        XLE       EQT.N                                       EQT CORP ORD   \n",
       "21        XLE       MRO.N                              MARATHON OIL CORP ORD   \n",
       "22        XLE      APA.OQ                                  APA CORP (US) ORD   \n",
       "23        XLE      XAEH24                                    EMINI ENRGY H24   \n",
       "24        XLE  LP40098642  STATE STREET INSTITUTIONAL LIQUID RESERVES FD;...   \n",
       "25        XLE                                                       USD CASH   \n",
       "26        XLE                                  OTHER ASSETS LESS LIABILITIES   \n",
       "\n",
       "    Percentage of Fund Assets  Number of Shares  Number of Shares Changed  \n",
       "0                     23.1747        81790606.0                  747838.0  \n",
       "1                     17.4105        42849825.0                  391790.0  \n",
       "2                      8.9353        28981520.0                  264942.0  \n",
       "3                      4.4636        14233161.0                  130068.0  \n",
       "4                      4.3814        32644460.0                  298466.0  \n",
       "5                      4.3028        10818827.0                   98965.0  \n",
       "6                      4.2613         9337025.0                   85360.0  \n",
       "7                       3.634         5737253.0                   52504.0  \n",
       "8                      3.2048         8371980.0                   76611.0  \n",
       "9                      2.8575        29914459.0                  273551.0  \n",
       "10                     2.6945        14325268.0                  130982.0  \n",
       "11                     2.6328         6797872.0                   62133.0  \n",
       "12                     2.5761        16236699.0                  148467.0  \n",
       "13                     2.2175        47553722.0                  434772.0  \n",
       "14                     2.1625        22009918.0                  201255.0  \n",
       "15                     1.9435        24743956.0                  226217.0  \n",
       "16                     1.8649         4401392.0                   40259.0  \n",
       "17                     1.8246        15755239.0                  144113.0  \n",
       "18                     1.2839         5483164.0                   50262.0  \n",
       "19                     1.2683        18496916.0                  169098.0  \n",
       "20                     0.9868        10114969.0                   92514.0  \n",
       "21                     0.9063        14391582.0                  131650.0  \n",
       "22                     0.6512         7542373.0                   68892.0  \n",
       "23                     0.3364          139200.0                       0.0  \n",
       "24                     0.2486       90164858.93              -17180758.87  \n",
       "25                     0.0162        5874190.96                 -835200.0  \n",
       "26                    -0.2401              <NA>                      <NA>  "
      ]
     },
     "execution_count": 51,
     "metadata": {},
     "output_type": "execute_result"
    }
   ],
   "source": [
    "XLE"
   ]
  },
  {
   "cell_type": "code",
   "execution_count": 32,
   "id": "cd6ecd3e",
   "metadata": {},
   "outputs": [
    {
     "data": {
      "text/plain": [
       "Holding RIC\n",
       "XOM.N          81790606.0\n",
       "CVX.N          42849825.0\n",
       "COP.N          28981520.0\n",
       "EOG.N          14233161.0\n",
       "SLB.N          32644460.0\n",
       "PSX.N          10818827.0\n",
       "MPC.N           9337025.0\n",
       "PXD.N           5737253.0\n",
       "VLO.N           8371980.0\n",
       "WMB.N          29914459.0\n",
       "OKE.N          14325268.0\n",
       "HES.N           6797872.0\n",
       "OXY.N          16236699.0\n",
       "KMI.N          47553722.0\n",
       "HAL.N          22009918.0\n",
       "BKR.OQ         24743956.0\n",
       "FANG.OQ         4401392.0\n",
       "DVN.N          15755239.0\n",
       "TRGP.N          5483164.0\n",
       "CTRA.N         18496916.0\n",
       "EQT.N          10114969.0\n",
       "MRO.N          14391582.0\n",
       "APA.OQ          7542373.0\n",
       "XAEH24           139200.0\n",
       "LP40098642    90164858.93\n",
       "               5874190.96\n",
       "                     <NA>\n",
       "Name: Number of Shares, dtype: Float64"
      ]
     },
     "execution_count": 32,
     "metadata": {},
     "output_type": "execute_result"
    }
   ],
   "source": [
    "XLE.set_index('Holding RIC')['Number of Shares']"
   ]
  },
  {
   "cell_type": "code",
   "execution_count": 33,
   "id": "fa606808",
   "metadata": {},
   "outputs": [
    {
     "data": {
      "application/vnd.plotly.v1+json": {
       "config": {
        "linkText": "Export to plot.ly",
        "plotlyServerURL": "https://plot.ly",
        "showLink": true
       },
       "data": [
        {
         "marker": {
          "color": "rgba(55, 128, 191, 0.6)",
          "line": {
           "color": "rgba(55, 128, 191, 1.0)",
           "width": 1
          }
         },
         "name": "Number of Shares",
         "orientation": "v",
         "text": "",
         "type": "bar",
         "x": [
          "XAEH24",
          "FANG.OQ",
          "TRGP.N",
          "PXD.N",
          "HES.N",
          "APA.OQ",
          "VLO.N",
          "MPC.N",
          "EQT.N",
          "PSX.N",
          "EOG.N",
          "OKE.N",
          "MRO.N",
          "DVN.N",
          "OXY.N",
          "CTRA.N",
          "HAL.N",
          "BKR.OQ",
          "COP.N",
          "WMB.N",
          "SLB.N",
          "CVX.N",
          "KMI.N",
          "XOM.N",
          "LP40098642"
         ],
         "y": [
          139200,
          4401392,
          5483164,
          5737253,
          6797872,
          7542373,
          8371980,
          9337025,
          10114969,
          10818827,
          14233161,
          14325268,
          14391582,
          15755239,
          16236699,
          18496916,
          22009918,
          24743956,
          28981520,
          29914459,
          32644460,
          42849825,
          47553722,
          81790606,
          90164858.93
         ]
        }
       ],
       "layout": {
        "legend": {
         "bgcolor": "#F5F6F9",
         "font": {
          "color": "#4D5663"
         }
        },
        "paper_bgcolor": "#F5F6F9",
        "plot_bgcolor": "#F5F6F9",
        "template": {
         "data": {
          "bar": [
           {
            "error_x": {
             "color": "#2a3f5f"
            },
            "error_y": {
             "color": "#2a3f5f"
            },
            "marker": {
             "line": {
              "color": "#E5ECF6",
              "width": 0.5
             },
             "pattern": {
              "fillmode": "overlay",
              "size": 10,
              "solidity": 0.2
             }
            },
            "type": "bar"
           }
          ],
          "barpolar": [
           {
            "marker": {
             "line": {
              "color": "#E5ECF6",
              "width": 0.5
             },
             "pattern": {
              "fillmode": "overlay",
              "size": 10,
              "solidity": 0.2
             }
            },
            "type": "barpolar"
           }
          ],
          "carpet": [
           {
            "aaxis": {
             "endlinecolor": "#2a3f5f",
             "gridcolor": "white",
             "linecolor": "white",
             "minorgridcolor": "white",
             "startlinecolor": "#2a3f5f"
            },
            "baxis": {
             "endlinecolor": "#2a3f5f",
             "gridcolor": "white",
             "linecolor": "white",
             "minorgridcolor": "white",
             "startlinecolor": "#2a3f5f"
            },
            "type": "carpet"
           }
          ],
          "choropleth": [
           {
            "colorbar": {
             "outlinewidth": 0,
             "ticks": ""
            },
            "type": "choropleth"
           }
          ],
          "contour": [
           {
            "colorbar": {
             "outlinewidth": 0,
             "ticks": ""
            },
            "colorscale": [
             [
              0,
              "#0d0887"
             ],
             [
              0.1111111111111111,
              "#46039f"
             ],
             [
              0.2222222222222222,
              "#7201a8"
             ],
             [
              0.3333333333333333,
              "#9c179e"
             ],
             [
              0.4444444444444444,
              "#bd3786"
             ],
             [
              0.5555555555555556,
              "#d8576b"
             ],
             [
              0.6666666666666666,
              "#ed7953"
             ],
             [
              0.7777777777777778,
              "#fb9f3a"
             ],
             [
              0.8888888888888888,
              "#fdca26"
             ],
             [
              1,
              "#f0f921"
             ]
            ],
            "type": "contour"
           }
          ],
          "contourcarpet": [
           {
            "colorbar": {
             "outlinewidth": 0,
             "ticks": ""
            },
            "type": "contourcarpet"
           }
          ],
          "heatmap": [
           {
            "colorbar": {
             "outlinewidth": 0,
             "ticks": ""
            },
            "colorscale": [
             [
              0,
              "#0d0887"
             ],
             [
              0.1111111111111111,
              "#46039f"
             ],
             [
              0.2222222222222222,
              "#7201a8"
             ],
             [
              0.3333333333333333,
              "#9c179e"
             ],
             [
              0.4444444444444444,
              "#bd3786"
             ],
             [
              0.5555555555555556,
              "#d8576b"
             ],
             [
              0.6666666666666666,
              "#ed7953"
             ],
             [
              0.7777777777777778,
              "#fb9f3a"
             ],
             [
              0.8888888888888888,
              "#fdca26"
             ],
             [
              1,
              "#f0f921"
             ]
            ],
            "type": "heatmap"
           }
          ],
          "heatmapgl": [
           {
            "colorbar": {
             "outlinewidth": 0,
             "ticks": ""
            },
            "colorscale": [
             [
              0,
              "#0d0887"
             ],
             [
              0.1111111111111111,
              "#46039f"
             ],
             [
              0.2222222222222222,
              "#7201a8"
             ],
             [
              0.3333333333333333,
              "#9c179e"
             ],
             [
              0.4444444444444444,
              "#bd3786"
             ],
             [
              0.5555555555555556,
              "#d8576b"
             ],
             [
              0.6666666666666666,
              "#ed7953"
             ],
             [
              0.7777777777777778,
              "#fb9f3a"
             ],
             [
              0.8888888888888888,
              "#fdca26"
             ],
             [
              1,
              "#f0f921"
             ]
            ],
            "type": "heatmapgl"
           }
          ],
          "histogram": [
           {
            "marker": {
             "pattern": {
              "fillmode": "overlay",
              "size": 10,
              "solidity": 0.2
             }
            },
            "type": "histogram"
           }
          ],
          "histogram2d": [
           {
            "colorbar": {
             "outlinewidth": 0,
             "ticks": ""
            },
            "colorscale": [
             [
              0,
              "#0d0887"
             ],
             [
              0.1111111111111111,
              "#46039f"
             ],
             [
              0.2222222222222222,
              "#7201a8"
             ],
             [
              0.3333333333333333,
              "#9c179e"
             ],
             [
              0.4444444444444444,
              "#bd3786"
             ],
             [
              0.5555555555555556,
              "#d8576b"
             ],
             [
              0.6666666666666666,
              "#ed7953"
             ],
             [
              0.7777777777777778,
              "#fb9f3a"
             ],
             [
              0.8888888888888888,
              "#fdca26"
             ],
             [
              1,
              "#f0f921"
             ]
            ],
            "type": "histogram2d"
           }
          ],
          "histogram2dcontour": [
           {
            "colorbar": {
             "outlinewidth": 0,
             "ticks": ""
            },
            "colorscale": [
             [
              0,
              "#0d0887"
             ],
             [
              0.1111111111111111,
              "#46039f"
             ],
             [
              0.2222222222222222,
              "#7201a8"
             ],
             [
              0.3333333333333333,
              "#9c179e"
             ],
             [
              0.4444444444444444,
              "#bd3786"
             ],
             [
              0.5555555555555556,
              "#d8576b"
             ],
             [
              0.6666666666666666,
              "#ed7953"
             ],
             [
              0.7777777777777778,
              "#fb9f3a"
             ],
             [
              0.8888888888888888,
              "#fdca26"
             ],
             [
              1,
              "#f0f921"
             ]
            ],
            "type": "histogram2dcontour"
           }
          ],
          "mesh3d": [
           {
            "colorbar": {
             "outlinewidth": 0,
             "ticks": ""
            },
            "type": "mesh3d"
           }
          ],
          "parcoords": [
           {
            "line": {
             "colorbar": {
              "outlinewidth": 0,
              "ticks": ""
             }
            },
            "type": "parcoords"
           }
          ],
          "pie": [
           {
            "automargin": true,
            "type": "pie"
           }
          ],
          "scatter": [
           {
            "fillpattern": {
             "fillmode": "overlay",
             "size": 10,
             "solidity": 0.2
            },
            "type": "scatter"
           }
          ],
          "scatter3d": [
           {
            "line": {
             "colorbar": {
              "outlinewidth": 0,
              "ticks": ""
             }
            },
            "marker": {
             "colorbar": {
              "outlinewidth": 0,
              "ticks": ""
             }
            },
            "type": "scatter3d"
           }
          ],
          "scattercarpet": [
           {
            "marker": {
             "colorbar": {
              "outlinewidth": 0,
              "ticks": ""
             }
            },
            "type": "scattercarpet"
           }
          ],
          "scattergeo": [
           {
            "marker": {
             "colorbar": {
              "outlinewidth": 0,
              "ticks": ""
             }
            },
            "type": "scattergeo"
           }
          ],
          "scattergl": [
           {
            "marker": {
             "colorbar": {
              "outlinewidth": 0,
              "ticks": ""
             }
            },
            "type": "scattergl"
           }
          ],
          "scattermapbox": [
           {
            "marker": {
             "colorbar": {
              "outlinewidth": 0,
              "ticks": ""
             }
            },
            "type": "scattermapbox"
           }
          ],
          "scatterpolar": [
           {
            "marker": {
             "colorbar": {
              "outlinewidth": 0,
              "ticks": ""
             }
            },
            "type": "scatterpolar"
           }
          ],
          "scatterpolargl": [
           {
            "marker": {
             "colorbar": {
              "outlinewidth": 0,
              "ticks": ""
             }
            },
            "type": "scatterpolargl"
           }
          ],
          "scatterternary": [
           {
            "marker": {
             "colorbar": {
              "outlinewidth": 0,
              "ticks": ""
             }
            },
            "type": "scatterternary"
           }
          ],
          "surface": [
           {
            "colorbar": {
             "outlinewidth": 0,
             "ticks": ""
            },
            "colorscale": [
             [
              0,
              "#0d0887"
             ],
             [
              0.1111111111111111,
              "#46039f"
             ],
             [
              0.2222222222222222,
              "#7201a8"
             ],
             [
              0.3333333333333333,
              "#9c179e"
             ],
             [
              0.4444444444444444,
              "#bd3786"
             ],
             [
              0.5555555555555556,
              "#d8576b"
             ],
             [
              0.6666666666666666,
              "#ed7953"
             ],
             [
              0.7777777777777778,
              "#fb9f3a"
             ],
             [
              0.8888888888888888,
              "#fdca26"
             ],
             [
              1,
              "#f0f921"
             ]
            ],
            "type": "surface"
           }
          ],
          "table": [
           {
            "cells": {
             "fill": {
              "color": "#EBF0F8"
             },
             "line": {
              "color": "white"
             }
            },
            "header": {
             "fill": {
              "color": "#C8D4E3"
             },
             "line": {
              "color": "white"
             }
            },
            "type": "table"
           }
          ]
         },
         "layout": {
          "annotationdefaults": {
           "arrowcolor": "#2a3f5f",
           "arrowhead": 0,
           "arrowwidth": 1
          },
          "autotypenumbers": "strict",
          "coloraxis": {
           "colorbar": {
            "outlinewidth": 0,
            "ticks": ""
           }
          },
          "colorscale": {
           "diverging": [
            [
             0,
             "#8e0152"
            ],
            [
             0.1,
             "#c51b7d"
            ],
            [
             0.2,
             "#de77ae"
            ],
            [
             0.3,
             "#f1b6da"
            ],
            [
             0.4,
             "#fde0ef"
            ],
            [
             0.5,
             "#f7f7f7"
            ],
            [
             0.6,
             "#e6f5d0"
            ],
            [
             0.7,
             "#b8e186"
            ],
            [
             0.8,
             "#7fbc41"
            ],
            [
             0.9,
             "#4d9221"
            ],
            [
             1,
             "#276419"
            ]
           ],
           "sequential": [
            [
             0,
             "#0d0887"
            ],
            [
             0.1111111111111111,
             "#46039f"
            ],
            [
             0.2222222222222222,
             "#7201a8"
            ],
            [
             0.3333333333333333,
             "#9c179e"
            ],
            [
             0.4444444444444444,
             "#bd3786"
            ],
            [
             0.5555555555555556,
             "#d8576b"
            ],
            [
             0.6666666666666666,
             "#ed7953"
            ],
            [
             0.7777777777777778,
             "#fb9f3a"
            ],
            [
             0.8888888888888888,
             "#fdca26"
            ],
            [
             1,
             "#f0f921"
            ]
           ],
           "sequentialminus": [
            [
             0,
             "#0d0887"
            ],
            [
             0.1111111111111111,
             "#46039f"
            ],
            [
             0.2222222222222222,
             "#7201a8"
            ],
            [
             0.3333333333333333,
             "#9c179e"
            ],
            [
             0.4444444444444444,
             "#bd3786"
            ],
            [
             0.5555555555555556,
             "#d8576b"
            ],
            [
             0.6666666666666666,
             "#ed7953"
            ],
            [
             0.7777777777777778,
             "#fb9f3a"
            ],
            [
             0.8888888888888888,
             "#fdca26"
            ],
            [
             1,
             "#f0f921"
            ]
           ]
          },
          "colorway": [
           "#636efa",
           "#EF553B",
           "#00cc96",
           "#ab63fa",
           "#FFA15A",
           "#19d3f3",
           "#FF6692",
           "#B6E880",
           "#FF97FF",
           "#FECB52"
          ],
          "font": {
           "color": "#2a3f5f"
          },
          "geo": {
           "bgcolor": "white",
           "lakecolor": "white",
           "landcolor": "#E5ECF6",
           "showlakes": true,
           "showland": true,
           "subunitcolor": "white"
          },
          "hoverlabel": {
           "align": "left"
          },
          "hovermode": "closest",
          "mapbox": {
           "style": "light"
          },
          "paper_bgcolor": "white",
          "plot_bgcolor": "#E5ECF6",
          "polar": {
           "angularaxis": {
            "gridcolor": "white",
            "linecolor": "white",
            "ticks": ""
           },
           "bgcolor": "#E5ECF6",
           "radialaxis": {
            "gridcolor": "white",
            "linecolor": "white",
            "ticks": ""
           }
          },
          "scene": {
           "xaxis": {
            "backgroundcolor": "#E5ECF6",
            "gridcolor": "white",
            "gridwidth": 2,
            "linecolor": "white",
            "showbackground": true,
            "ticks": "",
            "zerolinecolor": "white"
           },
           "yaxis": {
            "backgroundcolor": "#E5ECF6",
            "gridcolor": "white",
            "gridwidth": 2,
            "linecolor": "white",
            "showbackground": true,
            "ticks": "",
            "zerolinecolor": "white"
           },
           "zaxis": {
            "backgroundcolor": "#E5ECF6",
            "gridcolor": "white",
            "gridwidth": 2,
            "linecolor": "white",
            "showbackground": true,
            "ticks": "",
            "zerolinecolor": "white"
           }
          },
          "shapedefaults": {
           "line": {
            "color": "#2a3f5f"
           }
          },
          "ternary": {
           "aaxis": {
            "gridcolor": "white",
            "linecolor": "white",
            "ticks": ""
           },
           "baxis": {
            "gridcolor": "white",
            "linecolor": "white",
            "ticks": ""
           },
           "bgcolor": "#E5ECF6",
           "caxis": {
            "gridcolor": "white",
            "linecolor": "white",
            "ticks": ""
           }
          },
          "title": {
           "x": 0.05
          },
          "xaxis": {
           "automargin": true,
           "gridcolor": "white",
           "linecolor": "white",
           "ticks": "",
           "title": {
            "standoff": 15
           },
           "zerolinecolor": "white",
           "zerolinewidth": 2
          },
          "yaxis": {
           "automargin": true,
           "gridcolor": "white",
           "linecolor": "white",
           "ticks": "",
           "title": {
            "standoff": 15
           },
           "zerolinecolor": "white",
           "zerolinewidth": 2
          }
         }
        },
        "title": {
         "font": {
          "color": "#4D5663"
         }
        },
        "xaxis": {
         "gridcolor": "#E1E5ED",
         "showgrid": true,
         "tickfont": {
          "color": "#4D5663"
         },
         "title": {
          "font": {
           "color": "#4D5663"
          },
          "text": ""
         },
         "zerolinecolor": "#E1E5ED"
        },
        "yaxis": {
         "gridcolor": "#E1E5ED",
         "showgrid": true,
         "tickfont": {
          "color": "#4D5663"
         },
         "title": {
          "font": {
           "color": "#4D5663"
          },
          "text": ""
         },
         "zerolinecolor": "#E1E5ED"
        }
       }
      },
      "text/html": [
       "<div>                            <div id=\"4c1729c1-8769-4507-81eb-6dee7b77824f\" class=\"plotly-graph-div\" style=\"height:525px; width:100%;\"></div>            <script type=\"text/javascript\">                require([\"plotly\"], function(Plotly) {                    window.PLOTLYENV=window.PLOTLYENV || {};\n",
       "                    window.PLOTLYENV.BASE_URL='https://plot.ly';                                    if (document.getElementById(\"4c1729c1-8769-4507-81eb-6dee7b77824f\")) {                    Plotly.newPlot(                        \"4c1729c1-8769-4507-81eb-6dee7b77824f\",                        [{\"marker\":{\"color\":\"rgba(55, 128, 191, 0.6)\",\"line\":{\"color\":\"rgba(55, 128, 191, 1.0)\",\"width\":1}},\"name\":\"Number of Shares\",\"orientation\":\"v\",\"text\":\"\",\"x\":[\"XAEH24\",\"FANG.OQ\",\"TRGP.N\",\"PXD.N\",\"HES.N\",\"APA.OQ\",\"VLO.N\",\"MPC.N\",\"EQT.N\",\"PSX.N\",\"EOG.N\",\"OKE.N\",\"MRO.N\",\"DVN.N\",\"OXY.N\",\"CTRA.N\",\"HAL.N\",\"BKR.OQ\",\"COP.N\",\"WMB.N\",\"SLB.N\",\"CVX.N\",\"KMI.N\",\"XOM.N\",\"LP40098642\"],\"y\":[139200.0,4401392.0,5483164.0,5737253.0,6797872.0,7542373.0,8371980.0,9337025.0,10114969.0,10818827.0,14233161.0,14325268.0,14391582.0,15755239.0,16236699.0,18496916.0,22009918.0,24743956.0,28981520.0,29914459.0,32644460.0,42849825.0,47553722.0,81790606.0,90164858.93],\"type\":\"bar\"}],                        {\"legend\":{\"bgcolor\":\"#F5F6F9\",\"font\":{\"color\":\"#4D5663\"}},\"paper_bgcolor\":\"#F5F6F9\",\"plot_bgcolor\":\"#F5F6F9\",\"template\":{\"data\":{\"barpolar\":[{\"marker\":{\"line\":{\"color\":\"#E5ECF6\",\"width\":0.5},\"pattern\":{\"fillmode\":\"overlay\",\"size\":10,\"solidity\":0.2}},\"type\":\"barpolar\"}],\"bar\":[{\"error_x\":{\"color\":\"#2a3f5f\"},\"error_y\":{\"color\":\"#2a3f5f\"},\"marker\":{\"line\":{\"color\":\"#E5ECF6\",\"width\":0.5},\"pattern\":{\"fillmode\":\"overlay\",\"size\":10,\"solidity\":0.2}},\"type\":\"bar\"}],\"carpet\":[{\"aaxis\":{\"endlinecolor\":\"#2a3f5f\",\"gridcolor\":\"white\",\"linecolor\":\"white\",\"minorgridcolor\":\"white\",\"startlinecolor\":\"#2a3f5f\"},\"baxis\":{\"endlinecolor\":\"#2a3f5f\",\"gridcolor\":\"white\",\"linecolor\":\"white\",\"minorgridcolor\":\"white\",\"startlinecolor\":\"#2a3f5f\"},\"type\":\"carpet\"}],\"choropleth\":[{\"colorbar\":{\"outlinewidth\":0,\"ticks\":\"\"},\"type\":\"choropleth\"}],\"contourcarpet\":[{\"colorbar\":{\"outlinewidth\":0,\"ticks\":\"\"},\"type\":\"contourcarpet\"}],\"contour\":[{\"colorbar\":{\"outlinewidth\":0,\"ticks\":\"\"},\"colorscale\":[[0.0,\"#0d0887\"],[0.1111111111111111,\"#46039f\"],[0.2222222222222222,\"#7201a8\"],[0.3333333333333333,\"#9c179e\"],[0.4444444444444444,\"#bd3786\"],[0.5555555555555556,\"#d8576b\"],[0.6666666666666666,\"#ed7953\"],[0.7777777777777778,\"#fb9f3a\"],[0.8888888888888888,\"#fdca26\"],[1.0,\"#f0f921\"]],\"type\":\"contour\"}],\"heatmapgl\":[{\"colorbar\":{\"outlinewidth\":0,\"ticks\":\"\"},\"colorscale\":[[0.0,\"#0d0887\"],[0.1111111111111111,\"#46039f\"],[0.2222222222222222,\"#7201a8\"],[0.3333333333333333,\"#9c179e\"],[0.4444444444444444,\"#bd3786\"],[0.5555555555555556,\"#d8576b\"],[0.6666666666666666,\"#ed7953\"],[0.7777777777777778,\"#fb9f3a\"],[0.8888888888888888,\"#fdca26\"],[1.0,\"#f0f921\"]],\"type\":\"heatmapgl\"}],\"heatmap\":[{\"colorbar\":{\"outlinewidth\":0,\"ticks\":\"\"},\"colorscale\":[[0.0,\"#0d0887\"],[0.1111111111111111,\"#46039f\"],[0.2222222222222222,\"#7201a8\"],[0.3333333333333333,\"#9c179e\"],[0.4444444444444444,\"#bd3786\"],[0.5555555555555556,\"#d8576b\"],[0.6666666666666666,\"#ed7953\"],[0.7777777777777778,\"#fb9f3a\"],[0.8888888888888888,\"#fdca26\"],[1.0,\"#f0f921\"]],\"type\":\"heatmap\"}],\"histogram2dcontour\":[{\"colorbar\":{\"outlinewidth\":0,\"ticks\":\"\"},\"colorscale\":[[0.0,\"#0d0887\"],[0.1111111111111111,\"#46039f\"],[0.2222222222222222,\"#7201a8\"],[0.3333333333333333,\"#9c179e\"],[0.4444444444444444,\"#bd3786\"],[0.5555555555555556,\"#d8576b\"],[0.6666666666666666,\"#ed7953\"],[0.7777777777777778,\"#fb9f3a\"],[0.8888888888888888,\"#fdca26\"],[1.0,\"#f0f921\"]],\"type\":\"histogram2dcontour\"}],\"histogram2d\":[{\"colorbar\":{\"outlinewidth\":0,\"ticks\":\"\"},\"colorscale\":[[0.0,\"#0d0887\"],[0.1111111111111111,\"#46039f\"],[0.2222222222222222,\"#7201a8\"],[0.3333333333333333,\"#9c179e\"],[0.4444444444444444,\"#bd3786\"],[0.5555555555555556,\"#d8576b\"],[0.6666666666666666,\"#ed7953\"],[0.7777777777777778,\"#fb9f3a\"],[0.8888888888888888,\"#fdca26\"],[1.0,\"#f0f921\"]],\"type\":\"histogram2d\"}],\"histogram\":[{\"marker\":{\"pattern\":{\"fillmode\":\"overlay\",\"size\":10,\"solidity\":0.2}},\"type\":\"histogram\"}],\"mesh3d\":[{\"colorbar\":{\"outlinewidth\":0,\"ticks\":\"\"},\"type\":\"mesh3d\"}],\"parcoords\":[{\"line\":{\"colorbar\":{\"outlinewidth\":0,\"ticks\":\"\"}},\"type\":\"parcoords\"}],\"pie\":[{\"automargin\":true,\"type\":\"pie\"}],\"scatter3d\":[{\"line\":{\"colorbar\":{\"outlinewidth\":0,\"ticks\":\"\"}},\"marker\":{\"colorbar\":{\"outlinewidth\":0,\"ticks\":\"\"}},\"type\":\"scatter3d\"}],\"scattercarpet\":[{\"marker\":{\"colorbar\":{\"outlinewidth\":0,\"ticks\":\"\"}},\"type\":\"scattercarpet\"}],\"scattergeo\":[{\"marker\":{\"colorbar\":{\"outlinewidth\":0,\"ticks\":\"\"}},\"type\":\"scattergeo\"}],\"scattergl\":[{\"marker\":{\"colorbar\":{\"outlinewidth\":0,\"ticks\":\"\"}},\"type\":\"scattergl\"}],\"scattermapbox\":[{\"marker\":{\"colorbar\":{\"outlinewidth\":0,\"ticks\":\"\"}},\"type\":\"scattermapbox\"}],\"scatterpolargl\":[{\"marker\":{\"colorbar\":{\"outlinewidth\":0,\"ticks\":\"\"}},\"type\":\"scatterpolargl\"}],\"scatterpolar\":[{\"marker\":{\"colorbar\":{\"outlinewidth\":0,\"ticks\":\"\"}},\"type\":\"scatterpolar\"}],\"scatter\":[{\"fillpattern\":{\"fillmode\":\"overlay\",\"size\":10,\"solidity\":0.2},\"type\":\"scatter\"}],\"scatterternary\":[{\"marker\":{\"colorbar\":{\"outlinewidth\":0,\"ticks\":\"\"}},\"type\":\"scatterternary\"}],\"surface\":[{\"colorbar\":{\"outlinewidth\":0,\"ticks\":\"\"},\"colorscale\":[[0.0,\"#0d0887\"],[0.1111111111111111,\"#46039f\"],[0.2222222222222222,\"#7201a8\"],[0.3333333333333333,\"#9c179e\"],[0.4444444444444444,\"#bd3786\"],[0.5555555555555556,\"#d8576b\"],[0.6666666666666666,\"#ed7953\"],[0.7777777777777778,\"#fb9f3a\"],[0.8888888888888888,\"#fdca26\"],[1.0,\"#f0f921\"]],\"type\":\"surface\"}],\"table\":[{\"cells\":{\"fill\":{\"color\":\"#EBF0F8\"},\"line\":{\"color\":\"white\"}},\"header\":{\"fill\":{\"color\":\"#C8D4E3\"},\"line\":{\"color\":\"white\"}},\"type\":\"table\"}]},\"layout\":{\"annotationdefaults\":{\"arrowcolor\":\"#2a3f5f\",\"arrowhead\":0,\"arrowwidth\":1},\"autotypenumbers\":\"strict\",\"coloraxis\":{\"colorbar\":{\"outlinewidth\":0,\"ticks\":\"\"}},\"colorscale\":{\"diverging\":[[0,\"#8e0152\"],[0.1,\"#c51b7d\"],[0.2,\"#de77ae\"],[0.3,\"#f1b6da\"],[0.4,\"#fde0ef\"],[0.5,\"#f7f7f7\"],[0.6,\"#e6f5d0\"],[0.7,\"#b8e186\"],[0.8,\"#7fbc41\"],[0.9,\"#4d9221\"],[1,\"#276419\"]],\"sequential\":[[0.0,\"#0d0887\"],[0.1111111111111111,\"#46039f\"],[0.2222222222222222,\"#7201a8\"],[0.3333333333333333,\"#9c179e\"],[0.4444444444444444,\"#bd3786\"],[0.5555555555555556,\"#d8576b\"],[0.6666666666666666,\"#ed7953\"],[0.7777777777777778,\"#fb9f3a\"],[0.8888888888888888,\"#fdca26\"],[1.0,\"#f0f921\"]],\"sequentialminus\":[[0.0,\"#0d0887\"],[0.1111111111111111,\"#46039f\"],[0.2222222222222222,\"#7201a8\"],[0.3333333333333333,\"#9c179e\"],[0.4444444444444444,\"#bd3786\"],[0.5555555555555556,\"#d8576b\"],[0.6666666666666666,\"#ed7953\"],[0.7777777777777778,\"#fb9f3a\"],[0.8888888888888888,\"#fdca26\"],[1.0,\"#f0f921\"]]},\"colorway\":[\"#636efa\",\"#EF553B\",\"#00cc96\",\"#ab63fa\",\"#FFA15A\",\"#19d3f3\",\"#FF6692\",\"#B6E880\",\"#FF97FF\",\"#FECB52\"],\"font\":{\"color\":\"#2a3f5f\"},\"geo\":{\"bgcolor\":\"white\",\"lakecolor\":\"white\",\"landcolor\":\"#E5ECF6\",\"showlakes\":true,\"showland\":true,\"subunitcolor\":\"white\"},\"hoverlabel\":{\"align\":\"left\"},\"hovermode\":\"closest\",\"mapbox\":{\"style\":\"light\"},\"paper_bgcolor\":\"white\",\"plot_bgcolor\":\"#E5ECF6\",\"polar\":{\"angularaxis\":{\"gridcolor\":\"white\",\"linecolor\":\"white\",\"ticks\":\"\"},\"bgcolor\":\"#E5ECF6\",\"radialaxis\":{\"gridcolor\":\"white\",\"linecolor\":\"white\",\"ticks\":\"\"}},\"scene\":{\"xaxis\":{\"backgroundcolor\":\"#E5ECF6\",\"gridcolor\":\"white\",\"gridwidth\":2,\"linecolor\":\"white\",\"showbackground\":true,\"ticks\":\"\",\"zerolinecolor\":\"white\"},\"yaxis\":{\"backgroundcolor\":\"#E5ECF6\",\"gridcolor\":\"white\",\"gridwidth\":2,\"linecolor\":\"white\",\"showbackground\":true,\"ticks\":\"\",\"zerolinecolor\":\"white\"},\"zaxis\":{\"backgroundcolor\":\"#E5ECF6\",\"gridcolor\":\"white\",\"gridwidth\":2,\"linecolor\":\"white\",\"showbackground\":true,\"ticks\":\"\",\"zerolinecolor\":\"white\"}},\"shapedefaults\":{\"line\":{\"color\":\"#2a3f5f\"}},\"ternary\":{\"aaxis\":{\"gridcolor\":\"white\",\"linecolor\":\"white\",\"ticks\":\"\"},\"baxis\":{\"gridcolor\":\"white\",\"linecolor\":\"white\",\"ticks\":\"\"},\"bgcolor\":\"#E5ECF6\",\"caxis\":{\"gridcolor\":\"white\",\"linecolor\":\"white\",\"ticks\":\"\"}},\"title\":{\"x\":0.05},\"xaxis\":{\"automargin\":true,\"gridcolor\":\"white\",\"linecolor\":\"white\",\"ticks\":\"\",\"title\":{\"standoff\":15},\"zerolinecolor\":\"white\",\"zerolinewidth\":2},\"yaxis\":{\"automargin\":true,\"gridcolor\":\"white\",\"linecolor\":\"white\",\"ticks\":\"\",\"title\":{\"standoff\":15},\"zerolinecolor\":\"white\",\"zerolinewidth\":2}}},\"title\":{\"font\":{\"color\":\"#4D5663\"}},\"xaxis\":{\"gridcolor\":\"#E1E5ED\",\"showgrid\":true,\"tickfont\":{\"color\":\"#4D5663\"},\"title\":{\"font\":{\"color\":\"#4D5663\"},\"text\":\"\"},\"zerolinecolor\":\"#E1E5ED\"},\"yaxis\":{\"gridcolor\":\"#E1E5ED\",\"showgrid\":true,\"tickfont\":{\"color\":\"#4D5663\"},\"title\":{\"font\":{\"color\":\"#4D5663\"},\"text\":\"\"},\"zerolinecolor\":\"#E1E5ED\"}},                        {\"showLink\": true, \"linkText\": \"Export to plot.ly\", \"plotlyServerURL\": \"https://plot.ly\", \"responsive\": true}                    ).then(function(){\n",
       "                            \n",
       "var gd = document.getElementById('4c1729c1-8769-4507-81eb-6dee7b77824f');\n",
       "var x = new MutationObserver(function (mutations, observer) {{\n",
       "        var display = window.getComputedStyle(gd).display;\n",
       "        if (!display || display === 'none') {{\n",
       "            console.log([gd, 'removed!']);\n",
       "            Plotly.purge(gd);\n",
       "            observer.disconnect();\n",
       "        }}\n",
       "}});\n",
       "\n",
       "// Listen for the removal of the full notebook cells\n",
       "var notebookContainer = gd.closest('#notebook-container');\n",
       "if (notebookContainer) {{\n",
       "    x.observe(notebookContainer, {childList: true});\n",
       "}}\n",
       "\n",
       "// Listen for the clearing of the current output cell\n",
       "var outputEl = gd.closest('.output');\n",
       "if (outputEl) {{\n",
       "    x.observe(outputEl, {childList: true});\n",
       "}}\n",
       "\n",
       "                        })                };                });            </script>        </div>"
      ]
     },
     "metadata": {},
     "output_type": "display_data"
    }
   ],
   "source": [
    "XLE[(XLE['Holding RIC'] != '')].set_index('Holding RIC')['Number of Shares'].sort_values().iplot(kind='bar', color='blue')"
   ]
  },
  {
   "cell_type": "code",
   "execution_count": 52,
   "id": "b87a5c30",
   "metadata": {},
   "outputs": [
    {
     "name": "stdout",
     "output_type": "stream",
     "text": [
      "Help on function get_data in module eikon.data_grid:\n",
      "\n",
      "get_data(instruments, fields, parameters=None, field_name=False, raw_output=False, debug=False)\n",
      "    Returns a pandas.DataFrame with fields in columns and instruments as row index\n",
      "    \n",
      "    Parameters\n",
      "    ----------\n",
      "    instruments: string or list\n",
      "        Single instrument or list of instruments to request.\n",
      "    \n",
      "    fields: string, dictionary or list of strings and/or dictionaries.\n",
      "        List of fields to request.\n",
      "    \n",
      "        Examples:\n",
      "    \n",
      "        - 'TR.PriceClose'\n",
      "        - {'TR.GrossProfit': { 'params':{ 'Scale': 6, 'Curn': 'EUR' }}\n",
      "        - {'TR.GrossProfit': { 'params':{ 'Scale': 6, 'Curn': 'EUR' },sort_dir:'desc'}\n",
      "        - ['TR.PriceClose','TR.PriceOpen']\n",
      "        - [{'TR.PriceClose':  {'sort_dir':asc,sort_priority:1}},{'TR.PriceOpen':  {'sort_dir':asc,sort_priority:0}}\n",
      "        \n",
      "        You can use the function TR_Field to build the fields:\n",
      "    \n",
      "        >>> fields = [ek.TR_Field('tr.revenue'),ek.TR_Field('tr.open','asc',1),ek.TR_Field('TR.GrossProfit',{'Scale': 6, 'Curn': 'EUR'},'asc',0)]\n",
      "        >>> data, err = ek.get_data([\"IBM\",\"MSFT.O\"],fields)\n",
      "       \n",
      "        Tips:\n",
      "        You can launch the Data Item Browser to discover fields and parameters,\n",
      "        or copy field names and parameters from TR Eikon - MS Office formulas\n",
      "    \n",
      "    parameters: string or dictionary, optional\n",
      "        Single global parameter key=value or dictionary of global parameters to request.\n",
      "    \n",
      "        Default: None\n",
      "    \n",
      "    field_name: boolean, optional\n",
      "        Define if column headers are filled with field name or display names.\n",
      "    \n",
      "        If True value, field names will ube used as column headers. Otherwise, the full display name will be used.\n",
      "    \n",
      "        Default: False\n",
      "    \n",
      "    raw_output: boolean, optional\n",
      "        By default the output is a pandas.DataFrame.\n",
      "    \n",
      "        Set raw_output=True to get data in Json format.\n",
      "    \n",
      "        Default: False\n",
      "    \n",
      "    debug: boolean, optional\n",
      "        When set to True, the json request and response are printed. Default value is False\n",
      "    \n",
      "    Returns\n",
      "    -------\n",
      "        pandas.DataFrame\n",
      "            Returns pandas.DataFrame with fields in columns and instruments as row index\n",
      "    \n",
      "        errors\n",
      "            Returns a list of errors\n",
      "    \n",
      "    Raises\n",
      "    ----------\n",
      "        Exception\n",
      "            If http request fails or if server returns an error.\n",
      "    \n",
      "        ValueError\n",
      "            If a parameter type or value is wrong.\n",
      "    \n",
      "    Examples\n",
      "    --------\n",
      "    >>> import eikon as ek\n",
      "    >>> ek.set_app_key('set your app key here')\n",
      "    >>> data, err = ek.get_data([\"IBM\", \"GOOG.O\", \"MSFT.O\"], [\"TR.PriceClose\", \"TR.Volume\", \"TR.PriceLow\"])\n",
      "    >>> data, err = ek.get_data(\"IBM\", ['TR.Employees', {'TR.GrossProfit':{'params':{'Scale': 6, 'Curn': 'EUR'},'sort_dir':'asc'}}])\n",
      "    >>> fields = [ek.TR_Field('tr.revenue'),ek.TR_Field('tr.open',None,'asc',1),ek.TR_Field('TR.GrossProfit',{'Scale': 6, 'Curn': 'EUR'},'asc',0)]\n",
      "    >>> data, err = ek.get_data([\"IBM\",\"MSFT.O\"],fields)\n",
      "\n"
     ]
    }
   ],
   "source": [
    "help(ek.get_data)"
   ]
  },
  {
   "cell_type": "markdown",
   "id": "73aeb56c",
   "metadata": {},
   "source": [
    "# Descargar series de tiempo"
   ]
  },
  {
   "cell_type": "code",
   "execution_count": 35,
   "id": "73c2ec30",
   "metadata": {},
   "outputs": [],
   "source": [
    "#help(ek.get_timeseries)"
   ]
  },
  {
   "cell_type": "code",
   "execution_count": 61,
   "id": "93f30e3e",
   "metadata": {},
   "outputs": [
    {
     "name": "stdout",
     "output_type": "stream",
     "text": [
      "2024-02-26 17:36:49.740721 2023-11-16 17:36:49.740721\n"
     ]
    }
   ],
   "source": [
    "import datetime as dt\n",
    "today = dt.datetime.today()\n",
    "d = today - dt.timedelta(days=102)\n",
    "print(today, d)"
   ]
  },
  {
   "cell_type": "code",
   "execution_count": null,
   "id": "8c024382",
   "metadata": {},
   "outputs": [],
   "source": []
  },
  {
   "cell_type": "code",
   "execution_count": 62,
   "id": "c4563de2",
   "metadata": {},
   "outputs": [
    {
     "data": {
      "text/html": [
       "<div>\n",
       "<style scoped>\n",
       "    .dataframe tbody tr th:only-of-type {\n",
       "        vertical-align: middle;\n",
       "    }\n",
       "\n",
       "    .dataframe tbody tr th {\n",
       "        vertical-align: top;\n",
       "    }\n",
       "\n",
       "    .dataframe thead th {\n",
       "        text-align: right;\n",
       "    }\n",
       "</style>\n",
       "<table border=\"1\" class=\"dataframe\">\n",
       "  <thead>\n",
       "    <tr style=\"text-align: right;\">\n",
       "      <th>GOOG.O</th>\n",
       "      <th>HIGH</th>\n",
       "      <th>CLOSE</th>\n",
       "      <th>LOW</th>\n",
       "      <th>OPEN</th>\n",
       "      <th>COUNT</th>\n",
       "      <th>VOLUME</th>\n",
       "    </tr>\n",
       "    <tr>\n",
       "      <th>Date</th>\n",
       "      <th></th>\n",
       "      <th></th>\n",
       "      <th></th>\n",
       "      <th></th>\n",
       "      <th></th>\n",
       "      <th></th>\n",
       "    </tr>\n",
       "  </thead>\n",
       "  <tbody>\n",
       "    <tr>\n",
       "      <th>2023-11-17</th>\n",
       "      <td>138.0</td>\n",
       "      <td>136.94</td>\n",
       "      <td>135.48</td>\n",
       "      <td>137.82</td>\n",
       "      <td>276269</td>\n",
       "      <td>25590191</td>\n",
       "    </tr>\n",
       "    <tr>\n",
       "      <th>2023-11-20</th>\n",
       "      <td>138.425</td>\n",
       "      <td>137.92</td>\n",
       "      <td>135.49</td>\n",
       "      <td>135.5</td>\n",
       "      <td>212277</td>\n",
       "      <td>19589006</td>\n",
       "    </tr>\n",
       "    <tr>\n",
       "      <th>2023-11-21</th>\n",
       "      <td>138.965</td>\n",
       "      <td>138.62</td>\n",
       "      <td>137.705</td>\n",
       "      <td>137.94</td>\n",
       "      <td>180103</td>\n",
       "      <td>17648067</td>\n",
       "    </tr>\n",
       "    <tr>\n",
       "      <th>2023-11-22</th>\n",
       "      <td>141.1</td>\n",
       "      <td>140.02</td>\n",
       "      <td>139.0</td>\n",
       "      <td>139.1</td>\n",
       "      <td>189637</td>\n",
       "      <td>17310209</td>\n",
       "    </tr>\n",
       "    <tr>\n",
       "      <th>2023-11-24</th>\n",
       "      <td>139.677</td>\n",
       "      <td>138.22</td>\n",
       "      <td>137.47</td>\n",
       "      <td>139.54</td>\n",
       "      <td>98747</td>\n",
       "      <td>8828640</td>\n",
       "    </tr>\n",
       "    <tr>\n",
       "      <th>...</th>\n",
       "      <td>...</td>\n",
       "      <td>...</td>\n",
       "      <td>...</td>\n",
       "      <td>...</td>\n",
       "      <td>...</td>\n",
       "      <td>...</td>\n",
       "    </tr>\n",
       "    <tr>\n",
       "      <th>2024-02-20</th>\n",
       "      <td>143.3285</td>\n",
       "      <td>142.2</td>\n",
       "      <td>140.8</td>\n",
       "      <td>140.94</td>\n",
       "      <td>235771</td>\n",
       "      <td>18625589</td>\n",
       "    </tr>\n",
       "    <tr>\n",
       "      <th>2024-02-21</th>\n",
       "      <td>143.98</td>\n",
       "      <td>143.84</td>\n",
       "      <td>141.91</td>\n",
       "      <td>142.64</td>\n",
       "      <td>220920</td>\n",
       "      <td>16499584</td>\n",
       "    </tr>\n",
       "    <tr>\n",
       "      <th>2024-02-22</th>\n",
       "      <td>146.2</td>\n",
       "      <td>145.32</td>\n",
       "      <td>144.01</td>\n",
       "      <td>146.12</td>\n",
       "      <td>249677</td>\n",
       "      <td>23024707</td>\n",
       "    </tr>\n",
       "    <tr>\n",
       "      <th>2024-02-23</th>\n",
       "      <td>145.955</td>\n",
       "      <td>145.29</td>\n",
       "      <td>144.79</td>\n",
       "      <td>144.97</td>\n",
       "      <td>189743</td>\n",
       "      <td>14519434</td>\n",
       "    </tr>\n",
       "    <tr>\n",
       "      <th>2024-02-26</th>\n",
       "      <td>143.84</td>\n",
       "      <td>138.75</td>\n",
       "      <td>138.74</td>\n",
       "      <td>143.45</td>\n",
       "      <td>398640</td>\n",
       "      <td>33358019</td>\n",
       "    </tr>\n",
       "  </tbody>\n",
       "</table>\n",
       "<p>67 rows × 6 columns</p>\n",
       "</div>"
      ],
      "text/plain": [
       "GOOG.O          HIGH   CLOSE      LOW    OPEN   COUNT    VOLUME\n",
       "Date                                                           \n",
       "2023-11-17     138.0  136.94   135.48  137.82  276269  25590191\n",
       "2023-11-20   138.425  137.92   135.49   135.5  212277  19589006\n",
       "2023-11-21   138.965  138.62  137.705  137.94  180103  17648067\n",
       "2023-11-22     141.1  140.02    139.0   139.1  189637  17310209\n",
       "2023-11-24   139.677  138.22   137.47  139.54   98747   8828640\n",
       "...              ...     ...      ...     ...     ...       ...\n",
       "2024-02-20  143.3285   142.2    140.8  140.94  235771  18625589\n",
       "2024-02-21    143.98  143.84   141.91  142.64  220920  16499584\n",
       "2024-02-22     146.2  145.32   144.01  146.12  249677  23024707\n",
       "2024-02-23   145.955  145.29   144.79  144.97  189743  14519434\n",
       "2024-02-26    143.84  138.75   138.74  143.45  398640  33358019\n",
       "\n",
       "[67 rows x 6 columns]"
      ]
     },
     "execution_count": 62,
     "metadata": {},
     "output_type": "execute_result"
    }
   ],
   "source": [
    "df_ts = ek.get_timeseries([\"GOOG.O\"], \n",
    "                          start_date = d, \n",
    "                          end_date = today, \n",
    "                          interval=\"daily\", \n",
    "                          corax = 'adjusted' )\n",
    "df_ts"
   ]
  },
  {
   "cell_type": "code",
   "execution_count": 63,
   "id": "4a75ae24",
   "metadata": {},
   "outputs": [
    {
     "name": "stdout",
     "output_type": "stream",
     "text": [
      "2024-02-26 17:38:06.787338 2023-11-18 17:38:06.787338\n"
     ]
    }
   ],
   "source": [
    "import datetime as dt\n",
    "today = dt.datetime.today()\n",
    "d = today - dt.timedelta(days=100)\n",
    "print(today, d)"
   ]
  },
  {
   "cell_type": "code",
   "execution_count": 64,
   "id": "8f78dd2e",
   "metadata": {},
   "outputs": [
    {
     "data": {
      "text/html": [
       "<div>\n",
       "<style scoped>\n",
       "    .dataframe tbody tr th:only-of-type {\n",
       "        vertical-align: middle;\n",
       "    }\n",
       "\n",
       "    .dataframe tbody tr th {\n",
       "        vertical-align: top;\n",
       "    }\n",
       "\n",
       "    .dataframe thead th {\n",
       "        text-align: right;\n",
       "    }\n",
       "</style>\n",
       "<table border=\"1\" class=\"dataframe\">\n",
       "  <thead>\n",
       "    <tr style=\"text-align: right;\">\n",
       "      <th>000001.SZ</th>\n",
       "      <th>HIGH</th>\n",
       "      <th>CLOSE</th>\n",
       "      <th>LOW</th>\n",
       "      <th>OPEN</th>\n",
       "      <th>VOLUME</th>\n",
       "    </tr>\n",
       "    <tr>\n",
       "      <th>Date</th>\n",
       "      <th></th>\n",
       "      <th></th>\n",
       "      <th></th>\n",
       "      <th></th>\n",
       "      <th></th>\n",
       "    </tr>\n",
       "  </thead>\n",
       "  <tbody>\n",
       "    <tr>\n",
       "      <th>2016-06-14</th>\n",
       "      <td>10.41</td>\n",
       "      <td>10.4</td>\n",
       "      <td>10.32</td>\n",
       "      <td>10.34</td>\n",
       "      <td>27363726</td>\n",
       "    </tr>\n",
       "    <tr>\n",
       "      <th>2016-06-15</th>\n",
       "      <td>10.48</td>\n",
       "      <td>10.44</td>\n",
       "      <td>10.32</td>\n",
       "      <td>10.33</td>\n",
       "      <td>37817241</td>\n",
       "    </tr>\n",
       "    <tr>\n",
       "      <th>2016-06-16</th>\n",
       "      <td>8.6</td>\n",
       "      <td>8.57</td>\n",
       "      <td>8.53</td>\n",
       "      <td>8.57</td>\n",
       "      <td>38667008</td>\n",
       "    </tr>\n",
       "    <tr>\n",
       "      <th>2016-06-17</th>\n",
       "      <td>8.61</td>\n",
       "      <td>8.58</td>\n",
       "      <td>8.54</td>\n",
       "      <td>8.57</td>\n",
       "      <td>31517300</td>\n",
       "    </tr>\n",
       "    <tr>\n",
       "      <th>2016-06-20</th>\n",
       "      <td>8.6</td>\n",
       "      <td>8.6</td>\n",
       "      <td>8.56</td>\n",
       "      <td>8.59</td>\n",
       "      <td>27073158</td>\n",
       "    </tr>\n",
       "  </tbody>\n",
       "</table>\n",
       "</div>"
      ],
      "text/plain": [
       "000001.SZ    HIGH  CLOSE    LOW   OPEN    VOLUME\n",
       "Date                                            \n",
       "2016-06-14  10.41   10.4  10.32  10.34  27363726\n",
       "2016-06-15  10.48  10.44  10.32  10.33  37817241\n",
       "2016-06-16    8.6   8.57   8.53   8.57  38667008\n",
       "2016-06-17   8.61   8.58   8.54   8.57  31517300\n",
       "2016-06-20    8.6    8.6   8.56   8.59  27073158"
      ]
     },
     "execution_count": 64,
     "metadata": {},
     "output_type": "execute_result"
    }
   ],
   "source": [
    "df_ts = ek.get_timeseries([\"000001.SZ\"], start_date = \"2016-06-14\", end_date = \"2016-06-20\", interval=\"daily\", corax = 'unadjusted')\n",
    "df_ts"
   ]
  },
  {
   "cell_type": "code",
   "execution_count": 65,
   "id": "b4a29d47",
   "metadata": {},
   "outputs": [
    {
     "data": {
      "text/html": [
       "<div>\n",
       "<style scoped>\n",
       "    .dataframe tbody tr th:only-of-type {\n",
       "        vertical-align: middle;\n",
       "    }\n",
       "\n",
       "    .dataframe tbody tr th {\n",
       "        vertical-align: top;\n",
       "    }\n",
       "\n",
       "    .dataframe thead th {\n",
       "        text-align: right;\n",
       "    }\n",
       "</style>\n",
       "<table border=\"1\" class=\"dataframe\">\n",
       "  <thead>\n",
       "    <tr style=\"text-align: right;\">\n",
       "      <th>MSFT.O</th>\n",
       "      <th>HIGH</th>\n",
       "      <th>CLOSE</th>\n",
       "      <th>LOW</th>\n",
       "      <th>OPEN</th>\n",
       "      <th>COUNT</th>\n",
       "      <th>VOLUME</th>\n",
       "    </tr>\n",
       "    <tr>\n",
       "      <th>Date</th>\n",
       "      <th></th>\n",
       "      <th></th>\n",
       "      <th></th>\n",
       "      <th></th>\n",
       "      <th></th>\n",
       "      <th></th>\n",
       "    </tr>\n",
       "  </thead>\n",
       "  <tbody>\n",
       "    <tr>\n",
       "      <th>2023-11-20</th>\n",
       "      <td>378.87</td>\n",
       "      <td>377.44</td>\n",
       "      <td>371.0</td>\n",
       "      <td>371.22</td>\n",
       "      <td>771744</td>\n",
       "      <td>52528964</td>\n",
       "    </tr>\n",
       "    <tr>\n",
       "      <th>2023-11-21</th>\n",
       "      <td>376.2215</td>\n",
       "      <td>373.07</td>\n",
       "      <td>371.12</td>\n",
       "      <td>375.67</td>\n",
       "      <td>460035</td>\n",
       "      <td>28423145</td>\n",
       "    </tr>\n",
       "    <tr>\n",
       "      <th>2023-11-22</th>\n",
       "      <td>379.7899</td>\n",
       "      <td>377.85</td>\n",
       "      <td>374.965</td>\n",
       "      <td>378.0</td>\n",
       "      <td>405033</td>\n",
       "      <td>23361184</td>\n",
       "    </tr>\n",
       "    <tr>\n",
       "      <th>2023-11-24</th>\n",
       "      <td>377.97</td>\n",
       "      <td>377.43</td>\n",
       "      <td>375.135</td>\n",
       "      <td>377.33</td>\n",
       "      <td>201903</td>\n",
       "      <td>10176649</td>\n",
       "    </tr>\n",
       "    <tr>\n",
       "      <th>2023-11-27</th>\n",
       "      <td>380.64</td>\n",
       "      <td>378.61</td>\n",
       "      <td>376.2</td>\n",
       "      <td>376.78</td>\n",
       "      <td>352779</td>\n",
       "      <td>22179228</td>\n",
       "    </tr>\n",
       "    <tr>\n",
       "      <th>...</th>\n",
       "      <td>...</td>\n",
       "      <td>...</td>\n",
       "      <td>...</td>\n",
       "      <td>...</td>\n",
       "      <td>...</td>\n",
       "      <td>...</td>\n",
       "    </tr>\n",
       "    <tr>\n",
       "      <th>2024-02-20</th>\n",
       "      <td>404.49</td>\n",
       "      <td>402.79</td>\n",
       "      <td>398.01</td>\n",
       "      <td>403.24</td>\n",
       "      <td>450376</td>\n",
       "      <td>24307915</td>\n",
       "    </tr>\n",
       "    <tr>\n",
       "      <th>2024-02-21</th>\n",
       "      <td>402.29</td>\n",
       "      <td>402.18</td>\n",
       "      <td>397.22</td>\n",
       "      <td>400.17</td>\n",
       "      <td>372892</td>\n",
       "      <td>18631072</td>\n",
       "    </tr>\n",
       "    <tr>\n",
       "      <th>2024-02-22</th>\n",
       "      <td>412.83</td>\n",
       "      <td>411.65</td>\n",
       "      <td>408.57</td>\n",
       "      <td>410.19</td>\n",
       "      <td>438853</td>\n",
       "      <td>27009869</td>\n",
       "    </tr>\n",
       "    <tr>\n",
       "      <th>2024-02-23</th>\n",
       "      <td>415.86</td>\n",
       "      <td>410.34</td>\n",
       "      <td>408.97</td>\n",
       "      <td>415.67</td>\n",
       "      <td>339008</td>\n",
       "      <td>16295879</td>\n",
       "    </tr>\n",
       "    <tr>\n",
       "      <th>2024-02-26</th>\n",
       "      <td>412.16</td>\n",
       "      <td>407.54</td>\n",
       "      <td>407.36</td>\n",
       "      <td>411.455</td>\n",
       "      <td>357184</td>\n",
       "      <td>15935197</td>\n",
       "    </tr>\n",
       "  </tbody>\n",
       "</table>\n",
       "<p>66 rows × 6 columns</p>\n",
       "</div>"
      ],
      "text/plain": [
       "MSFT.O          HIGH   CLOSE      LOW     OPEN   COUNT    VOLUME\n",
       "Date                                                            \n",
       "2023-11-20    378.87  377.44    371.0   371.22  771744  52528964\n",
       "2023-11-21  376.2215  373.07   371.12   375.67  460035  28423145\n",
       "2023-11-22  379.7899  377.85  374.965    378.0  405033  23361184\n",
       "2023-11-24    377.97  377.43  375.135   377.33  201903  10176649\n",
       "2023-11-27    380.64  378.61    376.2   376.78  352779  22179228\n",
       "...              ...     ...      ...      ...     ...       ...\n",
       "2024-02-20    404.49  402.79   398.01   403.24  450376  24307915\n",
       "2024-02-21    402.29  402.18   397.22   400.17  372892  18631072\n",
       "2024-02-22    412.83  411.65   408.57   410.19  438853  27009869\n",
       "2024-02-23    415.86  410.34   408.97   415.67  339008  16295879\n",
       "2024-02-26    412.16  407.54   407.36  411.455  357184  15935197\n",
       "\n",
       "[66 rows x 6 columns]"
      ]
     },
     "execution_count": 65,
     "metadata": {},
     "output_type": "execute_result"
    }
   ],
   "source": [
    "df_ts = ek.get_timeseries([\"MSFT.O\"], start_date = d, end_date = today, interval=\"daily\", corax = 'unadjusted')\n",
    "df_ts"
   ]
  },
  {
   "cell_type": "code",
   "execution_count": 66,
   "id": "a7e4bc73",
   "metadata": {},
   "outputs": [
    {
     "data": {
      "text/plain": [
       "pandas.core.frame.DataFrame"
      ]
     },
     "execution_count": 66,
     "metadata": {},
     "output_type": "execute_result"
    }
   ],
   "source": [
    "type(df_ts)"
   ]
  },
  {
   "cell_type": "code",
   "execution_count": 67,
   "id": "8db9ac8a",
   "metadata": {},
   "outputs": [
    {
     "data": {
      "text/plain": [
       "MSFT.O\n",
       "HIGH      Float64\n",
       "CLOSE     Float64\n",
       "LOW       Float64\n",
       "OPEN      Float64\n",
       "COUNT       Int64\n",
       "VOLUME      Int64\n",
       "dtype: object"
      ]
     },
     "execution_count": 67,
     "metadata": {},
     "output_type": "execute_result"
    }
   ],
   "source": [
    "df_ts.dtypes"
   ]
  },
  {
   "cell_type": "code",
   "execution_count": 68,
   "id": "623e0e9b",
   "metadata": {},
   "outputs": [],
   "source": [
    "#df_ts.values"
   ]
  },
  {
   "cell_type": "code",
   "execution_count": 69,
   "id": "2383c8f0",
   "metadata": {},
   "outputs": [
    {
     "data": {
      "text/plain": [
       "Date\n",
       "2023-11-20    377.44\n",
       "2023-11-21    373.07\n",
       "2023-11-22    377.85\n",
       "2023-11-24    377.43\n",
       "2023-11-27    378.61\n",
       "               ...  \n",
       "2024-02-20    402.79\n",
       "2024-02-21    402.18\n",
       "2024-02-22    411.65\n",
       "2024-02-23    410.34\n",
       "2024-02-26    407.54\n",
       "Name: CLOSE, Length: 66, dtype: Float64"
      ]
     },
     "execution_count": 69,
     "metadata": {},
     "output_type": "execute_result"
    }
   ],
   "source": [
    "df_ts['CLOSE']"
   ]
  },
  {
   "cell_type": "code",
   "execution_count": 45,
   "id": "95ee8dd9",
   "metadata": {},
   "outputs": [
    {
     "data": {
      "text/html": [
       "<div>\n",
       "<style scoped>\n",
       "    .dataframe tbody tr th:only-of-type {\n",
       "        vertical-align: middle;\n",
       "    }\n",
       "\n",
       "    .dataframe tbody tr th {\n",
       "        vertical-align: top;\n",
       "    }\n",
       "\n",
       "    .dataframe thead th {\n",
       "        text-align: right;\n",
       "    }\n",
       "</style>\n",
       "<table border=\"1\" class=\"dataframe\">\n",
       "  <thead>\n",
       "    <tr style=\"text-align: right;\">\n",
       "      <th>MSFT.O</th>\n",
       "      <th>HIGH</th>\n",
       "      <th>CLOSE</th>\n",
       "      <th>LOW</th>\n",
       "      <th>OPEN</th>\n",
       "      <th>COUNT</th>\n",
       "      <th>VOLUME</th>\n",
       "    </tr>\n",
       "    <tr>\n",
       "      <th>Date</th>\n",
       "      <th></th>\n",
       "      <th></th>\n",
       "      <th></th>\n",
       "      <th></th>\n",
       "      <th></th>\n",
       "      <th></th>\n",
       "    </tr>\n",
       "  </thead>\n",
       "  <tbody>\n",
       "    <tr>\n",
       "      <th>2023-11-13</th>\n",
       "      <td>368.47</td>\n",
       "      <td>366.68</td>\n",
       "      <td>365.9</td>\n",
       "      <td>368.22</td>\n",
       "      <td>340608</td>\n",
       "      <td>19986506</td>\n",
       "    </tr>\n",
       "    <tr>\n",
       "      <th>2023-11-14</th>\n",
       "      <td>371.95</td>\n",
       "      <td>370.27</td>\n",
       "      <td>367.3454</td>\n",
       "      <td>371.01</td>\n",
       "      <td>409291</td>\n",
       "      <td>27683862</td>\n",
       "    </tr>\n",
       "    <tr>\n",
       "      <th>2023-11-15</th>\n",
       "      <td>373.13</td>\n",
       "      <td>369.67</td>\n",
       "      <td>367.11</td>\n",
       "      <td>371.28</td>\n",
       "      <td>399874</td>\n",
       "      <td>26860095</td>\n",
       "    </tr>\n",
       "    <tr>\n",
       "      <th>2023-11-16</th>\n",
       "      <td>376.35</td>\n",
       "      <td>376.17</td>\n",
       "      <td>370.18</td>\n",
       "      <td>370.96</td>\n",
       "      <td>405563</td>\n",
       "      <td>27182315</td>\n",
       "    </tr>\n",
       "    <tr>\n",
       "      <th>2023-11-17</th>\n",
       "      <td>374.37</td>\n",
       "      <td>369.85</td>\n",
       "      <td>367.0</td>\n",
       "      <td>373.61</td>\n",
       "      <td>560742</td>\n",
       "      <td>40325371</td>\n",
       "    </tr>\n",
       "    <tr>\n",
       "      <th>...</th>\n",
       "      <td>...</td>\n",
       "      <td>...</td>\n",
       "      <td>...</td>\n",
       "      <td>...</td>\n",
       "      <td>...</td>\n",
       "      <td>...</td>\n",
       "    </tr>\n",
       "    <tr>\n",
       "      <th>2024-02-12</th>\n",
       "      <td>420.74</td>\n",
       "      <td>415.26</td>\n",
       "      <td>414.75</td>\n",
       "      <td>420.555</td>\n",
       "      <td>401543</td>\n",
       "      <td>21202921</td>\n",
       "    </tr>\n",
       "    <tr>\n",
       "      <th>2024-02-13</th>\n",
       "      <td>410.071</td>\n",
       "      <td>406.32</td>\n",
       "      <td>403.39</td>\n",
       "      <td>404.94</td>\n",
       "      <td>544613</td>\n",
       "      <td>27824936</td>\n",
       "    </tr>\n",
       "    <tr>\n",
       "      <th>2024-02-14</th>\n",
       "      <td>409.84</td>\n",
       "      <td>409.49</td>\n",
       "      <td>404.57</td>\n",
       "      <td>408.07</td>\n",
       "      <td>384410</td>\n",
       "      <td>20401190</td>\n",
       "    </tr>\n",
       "    <tr>\n",
       "      <th>2024-02-15</th>\n",
       "      <td>409.13</td>\n",
       "      <td>406.56</td>\n",
       "      <td>404.29</td>\n",
       "      <td>408.14</td>\n",
       "      <td>412617</td>\n",
       "      <td>21825525</td>\n",
       "    </tr>\n",
       "    <tr>\n",
       "      <th>2024-02-16</th>\n",
       "      <td>408.29</td>\n",
       "      <td>404.06</td>\n",
       "      <td>403.44</td>\n",
       "      <td>407.96</td>\n",
       "      <td>371675</td>\n",
       "      <td>22296495</td>\n",
       "    </tr>\n",
       "  </tbody>\n",
       "</table>\n",
       "<p>66 rows × 6 columns</p>\n",
       "</div>"
      ],
      "text/plain": [
       "MSFT.O         HIGH   CLOSE       LOW     OPEN   COUNT    VOLUME\n",
       "Date                                                            \n",
       "2023-11-13   368.47  366.68     365.9   368.22  340608  19986506\n",
       "2023-11-14   371.95  370.27  367.3454   371.01  409291  27683862\n",
       "2023-11-15   373.13  369.67    367.11   371.28  399874  26860095\n",
       "2023-11-16   376.35  376.17    370.18   370.96  405563  27182315\n",
       "2023-11-17   374.37  369.85     367.0   373.61  560742  40325371\n",
       "...             ...     ...       ...      ...     ...       ...\n",
       "2024-02-12   420.74  415.26    414.75  420.555  401543  21202921\n",
       "2024-02-13  410.071  406.32    403.39   404.94  544613  27824936\n",
       "2024-02-14   409.84  409.49    404.57   408.07  384410  20401190\n",
       "2024-02-15   409.13  406.56    404.29   408.14  412617  21825525\n",
       "2024-02-16   408.29  404.06    403.44   407.96  371675  22296495\n",
       "\n",
       "[66 rows x 6 columns]"
      ]
     },
     "execution_count": 45,
     "metadata": {},
     "output_type": "execute_result"
    }
   ],
   "source": [
    "#podemos usar la seleccion boleeana dentro del pandas.DataFrame\n",
    "df_ts[(df_ts['HIGH'] > 250)]"
   ]
  },
  {
   "cell_type": "code",
   "execution_count": 46,
   "id": "6b3ac04a",
   "metadata": {},
   "outputs": [
    {
     "data": {
      "text/plain": [
       "DatetimeIndex(['2023-11-13', '2023-11-14', '2023-11-15', '2023-11-16',\n",
       "               '2023-11-17', '2023-11-20', '2023-11-21', '2023-11-22',\n",
       "               '2023-11-24', '2023-11-27', '2023-11-28', '2023-11-29',\n",
       "               '2023-11-30', '2023-12-01', '2023-12-04', '2023-12-05',\n",
       "               '2023-12-06', '2023-12-07', '2023-12-08', '2023-12-11',\n",
       "               '2023-12-12', '2023-12-13', '2023-12-14', '2023-12-15',\n",
       "               '2023-12-18', '2023-12-19', '2023-12-20', '2023-12-21',\n",
       "               '2023-12-22', '2023-12-26', '2023-12-27', '2023-12-28',\n",
       "               '2023-12-29', '2024-01-02', '2024-01-03', '2024-01-04',\n",
       "               '2024-01-05', '2024-01-08', '2024-01-09', '2024-01-10',\n",
       "               '2024-01-11', '2024-01-12', '2024-01-16', '2024-01-17',\n",
       "               '2024-01-18', '2024-01-19', '2024-01-22', '2024-01-23',\n",
       "               '2024-01-24', '2024-01-25', '2024-01-26', '2024-01-29',\n",
       "               '2024-01-30', '2024-01-31', '2024-02-01', '2024-02-02',\n",
       "               '2024-02-05', '2024-02-06', '2024-02-07', '2024-02-08',\n",
       "               '2024-02-09', '2024-02-12', '2024-02-13', '2024-02-14',\n",
       "               '2024-02-15', '2024-02-16'],\n",
       "              dtype='datetime64[s]', name='Date', freq=None)"
      ]
     },
     "execution_count": 46,
     "metadata": {},
     "output_type": "execute_result"
    }
   ],
   "source": [
    "df_ts.index"
   ]
  },
  {
   "cell_type": "code",
   "execution_count": 47,
   "id": "235318b7",
   "metadata": {},
   "outputs": [
    {
     "name": "stdout",
     "output_type": "stream",
     "text": [
      "2024-02-07\n"
     ]
    }
   ],
   "source": [
    "today_date = dt.date.today()\n",
    "d = today_date - dt.timedelta(days=12)\n",
    "print(d)"
   ]
  },
  {
   "cell_type": "code",
   "execution_count": 48,
   "id": "86922fe8",
   "metadata": {},
   "outputs": [
    {
     "data": {
      "text/html": [
       "<div>\n",
       "<style scoped>\n",
       "    .dataframe tbody tr th:only-of-type {\n",
       "        vertical-align: middle;\n",
       "    }\n",
       "\n",
       "    .dataframe tbody tr th {\n",
       "        vertical-align: top;\n",
       "    }\n",
       "\n",
       "    .dataframe thead th {\n",
       "        text-align: right;\n",
       "    }\n",
       "</style>\n",
       "<table border=\"1\" class=\"dataframe\">\n",
       "  <thead>\n",
       "    <tr style=\"text-align: right;\">\n",
       "      <th>MSFT.O</th>\n",
       "      <th>HIGH</th>\n",
       "      <th>CLOSE</th>\n",
       "      <th>LOW</th>\n",
       "      <th>OPEN</th>\n",
       "      <th>COUNT</th>\n",
       "      <th>VOLUME</th>\n",
       "    </tr>\n",
       "    <tr>\n",
       "      <th>Date</th>\n",
       "      <th></th>\n",
       "      <th></th>\n",
       "      <th></th>\n",
       "      <th></th>\n",
       "      <th></th>\n",
       "      <th></th>\n",
       "    </tr>\n",
       "  </thead>\n",
       "  <tbody>\n",
       "    <tr>\n",
       "      <th>2023-11-14</th>\n",
       "      <td>371.95</td>\n",
       "      <td>370.27</td>\n",
       "      <td>367.3454</td>\n",
       "      <td>371.01</td>\n",
       "      <td>409291</td>\n",
       "      <td>27683862</td>\n",
       "    </tr>\n",
       "    <tr>\n",
       "      <th>2023-11-15</th>\n",
       "      <td>373.13</td>\n",
       "      <td>369.67</td>\n",
       "      <td>367.11</td>\n",
       "      <td>371.28</td>\n",
       "      <td>399874</td>\n",
       "      <td>26860095</td>\n",
       "    </tr>\n",
       "    <tr>\n",
       "      <th>2023-11-16</th>\n",
       "      <td>376.35</td>\n",
       "      <td>376.17</td>\n",
       "      <td>370.18</td>\n",
       "      <td>370.96</td>\n",
       "      <td>405563</td>\n",
       "      <td>27182315</td>\n",
       "    </tr>\n",
       "  </tbody>\n",
       "</table>\n",
       "</div>"
      ],
      "text/plain": [
       "MSFT.O        HIGH   CLOSE       LOW    OPEN   COUNT    VOLUME\n",
       "Date                                                          \n",
       "2023-11-14  371.95  370.27  367.3454  371.01  409291  27683862\n",
       "2023-11-15  373.13  369.67    367.11  371.28  399874  26860095\n",
       "2023-11-16  376.35  376.17    370.18  370.96  405563  27182315"
      ]
     },
     "execution_count": 48,
     "metadata": {},
     "output_type": "execute_result"
    }
   ],
   "source": [
    "#Podemos seleccionar una sola fila, como lo haciamos en numpy, de la siguiente manera:\n",
    "df_ts.iloc[1:4]"
   ]
  },
  {
   "cell_type": "code",
   "execution_count": 49,
   "id": "3ab4c2cd",
   "metadata": {},
   "outputs": [
    {
     "data": {
      "text/html": [
       "<div>\n",
       "<style scoped>\n",
       "    .dataframe tbody tr th:only-of-type {\n",
       "        vertical-align: middle;\n",
       "    }\n",
       "\n",
       "    .dataframe tbody tr th {\n",
       "        vertical-align: top;\n",
       "    }\n",
       "\n",
       "    .dataframe thead th {\n",
       "        text-align: right;\n",
       "    }\n",
       "</style>\n",
       "<table border=\"1\" class=\"dataframe\">\n",
       "  <thead>\n",
       "    <tr style=\"text-align: right;\">\n",
       "      <th>MSFT.O</th>\n",
       "      <th>HIGH</th>\n",
       "      <th>CLOSE</th>\n",
       "      <th>LOW</th>\n",
       "      <th>OPEN</th>\n",
       "      <th>COUNT</th>\n",
       "      <th>VOLUME</th>\n",
       "    </tr>\n",
       "    <tr>\n",
       "      <th>Date</th>\n",
       "      <th></th>\n",
       "      <th></th>\n",
       "      <th></th>\n",
       "      <th></th>\n",
       "      <th></th>\n",
       "      <th></th>\n",
       "    </tr>\n",
       "  </thead>\n",
       "  <tbody>\n",
       "    <tr>\n",
       "      <th>2024-02-07</th>\n",
       "      <td>414.3</td>\n",
       "      <td>414.05</td>\n",
       "      <td>407.4</td>\n",
       "      <td>407.44</td>\n",
       "      <td>352956</td>\n",
       "      <td>22340526</td>\n",
       "    </tr>\n",
       "  </tbody>\n",
       "</table>\n",
       "</div>"
      ],
      "text/plain": [
       "MSFT.O       HIGH   CLOSE    LOW    OPEN   COUNT    VOLUME\n",
       "Date                                                      \n",
       "2024-02-07  414.3  414.05  407.4  407.44  352956  22340526"
      ]
     },
     "execution_count": 49,
     "metadata": {},
     "output_type": "execute_result"
    }
   ],
   "source": [
    "#El atributo pandas.DateFrame.loc nos permite indexar las filas en vez de las columnas\n",
    "df_ts.loc[[d]]"
   ]
  },
  {
   "cell_type": "code",
   "execution_count": 50,
   "id": "720a7e01",
   "metadata": {},
   "outputs": [
    {
     "data": {
      "text/html": [
       "<div>\n",
       "<style scoped>\n",
       "    .dataframe tbody tr th:only-of-type {\n",
       "        vertical-align: middle;\n",
       "    }\n",
       "\n",
       "    .dataframe tbody tr th {\n",
       "        vertical-align: top;\n",
       "    }\n",
       "\n",
       "    .dataframe thead th {\n",
       "        text-align: right;\n",
       "    }\n",
       "</style>\n",
       "<table border=\"1\" class=\"dataframe\">\n",
       "  <thead>\n",
       "    <tr style=\"text-align: right;\">\n",
       "      <th>MSFT.O</th>\n",
       "      <th>HIGH</th>\n",
       "      <th>CLOSE</th>\n",
       "      <th>LOW</th>\n",
       "      <th>OPEN</th>\n",
       "      <th>COUNT</th>\n",
       "      <th>VOLUME</th>\n",
       "    </tr>\n",
       "    <tr>\n",
       "      <th>Date</th>\n",
       "      <th></th>\n",
       "      <th></th>\n",
       "      <th></th>\n",
       "      <th></th>\n",
       "      <th></th>\n",
       "      <th></th>\n",
       "    </tr>\n",
       "  </thead>\n",
       "  <tbody>\n",
       "    <tr>\n",
       "      <th>2024-02-05</th>\n",
       "      <td>411.16</td>\n",
       "      <td>405.65</td>\n",
       "      <td>403.99</td>\n",
       "      <td>409.9</td>\n",
       "      <td>455599</td>\n",
       "      <td>25352286</td>\n",
       "    </tr>\n",
       "    <tr>\n",
       "      <th>2024-02-06</th>\n",
       "      <td>407.97</td>\n",
       "      <td>405.49</td>\n",
       "      <td>402.91</td>\n",
       "      <td>405.88</td>\n",
       "      <td>342464</td>\n",
       "      <td>18382624</td>\n",
       "    </tr>\n",
       "    <tr>\n",
       "      <th>2024-02-07</th>\n",
       "      <td>414.3</td>\n",
       "      <td>414.05</td>\n",
       "      <td>407.4</td>\n",
       "      <td>407.44</td>\n",
       "      <td>352956</td>\n",
       "      <td>22340526</td>\n",
       "    </tr>\n",
       "    <tr>\n",
       "      <th>2024-02-08</th>\n",
       "      <td>415.56</td>\n",
       "      <td>414.11</td>\n",
       "      <td>412.53</td>\n",
       "      <td>414.05</td>\n",
       "      <td>323852</td>\n",
       "      <td>21225257</td>\n",
       "    </tr>\n",
       "    <tr>\n",
       "      <th>2024-02-09</th>\n",
       "      <td>420.82</td>\n",
       "      <td>420.55</td>\n",
       "      <td>415.09</td>\n",
       "      <td>415.25</td>\n",
       "      <td>369747</td>\n",
       "      <td>22032844</td>\n",
       "    </tr>\n",
       "    <tr>\n",
       "      <th>2024-02-12</th>\n",
       "      <td>420.74</td>\n",
       "      <td>415.26</td>\n",
       "      <td>414.75</td>\n",
       "      <td>420.555</td>\n",
       "      <td>401543</td>\n",
       "      <td>21202921</td>\n",
       "    </tr>\n",
       "    <tr>\n",
       "      <th>2024-02-13</th>\n",
       "      <td>410.071</td>\n",
       "      <td>406.32</td>\n",
       "      <td>403.39</td>\n",
       "      <td>404.94</td>\n",
       "      <td>544613</td>\n",
       "      <td>27824936</td>\n",
       "    </tr>\n",
       "    <tr>\n",
       "      <th>2024-02-14</th>\n",
       "      <td>409.84</td>\n",
       "      <td>409.49</td>\n",
       "      <td>404.57</td>\n",
       "      <td>408.07</td>\n",
       "      <td>384410</td>\n",
       "      <td>20401190</td>\n",
       "    </tr>\n",
       "    <tr>\n",
       "      <th>2024-02-15</th>\n",
       "      <td>409.13</td>\n",
       "      <td>406.56</td>\n",
       "      <td>404.29</td>\n",
       "      <td>408.14</td>\n",
       "      <td>412617</td>\n",
       "      <td>21825525</td>\n",
       "    </tr>\n",
       "    <tr>\n",
       "      <th>2024-02-16</th>\n",
       "      <td>408.29</td>\n",
       "      <td>404.06</td>\n",
       "      <td>403.44</td>\n",
       "      <td>407.96</td>\n",
       "      <td>371675</td>\n",
       "      <td>22296495</td>\n",
       "    </tr>\n",
       "  </tbody>\n",
       "</table>\n",
       "</div>"
      ],
      "text/plain": [
       "MSFT.O         HIGH   CLOSE     LOW     OPEN   COUNT    VOLUME\n",
       "Date                                                          \n",
       "2024-02-05   411.16  405.65  403.99    409.9  455599  25352286\n",
       "2024-02-06   407.97  405.49  402.91   405.88  342464  18382624\n",
       "2024-02-07    414.3  414.05   407.4   407.44  352956  22340526\n",
       "2024-02-08   415.56  414.11  412.53   414.05  323852  21225257\n",
       "2024-02-09   420.82  420.55  415.09   415.25  369747  22032844\n",
       "2024-02-12   420.74  415.26  414.75  420.555  401543  21202921\n",
       "2024-02-13  410.071  406.32  403.39   404.94  544613  27824936\n",
       "2024-02-14   409.84  409.49  404.57   408.07  384410  20401190\n",
       "2024-02-15   409.13  406.56  404.29   408.14  412617  21825525\n",
       "2024-02-16   408.29  404.06  403.44   407.96  371675  22296495"
      ]
     },
     "execution_count": 50,
     "metadata": {},
     "output_type": "execute_result"
    }
   ],
   "source": [
    "df_ts[-10:]"
   ]
  },
  {
   "cell_type": "markdown",
   "id": "80e047f0",
   "metadata": {},
   "source": [
    "# Estadística básica"
   ]
  },
  {
   "cell_type": "code",
   "execution_count": 76,
   "id": "626a0495",
   "metadata": {},
   "outputs": [
    {
     "data": {
      "text/html": [
       "<div>\n",
       "<style scoped>\n",
       "    .dataframe tbody tr th:only-of-type {\n",
       "        vertical-align: middle;\n",
       "    }\n",
       "\n",
       "    .dataframe tbody tr th {\n",
       "        vertical-align: top;\n",
       "    }\n",
       "\n",
       "    .dataframe thead th {\n",
       "        text-align: right;\n",
       "    }\n",
       "</style>\n",
       "<table border=\"1\" class=\"dataframe\">\n",
       "  <thead>\n",
       "    <tr style=\"text-align: right;\">\n",
       "      <th></th>\n",
       "      <th>Instrument</th>\n",
       "      <th>Holding RIC</th>\n",
       "      <th>Holding Name</th>\n",
       "      <th>Percentage of Fund Assets</th>\n",
       "      <th>Number of Shares</th>\n",
       "      <th>Number of Shares Changed</th>\n",
       "    </tr>\n",
       "  </thead>\n",
       "  <tbody>\n",
       "    <tr>\n",
       "      <th>0</th>\n",
       "      <td>IVV</td>\n",
       "      <td>MSFT.OQ</td>\n",
       "      <td>MICROSOFT CORP ORD</td>\n",
       "      <td>7.2476</td>\n",
       "      <td>76262210.0</td>\n",
       "      <td>2279218.0</td>\n",
       "    </tr>\n",
       "    <tr>\n",
       "      <th>1</th>\n",
       "      <td>IVV</td>\n",
       "      <td>AAPL.OQ</td>\n",
       "      <td>APPLE INC ORD</td>\n",
       "      <td>6.6122</td>\n",
       "      <td>150011064.0</td>\n",
       "      <td>4483445.0</td>\n",
       "    </tr>\n",
       "    <tr>\n",
       "      <th>2</th>\n",
       "      <td>IVV</td>\n",
       "      <td>NVDA.OQ</td>\n",
       "      <td>NVIDIA CORP ORD</td>\n",
       "      <td>3.7274</td>\n",
       "      <td>25344509.0</td>\n",
       "      <td>757684.0</td>\n",
       "    </tr>\n",
       "    <tr>\n",
       "      <th>3</th>\n",
       "      <td>IVV</td>\n",
       "      <td>AMZN.OQ</td>\n",
       "      <td>AMAZON.COM INC ORD</td>\n",
       "      <td>3.4617</td>\n",
       "      <td>93312685.0</td>\n",
       "      <td>2788765.0</td>\n",
       "    </tr>\n",
       "    <tr>\n",
       "      <th>4</th>\n",
       "      <td>IVV</td>\n",
       "      <td>META.OQ</td>\n",
       "      <td>META PLATFORMS INC ORD</td>\n",
       "      <td>2.1239</td>\n",
       "      <td>22775278.0</td>\n",
       "      <td>680485.0</td>\n",
       "    </tr>\n",
       "    <tr>\n",
       "      <th>...</th>\n",
       "      <td>...</td>\n",
       "      <td>...</td>\n",
       "      <td>...</td>\n",
       "      <td>...</td>\n",
       "      <td>...</td>\n",
       "      <td>...</td>\n",
       "    </tr>\n",
       "    <tr>\n",
       "      <th>505</th>\n",
       "      <td>IVV</td>\n",
       "      <td>ESH24</td>\n",
       "      <td>EMINI S&amp;P MAR4</td>\n",
       "      <td>0.0088</td>\n",
       "      <td>3644.0</td>\n",
       "      <td>-746.0</td>\n",
       "    </tr>\n",
       "    <tr>\n",
       "      <th>506</th>\n",
       "      <td>IVV</td>\n",
       "      <td>NWS.OQ</td>\n",
       "      <td>NEWS CORP ORD</td>\n",
       "      <td>0.0072</td>\n",
       "      <td>1176343.0</td>\n",
       "      <td>33660.0</td>\n",
       "    </tr>\n",
       "    <tr>\n",
       "      <th>507</th>\n",
       "      <td>IVV</td>\n",
       "      <td></td>\n",
       "      <td>OTHER FEES</td>\n",
       "      <td>0.0</td>\n",
       "      <td>4.0</td>\n",
       "      <td>0.0</td>\n",
       "    </tr>\n",
       "    <tr>\n",
       "      <th>508</th>\n",
       "      <td>IVV</td>\n",
       "      <td></td>\n",
       "      <td>TOPSIDE ADJUSTMENT</td>\n",
       "      <td>0.0</td>\n",
       "      <td>1.0</td>\n",
       "      <td>0.0</td>\n",
       "    </tr>\n",
       "    <tr>\n",
       "      <th>509</th>\n",
       "      <td>IVV</td>\n",
       "      <td></td>\n",
       "      <td>USD CASH</td>\n",
       "      <td>-0.5927</td>\n",
       "      <td>-2479435997.49</td>\n",
       "      <td>-403526951.06</td>\n",
       "    </tr>\n",
       "  </tbody>\n",
       "</table>\n",
       "<p>510 rows × 6 columns</p>\n",
       "</div>"
      ],
      "text/plain": [
       "    Instrument Holding RIC            Holding Name  Percentage of Fund Assets   \n",
       "0          IVV     MSFT.OQ      MICROSOFT CORP ORD                     7.2476  \\\n",
       "1          IVV     AAPL.OQ           APPLE INC ORD                     6.6122   \n",
       "2          IVV     NVDA.OQ         NVIDIA CORP ORD                     3.7274   \n",
       "3          IVV     AMZN.OQ      AMAZON.COM INC ORD                     3.4617   \n",
       "4          IVV     META.OQ  META PLATFORMS INC ORD                     2.1239   \n",
       "..         ...         ...                     ...                        ...   \n",
       "505        IVV       ESH24          EMINI S&P MAR4                     0.0088   \n",
       "506        IVV      NWS.OQ           NEWS CORP ORD                     0.0072   \n",
       "507        IVV                          OTHER FEES                        0.0   \n",
       "508        IVV                  TOPSIDE ADJUSTMENT                        0.0   \n",
       "509        IVV                            USD CASH                    -0.5927   \n",
       "\n",
       "     Number of Shares  Number of Shares Changed  \n",
       "0          76262210.0                 2279218.0  \n",
       "1         150011064.0                 4483445.0  \n",
       "2          25344509.0                  757684.0  \n",
       "3          93312685.0                 2788765.0  \n",
       "4          22775278.0                  680485.0  \n",
       "..                ...                       ...  \n",
       "505            3644.0                    -746.0  \n",
       "506         1176343.0                   33660.0  \n",
       "507               4.0                       0.0  \n",
       "508               1.0                       0.0  \n",
       "509    -2479435997.49             -403526951.06  \n",
       "\n",
       "[510 rows x 6 columns]"
      ]
     },
     "execution_count": 76,
     "metadata": {},
     "output_type": "execute_result"
    }
   ],
   "source": [
    "ivv"
   ]
  },
  {
   "cell_type": "code",
   "execution_count": 77,
   "id": "5063a2fb",
   "metadata": {},
   "outputs": [
    {
     "data": {
      "text/plain": [
       "['MSFT.OQ',\n",
       " 'AAPL.OQ',\n",
       " 'NVDA.OQ',\n",
       " 'AMZN.OQ',\n",
       " 'META.OQ',\n",
       " 'GOOGL.OQ',\n",
       " 'GOOG.OQ',\n",
       " 'BRKb.N',\n",
       " 'TSLA.OQ',\n",
       " 'AVGO.OQ']"
      ]
     },
     "execution_count": 77,
     "metadata": {},
     "output_type": "execute_result"
    }
   ],
   "source": [
    "ivv_corto = ivv['Holding RIC'][0:10].tolist()\n",
    "ivv_corto"
   ]
  },
  {
   "cell_type": "code",
   "execution_count": 71,
   "id": "c79a93b7",
   "metadata": {},
   "outputs": [
    {
     "name": "stdout",
     "output_type": "stream",
     "text": [
      "2024-02-26 17:39:08.841121 2023-11-18 17:39:08.841121\n"
     ]
    }
   ],
   "source": [
    "today = dt.datetime.today()\n",
    "d = today - dt.timedelta(days=100)\n",
    "print(today, d)"
   ]
  },
  {
   "cell_type": "code",
   "execution_count": 78,
   "id": "8d753be3",
   "metadata": {},
   "outputs": [
    {
     "data": {
      "text/html": [
       "<div>\n",
       "<style scoped>\n",
       "    .dataframe tbody tr th:only-of-type {\n",
       "        vertical-align: middle;\n",
       "    }\n",
       "\n",
       "    .dataframe tbody tr th {\n",
       "        vertical-align: top;\n",
       "    }\n",
       "\n",
       "    .dataframe thead th {\n",
       "        text-align: right;\n",
       "    }\n",
       "</style>\n",
       "<table border=\"1\" class=\"dataframe\">\n",
       "  <thead>\n",
       "    <tr style=\"text-align: right;\">\n",
       "      <th>CLOSE</th>\n",
       "      <th>MSFT.OQ</th>\n",
       "      <th>AAPL.OQ</th>\n",
       "      <th>NVDA.OQ</th>\n",
       "      <th>AMZN.OQ</th>\n",
       "      <th>META.OQ</th>\n",
       "      <th>GOOGL.OQ</th>\n",
       "      <th>GOOG.OQ</th>\n",
       "      <th>BRKb.N</th>\n",
       "      <th>TSLA.OQ</th>\n",
       "      <th>AVGO.OQ</th>\n",
       "    </tr>\n",
       "    <tr>\n",
       "      <th>Date</th>\n",
       "      <th></th>\n",
       "      <th></th>\n",
       "      <th></th>\n",
       "      <th></th>\n",
       "      <th></th>\n",
       "      <th></th>\n",
       "      <th></th>\n",
       "      <th></th>\n",
       "      <th></th>\n",
       "      <th></th>\n",
       "    </tr>\n",
       "  </thead>\n",
       "  <tbody>\n",
       "    <tr>\n",
       "      <th>2023-11-20</th>\n",
       "      <td>377.44</td>\n",
       "      <td>191.45</td>\n",
       "      <td>504.09</td>\n",
       "      <td>146.13</td>\n",
       "      <td>339.97</td>\n",
       "      <td>136.25</td>\n",
       "      <td>137.92</td>\n",
       "      <td>361.33</td>\n",
       "      <td>235.6</td>\n",
       "      <td>995.71</td>\n",
       "    </tr>\n",
       "    <tr>\n",
       "      <th>2023-11-21</th>\n",
       "      <td>373.07</td>\n",
       "      <td>190.64</td>\n",
       "      <td>499.44</td>\n",
       "      <td>143.9</td>\n",
       "      <td>336.98</td>\n",
       "      <td>136.97</td>\n",
       "      <td>138.62</td>\n",
       "      <td>361.0</td>\n",
       "      <td>241.2</td>\n",
       "      <td>981.2</td>\n",
       "    </tr>\n",
       "    <tr>\n",
       "      <th>2023-11-22</th>\n",
       "      <td>377.85</td>\n",
       "      <td>191.31</td>\n",
       "      <td>487.16</td>\n",
       "      <td>146.71</td>\n",
       "      <td>341.49</td>\n",
       "      <td>138.49</td>\n",
       "      <td>140.02</td>\n",
       "      <td>361.8</td>\n",
       "      <td>234.21</td>\n",
       "      <td>972.0</td>\n",
       "    </tr>\n",
       "    <tr>\n",
       "      <th>2023-11-24</th>\n",
       "      <td>377.43</td>\n",
       "      <td>189.97</td>\n",
       "      <td>477.76</td>\n",
       "      <td>146.74</td>\n",
       "      <td>338.23</td>\n",
       "      <td>136.69</td>\n",
       "      <td>138.22</td>\n",
       "      <td>362.68</td>\n",
       "      <td>235.45</td>\n",
       "      <td>978.87</td>\n",
       "    </tr>\n",
       "    <tr>\n",
       "      <th>2023-11-27</th>\n",
       "      <td>378.61</td>\n",
       "      <td>189.79</td>\n",
       "      <td>482.42</td>\n",
       "      <td>147.73</td>\n",
       "      <td>334.7</td>\n",
       "      <td>136.41</td>\n",
       "      <td>138.05</td>\n",
       "      <td>361.34</td>\n",
       "      <td>236.08</td>\n",
       "      <td>950.24</td>\n",
       "    </tr>\n",
       "    <tr>\n",
       "      <th>...</th>\n",
       "      <td>...</td>\n",
       "      <td>...</td>\n",
       "      <td>...</td>\n",
       "      <td>...</td>\n",
       "      <td>...</td>\n",
       "      <td>...</td>\n",
       "      <td>...</td>\n",
       "      <td>...</td>\n",
       "      <td>...</td>\n",
       "      <td>...</td>\n",
       "    </tr>\n",
       "    <tr>\n",
       "      <th>2024-02-20</th>\n",
       "      <td>402.79</td>\n",
       "      <td>181.56</td>\n",
       "      <td>694.52</td>\n",
       "      <td>167.08</td>\n",
       "      <td>471.75</td>\n",
       "      <td>141.12</td>\n",
       "      <td>142.2</td>\n",
       "      <td>407.15</td>\n",
       "      <td>193.76</td>\n",
       "      <td>1226.55</td>\n",
       "    </tr>\n",
       "    <tr>\n",
       "      <th>2024-02-21</th>\n",
       "      <td>402.18</td>\n",
       "      <td>182.32</td>\n",
       "      <td>674.72</td>\n",
       "      <td>168.59</td>\n",
       "      <td>468.03</td>\n",
       "      <td>142.55</td>\n",
       "      <td>143.84</td>\n",
       "      <td>409.25</td>\n",
       "      <td>194.77</td>\n",
       "      <td>1227.45</td>\n",
       "    </tr>\n",
       "    <tr>\n",
       "      <th>2024-02-22</th>\n",
       "      <td>411.65</td>\n",
       "      <td>184.37</td>\n",
       "      <td>785.38</td>\n",
       "      <td>174.58</td>\n",
       "      <td>486.13</td>\n",
       "      <td>144.09</td>\n",
       "      <td>145.32</td>\n",
       "      <td>415.16</td>\n",
       "      <td>197.41</td>\n",
       "      <td>1304.9</td>\n",
       "    </tr>\n",
       "    <tr>\n",
       "      <th>2024-02-23</th>\n",
       "      <td>410.34</td>\n",
       "      <td>182.52</td>\n",
       "      <td>788.17</td>\n",
       "      <td>174.99</td>\n",
       "      <td>484.03</td>\n",
       "      <td>143.96</td>\n",
       "      <td>145.29</td>\n",
       "      <td>417.22</td>\n",
       "      <td>191.97</td>\n",
       "      <td>1296.37</td>\n",
       "    </tr>\n",
       "    <tr>\n",
       "      <th>2024-02-26</th>\n",
       "      <td>407.54</td>\n",
       "      <td>181.16</td>\n",
       "      <td>790.92</td>\n",
       "      <td>174.73</td>\n",
       "      <td>481.74</td>\n",
       "      <td>137.57</td>\n",
       "      <td>138.75</td>\n",
       "      <td>409.14</td>\n",
       "      <td>199.4</td>\n",
       "      <td>1309.13</td>\n",
       "    </tr>\n",
       "  </tbody>\n",
       "</table>\n",
       "<p>66 rows × 10 columns</p>\n",
       "</div>"
      ],
      "text/plain": [
       "CLOSE       MSFT.OQ  AAPL.OQ  NVDA.OQ  AMZN.OQ  META.OQ  GOOGL.OQ  GOOG.OQ   \n",
       "Date                                                                         \n",
       "2023-11-20   377.44   191.45   504.09   146.13   339.97    136.25   137.92  \\\n",
       "2023-11-21   373.07   190.64   499.44    143.9   336.98    136.97   138.62   \n",
       "2023-11-22   377.85   191.31   487.16   146.71   341.49    138.49   140.02   \n",
       "2023-11-24   377.43   189.97   477.76   146.74   338.23    136.69   138.22   \n",
       "2023-11-27   378.61   189.79   482.42   147.73    334.7    136.41   138.05   \n",
       "...             ...      ...      ...      ...      ...       ...      ...   \n",
       "2024-02-20   402.79   181.56   694.52   167.08   471.75    141.12    142.2   \n",
       "2024-02-21   402.18   182.32   674.72   168.59   468.03    142.55   143.84   \n",
       "2024-02-22   411.65   184.37   785.38   174.58   486.13    144.09   145.32   \n",
       "2024-02-23   410.34   182.52   788.17   174.99   484.03    143.96   145.29   \n",
       "2024-02-26   407.54   181.16   790.92   174.73   481.74    137.57   138.75   \n",
       "\n",
       "CLOSE       BRKb.N  TSLA.OQ  AVGO.OQ  \n",
       "Date                                  \n",
       "2023-11-20  361.33    235.6   995.71  \n",
       "2023-11-21   361.0    241.2    981.2  \n",
       "2023-11-22   361.8   234.21    972.0  \n",
       "2023-11-24  362.68   235.45   978.87  \n",
       "2023-11-27  361.34   236.08   950.24  \n",
       "...            ...      ...      ...  \n",
       "2024-02-20  407.15   193.76  1226.55  \n",
       "2024-02-21  409.25   194.77  1227.45  \n",
       "2024-02-22  415.16   197.41   1304.9  \n",
       "2024-02-23  417.22   191.97  1296.37  \n",
       "2024-02-26  409.14    199.4  1309.13  \n",
       "\n",
       "[66 rows x 10 columns]"
      ]
     },
     "execution_count": 78,
     "metadata": {},
     "output_type": "execute_result"
    }
   ],
   "source": [
    "df = ek.get_timeseries(ivv_corto, start_date = d, end_date = today, fields='CLOSE', interval=\"daily\")\n",
    "df"
   ]
  },
  {
   "cell_type": "code",
   "execution_count": 79,
   "id": "b4c35f3d",
   "metadata": {},
   "outputs": [
    {
     "data": {
      "text/html": [
       "<div>\n",
       "<style scoped>\n",
       "    .dataframe tbody tr th:only-of-type {\n",
       "        vertical-align: middle;\n",
       "    }\n",
       "\n",
       "    .dataframe tbody tr th {\n",
       "        vertical-align: top;\n",
       "    }\n",
       "\n",
       "    .dataframe thead th {\n",
       "        text-align: right;\n",
       "    }\n",
       "</style>\n",
       "<table border=\"1\" class=\"dataframe\">\n",
       "  <thead>\n",
       "    <tr style=\"text-align: right;\">\n",
       "      <th>CLOSE</th>\n",
       "      <th>MSFT.OQ</th>\n",
       "      <th>AAPL.OQ</th>\n",
       "      <th>NVDA.OQ</th>\n",
       "      <th>AMZN.OQ</th>\n",
       "      <th>META.OQ</th>\n",
       "      <th>GOOGL.OQ</th>\n",
       "      <th>GOOG.OQ</th>\n",
       "      <th>BRKb.N</th>\n",
       "      <th>TSLA.OQ</th>\n",
       "      <th>AVGO.OQ</th>\n",
       "    </tr>\n",
       "  </thead>\n",
       "  <tbody>\n",
       "    <tr>\n",
       "      <th>count</th>\n",
       "      <td>66.0</td>\n",
       "      <td>66.0</td>\n",
       "      <td>66.0</td>\n",
       "      <td>66.0</td>\n",
       "      <td>66.0</td>\n",
       "      <td>66.0</td>\n",
       "      <td>66.0</td>\n",
       "      <td>66.0</td>\n",
       "      <td>66.0</td>\n",
       "      <td>66.0</td>\n",
       "    </tr>\n",
       "    <tr>\n",
       "      <th>mean</th>\n",
       "      <td>387.968333</td>\n",
       "      <td>189.423788</td>\n",
       "      <td>567.606667</td>\n",
       "      <td>155.903939</td>\n",
       "      <td>382.784091</td>\n",
       "      <td>140.373712</td>\n",
       "      <td>141.786515</td>\n",
       "      <td>372.939697</td>\n",
       "      <td>221.927121</td>\n",
       "      <td>1123.649091</td>\n",
       "    </tr>\n",
       "    <tr>\n",
       "      <th>std</th>\n",
       "      <td>16.361964</td>\n",
       "      <td>4.738616</td>\n",
       "      <td>101.033517</td>\n",
       "      <td>9.597067</td>\n",
       "      <td>54.904514</td>\n",
       "      <td>5.649534</td>\n",
       "      <td>5.661218</td>\n",
       "      <td>18.639667</td>\n",
       "      <td>25.407271</td>\n",
       "      <td>117.199601</td>\n",
       "    </tr>\n",
       "    <tr>\n",
       "      <th>min</th>\n",
       "      <td>365.93</td>\n",
       "      <td>181.16</td>\n",
       "      <td>455.03</td>\n",
       "      <td>143.9</td>\n",
       "      <td>317.45</td>\n",
       "      <td>129.27</td>\n",
       "      <td>130.63</td>\n",
       "      <td>352.38</td>\n",
       "      <td>181.06</td>\n",
       "      <td>903.64</td>\n",
       "    </tr>\n",
       "    <tr>\n",
       "      <th>25%</th>\n",
       "      <td>374.11</td>\n",
       "      <td>185.5675</td>\n",
       "      <td>481.865</td>\n",
       "      <td>147.435</td>\n",
       "      <td>339.235</td>\n",
       "      <td>136.47</td>\n",
       "      <td>138.0625</td>\n",
       "      <td>358.84</td>\n",
       "      <td>194.0125</td>\n",
       "      <td>1051.605</td>\n",
       "    </tr>\n",
       "    <tr>\n",
       "      <th>50%</th>\n",
       "      <td>380.805</td>\n",
       "      <td>189.61</td>\n",
       "      <td>526.965</td>\n",
       "      <td>153.46</td>\n",
       "      <td>358.49</td>\n",
       "      <td>140.47</td>\n",
       "      <td>141.8</td>\n",
       "      <td>363.48</td>\n",
       "      <td>234.585</td>\n",
       "      <td>1124.29</td>\n",
       "    </tr>\n",
       "    <tr>\n",
       "      <th>75%</th>\n",
       "      <td>404.0275</td>\n",
       "      <td>193.36</td>\n",
       "      <td>629.6375</td>\n",
       "      <td>160.765</td>\n",
       "      <td>400.78</td>\n",
       "      <td>143.89</td>\n",
       "      <td>145.215</td>\n",
       "      <td>386.9725</td>\n",
       "      <td>241.0125</td>\n",
       "      <td>1225.8175</td>\n",
       "    </tr>\n",
       "    <tr>\n",
       "      <th>max</th>\n",
       "      <td>420.55</td>\n",
       "      <td>198.11</td>\n",
       "      <td>790.92</td>\n",
       "      <td>174.99</td>\n",
       "      <td>486.13</td>\n",
       "      <td>153.51</td>\n",
       "      <td>154.84</td>\n",
       "      <td>417.22</td>\n",
       "      <td>261.44</td>\n",
       "      <td>1309.13</td>\n",
       "    </tr>\n",
       "  </tbody>\n",
       "</table>\n",
       "</div>"
      ],
      "text/plain": [
       "CLOSE     MSFT.OQ     AAPL.OQ     NVDA.OQ     AMZN.OQ     META.OQ    GOOGL.OQ   \n",
       "count        66.0        66.0        66.0        66.0        66.0        66.0  \\\n",
       "mean   387.968333  189.423788  567.606667  155.903939  382.784091  140.373712   \n",
       "std     16.361964    4.738616  101.033517    9.597067   54.904514    5.649534   \n",
       "min        365.93      181.16      455.03       143.9      317.45      129.27   \n",
       "25%        374.11    185.5675     481.865     147.435     339.235      136.47   \n",
       "50%       380.805      189.61     526.965      153.46      358.49      140.47   \n",
       "75%      404.0275      193.36    629.6375     160.765      400.78      143.89   \n",
       "max        420.55      198.11      790.92      174.99      486.13      153.51   \n",
       "\n",
       "CLOSE     GOOG.OQ      BRKb.N     TSLA.OQ      AVGO.OQ  \n",
       "count        66.0        66.0        66.0         66.0  \n",
       "mean   141.786515  372.939697  221.927121  1123.649091  \n",
       "std      5.661218   18.639667   25.407271   117.199601  \n",
       "min        130.63      352.38      181.06       903.64  \n",
       "25%      138.0625      358.84    194.0125     1051.605  \n",
       "50%         141.8      363.48     234.585      1124.29  \n",
       "75%       145.215    386.9725    241.0125    1225.8175  \n",
       "max        154.84      417.22      261.44      1309.13  "
      ]
     },
     "execution_count": 79,
     "metadata": {},
     "output_type": "execute_result"
    }
   ],
   "source": [
    "df.describe()"
   ]
  },
  {
   "cell_type": "code",
   "execution_count": 81,
   "id": "9f4b2137",
   "metadata": {},
   "outputs": [
    {
     "name": "stdout",
     "output_type": "stream",
     "text": [
      "CLOSE      MSFT.OQ   AAPL.OQ   NVDA.OQ   AMZN.OQ   META.OQ  GOOGL.OQ   \n",
      "CLOSE                                                                  \n",
      "MSFT.OQ   1.000000 -0.407309  0.934637  0.893371  0.901274  0.786455  \\\n",
      "AAPL.OQ  -0.407309  1.000000 -0.528410 -0.435077 -0.545918 -0.214425   \n",
      "NVDA.OQ   0.934637 -0.528410  1.000000  0.957440  0.974326  0.663464   \n",
      "AMZN.OQ   0.893371 -0.435077  0.957440  1.000000  0.978047  0.640305   \n",
      "META.OQ   0.901274 -0.545918  0.974326  0.978047  1.000000  0.632121   \n",
      "GOOGL.OQ  0.786455 -0.214425  0.663464  0.640305  0.632121  1.000000   \n",
      "GOOG.OQ   0.777860 -0.212372  0.651394  0.622690  0.616447  0.999450   \n",
      "BRKb.N    0.876675 -0.577506  0.958413  0.923061  0.956771  0.571919   \n",
      "TSLA.OQ  -0.937988  0.475609 -0.880439 -0.796521 -0.835189 -0.710986   \n",
      "AVGO.OQ   0.817945 -0.289088  0.866241  0.877884  0.857630  0.752250   \n",
      "\n",
      "CLOSE      GOOG.OQ    BRKb.N   TSLA.OQ   AVGO.OQ  \n",
      "CLOSE                                             \n",
      "MSFT.OQ   0.777860  0.876675 -0.937988  0.817945  \n",
      "AAPL.OQ  -0.212372 -0.577506  0.475609 -0.289088  \n",
      "NVDA.OQ   0.651394  0.958413 -0.880439  0.866241  \n",
      "AMZN.OQ   0.622690  0.923061 -0.796521  0.877884  \n",
      "META.OQ   0.616447  0.956771 -0.835189  0.857630  \n",
      "GOOGL.OQ  0.999450  0.571919 -0.710986  0.752250  \n",
      "GOOG.OQ   1.000000  0.559340 -0.707170  0.739692  \n",
      "BRKb.N    0.559340  1.000000 -0.849943  0.798202  \n",
      "TSLA.OQ  -0.707170 -0.849943  1.000000 -0.728489  \n",
      "AVGO.OQ   0.739692  0.798202 -0.728489  1.000000  \n"
     ]
    }
   ],
   "source": [
    "correlacion = df[ivv_corto].corr()\n",
    "print(correlacion)"
   ]
  },
  {
   "cell_type": "code",
   "execution_count": 82,
   "id": "9fc5e2f0",
   "metadata": {},
   "outputs": [
    {
     "data": {
      "text/plain": [
       "<Axes: xlabel='CLOSE', ylabel='CLOSE'>"
      ]
     },
     "execution_count": 82,
     "metadata": {},
     "output_type": "execute_result"
    },
    {
     "data": {
      "image/png": "[encoded data removed]",
      "text/plain": [
       "<Figure size 640x480 with 2 Axes>"
      ]
     },
     "metadata": {},
     "output_type": "display_data"
    }
   ],
   "source": [
    "import seaborn as sns\n",
    "sns.heatmap(df[ivv_corto].corr(), annot = True, fmt='.2g',cmap= 'coolwarm')"
   ]
  },
  {
   "cell_type": "markdown",
   "id": "843c63ce",
   "metadata": {},
   "source": [
    "# Bibliografía"
   ]
  },
  {
   "cell_type": "markdown",
   "id": "733cbe37",
   "metadata": {},
   "source": [
    "Python for Finance, 2nd Edition. December 2018 O'Reilly Media, Inc.\n",
    "Numpy | ndarray Last Updated : 28 Jun, 2021 https://www.geeksforgeeks.org/numpy-ndarray/\n",
    "Machine Learning for Trading, Tucker Balch, Arpan Chakraborty, Udacity. https://www.udacity.com/course/machine-learning-for-trading--ud501"
   ]
  },
  {
   "cell_type": "code",
   "execution_count": null,
   "id": "577d1927",
   "metadata": {},
   "outputs": [],
   "source": []
  }
 ],
 "metadata": {
  "kernelspec": {
   "display_name": "Python 3 (ipykernel)",
   "language": "python",
   "name": "python3"
  },
  "language_info": {
   "codemirror_mode": {
    "name": "ipython",
    "version": 3
   },
   "file_extension": ".py",
   "mimetype": "text/x-python",
   "name": "python",
   "nbconvert_exporter": "python",
   "pygments_lexer": "ipython3",
   "version": "3.8.15"
  }
 },
 "nbformat": 4,
 "nbformat_minor": 5
}
