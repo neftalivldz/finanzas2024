{
 "cells": [
  {
   "cell_type": "markdown",
   "id": "1334912b",
   "metadata": {},
   "source": [
    "# Información y Programación Financiera, TI, Algoritmos y Ciencia de Datos"
   ]
  },
  {
   "cell_type": "markdown",
   "id": "d582e293",
   "metadata": {},
   "source": [
    "Neftalí Valdez\n",
    "\n",
    "<a href=\"http://twitter.com/neftalivldz\" target=\"_blank\">@neftalivldz</a> | <a href=\"mailto:nvaldez@tec.mx\">nvaldez@tec.mx</a>"
   ]
  },
  {
   "cell_type": "code",
   "execution_count": 1,
   "id": "d7e54f6e",
   "metadata": {},
   "outputs": [],
   "source": [
    "#!pip3 install eikon\n",
    "#!pip3 install cufflinks\n",
    "#!pip3 install seaborn"
   ]
  },
  {
   "cell_type": "markdown",
   "id": "ce666ef7",
   "metadata": {},
   "source": [
    "# Importar librerías"
   ]
  },
  {
   "cell_type": "code",
   "execution_count": 1,
   "id": "500ee4fb",
   "metadata": {},
   "outputs": [
    {
     "data": {
      "text/html": [
       "        <script type=\"text/javascript\">\n",
       "        window.PlotlyConfig = {MathJaxConfig: 'local'};\n",
       "        if (window.MathJax && window.MathJax.Hub && window.MathJax.Hub.Config) {window.MathJax.Hub.Config({SVG: {font: \"STIX-Web\"}});}\n",
       "        if (typeof require !== 'undefined') {\n",
       "        require.undef(\"plotly\");\n",
       "        requirejs.config({\n",
       "            paths: {\n",
       "                'plotly': ['https://cdn.plot.ly/plotly-2.25.2.min']\n",
       "            }\n",
       "        });\n",
       "        require(['plotly'], function(Plotly) {\n",
       "            window._Plotly = Plotly;\n",
       "        });\n",
       "        }\n",
       "        </script>\n",
       "        "
      ]
     },
     "metadata": {},
     "output_type": "display_data"
    },
    {
     "data": {
      "text/html": [
       "        <script type=\"text/javascript\">\n",
       "        window.PlotlyConfig = {MathJaxConfig: 'local'};\n",
       "        if (window.MathJax && window.MathJax.Hub && window.MathJax.Hub.Config) {window.MathJax.Hub.Config({SVG: {font: \"STIX-Web\"}});}\n",
       "        if (typeof require !== 'undefined') {\n",
       "        require.undef(\"plotly\");\n",
       "        requirejs.config({\n",
       "            paths: {\n",
       "                'plotly': ['https://cdn.plot.ly/plotly-2.25.2.min']\n",
       "            }\n",
       "        });\n",
       "        require(['plotly'], function(Plotly) {\n",
       "            window._Plotly = Plotly;\n",
       "        });\n",
       "        }\n",
       "        </script>\n",
       "        "
      ]
     },
     "metadata": {},
     "output_type": "display_data"
    }
   ],
   "source": [
    "import eikon as ek  # the Eikon Python wrapper package\n",
    "import numpy as np  # NumPy\n",
    "import pandas as pd  # pandas\n",
    "import cufflinks as cf  # Cufflinks\n",
    "import configparser as cp\n",
    "cf.set_config_file(offline=True)  # set the plotting mode to offline"
   ]
  },
  {
   "cell_type": "code",
   "execution_count": 2,
   "id": "d7f3a7fa",
   "metadata": {},
   "outputs": [],
   "source": [
    "# Se inicia la conexión a refinitiv mediante eikon "
   ]
  },
  {
   "cell_type": "code",
   "execution_count": 3,
   "id": "90dded4e",
   "metadata": {},
   "outputs": [],
   "source": [
    "cfg = cp.ConfigParser()\n",
    "cfg.read('../refinitiv.cfg')\n",
    "ek.set_app_key(cfg['eikon']['app_id'])"
   ]
  },
  {
   "cell_type": "code",
   "execution_count": 4,
   "id": "2a6b21a0",
   "metadata": {},
   "outputs": [
    {
     "name": "stdout",
     "output_type": "stream",
     "text": [
      "/Users/neftalivaldez/app/tec/finanzas2024\r\n"
     ]
    }
   ],
   "source": [
    "!pwd"
   ]
  },
  {
   "cell_type": "markdown",
   "id": "09f06a5a",
   "metadata": {},
   "source": [
    "### Numpy"
   ]
  },
  {
   "cell_type": "code",
   "execution_count": 5,
   "id": "73a8c712",
   "metadata": {},
   "outputs": [
    {
     "name": "stdout",
     "output_type": "stream",
     "text": [
      "Array is of type:  <class 'numpy.ndarray'>\n",
      "No. of dimensions:  2\n",
      "Shape of array:  (2, 3)\n",
      "Size of array:  6\n",
      "Array stores elements of type:  int64\n"
     ]
    }
   ],
   "source": [
    "# Python program to demonstrate\n",
    "# basic array characteristics\n",
    "import numpy as np\n",
    " \n",
    "# Creating array object\n",
    "arr = np.array( [[ 1, 2, 3],\n",
    "                 [ 4, 2, 5]] )\n",
    " \n",
    "# Printing type of arr object\n",
    "print(\"Array is of type: \", type(arr))\n",
    " \n",
    "# Printing array dimensions (axes)\n",
    "print(\"No. of dimensions: \", arr.ndim)\n",
    " \n",
    "# Printing shape of array\n",
    "print(\"Shape of array: \", arr.shape)\n",
    " \n",
    "# Printing size (total number of elements) of array\n",
    "print(\"Size of array: \", arr.size)\n",
    " \n",
    "# Printing type of elements in array\n",
    "print(\"Array stores elements of type: \", arr.dtype)"
   ]
  },
  {
   "cell_type": "markdown",
   "id": "5721f01e",
   "metadata": {},
   "source": [
    "## Python Pandas"
   ]
  },
  {
   "cell_type": "code",
   "execution_count": 6,
   "id": "bdde4180",
   "metadata": {},
   "outputs": [
    {
     "data": {
      "text/html": [
       "<div>\n",
       "<style scoped>\n",
       "    .dataframe tbody tr th:only-of-type {\n",
       "        vertical-align: middle;\n",
       "    }\n",
       "\n",
       "    .dataframe tbody tr th {\n",
       "        vertical-align: top;\n",
       "    }\n",
       "\n",
       "    .dataframe thead th {\n",
       "        text-align: right;\n",
       "    }\n",
       "</style>\n",
       "<table border=\"1\" class=\"dataframe\">\n",
       "  <thead>\n",
       "    <tr style=\"text-align: right;\">\n",
       "      <th></th>\n",
       "      <th>sesion</th>\n",
       "      <th>asistencia</th>\n",
       "    </tr>\n",
       "  </thead>\n",
       "  <tbody>\n",
       "    <tr>\n",
       "      <th>0</th>\n",
       "      <td>420</td>\n",
       "      <td>25</td>\n",
       "    </tr>\n",
       "    <tr>\n",
       "      <th>1</th>\n",
       "      <td>380</td>\n",
       "      <td>20</td>\n",
       "    </tr>\n",
       "    <tr>\n",
       "      <th>2</th>\n",
       "      <td>390</td>\n",
       "      <td>27</td>\n",
       "    </tr>\n",
       "  </tbody>\n",
       "</table>\n",
       "</div>"
      ],
      "text/plain": [
       "   sesion  asistencia\n",
       "0     420          25\n",
       "1     380          20\n",
       "2     390          27"
      ]
     },
     "execution_count": 6,
     "metadata": {},
     "output_type": "execute_result"
    }
   ],
   "source": [
    "import pandas as pd \n",
    "\n",
    "data = {\n",
    "  \"sesion\": [420, 380, 390],\n",
    "  \"asistencia\": [25, 20, 27]\n",
    "}\n",
    "\n",
    "#load data into a DataFrame object:\n",
    "df = pd.DataFrame(data)\n",
    "\n",
    "df"
   ]
  },
  {
   "cell_type": "code",
   "execution_count": 7,
   "id": "fc2645c4",
   "metadata": {},
   "outputs": [
    {
     "name": "stdout",
     "output_type": "stream",
     "text": [
      "sesion        390\n",
      "asistencia     27\n",
      "Name: 2, dtype: int64\n"
     ]
    }
   ],
   "source": [
    "#utilización de índice:\n",
    "print(df.loc[2])"
   ]
  },
  {
   "cell_type": "code",
   "execution_count": 8,
   "id": "4505a8b9",
   "metadata": {},
   "outputs": [
    {
     "data": {
      "text/html": [
       "<div>\n",
       "<style scoped>\n",
       "    .dataframe tbody tr th:only-of-type {\n",
       "        vertical-align: middle;\n",
       "    }\n",
       "\n",
       "    .dataframe tbody tr th {\n",
       "        vertical-align: top;\n",
       "    }\n",
       "\n",
       "    .dataframe thead th {\n",
       "        text-align: right;\n",
       "    }\n",
       "</style>\n",
       "<table border=\"1\" class=\"dataframe\">\n",
       "  <thead>\n",
       "    <tr style=\"text-align: right;\">\n",
       "      <th></th>\n",
       "      <th>sesion</th>\n",
       "      <th>asistencia</th>\n",
       "    </tr>\n",
       "  </thead>\n",
       "  <tbody>\n",
       "    <tr>\n",
       "      <th>dia1</th>\n",
       "      <td>420</td>\n",
       "      <td>25</td>\n",
       "    </tr>\n",
       "    <tr>\n",
       "      <th>dia2</th>\n",
       "      <td>380</td>\n",
       "      <td>20</td>\n",
       "    </tr>\n",
       "    <tr>\n",
       "      <th>dia3</th>\n",
       "      <td>390</td>\n",
       "      <td>27</td>\n",
       "    </tr>\n",
       "  </tbody>\n",
       "</table>\n",
       "</div>"
      ],
      "text/plain": [
       "      sesion  asistencia\n",
       "dia1     420          25\n",
       "dia2     380          20\n",
       "dia3     390          27"
      ]
     },
     "execution_count": 8,
     "metadata": {},
     "output_type": "execute_result"
    }
   ],
   "source": [
    "df = pd.DataFrame(data, index = [\"dia1\", \"dia2\", \"dia3\"])\n",
    "\n",
    "df "
   ]
  },
  {
   "cell_type": "code",
   "execution_count": 9,
   "id": "6b27f989",
   "metadata": {},
   "outputs": [
    {
     "data": {
      "text/html": [
       "<div>\n",
       "<style scoped>\n",
       "    .dataframe tbody tr th:only-of-type {\n",
       "        vertical-align: middle;\n",
       "    }\n",
       "\n",
       "    .dataframe tbody tr th {\n",
       "        vertical-align: top;\n",
       "    }\n",
       "\n",
       "    .dataframe thead th {\n",
       "        text-align: right;\n",
       "    }\n",
       "</style>\n",
       "<table border=\"1\" class=\"dataframe\">\n",
       "  <thead>\n",
       "    <tr style=\"text-align: right;\">\n",
       "      <th></th>\n",
       "      <th>sesion</th>\n",
       "      <th>asistencia</th>\n",
       "    </tr>\n",
       "  </thead>\n",
       "  <tbody>\n",
       "    <tr>\n",
       "      <th>dia1</th>\n",
       "      <td>420</td>\n",
       "      <td>25</td>\n",
       "    </tr>\n",
       "    <tr>\n",
       "      <th>dia2</th>\n",
       "      <td>380</td>\n",
       "      <td>20</td>\n",
       "    </tr>\n",
       "    <tr>\n",
       "      <th>dia3</th>\n",
       "      <td>390</td>\n",
       "      <td>27</td>\n",
       "    </tr>\n",
       "  </tbody>\n",
       "</table>\n",
       "</div>"
      ],
      "text/plain": [
       "      sesion  asistencia\n",
       "dia1     420          25\n",
       "dia2     380          20\n",
       "dia3     390          27"
      ]
     },
     "execution_count": 9,
     "metadata": {},
     "output_type": "execute_result"
    }
   ],
   "source": [
    "df"
   ]
  },
  {
   "cell_type": "markdown",
   "id": "198cec1a",
   "metadata": {},
   "source": [
    "# Refinitiv Python"
   ]
  },
  {
   "cell_type": "markdown",
   "id": "ce4c3fe1",
   "metadata": {},
   "source": [
    "# Extracción de datos estructurados"
   ]
  },
  {
   "cell_type": "markdown",
   "id": "4b52959d",
   "metadata": {},
   "source": [
    "Las funciones básicas para extraer datos de eikon son las siguiente:\n",
    "- get_symbology\n",
    "- get_data\n",
    "- get_timeseries\n",
    "\n",
    "get_symbology(symbol, from_symbol_type='RIC', to_symbol_type=None, raw_output=False, debug=False, bestMatch=True)\n",
    "Devuelve una lista de nombre de instrumentos convertiods en el código del intrumento.\n",
    "\n",
    "get_data(instruments, fields, parameters=None, field_name=False, raw_output=False, debug=False)\n",
    "Devuelve un dataframe de pandas con campos en columnas e intrumentos como índice de renglones.\n",
    "\n",
    "get_timeseries(rics, fields='*', start_date=None, end_date=None, interval='daily', count=None, calendar=None, corax=None, normalize=False, raw_output=False, debug=False)\n",
    "Devuelve series históricas de uno o varios RICs.\n",
    "<br>\n",
    "Referencia: https://docs-developers.refinitiv.com/1594387995587/14684/book/en/eikon/index.html\n",
    "RICs Reuters instrument code"
   ]
  },
  {
   "cell_type": "markdown",
   "id": "42f95495",
   "metadata": {},
   "source": [
    "# Obtener datos"
   ]
  },
  {
   "cell_type": "code",
   "execution_count": 10,
   "id": "7bb540fd",
   "metadata": {},
   "outputs": [],
   "source": [
    "data, err = ek.get_data([\"SPOT.K\", \"IBM\", \"GOOG.O\", \"MSFT.O\"], [\"TR.PriceClose\", \"TR.Volume\", \"TR.PriceLow\", \"TR.TotalReturnYTD\"])"
   ]
  },
  {
   "cell_type": "code",
   "execution_count": 11,
   "id": "26d9d49d",
   "metadata": {},
   "outputs": [
    {
     "data": {
      "text/html": [
       "<div>\n",
       "<style scoped>\n",
       "    .dataframe tbody tr th:only-of-type {\n",
       "        vertical-align: middle;\n",
       "    }\n",
       "\n",
       "    .dataframe tbody tr th {\n",
       "        vertical-align: top;\n",
       "    }\n",
       "\n",
       "    .dataframe thead th {\n",
       "        text-align: right;\n",
       "    }\n",
       "</style>\n",
       "<table border=\"1\" class=\"dataframe\">\n",
       "  <thead>\n",
       "    <tr style=\"text-align: right;\">\n",
       "      <th></th>\n",
       "      <th>Instrument</th>\n",
       "      <th>Price Close</th>\n",
       "      <th>Volume</th>\n",
       "      <th>Price Low</th>\n",
       "      <th>YTD Total Return</th>\n",
       "    </tr>\n",
       "  </thead>\n",
       "  <tbody>\n",
       "    <tr>\n",
       "      <th>0</th>\n",
       "      <td>SPOT.K</td>\n",
       "      <td>246.25</td>\n",
       "      <td>1548596</td>\n",
       "      <td>243.38</td>\n",
       "      <td>31.046778</td>\n",
       "    </tr>\n",
       "    <tr>\n",
       "      <th>1</th>\n",
       "      <td>IBM</td>\n",
       "      <td>187.64</td>\n",
       "      <td>4842840</td>\n",
       "      <td>185.9452</td>\n",
       "      <td>15.762478</td>\n",
       "    </tr>\n",
       "    <tr>\n",
       "      <th>2</th>\n",
       "      <td>GOOG.O</td>\n",
       "      <td>141.76</td>\n",
       "      <td>21865118</td>\n",
       "      <td>141.52</td>\n",
       "      <td>0.588945</td>\n",
       "    </tr>\n",
       "    <tr>\n",
       "      <th>3</th>\n",
       "      <td>MSFT.O</td>\n",
       "      <td>404.06</td>\n",
       "      <td>22296495</td>\n",
       "      <td>403.44</td>\n",
       "      <td>7.648137</td>\n",
       "    </tr>\n",
       "  </tbody>\n",
       "</table>\n",
       "</div>"
      ],
      "text/plain": [
       "  Instrument  Price Close    Volume  Price Low  YTD Total Return\n",
       "0     SPOT.K       246.25   1548596     243.38         31.046778\n",
       "1        IBM       187.64   4842840   185.9452         15.762478\n",
       "2     GOOG.O       141.76  21865118     141.52          0.588945\n",
       "3     MSFT.O       404.06  22296495     403.44          7.648137"
      ]
     },
     "execution_count": 11,
     "metadata": {},
     "output_type": "execute_result"
    }
   ],
   "source": [
    "data"
   ]
  },
  {
   "cell_type": "code",
   "execution_count": 12,
   "id": "0d47737c",
   "metadata": {},
   "outputs": [
    {
     "data": {
      "text/plain": [
       "pandas.core.frame.DataFrame"
      ]
     },
     "execution_count": 12,
     "metadata": {},
     "output_type": "execute_result"
    }
   ],
   "source": [
    "type(data)"
   ]
  },
  {
   "cell_type": "code",
   "execution_count": 13,
   "id": "cadc4ce3",
   "metadata": {},
   "outputs": [
    {
     "data": {
      "text/plain": [
       "RangeIndex(start=0, stop=4, step=1)"
      ]
     },
     "execution_count": 13,
     "metadata": {},
     "output_type": "execute_result"
    }
   ],
   "source": [
    "data.index"
   ]
  },
  {
   "cell_type": "code",
   "execution_count": null,
   "id": "9f2898b0",
   "metadata": {},
   "outputs": [],
   "source": []
  },
  {
   "cell_type": "markdown",
   "id": "81795762",
   "metadata": {},
   "source": [
    "# Obtener datos de un índice"
   ]
  },
  {
   "cell_type": "code",
   "execution_count": 19,
   "id": "2e09b33a",
   "metadata": {},
   "outputs": [],
   "source": [
    "dax = ek.get_data('0#.GDAXI', fields=['TR.CommonName', 'TR.PriceClose',\n",
    "                                      'TR.Volume', 'TR.TotalReturnYTD'])[0]"
   ]
  },
  {
   "cell_type": "code",
   "execution_count": 20,
   "id": "d9e23858",
   "metadata": {},
   "outputs": [
    {
     "data": {
      "text/html": [
       "<div>\n",
       "<style scoped>\n",
       "    .dataframe tbody tr th:only-of-type {\n",
       "        vertical-align: middle;\n",
       "    }\n",
       "\n",
       "    .dataframe tbody tr th {\n",
       "        vertical-align: top;\n",
       "    }\n",
       "\n",
       "    .dataframe thead th {\n",
       "        text-align: right;\n",
       "    }\n",
       "</style>\n",
       "<table border=\"1\" class=\"dataframe\">\n",
       "  <thead>\n",
       "    <tr style=\"text-align: right;\">\n",
       "      <th></th>\n",
       "      <th>Instrument</th>\n",
       "      <th>Company Common Name</th>\n",
       "      <th>Price Close</th>\n",
       "      <th>Volume</th>\n",
       "      <th>YTD Total Return</th>\n",
       "    </tr>\n",
       "  </thead>\n",
       "  <tbody>\n",
       "    <tr>\n",
       "      <th>0</th>\n",
       "      <td>BASFn.DE</td>\n",
       "      <td>BASF SE</td>\n",
       "      <td>45.775</td>\n",
       "      <td>1323167</td>\n",
       "      <td>-4.489545</td>\n",
       "    </tr>\n",
       "    <tr>\n",
       "      <th>1</th>\n",
       "      <td>IFXGn.DE</td>\n",
       "      <td>Infineon Technologies AG</td>\n",
       "      <td>33.14</td>\n",
       "      <td>1555069</td>\n",
       "      <td>-11.481481</td>\n",
       "    </tr>\n",
       "    <tr>\n",
       "      <th>2</th>\n",
       "      <td>SIEGn.DE</td>\n",
       "      <td>Siemens AG</td>\n",
       "      <td>169.58</td>\n",
       "      <td>910529</td>\n",
       "      <td>2.41588</td>\n",
       "    </tr>\n",
       "    <tr>\n",
       "      <th>3</th>\n",
       "      <td>EONGn.DE</td>\n",
       "      <td>E ON SE</td>\n",
       "      <td>11.84</td>\n",
       "      <td>2796552</td>\n",
       "      <td>-3.251029</td>\n",
       "    </tr>\n",
       "    <tr>\n",
       "      <th>4</th>\n",
       "      <td>DBKGn.DE</td>\n",
       "      <td>Deutsche Bank AG</td>\n",
       "      <td>11.996</td>\n",
       "      <td>2808687</td>\n",
       "      <td>-3.089615</td>\n",
       "    </tr>\n",
       "    <tr>\n",
       "      <th>5</th>\n",
       "      <td>SATG_p.DE</td>\n",
       "      <td>Sartorius AG</td>\n",
       "      <td>331.6</td>\n",
       "      <td>72514</td>\n",
       "      <td>1.35054</td>\n",
       "    </tr>\n",
       "    <tr>\n",
       "      <th>6</th>\n",
       "      <td>SAPG.DE</td>\n",
       "      <td>Sap Se</td>\n",
       "      <td>164.24</td>\n",
       "      <td>645852</td>\n",
       "      <td>18.353886</td>\n",
       "    </tr>\n",
       "    <tr>\n",
       "      <th>7</th>\n",
       "      <td>BAYGn.DE</td>\n",
       "      <td>Bayer AG</td>\n",
       "      <td>28.9</td>\n",
       "      <td>3542983</td>\n",
       "      <td>-14.927148</td>\n",
       "    </tr>\n",
       "    <tr>\n",
       "      <th>8</th>\n",
       "      <td>RWEG.DE</td>\n",
       "      <td>RWE AG</td>\n",
       "      <td>31.21</td>\n",
       "      <td>2678347</td>\n",
       "      <td>-22.778048</td>\n",
       "    </tr>\n",
       "    <tr>\n",
       "      <th>9</th>\n",
       "      <td>1COV.DE</td>\n",
       "      <td>Covestro AG</td>\n",
       "      <td>46.98</td>\n",
       "      <td>424358</td>\n",
       "      <td>-8.561124</td>\n",
       "    </tr>\n",
       "    <tr>\n",
       "      <th>10</th>\n",
       "      <td>HNKG_p.DE</td>\n",
       "      <td>Henkel AG &amp; Co KGaA</td>\n",
       "      <td>70.58</td>\n",
       "      <td>174701</td>\n",
       "      <td>-3.458688</td>\n",
       "    </tr>\n",
       "    <tr>\n",
       "      <th>11</th>\n",
       "      <td>ZALG.DE</td>\n",
       "      <td>Zalando SE</td>\n",
       "      <td>19.585</td>\n",
       "      <td>702494</td>\n",
       "      <td>-7.599068</td>\n",
       "    </tr>\n",
       "    <tr>\n",
       "      <th>12</th>\n",
       "      <td>DTEGn.DE</td>\n",
       "      <td>Deutsche Telekom AG</td>\n",
       "      <td>22.27</td>\n",
       "      <td>3817041</td>\n",
       "      <td>2.0</td>\n",
       "    </tr>\n",
       "    <tr>\n",
       "      <th>13</th>\n",
       "      <td>MRCG.DE</td>\n",
       "      <td>Merck KGaA</td>\n",
       "      <td>155.75</td>\n",
       "      <td>145953</td>\n",
       "      <td>8.049965</td>\n",
       "    </tr>\n",
       "    <tr>\n",
       "      <th>14</th>\n",
       "      <td>PSHG_p.DE</td>\n",
       "      <td>Porsche Automobil Holding SE</td>\n",
       "      <td>46.06</td>\n",
       "      <td>1337325</td>\n",
       "      <td>2.482729</td>\n",
       "    </tr>\n",
       "    <tr>\n",
       "      <th>15</th>\n",
       "      <td>VOWG_p.DE</td>\n",
       "      <td>Volkswagen AG</td>\n",
       "      <td>119.98</td>\n",
       "      <td>520569</td>\n",
       "      <td>7.030411</td>\n",
       "    </tr>\n",
       "    <tr>\n",
       "      <th>16</th>\n",
       "      <td>BMWG.DE</td>\n",
       "      <td>Bayerische Motoren Werke AG</td>\n",
       "      <td>102.82</td>\n",
       "      <td>518613</td>\n",
       "      <td>3.294304</td>\n",
       "    </tr>\n",
       "    <tr>\n",
       "      <th>17</th>\n",
       "      <td>BEIG.DE</td>\n",
       "      <td>Beiersdorf AG</td>\n",
       "      <td>136.45</td>\n",
       "      <td>204409</td>\n",
       "      <td>1.142225</td>\n",
       "    </tr>\n",
       "    <tr>\n",
       "      <th>18</th>\n",
       "      <td>HEIG.DE</td>\n",
       "      <td>Heidelberg Materials AG</td>\n",
       "      <td>85.8</td>\n",
       "      <td>288276</td>\n",
       "      <td>5.411416</td>\n",
       "    </tr>\n",
       "    <tr>\n",
       "      <th>19</th>\n",
       "      <td>RHMG.DE</td>\n",
       "      <td>Rheinmetall AG</td>\n",
       "      <td>404.1</td>\n",
       "      <td>611512</td>\n",
       "      <td>35.261324</td>\n",
       "    </tr>\n",
       "    <tr>\n",
       "      <th>20</th>\n",
       "      <td>MTXGn.DE</td>\n",
       "      <td>MTU Aero Engines AG</td>\n",
       "      <td>225.1</td>\n",
       "      <td>94155</td>\n",
       "      <td>16.261204</td>\n",
       "    </tr>\n",
       "    <tr>\n",
       "      <th>21</th>\n",
       "      <td>FREG.DE</td>\n",
       "      <td>Fresenius SE &amp; Co KGaA</td>\n",
       "      <td>26.67</td>\n",
       "      <td>708923</td>\n",
       "      <td>-5.806911</td>\n",
       "    </tr>\n",
       "    <tr>\n",
       "      <th>22</th>\n",
       "      <td>DHLn.DE</td>\n",
       "      <td>Deutsche Post AG</td>\n",
       "      <td>42.995</td>\n",
       "      <td>1697298</td>\n",
       "      <td>-4.759782</td>\n",
       "    </tr>\n",
       "    <tr>\n",
       "      <th>23</th>\n",
       "      <td>ALVG.DE</td>\n",
       "      <td>Allianz SE</td>\n",
       "      <td>248.65</td>\n",
       "      <td>456255</td>\n",
       "      <td>2.128539</td>\n",
       "    </tr>\n",
       "    <tr>\n",
       "      <th>24</th>\n",
       "      <td>MUVGn.DE</td>\n",
       "      <td>Muenchener Rueckversicherungs Gesellschaft in ...</td>\n",
       "      <td>407.4</td>\n",
       "      <td>166487</td>\n",
       "      <td>8.957611</td>\n",
       "    </tr>\n",
       "    <tr>\n",
       "      <th>25</th>\n",
       "      <td>CONG.DE</td>\n",
       "      <td>Continental AG</td>\n",
       "      <td>74.02</td>\n",
       "      <td>465218</td>\n",
       "      <td>0.182007</td>\n",
       "    </tr>\n",
       "    <tr>\n",
       "      <th>26</th>\n",
       "      <td>SHLG.DE</td>\n",
       "      <td>Siemens Healthineers AG</td>\n",
       "      <td>55.4</td>\n",
       "      <td>347893</td>\n",
       "      <td>4.714829</td>\n",
       "    </tr>\n",
       "    <tr>\n",
       "      <th>27</th>\n",
       "      <td>SY1G.DE</td>\n",
       "      <td>Symrise AG</td>\n",
       "      <td>98.32</td>\n",
       "      <td>109827</td>\n",
       "      <td>-1.68607</td>\n",
       "    </tr>\n",
       "    <tr>\n",
       "      <th>28</th>\n",
       "      <td>ADSGn.DE</td>\n",
       "      <td>Adidas AG</td>\n",
       "      <td>179.72</td>\n",
       "      <td>270803</td>\n",
       "      <td>-4.300608</td>\n",
       "    </tr>\n",
       "    <tr>\n",
       "      <th>29</th>\n",
       "      <td>HNRGn.DE</td>\n",
       "      <td>Hannover Rueck SE</td>\n",
       "      <td>227.8</td>\n",
       "      <td>49239</td>\n",
       "      <td>5.779011</td>\n",
       "    </tr>\n",
       "    <tr>\n",
       "      <th>30</th>\n",
       "      <td>DTGGe.DE</td>\n",
       "      <td>Daimler Truck Holding AG</td>\n",
       "      <td>35.16</td>\n",
       "      <td>672111</td>\n",
       "      <td>4.497354</td>\n",
       "    </tr>\n",
       "    <tr>\n",
       "      <th>31</th>\n",
       "      <td>ENR1n.DE</td>\n",
       "      <td>Siemens Energy AG</td>\n",
       "      <td>14.0</td>\n",
       "      <td>1250142</td>\n",
       "      <td>15.791667</td>\n",
       "    </tr>\n",
       "    <tr>\n",
       "      <th>32</th>\n",
       "      <td>MBGn.DE</td>\n",
       "      <td>Mercedes Benz Group AG</td>\n",
       "      <td>67.63</td>\n",
       "      <td>1774036</td>\n",
       "      <td>7.721823</td>\n",
       "    </tr>\n",
       "    <tr>\n",
       "      <th>33</th>\n",
       "      <td>BNRGn.DE</td>\n",
       "      <td>Brenntag SE</td>\n",
       "      <td>80.8</td>\n",
       "      <td>222024</td>\n",
       "      <td>-3.484739</td>\n",
       "    </tr>\n",
       "    <tr>\n",
       "      <th>34</th>\n",
       "      <td>CBKG.DE</td>\n",
       "      <td>Commerzbank AG</td>\n",
       "      <td>10.73</td>\n",
       "      <td>7904714</td>\n",
       "      <td>0.557621</td>\n",
       "    </tr>\n",
       "    <tr>\n",
       "      <th>35</th>\n",
       "      <td>AIRG.DE</td>\n",
       "      <td>Airbus SE</td>\n",
       "      <td>144.28</td>\n",
       "      <td>176023</td>\n",
       "      <td>4.411765</td>\n",
       "    </tr>\n",
       "    <tr>\n",
       "      <th>36</th>\n",
       "      <td>VNAn.DE</td>\n",
       "      <td>Vonovia SE</td>\n",
       "      <td>26.74</td>\n",
       "      <td>865898</td>\n",
       "      <td>-6.587246</td>\n",
       "    </tr>\n",
       "    <tr>\n",
       "      <th>37</th>\n",
       "      <td>DB1Gn.DE</td>\n",
       "      <td>Deutsche Boerse AG</td>\n",
       "      <td>187.1</td>\n",
       "      <td>237636</td>\n",
       "      <td>0.616622</td>\n",
       "    </tr>\n",
       "    <tr>\n",
       "      <th>38</th>\n",
       "      <td>QIA.DE</td>\n",
       "      <td>Qiagen NV</td>\n",
       "      <td>39.59</td>\n",
       "      <td>407931</td>\n",
       "      <td>1.340858</td>\n",
       "    </tr>\n",
       "    <tr>\n",
       "      <th>39</th>\n",
       "      <td>P911_p.DE</td>\n",
       "      <td>Dr Ing hc F Porsche AG</td>\n",
       "      <td>79.64</td>\n",
       "      <td>269118</td>\n",
       "      <td>0.901126</td>\n",
       "    </tr>\n",
       "  </tbody>\n",
       "</table>\n",
       "</div>"
      ],
      "text/plain": [
       "   Instrument                                Company Common Name  Price Close   \n",
       "0    BASFn.DE                                            BASF SE       45.775  \\\n",
       "1    IFXGn.DE                           Infineon Technologies AG        33.14   \n",
       "2    SIEGn.DE                                         Siemens AG       169.58   \n",
       "3    EONGn.DE                                            E ON SE        11.84   \n",
       "4    DBKGn.DE                                   Deutsche Bank AG       11.996   \n",
       "5   SATG_p.DE                                       Sartorius AG        331.6   \n",
       "6     SAPG.DE                                             Sap Se       164.24   \n",
       "7    BAYGn.DE                                           Bayer AG         28.9   \n",
       "8     RWEG.DE                                             RWE AG        31.21   \n",
       "9     1COV.DE                                        Covestro AG        46.98   \n",
       "10  HNKG_p.DE                                Henkel AG & Co KGaA        70.58   \n",
       "11    ZALG.DE                                         Zalando SE       19.585   \n",
       "12   DTEGn.DE                                Deutsche Telekom AG        22.27   \n",
       "13    MRCG.DE                                         Merck KGaA       155.75   \n",
       "14  PSHG_p.DE                       Porsche Automobil Holding SE        46.06   \n",
       "15  VOWG_p.DE                                      Volkswagen AG       119.98   \n",
       "16    BMWG.DE                        Bayerische Motoren Werke AG       102.82   \n",
       "17    BEIG.DE                                      Beiersdorf AG       136.45   \n",
       "18    HEIG.DE                            Heidelberg Materials AG         85.8   \n",
       "19    RHMG.DE                                     Rheinmetall AG        404.1   \n",
       "20   MTXGn.DE                                MTU Aero Engines AG        225.1   \n",
       "21    FREG.DE                             Fresenius SE & Co KGaA        26.67   \n",
       "22    DHLn.DE                                   Deutsche Post AG       42.995   \n",
       "23    ALVG.DE                                         Allianz SE       248.65   \n",
       "24   MUVGn.DE  Muenchener Rueckversicherungs Gesellschaft in ...        407.4   \n",
       "25    CONG.DE                                     Continental AG        74.02   \n",
       "26    SHLG.DE                            Siemens Healthineers AG         55.4   \n",
       "27    SY1G.DE                                         Symrise AG        98.32   \n",
       "28   ADSGn.DE                                          Adidas AG       179.72   \n",
       "29   HNRGn.DE                                  Hannover Rueck SE        227.8   \n",
       "30   DTGGe.DE                           Daimler Truck Holding AG        35.16   \n",
       "31   ENR1n.DE                                  Siemens Energy AG         14.0   \n",
       "32    MBGn.DE                             Mercedes Benz Group AG        67.63   \n",
       "33   BNRGn.DE                                        Brenntag SE         80.8   \n",
       "34    CBKG.DE                                     Commerzbank AG        10.73   \n",
       "35    AIRG.DE                                          Airbus SE       144.28   \n",
       "36    VNAn.DE                                         Vonovia SE        26.74   \n",
       "37   DB1Gn.DE                                 Deutsche Boerse AG        187.1   \n",
       "38     QIA.DE                                          Qiagen NV        39.59   \n",
       "39  P911_p.DE                             Dr Ing hc F Porsche AG        79.64   \n",
       "\n",
       "     Volume  YTD Total Return  \n",
       "0   1323167         -4.489545  \n",
       "1   1555069        -11.481481  \n",
       "2    910529           2.41588  \n",
       "3   2796552         -3.251029  \n",
       "4   2808687         -3.089615  \n",
       "5     72514           1.35054  \n",
       "6    645852         18.353886  \n",
       "7   3542983        -14.927148  \n",
       "8   2678347        -22.778048  \n",
       "9    424358         -8.561124  \n",
       "10   174701         -3.458688  \n",
       "11   702494         -7.599068  \n",
       "12  3817041               2.0  \n",
       "13   145953          8.049965  \n",
       "14  1337325          2.482729  \n",
       "15   520569          7.030411  \n",
       "16   518613          3.294304  \n",
       "17   204409          1.142225  \n",
       "18   288276          5.411416  \n",
       "19   611512         35.261324  \n",
       "20    94155         16.261204  \n",
       "21   708923         -5.806911  \n",
       "22  1697298         -4.759782  \n",
       "23   456255          2.128539  \n",
       "24   166487          8.957611  \n",
       "25   465218          0.182007  \n",
       "26   347893          4.714829  \n",
       "27   109827          -1.68607  \n",
       "28   270803         -4.300608  \n",
       "29    49239          5.779011  \n",
       "30   672111          4.497354  \n",
       "31  1250142         15.791667  \n",
       "32  1774036          7.721823  \n",
       "33   222024         -3.484739  \n",
       "34  7904714          0.557621  \n",
       "35   176023          4.411765  \n",
       "36   865898         -6.587246  \n",
       "37   237636          0.616622  \n",
       "38   407931          1.340858  \n",
       "39   269118          0.901126  "
      ]
     },
     "execution_count": 20,
     "metadata": {},
     "output_type": "execute_result"
    }
   ],
   "source": [
    "dax"
   ]
  },
  {
   "cell_type": "code",
   "execution_count": 21,
   "id": "b897c1a9",
   "metadata": {},
   "outputs": [
    {
     "data": {
      "text/html": [
       "<div>\n",
       "<style scoped>\n",
       "    .dataframe tbody tr th:only-of-type {\n",
       "        vertical-align: middle;\n",
       "    }\n",
       "\n",
       "    .dataframe tbody tr th {\n",
       "        vertical-align: top;\n",
       "    }\n",
       "\n",
       "    .dataframe thead th {\n",
       "        text-align: right;\n",
       "    }\n",
       "</style>\n",
       "<table border=\"1\" class=\"dataframe\">\n",
       "  <thead>\n",
       "    <tr style=\"text-align: right;\">\n",
       "      <th></th>\n",
       "      <th>Instrument</th>\n",
       "      <th>Company Common Name</th>\n",
       "      <th>Price Close</th>\n",
       "      <th>Volume</th>\n",
       "      <th>YTD Total Return</th>\n",
       "    </tr>\n",
       "  </thead>\n",
       "  <tbody>\n",
       "    <tr>\n",
       "      <th>0</th>\n",
       "      <td>BASFn.DE</td>\n",
       "      <td>BASF SE</td>\n",
       "      <td>45.775</td>\n",
       "      <td>1323167</td>\n",
       "      <td>-4.489545</td>\n",
       "    </tr>\n",
       "    <tr>\n",
       "      <th>1</th>\n",
       "      <td>IFXGn.DE</td>\n",
       "      <td>Infineon Technologies AG</td>\n",
       "      <td>33.14</td>\n",
       "      <td>1555069</td>\n",
       "      <td>-11.481481</td>\n",
       "    </tr>\n",
       "    <tr>\n",
       "      <th>2</th>\n",
       "      <td>SIEGn.DE</td>\n",
       "      <td>Siemens AG</td>\n",
       "      <td>169.58</td>\n",
       "      <td>910529</td>\n",
       "      <td>2.41588</td>\n",
       "    </tr>\n",
       "    <tr>\n",
       "      <th>3</th>\n",
       "      <td>EONGn.DE</td>\n",
       "      <td>E ON SE</td>\n",
       "      <td>11.84</td>\n",
       "      <td>2796552</td>\n",
       "      <td>-3.251029</td>\n",
       "    </tr>\n",
       "    <tr>\n",
       "      <th>4</th>\n",
       "      <td>DBKGn.DE</td>\n",
       "      <td>Deutsche Bank AG</td>\n",
       "      <td>11.996</td>\n",
       "      <td>2808687</td>\n",
       "      <td>-3.089615</td>\n",
       "    </tr>\n",
       "  </tbody>\n",
       "</table>\n",
       "</div>"
      ],
      "text/plain": [
       "  Instrument       Company Common Name  Price Close   Volume  YTD Total Return\n",
       "0   BASFn.DE                   BASF SE       45.775  1323167         -4.489545\n",
       "1   IFXGn.DE  Infineon Technologies AG        33.14  1555069        -11.481481\n",
       "2   SIEGn.DE                Siemens AG       169.58   910529           2.41588\n",
       "3   EONGn.DE                   E ON SE        11.84  2796552         -3.251029\n",
       "4   DBKGn.DE          Deutsche Bank AG       11.996  2808687         -3.089615"
      ]
     },
     "execution_count": 21,
     "metadata": {},
     "output_type": "execute_result"
    }
   ],
   "source": [
    "dax[0:5]"
   ]
  },
  {
   "cell_type": "code",
   "execution_count": 22,
   "id": "89c1f46a",
   "metadata": {},
   "outputs": [
    {
     "data": {
      "text/plain": [
       "Instrument\n",
       "BASFn.DE     -4.489545\n",
       "IFXGn.DE    -11.481481\n",
       "SIEGn.DE       2.41588\n",
       "EONGn.DE     -3.251029\n",
       "DBKGn.DE     -3.089615\n",
       "SATG_p.DE      1.35054\n",
       "SAPG.DE      18.353886\n",
       "BAYGn.DE    -14.927148\n",
       "RWEG.DE     -22.778048\n",
       "1COV.DE      -8.561124\n",
       "HNKG_p.DE    -3.458688\n",
       "ZALG.DE      -7.599068\n",
       "DTEGn.DE           2.0\n",
       "MRCG.DE       8.049965\n",
       "PSHG_p.DE     2.482729\n",
       "VOWG_p.DE     7.030411\n",
       "BMWG.DE       3.294304\n",
       "BEIG.DE       1.142225\n",
       "HEIG.DE       5.411416\n",
       "RHMG.DE      35.261324\n",
       "MTXGn.DE     16.261204\n",
       "FREG.DE      -5.806911\n",
       "DHLn.DE      -4.759782\n",
       "ALVG.DE       2.128539\n",
       "MUVGn.DE      8.957611\n",
       "CONG.DE       0.182007\n",
       "SHLG.DE       4.714829\n",
       "SY1G.DE       -1.68607\n",
       "ADSGn.DE     -4.300608\n",
       "HNRGn.DE      5.779011\n",
       "DTGGe.DE      4.497354\n",
       "ENR1n.DE     15.791667\n",
       "MBGn.DE       7.721823\n",
       "BNRGn.DE     -3.484739\n",
       "CBKG.DE       0.557621\n",
       "AIRG.DE       4.411765\n",
       "VNAn.DE      -6.587246\n",
       "DB1Gn.DE      0.616622\n",
       "QIA.DE        1.340858\n",
       "P911_p.DE     0.901126\n",
       "Name: YTD Total Return, dtype: Float64"
      ]
     },
     "execution_count": 22,
     "metadata": {},
     "output_type": "execute_result"
    }
   ],
   "source": [
    "dax.set_index('Instrument')['YTD Total Return']"
   ]
  },
  {
   "cell_type": "code",
   "execution_count": 23,
   "id": "f586f060",
   "metadata": {},
   "outputs": [
    {
     "data": {
      "application/vnd.plotly.v1+json": {
       "config": {
        "linkText": "Export to plot.ly",
        "plotlyServerURL": "https://plot.ly",
        "showLink": true
       },
       "data": [
        {
         "marker": {
          "color": "rgba(55, 128, 191, 0.6)",
          "line": {
           "color": "rgba(55, 128, 191, 1.0)",
           "width": 1
          }
         },
         "name": "YTD Total Return",
         "orientation": "v",
         "text": "",
         "type": "bar",
         "x": [
          "RWEG.DE",
          "BAYGn.DE",
          "IFXGn.DE",
          "1COV.DE",
          "ZALG.DE",
          "VNAn.DE",
          "FREG.DE",
          "DHLn.DE",
          "BASFn.DE",
          "ADSGn.DE",
          "BNRGn.DE",
          "HNKG_p.DE",
          "EONGn.DE",
          "DBKGn.DE",
          "SY1G.DE",
          "CONG.DE",
          "CBKG.DE",
          "DB1Gn.DE",
          "P911_p.DE",
          "BEIG.DE",
          "QIA.DE",
          "SATG_p.DE",
          "DTEGn.DE",
          "ALVG.DE",
          "SIEGn.DE",
          "PSHG_p.DE",
          "BMWG.DE",
          "AIRG.DE",
          "DTGGe.DE",
          "SHLG.DE",
          "HEIG.DE",
          "HNRGn.DE",
          "VOWG_p.DE",
          "MBGn.DE",
          "MRCG.DE",
          "MUVGn.DE",
          "ENR1n.DE",
          "MTXGn.DE",
          "SAPG.DE",
          "RHMG.DE"
         ],
         "y": [
          -22.7780475951402,
          -14.9271483792415,
          -11.4814814844806,
          -8.56112376440731,
          -7.59906759949617,
          -6.58724597299659,
          -5.80691129270887,
          -4.7597815193143,
          -4.48954489656234,
          -4.30060816750052,
          -3.48473924648022,
          -3.45868789428324,
          -3.25102880520307,
          -3.08961500994376,
          -1.68606985229325,
          0.182007279433138,
          0.557620820163751,
          0.616621986120514,
          0.90112640691018,
          1.14222549738583,
          1.3408577328867,
          1.35054021430789,
          1.99999999776144,
          2.12853895509149,
          2.41587972785147,
          2.48272884369409,
          3.29430442551912,
          4.41176470851234,
          4.49735449676305,
          4.71482889689685,
          5.41141586368066,
          5.77901063098674,
          7.03041145299541,
          7.72182253920579,
          8.04996530352102,
          8.95761130437451,
          15.7916666653942,
          16.2612035805155,
          18.3538858598307,
          35.26132404017
         ]
        }
       ],
       "layout": {
        "legend": {
         "bgcolor": "#F5F6F9",
         "font": {
          "color": "#4D5663"
         }
        },
        "paper_bgcolor": "#F5F6F9",
        "plot_bgcolor": "#F5F6F9",
        "template": {
         "data": {
          "bar": [
           {
            "error_x": {
             "color": "#2a3f5f"
            },
            "error_y": {
             "color": "#2a3f5f"
            },
            "marker": {
             "line": {
              "color": "#E5ECF6",
              "width": 0.5
             },
             "pattern": {
              "fillmode": "overlay",
              "size": 10,
              "solidity": 0.2
             }
            },
            "type": "bar"
           }
          ],
          "barpolar": [
           {
            "marker": {
             "line": {
              "color": "#E5ECF6",
              "width": 0.5
             },
             "pattern": {
              "fillmode": "overlay",
              "size": 10,
              "solidity": 0.2
             }
            },
            "type": "barpolar"
           }
          ],
          "carpet": [
           {
            "aaxis": {
             "endlinecolor": "#2a3f5f",
             "gridcolor": "white",
             "linecolor": "white",
             "minorgridcolor": "white",
             "startlinecolor": "#2a3f5f"
            },
            "baxis": {
             "endlinecolor": "#2a3f5f",
             "gridcolor": "white",
             "linecolor": "white",
             "minorgridcolor": "white",
             "startlinecolor": "#2a3f5f"
            },
            "type": "carpet"
           }
          ],
          "choropleth": [
           {
            "colorbar": {
             "outlinewidth": 0,
             "ticks": ""
            },
            "type": "choropleth"
           }
          ],
          "contour": [
           {
            "colorbar": {
             "outlinewidth": 0,
             "ticks": ""
            },
            "colorscale": [
             [
              0,
              "#0d0887"
             ],
             [
              0.1111111111111111,
              "#46039f"
             ],
             [
              0.2222222222222222,
              "#7201a8"
             ],
             [
              0.3333333333333333,
              "#9c179e"
             ],
             [
              0.4444444444444444,
              "#bd3786"
             ],
             [
              0.5555555555555556,
              "#d8576b"
             ],
             [
              0.6666666666666666,
              "#ed7953"
             ],
             [
              0.7777777777777778,
              "#fb9f3a"
             ],
             [
              0.8888888888888888,
              "#fdca26"
             ],
             [
              1,
              "#f0f921"
             ]
            ],
            "type": "contour"
           }
          ],
          "contourcarpet": [
           {
            "colorbar": {
             "outlinewidth": 0,
             "ticks": ""
            },
            "type": "contourcarpet"
           }
          ],
          "heatmap": [
           {
            "colorbar": {
             "outlinewidth": 0,
             "ticks": ""
            },
            "colorscale": [
             [
              0,
              "#0d0887"
             ],
             [
              0.1111111111111111,
              "#46039f"
             ],
             [
              0.2222222222222222,
              "#7201a8"
             ],
             [
              0.3333333333333333,
              "#9c179e"
             ],
             [
              0.4444444444444444,
              "#bd3786"
             ],
             [
              0.5555555555555556,
              "#d8576b"
             ],
             [
              0.6666666666666666,
              "#ed7953"
             ],
             [
              0.7777777777777778,
              "#fb9f3a"
             ],
             [
              0.8888888888888888,
              "#fdca26"
             ],
             [
              1,
              "#f0f921"
             ]
            ],
            "type": "heatmap"
           }
          ],
          "heatmapgl": [
           {
            "colorbar": {
             "outlinewidth": 0,
             "ticks": ""
            },
            "colorscale": [
             [
              0,
              "#0d0887"
             ],
             [
              0.1111111111111111,
              "#46039f"
             ],
             [
              0.2222222222222222,
              "#7201a8"
             ],
             [
              0.3333333333333333,
              "#9c179e"
             ],
             [
              0.4444444444444444,
              "#bd3786"
             ],
             [
              0.5555555555555556,
              "#d8576b"
             ],
             [
              0.6666666666666666,
              "#ed7953"
             ],
             [
              0.7777777777777778,
              "#fb9f3a"
             ],
             [
              0.8888888888888888,
              "#fdca26"
             ],
             [
              1,
              "#f0f921"
             ]
            ],
            "type": "heatmapgl"
           }
          ],
          "histogram": [
           {
            "marker": {
             "pattern": {
              "fillmode": "overlay",
              "size": 10,
              "solidity": 0.2
             }
            },
            "type": "histogram"
           }
          ],
          "histogram2d": [
           {
            "colorbar": {
             "outlinewidth": 0,
             "ticks": ""
            },
            "colorscale": [
             [
              0,
              "#0d0887"
             ],
             [
              0.1111111111111111,
              "#46039f"
             ],
             [
              0.2222222222222222,
              "#7201a8"
             ],
             [
              0.3333333333333333,
              "#9c179e"
             ],
             [
              0.4444444444444444,
              "#bd3786"
             ],
             [
              0.5555555555555556,
              "#d8576b"
             ],
             [
              0.6666666666666666,
              "#ed7953"
             ],
             [
              0.7777777777777778,
              "#fb9f3a"
             ],
             [
              0.8888888888888888,
              "#fdca26"
             ],
             [
              1,
              "#f0f921"
             ]
            ],
            "type": "histogram2d"
           }
          ],
          "histogram2dcontour": [
           {
            "colorbar": {
             "outlinewidth": 0,
             "ticks": ""
            },
            "colorscale": [
             [
              0,
              "#0d0887"
             ],
             [
              0.1111111111111111,
              "#46039f"
             ],
             [
              0.2222222222222222,
              "#7201a8"
             ],
             [
              0.3333333333333333,
              "#9c179e"
             ],
             [
              0.4444444444444444,
              "#bd3786"
             ],
             [
              0.5555555555555556,
              "#d8576b"
             ],
             [
              0.6666666666666666,
              "#ed7953"
             ],
             [
              0.7777777777777778,
              "#fb9f3a"
             ],
             [
              0.8888888888888888,
              "#fdca26"
             ],
             [
              1,
              "#f0f921"
             ]
            ],
            "type": "histogram2dcontour"
           }
          ],
          "mesh3d": [
           {
            "colorbar": {
             "outlinewidth": 0,
             "ticks": ""
            },
            "type": "mesh3d"
           }
          ],
          "parcoords": [
           {
            "line": {
             "colorbar": {
              "outlinewidth": 0,
              "ticks": ""
             }
            },
            "type": "parcoords"
           }
          ],
          "pie": [
           {
            "automargin": true,
            "type": "pie"
           }
          ],
          "scatter": [
           {
            "fillpattern": {
             "fillmode": "overlay",
             "size": 10,
             "solidity": 0.2
            },
            "type": "scatter"
           }
          ],
          "scatter3d": [
           {
            "line": {
             "colorbar": {
              "outlinewidth": 0,
              "ticks": ""
             }
            },
            "marker": {
             "colorbar": {
              "outlinewidth": 0,
              "ticks": ""
             }
            },
            "type": "scatter3d"
           }
          ],
          "scattercarpet": [
           {
            "marker": {
             "colorbar": {
              "outlinewidth": 0,
              "ticks": ""
             }
            },
            "type": "scattercarpet"
           }
          ],
          "scattergeo": [
           {
            "marker": {
             "colorbar": {
              "outlinewidth": 0,
              "ticks": ""
             }
            },
            "type": "scattergeo"
           }
          ],
          "scattergl": [
           {
            "marker": {
             "colorbar": {
              "outlinewidth": 0,
              "ticks": ""
             }
            },
            "type": "scattergl"
           }
          ],
          "scattermapbox": [
           {
            "marker": {
             "colorbar": {
              "outlinewidth": 0,
              "ticks": ""
             }
            },
            "type": "scattermapbox"
           }
          ],
          "scatterpolar": [
           {
            "marker": {
             "colorbar": {
              "outlinewidth": 0,
              "ticks": ""
             }
            },
            "type": "scatterpolar"
           }
          ],
          "scatterpolargl": [
           {
            "marker": {
             "colorbar": {
              "outlinewidth": 0,
              "ticks": ""
             }
            },
            "type": "scatterpolargl"
           }
          ],
          "scatterternary": [
           {
            "marker": {
             "colorbar": {
              "outlinewidth": 0,
              "ticks": ""
             }
            },
            "type": "scatterternary"
           }
          ],
          "surface": [
           {
            "colorbar": {
             "outlinewidth": 0,
             "ticks": ""
            },
            "colorscale": [
             [
              0,
              "#0d0887"
             ],
             [
              0.1111111111111111,
              "#46039f"
             ],
             [
              0.2222222222222222,
              "#7201a8"
             ],
             [
              0.3333333333333333,
              "#9c179e"
             ],
             [
              0.4444444444444444,
              "#bd3786"
             ],
             [
              0.5555555555555556,
              "#d8576b"
             ],
             [
              0.6666666666666666,
              "#ed7953"
             ],
             [
              0.7777777777777778,
              "#fb9f3a"
             ],
             [
              0.8888888888888888,
              "#fdca26"
             ],
             [
              1,
              "#f0f921"
             ]
            ],
            "type": "surface"
           }
          ],
          "table": [
           {
            "cells": {
             "fill": {
              "color": "#EBF0F8"
             },
             "line": {
              "color": "white"
             }
            },
            "header": {
             "fill": {
              "color": "#C8D4E3"
             },
             "line": {
              "color": "white"
             }
            },
            "type": "table"
           }
          ]
         },
         "layout": {
          "annotationdefaults": {
           "arrowcolor": "#2a3f5f",
           "arrowhead": 0,
           "arrowwidth": 1
          },
          "autotypenumbers": "strict",
          "coloraxis": {
           "colorbar": {
            "outlinewidth": 0,
            "ticks": ""
           }
          },
          "colorscale": {
           "diverging": [
            [
             0,
             "#8e0152"
            ],
            [
             0.1,
             "#c51b7d"
            ],
            [
             0.2,
             "#de77ae"
            ],
            [
             0.3,
             "#f1b6da"
            ],
            [
             0.4,
             "#fde0ef"
            ],
            [
             0.5,
             "#f7f7f7"
            ],
            [
             0.6,
             "#e6f5d0"
            ],
            [
             0.7,
             "#b8e186"
            ],
            [
             0.8,
             "#7fbc41"
            ],
            [
             0.9,
             "#4d9221"
            ],
            [
             1,
             "#276419"
            ]
           ],
           "sequential": [
            [
             0,
             "#0d0887"
            ],
            [
             0.1111111111111111,
             "#46039f"
            ],
            [
             0.2222222222222222,
             "#7201a8"
            ],
            [
             0.3333333333333333,
             "#9c179e"
            ],
            [
             0.4444444444444444,
             "#bd3786"
            ],
            [
             0.5555555555555556,
             "#d8576b"
            ],
            [
             0.6666666666666666,
             "#ed7953"
            ],
            [
             0.7777777777777778,
             "#fb9f3a"
            ],
            [
             0.8888888888888888,
             "#fdca26"
            ],
            [
             1,
             "#f0f921"
            ]
           ],
           "sequentialminus": [
            [
             0,
             "#0d0887"
            ],
            [
             0.1111111111111111,
             "#46039f"
            ],
            [
             0.2222222222222222,
             "#7201a8"
            ],
            [
             0.3333333333333333,
             "#9c179e"
            ],
            [
             0.4444444444444444,
             "#bd3786"
            ],
            [
             0.5555555555555556,
             "#d8576b"
            ],
            [
             0.6666666666666666,
             "#ed7953"
            ],
            [
             0.7777777777777778,
             "#fb9f3a"
            ],
            [
             0.8888888888888888,
             "#fdca26"
            ],
            [
             1,
             "#f0f921"
            ]
           ]
          },
          "colorway": [
           "#636efa",
           "#EF553B",
           "#00cc96",
           "#ab63fa",
           "#FFA15A",
           "#19d3f3",
           "#FF6692",
           "#B6E880",
           "#FF97FF",
           "#FECB52"
          ],
          "font": {
           "color": "#2a3f5f"
          },
          "geo": {
           "bgcolor": "white",
           "lakecolor": "white",
           "landcolor": "#E5ECF6",
           "showlakes": true,
           "showland": true,
           "subunitcolor": "white"
          },
          "hoverlabel": {
           "align": "left"
          },
          "hovermode": "closest",
          "mapbox": {
           "style": "light"
          },
          "paper_bgcolor": "white",
          "plot_bgcolor": "#E5ECF6",
          "polar": {
           "angularaxis": {
            "gridcolor": "white",
            "linecolor": "white",
            "ticks": ""
           },
           "bgcolor": "#E5ECF6",
           "radialaxis": {
            "gridcolor": "white",
            "linecolor": "white",
            "ticks": ""
           }
          },
          "scene": {
           "xaxis": {
            "backgroundcolor": "#E5ECF6",
            "gridcolor": "white",
            "gridwidth": 2,
            "linecolor": "white",
            "showbackground": true,
            "ticks": "",
            "zerolinecolor": "white"
           },
           "yaxis": {
            "backgroundcolor": "#E5ECF6",
            "gridcolor": "white",
            "gridwidth": 2,
            "linecolor": "white",
            "showbackground": true,
            "ticks": "",
            "zerolinecolor": "white"
           },
           "zaxis": {
            "backgroundcolor": "#E5ECF6",
            "gridcolor": "white",
            "gridwidth": 2,
            "linecolor": "white",
            "showbackground": true,
            "ticks": "",
            "zerolinecolor": "white"
           }
          },
          "shapedefaults": {
           "line": {
            "color": "#2a3f5f"
           }
          },
          "ternary": {
           "aaxis": {
            "gridcolor": "white",
            "linecolor": "white",
            "ticks": ""
           },
           "baxis": {
            "gridcolor": "white",
            "linecolor": "white",
            "ticks": ""
           },
           "bgcolor": "#E5ECF6",
           "caxis": {
            "gridcolor": "white",
            "linecolor": "white",
            "ticks": ""
           }
          },
          "title": {
           "x": 0.05
          },
          "xaxis": {
           "automargin": true,
           "gridcolor": "white",
           "linecolor": "white",
           "ticks": "",
           "title": {
            "standoff": 15
           },
           "zerolinecolor": "white",
           "zerolinewidth": 2
          },
          "yaxis": {
           "automargin": true,
           "gridcolor": "white",
           "linecolor": "white",
           "ticks": "",
           "title": {
            "standoff": 15
           },
           "zerolinecolor": "white",
           "zerolinewidth": 2
          }
         }
        },
        "title": {
         "font": {
          "color": "#4D5663"
         }
        },
        "xaxis": {
         "gridcolor": "#E1E5ED",
         "showgrid": true,
         "tickfont": {
          "color": "#4D5663"
         },
         "title": {
          "font": {
           "color": "#4D5663"
          },
          "text": ""
         },
         "zerolinecolor": "#E1E5ED"
        },
        "yaxis": {
         "gridcolor": "#E1E5ED",
         "showgrid": true,
         "tickfont": {
          "color": "#4D5663"
         },
         "title": {
          "font": {
           "color": "#4D5663"
          },
          "text": ""
         },
         "zerolinecolor": "#E1E5ED"
        }
       }
      },
      "text/html": [
       "<div>                            <div id=\"bab2d134-7df1-4fde-bef8-e90fe33e665a\" class=\"plotly-graph-div\" style=\"height:525px; width:100%;\"></div>            <script type=\"text/javascript\">                require([\"plotly\"], function(Plotly) {                    window.PLOTLYENV=window.PLOTLYENV || {};\n",
       "                    window.PLOTLYENV.BASE_URL='https://plot.ly';                                    if (document.getElementById(\"bab2d134-7df1-4fde-bef8-e90fe33e665a\")) {                    Plotly.newPlot(                        \"bab2d134-7df1-4fde-bef8-e90fe33e665a\",                        [{\"marker\":{\"color\":\"rgba(55, 128, 191, 0.6)\",\"line\":{\"color\":\"rgba(55, 128, 191, 1.0)\",\"width\":1}},\"name\":\"YTD Total Return\",\"orientation\":\"v\",\"text\":\"\",\"x\":[\"RWEG.DE\",\"BAYGn.DE\",\"IFXGn.DE\",\"1COV.DE\",\"ZALG.DE\",\"VNAn.DE\",\"FREG.DE\",\"DHLn.DE\",\"BASFn.DE\",\"ADSGn.DE\",\"BNRGn.DE\",\"HNKG_p.DE\",\"EONGn.DE\",\"DBKGn.DE\",\"SY1G.DE\",\"CONG.DE\",\"CBKG.DE\",\"DB1Gn.DE\",\"P911_p.DE\",\"BEIG.DE\",\"QIA.DE\",\"SATG_p.DE\",\"DTEGn.DE\",\"ALVG.DE\",\"SIEGn.DE\",\"PSHG_p.DE\",\"BMWG.DE\",\"AIRG.DE\",\"DTGGe.DE\",\"SHLG.DE\",\"HEIG.DE\",\"HNRGn.DE\",\"VOWG_p.DE\",\"MBGn.DE\",\"MRCG.DE\",\"MUVGn.DE\",\"ENR1n.DE\",\"MTXGn.DE\",\"SAPG.DE\",\"RHMG.DE\"],\"y\":[-22.7780475951402,-14.9271483792415,-11.4814814844806,-8.56112376440731,-7.59906759949617,-6.58724597299659,-5.80691129270887,-4.7597815193143,-4.48954489656234,-4.30060816750052,-3.48473924648022,-3.45868789428324,-3.25102880520307,-3.08961500994376,-1.68606985229325,0.182007279433138,0.557620820163751,0.616621986120514,0.90112640691018,1.14222549738583,1.3408577328867,1.35054021430789,1.99999999776144,2.12853895509149,2.41587972785147,2.48272884369409,3.29430442551912,4.41176470851234,4.49735449676305,4.71482889689685,5.41141586368066,5.77901063098674,7.03041145299541,7.72182253920579,8.04996530352102,8.95761130437451,15.7916666653942,16.2612035805155,18.3538858598307,35.26132404017],\"type\":\"bar\"}],                        {\"legend\":{\"bgcolor\":\"#F5F6F9\",\"font\":{\"color\":\"#4D5663\"}},\"paper_bgcolor\":\"#F5F6F9\",\"plot_bgcolor\":\"#F5F6F9\",\"template\":{\"data\":{\"barpolar\":[{\"marker\":{\"line\":{\"color\":\"#E5ECF6\",\"width\":0.5},\"pattern\":{\"fillmode\":\"overlay\",\"size\":10,\"solidity\":0.2}},\"type\":\"barpolar\"}],\"bar\":[{\"error_x\":{\"color\":\"#2a3f5f\"},\"error_y\":{\"color\":\"#2a3f5f\"},\"marker\":{\"line\":{\"color\":\"#E5ECF6\",\"width\":0.5},\"pattern\":{\"fillmode\":\"overlay\",\"size\":10,\"solidity\":0.2}},\"type\":\"bar\"}],\"carpet\":[{\"aaxis\":{\"endlinecolor\":\"#2a3f5f\",\"gridcolor\":\"white\",\"linecolor\":\"white\",\"minorgridcolor\":\"white\",\"startlinecolor\":\"#2a3f5f\"},\"baxis\":{\"endlinecolor\":\"#2a3f5f\",\"gridcolor\":\"white\",\"linecolor\":\"white\",\"minorgridcolor\":\"white\",\"startlinecolor\":\"#2a3f5f\"},\"type\":\"carpet\"}],\"choropleth\":[{\"colorbar\":{\"outlinewidth\":0,\"ticks\":\"\"},\"type\":\"choropleth\"}],\"contourcarpet\":[{\"colorbar\":{\"outlinewidth\":0,\"ticks\":\"\"},\"type\":\"contourcarpet\"}],\"contour\":[{\"colorbar\":{\"outlinewidth\":0,\"ticks\":\"\"},\"colorscale\":[[0.0,\"#0d0887\"],[0.1111111111111111,\"#46039f\"],[0.2222222222222222,\"#7201a8\"],[0.3333333333333333,\"#9c179e\"],[0.4444444444444444,\"#bd3786\"],[0.5555555555555556,\"#d8576b\"],[0.6666666666666666,\"#ed7953\"],[0.7777777777777778,\"#fb9f3a\"],[0.8888888888888888,\"#fdca26\"],[1.0,\"#f0f921\"]],\"type\":\"contour\"}],\"heatmapgl\":[{\"colorbar\":{\"outlinewidth\":0,\"ticks\":\"\"},\"colorscale\":[[0.0,\"#0d0887\"],[0.1111111111111111,\"#46039f\"],[0.2222222222222222,\"#7201a8\"],[0.3333333333333333,\"#9c179e\"],[0.4444444444444444,\"#bd3786\"],[0.5555555555555556,\"#d8576b\"],[0.6666666666666666,\"#ed7953\"],[0.7777777777777778,\"#fb9f3a\"],[0.8888888888888888,\"#fdca26\"],[1.0,\"#f0f921\"]],\"type\":\"heatmapgl\"}],\"heatmap\":[{\"colorbar\":{\"outlinewidth\":0,\"ticks\":\"\"},\"colorscale\":[[0.0,\"#0d0887\"],[0.1111111111111111,\"#46039f\"],[0.2222222222222222,\"#7201a8\"],[0.3333333333333333,\"#9c179e\"],[0.4444444444444444,\"#bd3786\"],[0.5555555555555556,\"#d8576b\"],[0.6666666666666666,\"#ed7953\"],[0.7777777777777778,\"#fb9f3a\"],[0.8888888888888888,\"#fdca26\"],[1.0,\"#f0f921\"]],\"type\":\"heatmap\"}],\"histogram2dcontour\":[{\"colorbar\":{\"outlinewidth\":0,\"ticks\":\"\"},\"colorscale\":[[0.0,\"#0d0887\"],[0.1111111111111111,\"#46039f\"],[0.2222222222222222,\"#7201a8\"],[0.3333333333333333,\"#9c179e\"],[0.4444444444444444,\"#bd3786\"],[0.5555555555555556,\"#d8576b\"],[0.6666666666666666,\"#ed7953\"],[0.7777777777777778,\"#fb9f3a\"],[0.8888888888888888,\"#fdca26\"],[1.0,\"#f0f921\"]],\"type\":\"histogram2dcontour\"}],\"histogram2d\":[{\"colorbar\":{\"outlinewidth\":0,\"ticks\":\"\"},\"colorscale\":[[0.0,\"#0d0887\"],[0.1111111111111111,\"#46039f\"],[0.2222222222222222,\"#7201a8\"],[0.3333333333333333,\"#9c179e\"],[0.4444444444444444,\"#bd3786\"],[0.5555555555555556,\"#d8576b\"],[0.6666666666666666,\"#ed7953\"],[0.7777777777777778,\"#fb9f3a\"],[0.8888888888888888,\"#fdca26\"],[1.0,\"#f0f921\"]],\"type\":\"histogram2d\"}],\"histogram\":[{\"marker\":{\"pattern\":{\"fillmode\":\"overlay\",\"size\":10,\"solidity\":0.2}},\"type\":\"histogram\"}],\"mesh3d\":[{\"colorbar\":{\"outlinewidth\":0,\"ticks\":\"\"},\"type\":\"mesh3d\"}],\"parcoords\":[{\"line\":{\"colorbar\":{\"outlinewidth\":0,\"ticks\":\"\"}},\"type\":\"parcoords\"}],\"pie\":[{\"automargin\":true,\"type\":\"pie\"}],\"scatter3d\":[{\"line\":{\"colorbar\":{\"outlinewidth\":0,\"ticks\":\"\"}},\"marker\":{\"colorbar\":{\"outlinewidth\":0,\"ticks\":\"\"}},\"type\":\"scatter3d\"}],\"scattercarpet\":[{\"marker\":{\"colorbar\":{\"outlinewidth\":0,\"ticks\":\"\"}},\"type\":\"scattercarpet\"}],\"scattergeo\":[{\"marker\":{\"colorbar\":{\"outlinewidth\":0,\"ticks\":\"\"}},\"type\":\"scattergeo\"}],\"scattergl\":[{\"marker\":{\"colorbar\":{\"outlinewidth\":0,\"ticks\":\"\"}},\"type\":\"scattergl\"}],\"scattermapbox\":[{\"marker\":{\"colorbar\":{\"outlinewidth\":0,\"ticks\":\"\"}},\"type\":\"scattermapbox\"}],\"scatterpolargl\":[{\"marker\":{\"colorbar\":{\"outlinewidth\":0,\"ticks\":\"\"}},\"type\":\"scatterpolargl\"}],\"scatterpolar\":[{\"marker\":{\"colorbar\":{\"outlinewidth\":0,\"ticks\":\"\"}},\"type\":\"scatterpolar\"}],\"scatter\":[{\"fillpattern\":{\"fillmode\":\"overlay\",\"size\":10,\"solidity\":0.2},\"type\":\"scatter\"}],\"scatterternary\":[{\"marker\":{\"colorbar\":{\"outlinewidth\":0,\"ticks\":\"\"}},\"type\":\"scatterternary\"}],\"surface\":[{\"colorbar\":{\"outlinewidth\":0,\"ticks\":\"\"},\"colorscale\":[[0.0,\"#0d0887\"],[0.1111111111111111,\"#46039f\"],[0.2222222222222222,\"#7201a8\"],[0.3333333333333333,\"#9c179e\"],[0.4444444444444444,\"#bd3786\"],[0.5555555555555556,\"#d8576b\"],[0.6666666666666666,\"#ed7953\"],[0.7777777777777778,\"#fb9f3a\"],[0.8888888888888888,\"#fdca26\"],[1.0,\"#f0f921\"]],\"type\":\"surface\"}],\"table\":[{\"cells\":{\"fill\":{\"color\":\"#EBF0F8\"},\"line\":{\"color\":\"white\"}},\"header\":{\"fill\":{\"color\":\"#C8D4E3\"},\"line\":{\"color\":\"white\"}},\"type\":\"table\"}]},\"layout\":{\"annotationdefaults\":{\"arrowcolor\":\"#2a3f5f\",\"arrowhead\":0,\"arrowwidth\":1},\"autotypenumbers\":\"strict\",\"coloraxis\":{\"colorbar\":{\"outlinewidth\":0,\"ticks\":\"\"}},\"colorscale\":{\"diverging\":[[0,\"#8e0152\"],[0.1,\"#c51b7d\"],[0.2,\"#de77ae\"],[0.3,\"#f1b6da\"],[0.4,\"#fde0ef\"],[0.5,\"#f7f7f7\"],[0.6,\"#e6f5d0\"],[0.7,\"#b8e186\"],[0.8,\"#7fbc41\"],[0.9,\"#4d9221\"],[1,\"#276419\"]],\"sequential\":[[0.0,\"#0d0887\"],[0.1111111111111111,\"#46039f\"],[0.2222222222222222,\"#7201a8\"],[0.3333333333333333,\"#9c179e\"],[0.4444444444444444,\"#bd3786\"],[0.5555555555555556,\"#d8576b\"],[0.6666666666666666,\"#ed7953\"],[0.7777777777777778,\"#fb9f3a\"],[0.8888888888888888,\"#fdca26\"],[1.0,\"#f0f921\"]],\"sequentialminus\":[[0.0,\"#0d0887\"],[0.1111111111111111,\"#46039f\"],[0.2222222222222222,\"#7201a8\"],[0.3333333333333333,\"#9c179e\"],[0.4444444444444444,\"#bd3786\"],[0.5555555555555556,\"#d8576b\"],[0.6666666666666666,\"#ed7953\"],[0.7777777777777778,\"#fb9f3a\"],[0.8888888888888888,\"#fdca26\"],[1.0,\"#f0f921\"]]},\"colorway\":[\"#636efa\",\"#EF553B\",\"#00cc96\",\"#ab63fa\",\"#FFA15A\",\"#19d3f3\",\"#FF6692\",\"#B6E880\",\"#FF97FF\",\"#FECB52\"],\"font\":{\"color\":\"#2a3f5f\"},\"geo\":{\"bgcolor\":\"white\",\"lakecolor\":\"white\",\"landcolor\":\"#E5ECF6\",\"showlakes\":true,\"showland\":true,\"subunitcolor\":\"white\"},\"hoverlabel\":{\"align\":\"left\"},\"hovermode\":\"closest\",\"mapbox\":{\"style\":\"light\"},\"paper_bgcolor\":\"white\",\"plot_bgcolor\":\"#E5ECF6\",\"polar\":{\"angularaxis\":{\"gridcolor\":\"white\",\"linecolor\":\"white\",\"ticks\":\"\"},\"bgcolor\":\"#E5ECF6\",\"radialaxis\":{\"gridcolor\":\"white\",\"linecolor\":\"white\",\"ticks\":\"\"}},\"scene\":{\"xaxis\":{\"backgroundcolor\":\"#E5ECF6\",\"gridcolor\":\"white\",\"gridwidth\":2,\"linecolor\":\"white\",\"showbackground\":true,\"ticks\":\"\",\"zerolinecolor\":\"white\"},\"yaxis\":{\"backgroundcolor\":\"#E5ECF6\",\"gridcolor\":\"white\",\"gridwidth\":2,\"linecolor\":\"white\",\"showbackground\":true,\"ticks\":\"\",\"zerolinecolor\":\"white\"},\"zaxis\":{\"backgroundcolor\":\"#E5ECF6\",\"gridcolor\":\"white\",\"gridwidth\":2,\"linecolor\":\"white\",\"showbackground\":true,\"ticks\":\"\",\"zerolinecolor\":\"white\"}},\"shapedefaults\":{\"line\":{\"color\":\"#2a3f5f\"}},\"ternary\":{\"aaxis\":{\"gridcolor\":\"white\",\"linecolor\":\"white\",\"ticks\":\"\"},\"baxis\":{\"gridcolor\":\"white\",\"linecolor\":\"white\",\"ticks\":\"\"},\"bgcolor\":\"#E5ECF6\",\"caxis\":{\"gridcolor\":\"white\",\"linecolor\":\"white\",\"ticks\":\"\"}},\"title\":{\"x\":0.05},\"xaxis\":{\"automargin\":true,\"gridcolor\":\"white\",\"linecolor\":\"white\",\"ticks\":\"\",\"title\":{\"standoff\":15},\"zerolinecolor\":\"white\",\"zerolinewidth\":2},\"yaxis\":{\"automargin\":true,\"gridcolor\":\"white\",\"linecolor\":\"white\",\"ticks\":\"\",\"title\":{\"standoff\":15},\"zerolinecolor\":\"white\",\"zerolinewidth\":2}}},\"title\":{\"font\":{\"color\":\"#4D5663\"}},\"xaxis\":{\"gridcolor\":\"#E1E5ED\",\"showgrid\":true,\"tickfont\":{\"color\":\"#4D5663\"},\"title\":{\"font\":{\"color\":\"#4D5663\"},\"text\":\"\"},\"zerolinecolor\":\"#E1E5ED\"},\"yaxis\":{\"gridcolor\":\"#E1E5ED\",\"showgrid\":true,\"tickfont\":{\"color\":\"#4D5663\"},\"title\":{\"font\":{\"color\":\"#4D5663\"},\"text\":\"\"},\"zerolinecolor\":\"#E1E5ED\"}},                        {\"showLink\": true, \"linkText\": \"Export to plot.ly\", \"plotlyServerURL\": \"https://plot.ly\", \"responsive\": true}                    ).then(function(){\n",
       "                            \n",
       "var gd = document.getElementById('bab2d134-7df1-4fde-bef8-e90fe33e665a');\n",
       "var x = new MutationObserver(function (mutations, observer) {{\n",
       "        var display = window.getComputedStyle(gd).display;\n",
       "        if (!display || display === 'none') {{\n",
       "            console.log([gd, 'removed!']);\n",
       "            Plotly.purge(gd);\n",
       "            observer.disconnect();\n",
       "        }}\n",
       "}});\n",
       "\n",
       "// Listen for the removal of the full notebook cells\n",
       "var notebookContainer = gd.closest('#notebook-container');\n",
       "if (notebookContainer) {{\n",
       "    x.observe(notebookContainer, {childList: true});\n",
       "}}\n",
       "\n",
       "// Listen for the clearing of the current output cell\n",
       "var outputEl = gd.closest('.output');\n",
       "if (outputEl) {{\n",
       "    x.observe(outputEl, {childList: true});\n",
       "}}\n",
       "\n",
       "                        })                };                });            </script>        </div>"
      ]
     },
     "metadata": {},
     "output_type": "display_data"
    }
   ],
   "source": [
    "dax.set_index('Instrument')['YTD Total Return'].sort_values().iplot(kind='bar', color='blue')"
   ]
  },
  {
   "cell_type": "markdown",
   "id": "7e8a5216",
   "metadata": {},
   "source": [
    "generen grafico para volumen de menor a mayor DJI"
   ]
  },
  {
   "cell_type": "code",
   "execution_count": 25,
   "id": "e79b0aed",
   "metadata": {},
   "outputs": [],
   "source": [
    "lp4 = ek.get_data('LP40065886', ['TR.FundHoldingRIC','TR.FundHoldingName',\n",
    "                           'TR.FundPercentageOfFundAssets',\n",
    "                           'TR.FundNumberOfShares',\n",
    "                           'TR.FundNumberOfSharesChanged'],\n",
    "            {'Endnum':'5000'})[0]"
   ]
  },
  {
   "cell_type": "code",
   "execution_count": 26,
   "id": "d3db9b8a",
   "metadata": {},
   "outputs": [
    {
     "data": {
      "text/html": [
       "<div>\n",
       "<style scoped>\n",
       "    .dataframe tbody tr th:only-of-type {\n",
       "        vertical-align: middle;\n",
       "    }\n",
       "\n",
       "    .dataframe tbody tr th {\n",
       "        vertical-align: top;\n",
       "    }\n",
       "\n",
       "    .dataframe thead th {\n",
       "        text-align: right;\n",
       "    }\n",
       "</style>\n",
       "<table border=\"1\" class=\"dataframe\">\n",
       "  <thead>\n",
       "    <tr style=\"text-align: right;\">\n",
       "      <th></th>\n",
       "      <th>Instrument</th>\n",
       "      <th>Holding RIC</th>\n",
       "      <th>Holding Name</th>\n",
       "      <th>Percentage of Fund Assets</th>\n",
       "      <th>Number of Shares</th>\n",
       "      <th>Number of Shares Changed</th>\n",
       "    </tr>\n",
       "  </thead>\n",
       "  <tbody>\n",
       "    <tr>\n",
       "      <th>0</th>\n",
       "      <td>LP40065886</td>\n",
       "      <td>MSFT.OQ</td>\n",
       "      <td>MICROSOFT CORP ORD</td>\n",
       "      <td>6.2948</td>\n",
       "      <td>5010898.0</td>\n",
       "      <td>29309.0</td>\n",
       "    </tr>\n",
       "    <tr>\n",
       "      <th>1</th>\n",
       "      <td>LP40065886</td>\n",
       "      <td>AAPL.OQ</td>\n",
       "      <td>APPLE INC ORD</td>\n",
       "      <td>5.8043</td>\n",
       "      <td>9962101.0</td>\n",
       "      <td>58523.0</td>\n",
       "    </tr>\n",
       "    <tr>\n",
       "      <th>2</th>\n",
       "      <td>LP40065886</td>\n",
       "      <td>NVDA.OQ</td>\n",
       "      <td>NVIDIA CORP ORD</td>\n",
       "      <td>3.0757</td>\n",
       "      <td>1582120.0</td>\n",
       "      <td>9323.0</td>\n",
       "    </tr>\n",
       "    <tr>\n",
       "      <th>3</th>\n",
       "      <td>LP40065886</td>\n",
       "      <td>AMZN.OQ</td>\n",
       "      <td>AMAZON.COM INC ORD</td>\n",
       "      <td>3.0752</td>\n",
       "      <td>6271046.0</td>\n",
       "      <td>36710.0</td>\n",
       "    </tr>\n",
       "    <tr>\n",
       "      <th>4</th>\n",
       "      <td>LP40065886</td>\n",
       "      <td>META.OQ</td>\n",
       "      <td>META PLATFORMS INC ORD</td>\n",
       "      <td>1.8449</td>\n",
       "      <td>1496643.0</td>\n",
       "      <td>8861.0</td>\n",
       "    </tr>\n",
       "    <tr>\n",
       "      <th>...</th>\n",
       "      <td>...</td>\n",
       "      <td>...</td>\n",
       "      <td>...</td>\n",
       "      <td>...</td>\n",
       "      <td>...</td>\n",
       "      <td>...</td>\n",
       "    </tr>\n",
       "    <tr>\n",
       "      <th>3368</th>\n",
       "      <td>LP40065886</td>\n",
       "      <td></td>\n",
       "      <td>NEXT BRIDGE HYDROCARBONS INC</td>\n",
       "      <td>0.0</td>\n",
       "      <td>49663.0</td>\n",
       "      <td>0.0</td>\n",
       "    </tr>\n",
       "    <tr>\n",
       "      <th>3369</th>\n",
       "      <td>LP40065886</td>\n",
       "      <td></td>\n",
       "      <td>CARISMA THERAPEUTICS INC CVR</td>\n",
       "      <td>0.0</td>\n",
       "      <td>143290.0</td>\n",
       "      <td>0.0</td>\n",
       "    </tr>\n",
       "    <tr>\n",
       "      <th>3370</th>\n",
       "      <td>LP40065886</td>\n",
       "      <td></td>\n",
       "      <td>GCI LIBERTY INC ESCROW SHARES</td>\n",
       "      <td>0.0</td>\n",
       "      <td>82371.0</td>\n",
       "      <td>0.0</td>\n",
       "    </tr>\n",
       "    <tr>\n",
       "      <th>3371</th>\n",
       "      <td>LP40065886</td>\n",
       "      <td></td>\n",
       "      <td>SPECTRUM PHARMACEUTICALS INC CVR</td>\n",
       "      <td>0.0</td>\n",
       "      <td>109299.0</td>\n",
       "      <td>0.0</td>\n",
       "    </tr>\n",
       "    <tr>\n",
       "      <th>3372</th>\n",
       "      <td>LP40065886</td>\n",
       "      <td></td>\n",
       "      <td>MAGENTA THERAPEUTICS INC CVR</td>\n",
       "      <td>0.0</td>\n",
       "      <td>33990.0</td>\n",
       "      <td>0.0</td>\n",
       "    </tr>\n",
       "  </tbody>\n",
       "</table>\n",
       "<p>3373 rows × 6 columns</p>\n",
       "</div>"
      ],
      "text/plain": [
       "      Instrument Holding RIC                      Holding Name   \n",
       "0     LP40065886     MSFT.OQ                MICROSOFT CORP ORD  \\\n",
       "1     LP40065886     AAPL.OQ                     APPLE INC ORD   \n",
       "2     LP40065886     NVDA.OQ                   NVIDIA CORP ORD   \n",
       "3     LP40065886     AMZN.OQ                AMAZON.COM INC ORD   \n",
       "4     LP40065886     META.OQ            META PLATFORMS INC ORD   \n",
       "...          ...         ...                               ...   \n",
       "3368  LP40065886                  NEXT BRIDGE HYDROCARBONS INC   \n",
       "3369  LP40065886                  CARISMA THERAPEUTICS INC CVR   \n",
       "3370  LP40065886                 GCI LIBERTY INC ESCROW SHARES   \n",
       "3371  LP40065886              SPECTRUM PHARMACEUTICALS INC CVR   \n",
       "3372  LP40065886                  MAGENTA THERAPEUTICS INC CVR   \n",
       "\n",
       "      Percentage of Fund Assets  Number of Shares  Number of Shares Changed  \n",
       "0                        6.2948         5010898.0                   29309.0  \n",
       "1                        5.8043         9962101.0                   58523.0  \n",
       "2                        3.0757         1582120.0                    9323.0  \n",
       "3                        3.0752         6271046.0                   36710.0  \n",
       "4                        1.8449         1496643.0                    8861.0  \n",
       "...                         ...               ...                       ...  \n",
       "3368                        0.0           49663.0                       0.0  \n",
       "3369                        0.0          143290.0                       0.0  \n",
       "3370                        0.0           82371.0                       0.0  \n",
       "3371                        0.0          109299.0                       0.0  \n",
       "3372                        0.0           33990.0                       0.0  \n",
       "\n",
       "[3373 rows x 6 columns]"
      ]
     },
     "execution_count": 26,
     "metadata": {},
     "output_type": "execute_result"
    }
   ],
   "source": [
    "lp4"
   ]
  },
  {
   "cell_type": "code",
   "execution_count": 27,
   "id": "13a8119c",
   "metadata": {},
   "outputs": [
    {
     "data": {
      "application/vnd.plotly.v1+json": {
       "config": {
        "linkText": "Export to plot.ly",
        "plotlyServerURL": "https://plot.ly",
        "showLink": true
       },
       "data": [
        {
         "marker": {
          "color": "rgba(55, 128, 191, 0.6)",
          "line": {
           "color": "rgba(55, 128, 191, 1.0)",
           "width": 1
          }
         },
         "name": "YTD Total Return",
         "orientation": "v",
         "text": "",
         "type": "bar",
         "x": [
          "RWEG.DE",
          "BAYGn.DE",
          "IFXGn.DE",
          "1COV.DE",
          "ZALG.DE",
          "VNAn.DE",
          "FREG.DE",
          "DHLn.DE",
          "BASFn.DE",
          "ADSGn.DE",
          "BNRGn.DE",
          "HNKG_p.DE",
          "EONGn.DE",
          "DBKGn.DE",
          "SY1G.DE",
          "CONG.DE",
          "CBKG.DE",
          "DB1Gn.DE",
          "P911_p.DE",
          "BEIG.DE",
          "QIA.DE",
          "SATG_p.DE",
          "DTEGn.DE",
          "ALVG.DE",
          "SIEGn.DE",
          "PSHG_p.DE",
          "BMWG.DE",
          "AIRG.DE",
          "DTGGe.DE",
          "SHLG.DE",
          "HEIG.DE",
          "HNRGn.DE",
          "VOWG_p.DE",
          "MBGn.DE",
          "MRCG.DE",
          "MUVGn.DE",
          "ENR1n.DE",
          "MTXGn.DE",
          "SAPG.DE",
          "RHMG.DE"
         ],
         "y": [
          -22.7780475951402,
          -14.9271483792415,
          -11.4814814844806,
          -8.56112376440731,
          -7.59906759949617,
          -6.58724597299659,
          -5.80691129270887,
          -4.7597815193143,
          -4.48954489656234,
          -4.30060816750052,
          -3.48473924648022,
          -3.45868789428324,
          -3.25102880520307,
          -3.08961500994376,
          -1.68606985229325,
          0.182007279433138,
          0.557620820163751,
          0.616621986120514,
          0.90112640691018,
          1.14222549738583,
          1.3408577328867,
          1.35054021430789,
          1.99999999776144,
          2.12853895509149,
          2.41587972785147,
          2.48272884369409,
          3.29430442551912,
          4.41176470851234,
          4.49735449676305,
          4.71482889689685,
          5.41141586368066,
          5.77901063098674,
          7.03041145299541,
          7.72182253920579,
          8.04996530352102,
          8.95761130437451,
          15.7916666653942,
          16.2612035805155,
          18.3538858598307,
          35.26132404017
         ]
        }
       ],
       "layout": {
        "legend": {
         "bgcolor": "#F5F6F9",
         "font": {
          "color": "#4D5663"
         }
        },
        "paper_bgcolor": "#F5F6F9",
        "plot_bgcolor": "#F5F6F9",
        "template": {
         "data": {
          "bar": [
           {
            "error_x": {
             "color": "#2a3f5f"
            },
            "error_y": {
             "color": "#2a3f5f"
            },
            "marker": {
             "line": {
              "color": "#E5ECF6",
              "width": 0.5
             },
             "pattern": {
              "fillmode": "overlay",
              "size": 10,
              "solidity": 0.2
             }
            },
            "type": "bar"
           }
          ],
          "barpolar": [
           {
            "marker": {
             "line": {
              "color": "#E5ECF6",
              "width": 0.5
             },
             "pattern": {
              "fillmode": "overlay",
              "size": 10,
              "solidity": 0.2
             }
            },
            "type": "barpolar"
           }
          ],
          "carpet": [
           {
            "aaxis": {
             "endlinecolor": "#2a3f5f",
             "gridcolor": "white",
             "linecolor": "white",
             "minorgridcolor": "white",
             "startlinecolor": "#2a3f5f"
            },
            "baxis": {
             "endlinecolor": "#2a3f5f",
             "gridcolor": "white",
             "linecolor": "white",
             "minorgridcolor": "white",
             "startlinecolor": "#2a3f5f"
            },
            "type": "carpet"
           }
          ],
          "choropleth": [
           {
            "colorbar": {
             "outlinewidth": 0,
             "ticks": ""
            },
            "type": "choropleth"
           }
          ],
          "contour": [
           {
            "colorbar": {
             "outlinewidth": 0,
             "ticks": ""
            },
            "colorscale": [
             [
              0,
              "#0d0887"
             ],
             [
              0.1111111111111111,
              "#46039f"
             ],
             [
              0.2222222222222222,
              "#7201a8"
             ],
             [
              0.3333333333333333,
              "#9c179e"
             ],
             [
              0.4444444444444444,
              "#bd3786"
             ],
             [
              0.5555555555555556,
              "#d8576b"
             ],
             [
              0.6666666666666666,
              "#ed7953"
             ],
             [
              0.7777777777777778,
              "#fb9f3a"
             ],
             [
              0.8888888888888888,
              "#fdca26"
             ],
             [
              1,
              "#f0f921"
             ]
            ],
            "type": "contour"
           }
          ],
          "contourcarpet": [
           {
            "colorbar": {
             "outlinewidth": 0,
             "ticks": ""
            },
            "type": "contourcarpet"
           }
          ],
          "heatmap": [
           {
            "colorbar": {
             "outlinewidth": 0,
             "ticks": ""
            },
            "colorscale": [
             [
              0,
              "#0d0887"
             ],
             [
              0.1111111111111111,
              "#46039f"
             ],
             [
              0.2222222222222222,
              "#7201a8"
             ],
             [
              0.3333333333333333,
              "#9c179e"
             ],
             [
              0.4444444444444444,
              "#bd3786"
             ],
             [
              0.5555555555555556,
              "#d8576b"
             ],
             [
              0.6666666666666666,
              "#ed7953"
             ],
             [
              0.7777777777777778,
              "#fb9f3a"
             ],
             [
              0.8888888888888888,
              "#fdca26"
             ],
             [
              1,
              "#f0f921"
             ]
            ],
            "type": "heatmap"
           }
          ],
          "heatmapgl": [
           {
            "colorbar": {
             "outlinewidth": 0,
             "ticks": ""
            },
            "colorscale": [
             [
              0,
              "#0d0887"
             ],
             [
              0.1111111111111111,
              "#46039f"
             ],
             [
              0.2222222222222222,
              "#7201a8"
             ],
             [
              0.3333333333333333,
              "#9c179e"
             ],
             [
              0.4444444444444444,
              "#bd3786"
             ],
             [
              0.5555555555555556,
              "#d8576b"
             ],
             [
              0.6666666666666666,
              "#ed7953"
             ],
             [
              0.7777777777777778,
              "#fb9f3a"
             ],
             [
              0.8888888888888888,
              "#fdca26"
             ],
             [
              1,
              "#f0f921"
             ]
            ],
            "type": "heatmapgl"
           }
          ],
          "histogram": [
           {
            "marker": {
             "pattern": {
              "fillmode": "overlay",
              "size": 10,
              "solidity": 0.2
             }
            },
            "type": "histogram"
           }
          ],
          "histogram2d": [
           {
            "colorbar": {
             "outlinewidth": 0,
             "ticks": ""
            },
            "colorscale": [
             [
              0,
              "#0d0887"
             ],
             [
              0.1111111111111111,
              "#46039f"
             ],
             [
              0.2222222222222222,
              "#7201a8"
             ],
             [
              0.3333333333333333,
              "#9c179e"
             ],
             [
              0.4444444444444444,
              "#bd3786"
             ],
             [
              0.5555555555555556,
              "#d8576b"
             ],
             [
              0.6666666666666666,
              "#ed7953"
             ],
             [
              0.7777777777777778,
              "#fb9f3a"
             ],
             [
              0.8888888888888888,
              "#fdca26"
             ],
             [
              1,
              "#f0f921"
             ]
            ],
            "type": "histogram2d"
           }
          ],
          "histogram2dcontour": [
           {
            "colorbar": {
             "outlinewidth": 0,
             "ticks": ""
            },
            "colorscale": [
             [
              0,
              "#0d0887"
             ],
             [
              0.1111111111111111,
              "#46039f"
             ],
             [
              0.2222222222222222,
              "#7201a8"
             ],
             [
              0.3333333333333333,
              "#9c179e"
             ],
             [
              0.4444444444444444,
              "#bd3786"
             ],
             [
              0.5555555555555556,
              "#d8576b"
             ],
             [
              0.6666666666666666,
              "#ed7953"
             ],
             [
              0.7777777777777778,
              "#fb9f3a"
             ],
             [
              0.8888888888888888,
              "#fdca26"
             ],
             [
              1,
              "#f0f921"
             ]
            ],
            "type": "histogram2dcontour"
           }
          ],
          "mesh3d": [
           {
            "colorbar": {
             "outlinewidth": 0,
             "ticks": ""
            },
            "type": "mesh3d"
           }
          ],
          "parcoords": [
           {
            "line": {
             "colorbar": {
              "outlinewidth": 0,
              "ticks": ""
             }
            },
            "type": "parcoords"
           }
          ],
          "pie": [
           {
            "automargin": true,
            "type": "pie"
           }
          ],
          "scatter": [
           {
            "fillpattern": {
             "fillmode": "overlay",
             "size": 10,
             "solidity": 0.2
            },
            "type": "scatter"
           }
          ],
          "scatter3d": [
           {
            "line": {
             "colorbar": {
              "outlinewidth": 0,
              "ticks": ""
             }
            },
            "marker": {
             "colorbar": {
              "outlinewidth": 0,
              "ticks": ""
             }
            },
            "type": "scatter3d"
           }
          ],
          "scattercarpet": [
           {
            "marker": {
             "colorbar": {
              "outlinewidth": 0,
              "ticks": ""
             }
            },
            "type": "scattercarpet"
           }
          ],
          "scattergeo": [
           {
            "marker": {
             "colorbar": {
              "outlinewidth": 0,
              "ticks": ""
             }
            },
            "type": "scattergeo"
           }
          ],
          "scattergl": [
           {
            "marker": {
             "colorbar": {
              "outlinewidth": 0,
              "ticks": ""
             }
            },
            "type": "scattergl"
           }
          ],
          "scattermapbox": [
           {
            "marker": {
             "colorbar": {
              "outlinewidth": 0,
              "ticks": ""
             }
            },
            "type": "scattermapbox"
           }
          ],
          "scatterpolar": [
           {
            "marker": {
             "colorbar": {
              "outlinewidth": 0,
              "ticks": ""
             }
            },
            "type": "scatterpolar"
           }
          ],
          "scatterpolargl": [
           {
            "marker": {
             "colorbar": {
              "outlinewidth": 0,
              "ticks": ""
             }
            },
            "type": "scatterpolargl"
           }
          ],
          "scatterternary": [
           {
            "marker": {
             "colorbar": {
              "outlinewidth": 0,
              "ticks": ""
             }
            },
            "type": "scatterternary"
           }
          ],
          "surface": [
           {
            "colorbar": {
             "outlinewidth": 0,
             "ticks": ""
            },
            "colorscale": [
             [
              0,
              "#0d0887"
             ],
             [
              0.1111111111111111,
              "#46039f"
             ],
             [
              0.2222222222222222,
              "#7201a8"
             ],
             [
              0.3333333333333333,
              "#9c179e"
             ],
             [
              0.4444444444444444,
              "#bd3786"
             ],
             [
              0.5555555555555556,
              "#d8576b"
             ],
             [
              0.6666666666666666,
              "#ed7953"
             ],
             [
              0.7777777777777778,
              "#fb9f3a"
             ],
             [
              0.8888888888888888,
              "#fdca26"
             ],
             [
              1,
              "#f0f921"
             ]
            ],
            "type": "surface"
           }
          ],
          "table": [
           {
            "cells": {
             "fill": {
              "color": "#EBF0F8"
             },
             "line": {
              "color": "white"
             }
            },
            "header": {
             "fill": {
              "color": "#C8D4E3"
             },
             "line": {
              "color": "white"
             }
            },
            "type": "table"
           }
          ]
         },
         "layout": {
          "annotationdefaults": {
           "arrowcolor": "#2a3f5f",
           "arrowhead": 0,
           "arrowwidth": 1
          },
          "autotypenumbers": "strict",
          "coloraxis": {
           "colorbar": {
            "outlinewidth": 0,
            "ticks": ""
           }
          },
          "colorscale": {
           "diverging": [
            [
             0,
             "#8e0152"
            ],
            [
             0.1,
             "#c51b7d"
            ],
            [
             0.2,
             "#de77ae"
            ],
            [
             0.3,
             "#f1b6da"
            ],
            [
             0.4,
             "#fde0ef"
            ],
            [
             0.5,
             "#f7f7f7"
            ],
            [
             0.6,
             "#e6f5d0"
            ],
            [
             0.7,
             "#b8e186"
            ],
            [
             0.8,
             "#7fbc41"
            ],
            [
             0.9,
             "#4d9221"
            ],
            [
             1,
             "#276419"
            ]
           ],
           "sequential": [
            [
             0,
             "#0d0887"
            ],
            [
             0.1111111111111111,
             "#46039f"
            ],
            [
             0.2222222222222222,
             "#7201a8"
            ],
            [
             0.3333333333333333,
             "#9c179e"
            ],
            [
             0.4444444444444444,
             "#bd3786"
            ],
            [
             0.5555555555555556,
             "#d8576b"
            ],
            [
             0.6666666666666666,
             "#ed7953"
            ],
            [
             0.7777777777777778,
             "#fb9f3a"
            ],
            [
             0.8888888888888888,
             "#fdca26"
            ],
            [
             1,
             "#f0f921"
            ]
           ],
           "sequentialminus": [
            [
             0,
             "#0d0887"
            ],
            [
             0.1111111111111111,
             "#46039f"
            ],
            [
             0.2222222222222222,
             "#7201a8"
            ],
            [
             0.3333333333333333,
             "#9c179e"
            ],
            [
             0.4444444444444444,
             "#bd3786"
            ],
            [
             0.5555555555555556,
             "#d8576b"
            ],
            [
             0.6666666666666666,
             "#ed7953"
            ],
            [
             0.7777777777777778,
             "#fb9f3a"
            ],
            [
             0.8888888888888888,
             "#fdca26"
            ],
            [
             1,
             "#f0f921"
            ]
           ]
          },
          "colorway": [
           "#636efa",
           "#EF553B",
           "#00cc96",
           "#ab63fa",
           "#FFA15A",
           "#19d3f3",
           "#FF6692",
           "#B6E880",
           "#FF97FF",
           "#FECB52"
          ],
          "font": {
           "color": "#2a3f5f"
          },
          "geo": {
           "bgcolor": "white",
           "lakecolor": "white",
           "landcolor": "#E5ECF6",
           "showlakes": true,
           "showland": true,
           "subunitcolor": "white"
          },
          "hoverlabel": {
           "align": "left"
          },
          "hovermode": "closest",
          "mapbox": {
           "style": "light"
          },
          "paper_bgcolor": "white",
          "plot_bgcolor": "#E5ECF6",
          "polar": {
           "angularaxis": {
            "gridcolor": "white",
            "linecolor": "white",
            "ticks": ""
           },
           "bgcolor": "#E5ECF6",
           "radialaxis": {
            "gridcolor": "white",
            "linecolor": "white",
            "ticks": ""
           }
          },
          "scene": {
           "xaxis": {
            "backgroundcolor": "#E5ECF6",
            "gridcolor": "white",
            "gridwidth": 2,
            "linecolor": "white",
            "showbackground": true,
            "ticks": "",
            "zerolinecolor": "white"
           },
           "yaxis": {
            "backgroundcolor": "#E5ECF6",
            "gridcolor": "white",
            "gridwidth": 2,
            "linecolor": "white",
            "showbackground": true,
            "ticks": "",
            "zerolinecolor": "white"
           },
           "zaxis": {
            "backgroundcolor": "#E5ECF6",
            "gridcolor": "white",
            "gridwidth": 2,
            "linecolor": "white",
            "showbackground": true,
            "ticks": "",
            "zerolinecolor": "white"
           }
          },
          "shapedefaults": {
           "line": {
            "color": "#2a3f5f"
           }
          },
          "ternary": {
           "aaxis": {
            "gridcolor": "white",
            "linecolor": "white",
            "ticks": ""
           },
           "baxis": {
            "gridcolor": "white",
            "linecolor": "white",
            "ticks": ""
           },
           "bgcolor": "#E5ECF6",
           "caxis": {
            "gridcolor": "white",
            "linecolor": "white",
            "ticks": ""
           }
          },
          "title": {
           "x": 0.05
          },
          "xaxis": {
           "automargin": true,
           "gridcolor": "white",
           "linecolor": "white",
           "ticks": "",
           "title": {
            "standoff": 15
           },
           "zerolinecolor": "white",
           "zerolinewidth": 2
          },
          "yaxis": {
           "automargin": true,
           "gridcolor": "white",
           "linecolor": "white",
           "ticks": "",
           "title": {
            "standoff": 15
           },
           "zerolinecolor": "white",
           "zerolinewidth": 2
          }
         }
        },
        "title": {
         "font": {
          "color": "#4D5663"
         }
        },
        "xaxis": {
         "gridcolor": "#E1E5ED",
         "showgrid": true,
         "tickfont": {
          "color": "#4D5663"
         },
         "title": {
          "font": {
           "color": "#4D5663"
          },
          "text": ""
         },
         "zerolinecolor": "#E1E5ED"
        },
        "yaxis": {
         "gridcolor": "#E1E5ED",
         "showgrid": true,
         "tickfont": {
          "color": "#4D5663"
         },
         "title": {
          "font": {
           "color": "#4D5663"
          },
          "text": ""
         },
         "zerolinecolor": "#E1E5ED"
        }
       }
      },
      "text/html": [
       "<div>                            <div id=\"16454b48-ff67-4844-9731-7cf57db92d01\" class=\"plotly-graph-div\" style=\"height:525px; width:100%;\"></div>            <script type=\"text/javascript\">                require([\"plotly\"], function(Plotly) {                    window.PLOTLYENV=window.PLOTLYENV || {};\n",
       "                    window.PLOTLYENV.BASE_URL='https://plot.ly';                                    if (document.getElementById(\"16454b48-ff67-4844-9731-7cf57db92d01\")) {                    Plotly.newPlot(                        \"16454b48-ff67-4844-9731-7cf57db92d01\",                        [{\"marker\":{\"color\":\"rgba(55, 128, 191, 0.6)\",\"line\":{\"color\":\"rgba(55, 128, 191, 1.0)\",\"width\":1}},\"name\":\"YTD Total Return\",\"orientation\":\"v\",\"text\":\"\",\"x\":[\"RWEG.DE\",\"BAYGn.DE\",\"IFXGn.DE\",\"1COV.DE\",\"ZALG.DE\",\"VNAn.DE\",\"FREG.DE\",\"DHLn.DE\",\"BASFn.DE\",\"ADSGn.DE\",\"BNRGn.DE\",\"HNKG_p.DE\",\"EONGn.DE\",\"DBKGn.DE\",\"SY1G.DE\",\"CONG.DE\",\"CBKG.DE\",\"DB1Gn.DE\",\"P911_p.DE\",\"BEIG.DE\",\"QIA.DE\",\"SATG_p.DE\",\"DTEGn.DE\",\"ALVG.DE\",\"SIEGn.DE\",\"PSHG_p.DE\",\"BMWG.DE\",\"AIRG.DE\",\"DTGGe.DE\",\"SHLG.DE\",\"HEIG.DE\",\"HNRGn.DE\",\"VOWG_p.DE\",\"MBGn.DE\",\"MRCG.DE\",\"MUVGn.DE\",\"ENR1n.DE\",\"MTXGn.DE\",\"SAPG.DE\",\"RHMG.DE\"],\"y\":[-22.7780475951402,-14.9271483792415,-11.4814814844806,-8.56112376440731,-7.59906759949617,-6.58724597299659,-5.80691129270887,-4.7597815193143,-4.48954489656234,-4.30060816750052,-3.48473924648022,-3.45868789428324,-3.25102880520307,-3.08961500994376,-1.68606985229325,0.182007279433138,0.557620820163751,0.616621986120514,0.90112640691018,1.14222549738583,1.3408577328867,1.35054021430789,1.99999999776144,2.12853895509149,2.41587972785147,2.48272884369409,3.29430442551912,4.41176470851234,4.49735449676305,4.71482889689685,5.41141586368066,5.77901063098674,7.03041145299541,7.72182253920579,8.04996530352102,8.95761130437451,15.7916666653942,16.2612035805155,18.3538858598307,35.26132404017],\"type\":\"bar\"}],                        {\"legend\":{\"bgcolor\":\"#F5F6F9\",\"font\":{\"color\":\"#4D5663\"}},\"paper_bgcolor\":\"#F5F6F9\",\"plot_bgcolor\":\"#F5F6F9\",\"template\":{\"data\":{\"barpolar\":[{\"marker\":{\"line\":{\"color\":\"#E5ECF6\",\"width\":0.5},\"pattern\":{\"fillmode\":\"overlay\",\"size\":10,\"solidity\":0.2}},\"type\":\"barpolar\"}],\"bar\":[{\"error_x\":{\"color\":\"#2a3f5f\"},\"error_y\":{\"color\":\"#2a3f5f\"},\"marker\":{\"line\":{\"color\":\"#E5ECF6\",\"width\":0.5},\"pattern\":{\"fillmode\":\"overlay\",\"size\":10,\"solidity\":0.2}},\"type\":\"bar\"}],\"carpet\":[{\"aaxis\":{\"endlinecolor\":\"#2a3f5f\",\"gridcolor\":\"white\",\"linecolor\":\"white\",\"minorgridcolor\":\"white\",\"startlinecolor\":\"#2a3f5f\"},\"baxis\":{\"endlinecolor\":\"#2a3f5f\",\"gridcolor\":\"white\",\"linecolor\":\"white\",\"minorgridcolor\":\"white\",\"startlinecolor\":\"#2a3f5f\"},\"type\":\"carpet\"}],\"choropleth\":[{\"colorbar\":{\"outlinewidth\":0,\"ticks\":\"\"},\"type\":\"choropleth\"}],\"contourcarpet\":[{\"colorbar\":{\"outlinewidth\":0,\"ticks\":\"\"},\"type\":\"contourcarpet\"}],\"contour\":[{\"colorbar\":{\"outlinewidth\":0,\"ticks\":\"\"},\"colorscale\":[[0.0,\"#0d0887\"],[0.1111111111111111,\"#46039f\"],[0.2222222222222222,\"#7201a8\"],[0.3333333333333333,\"#9c179e\"],[0.4444444444444444,\"#bd3786\"],[0.5555555555555556,\"#d8576b\"],[0.6666666666666666,\"#ed7953\"],[0.7777777777777778,\"#fb9f3a\"],[0.8888888888888888,\"#fdca26\"],[1.0,\"#f0f921\"]],\"type\":\"contour\"}],\"heatmapgl\":[{\"colorbar\":{\"outlinewidth\":0,\"ticks\":\"\"},\"colorscale\":[[0.0,\"#0d0887\"],[0.1111111111111111,\"#46039f\"],[0.2222222222222222,\"#7201a8\"],[0.3333333333333333,\"#9c179e\"],[0.4444444444444444,\"#bd3786\"],[0.5555555555555556,\"#d8576b\"],[0.6666666666666666,\"#ed7953\"],[0.7777777777777778,\"#fb9f3a\"],[0.8888888888888888,\"#fdca26\"],[1.0,\"#f0f921\"]],\"type\":\"heatmapgl\"}],\"heatmap\":[{\"colorbar\":{\"outlinewidth\":0,\"ticks\":\"\"},\"colorscale\":[[0.0,\"#0d0887\"],[0.1111111111111111,\"#46039f\"],[0.2222222222222222,\"#7201a8\"],[0.3333333333333333,\"#9c179e\"],[0.4444444444444444,\"#bd3786\"],[0.5555555555555556,\"#d8576b\"],[0.6666666666666666,\"#ed7953\"],[0.7777777777777778,\"#fb9f3a\"],[0.8888888888888888,\"#fdca26\"],[1.0,\"#f0f921\"]],\"type\":\"heatmap\"}],\"histogram2dcontour\":[{\"colorbar\":{\"outlinewidth\":0,\"ticks\":\"\"},\"colorscale\":[[0.0,\"#0d0887\"],[0.1111111111111111,\"#46039f\"],[0.2222222222222222,\"#7201a8\"],[0.3333333333333333,\"#9c179e\"],[0.4444444444444444,\"#bd3786\"],[0.5555555555555556,\"#d8576b\"],[0.6666666666666666,\"#ed7953\"],[0.7777777777777778,\"#fb9f3a\"],[0.8888888888888888,\"#fdca26\"],[1.0,\"#f0f921\"]],\"type\":\"histogram2dcontour\"}],\"histogram2d\":[{\"colorbar\":{\"outlinewidth\":0,\"ticks\":\"\"},\"colorscale\":[[0.0,\"#0d0887\"],[0.1111111111111111,\"#46039f\"],[0.2222222222222222,\"#7201a8\"],[0.3333333333333333,\"#9c179e\"],[0.4444444444444444,\"#bd3786\"],[0.5555555555555556,\"#d8576b\"],[0.6666666666666666,\"#ed7953\"],[0.7777777777777778,\"#fb9f3a\"],[0.8888888888888888,\"#fdca26\"],[1.0,\"#f0f921\"]],\"type\":\"histogram2d\"}],\"histogram\":[{\"marker\":{\"pattern\":{\"fillmode\":\"overlay\",\"size\":10,\"solidity\":0.2}},\"type\":\"histogram\"}],\"mesh3d\":[{\"colorbar\":{\"outlinewidth\":0,\"ticks\":\"\"},\"type\":\"mesh3d\"}],\"parcoords\":[{\"line\":{\"colorbar\":{\"outlinewidth\":0,\"ticks\":\"\"}},\"type\":\"parcoords\"}],\"pie\":[{\"automargin\":true,\"type\":\"pie\"}],\"scatter3d\":[{\"line\":{\"colorbar\":{\"outlinewidth\":0,\"ticks\":\"\"}},\"marker\":{\"colorbar\":{\"outlinewidth\":0,\"ticks\":\"\"}},\"type\":\"scatter3d\"}],\"scattercarpet\":[{\"marker\":{\"colorbar\":{\"outlinewidth\":0,\"ticks\":\"\"}},\"type\":\"scattercarpet\"}],\"scattergeo\":[{\"marker\":{\"colorbar\":{\"outlinewidth\":0,\"ticks\":\"\"}},\"type\":\"scattergeo\"}],\"scattergl\":[{\"marker\":{\"colorbar\":{\"outlinewidth\":0,\"ticks\":\"\"}},\"type\":\"scattergl\"}],\"scattermapbox\":[{\"marker\":{\"colorbar\":{\"outlinewidth\":0,\"ticks\":\"\"}},\"type\":\"scattermapbox\"}],\"scatterpolargl\":[{\"marker\":{\"colorbar\":{\"outlinewidth\":0,\"ticks\":\"\"}},\"type\":\"scatterpolargl\"}],\"scatterpolar\":[{\"marker\":{\"colorbar\":{\"outlinewidth\":0,\"ticks\":\"\"}},\"type\":\"scatterpolar\"}],\"scatter\":[{\"fillpattern\":{\"fillmode\":\"overlay\",\"size\":10,\"solidity\":0.2},\"type\":\"scatter\"}],\"scatterternary\":[{\"marker\":{\"colorbar\":{\"outlinewidth\":0,\"ticks\":\"\"}},\"type\":\"scatterternary\"}],\"surface\":[{\"colorbar\":{\"outlinewidth\":0,\"ticks\":\"\"},\"colorscale\":[[0.0,\"#0d0887\"],[0.1111111111111111,\"#46039f\"],[0.2222222222222222,\"#7201a8\"],[0.3333333333333333,\"#9c179e\"],[0.4444444444444444,\"#bd3786\"],[0.5555555555555556,\"#d8576b\"],[0.6666666666666666,\"#ed7953\"],[0.7777777777777778,\"#fb9f3a\"],[0.8888888888888888,\"#fdca26\"],[1.0,\"#f0f921\"]],\"type\":\"surface\"}],\"table\":[{\"cells\":{\"fill\":{\"color\":\"#EBF0F8\"},\"line\":{\"color\":\"white\"}},\"header\":{\"fill\":{\"color\":\"#C8D4E3\"},\"line\":{\"color\":\"white\"}},\"type\":\"table\"}]},\"layout\":{\"annotationdefaults\":{\"arrowcolor\":\"#2a3f5f\",\"arrowhead\":0,\"arrowwidth\":1},\"autotypenumbers\":\"strict\",\"coloraxis\":{\"colorbar\":{\"outlinewidth\":0,\"ticks\":\"\"}},\"colorscale\":{\"diverging\":[[0,\"#8e0152\"],[0.1,\"#c51b7d\"],[0.2,\"#de77ae\"],[0.3,\"#f1b6da\"],[0.4,\"#fde0ef\"],[0.5,\"#f7f7f7\"],[0.6,\"#e6f5d0\"],[0.7,\"#b8e186\"],[0.8,\"#7fbc41\"],[0.9,\"#4d9221\"],[1,\"#276419\"]],\"sequential\":[[0.0,\"#0d0887\"],[0.1111111111111111,\"#46039f\"],[0.2222222222222222,\"#7201a8\"],[0.3333333333333333,\"#9c179e\"],[0.4444444444444444,\"#bd3786\"],[0.5555555555555556,\"#d8576b\"],[0.6666666666666666,\"#ed7953\"],[0.7777777777777778,\"#fb9f3a\"],[0.8888888888888888,\"#fdca26\"],[1.0,\"#f0f921\"]],\"sequentialminus\":[[0.0,\"#0d0887\"],[0.1111111111111111,\"#46039f\"],[0.2222222222222222,\"#7201a8\"],[0.3333333333333333,\"#9c179e\"],[0.4444444444444444,\"#bd3786\"],[0.5555555555555556,\"#d8576b\"],[0.6666666666666666,\"#ed7953\"],[0.7777777777777778,\"#fb9f3a\"],[0.8888888888888888,\"#fdca26\"],[1.0,\"#f0f921\"]]},\"colorway\":[\"#636efa\",\"#EF553B\",\"#00cc96\",\"#ab63fa\",\"#FFA15A\",\"#19d3f3\",\"#FF6692\",\"#B6E880\",\"#FF97FF\",\"#FECB52\"],\"font\":{\"color\":\"#2a3f5f\"},\"geo\":{\"bgcolor\":\"white\",\"lakecolor\":\"white\",\"landcolor\":\"#E5ECF6\",\"showlakes\":true,\"showland\":true,\"subunitcolor\":\"white\"},\"hoverlabel\":{\"align\":\"left\"},\"hovermode\":\"closest\",\"mapbox\":{\"style\":\"light\"},\"paper_bgcolor\":\"white\",\"plot_bgcolor\":\"#E5ECF6\",\"polar\":{\"angularaxis\":{\"gridcolor\":\"white\",\"linecolor\":\"white\",\"ticks\":\"\"},\"bgcolor\":\"#E5ECF6\",\"radialaxis\":{\"gridcolor\":\"white\",\"linecolor\":\"white\",\"ticks\":\"\"}},\"scene\":{\"xaxis\":{\"backgroundcolor\":\"#E5ECF6\",\"gridcolor\":\"white\",\"gridwidth\":2,\"linecolor\":\"white\",\"showbackground\":true,\"ticks\":\"\",\"zerolinecolor\":\"white\"},\"yaxis\":{\"backgroundcolor\":\"#E5ECF6\",\"gridcolor\":\"white\",\"gridwidth\":2,\"linecolor\":\"white\",\"showbackground\":true,\"ticks\":\"\",\"zerolinecolor\":\"white\"},\"zaxis\":{\"backgroundcolor\":\"#E5ECF6\",\"gridcolor\":\"white\",\"gridwidth\":2,\"linecolor\":\"white\",\"showbackground\":true,\"ticks\":\"\",\"zerolinecolor\":\"white\"}},\"shapedefaults\":{\"line\":{\"color\":\"#2a3f5f\"}},\"ternary\":{\"aaxis\":{\"gridcolor\":\"white\",\"linecolor\":\"white\",\"ticks\":\"\"},\"baxis\":{\"gridcolor\":\"white\",\"linecolor\":\"white\",\"ticks\":\"\"},\"bgcolor\":\"#E5ECF6\",\"caxis\":{\"gridcolor\":\"white\",\"linecolor\":\"white\",\"ticks\":\"\"}},\"title\":{\"x\":0.05},\"xaxis\":{\"automargin\":true,\"gridcolor\":\"white\",\"linecolor\":\"white\",\"ticks\":\"\",\"title\":{\"standoff\":15},\"zerolinecolor\":\"white\",\"zerolinewidth\":2},\"yaxis\":{\"automargin\":true,\"gridcolor\":\"white\",\"linecolor\":\"white\",\"ticks\":\"\",\"title\":{\"standoff\":15},\"zerolinecolor\":\"white\",\"zerolinewidth\":2}}},\"title\":{\"font\":{\"color\":\"#4D5663\"}},\"xaxis\":{\"gridcolor\":\"#E1E5ED\",\"showgrid\":true,\"tickfont\":{\"color\":\"#4D5663\"},\"title\":{\"font\":{\"color\":\"#4D5663\"},\"text\":\"\"},\"zerolinecolor\":\"#E1E5ED\"},\"yaxis\":{\"gridcolor\":\"#E1E5ED\",\"showgrid\":true,\"tickfont\":{\"color\":\"#4D5663\"},\"title\":{\"font\":{\"color\":\"#4D5663\"},\"text\":\"\"},\"zerolinecolor\":\"#E1E5ED\"}},                        {\"showLink\": true, \"linkText\": \"Export to plot.ly\", \"plotlyServerURL\": \"https://plot.ly\", \"responsive\": true}                    ).then(function(){\n",
       "                            \n",
       "var gd = document.getElementById('16454b48-ff67-4844-9731-7cf57db92d01');\n",
       "var x = new MutationObserver(function (mutations, observer) {{\n",
       "        var display = window.getComputedStyle(gd).display;\n",
       "        if (!display || display === 'none') {{\n",
       "            console.log([gd, 'removed!']);\n",
       "            Plotly.purge(gd);\n",
       "            observer.disconnect();\n",
       "        }}\n",
       "}});\n",
       "\n",
       "// Listen for the removal of the full notebook cells\n",
       "var notebookContainer = gd.closest('#notebook-container');\n",
       "if (notebookContainer) {{\n",
       "    x.observe(notebookContainer, {childList: true});\n",
       "}}\n",
       "\n",
       "// Listen for the clearing of the current output cell\n",
       "var outputEl = gd.closest('.output');\n",
       "if (outputEl) {{\n",
       "    x.observe(outputEl, {childList: true});\n",
       "}}\n",
       "\n",
       "                        })                };                });            </script>        </div>"
      ]
     },
     "metadata": {},
     "output_type": "display_data"
    }
   ],
   "source": [
    "dax.set_index('Instrument')['YTD Total Return'].sort_values().iplot(kind='bar', color='blue')"
   ]
  },
  {
   "cell_type": "code",
   "execution_count": 28,
   "id": "b0e8c7cf",
   "metadata": {},
   "outputs": [],
   "source": [
    "f = [[1, 2], [2, 3]]"
   ]
  },
  {
   "cell_type": "code",
   "execution_count": 29,
   "id": "54a33815",
   "metadata": {},
   "outputs": [
    {
     "name": "stdout",
     "output_type": "stream",
     "text": [
      "[[1, 2], [2, 3]]\n"
     ]
    }
   ],
   "source": [
    "print(f)"
   ]
  },
  {
   "cell_type": "code",
   "execution_count": 30,
   "id": "f407c898",
   "metadata": {},
   "outputs": [],
   "source": [
    "XLE= ek.get_data('XLE', ['TR.FundHoldingRIC','TR.FundHoldingName', 'TR.FundPercentageOfFundAssets',\n",
    "                           'TR.FundNumberOfShares', 'TR.FundNumberOfSharesChanged'],\n",
    "            {'Endnum':'5000'})[0]"
   ]
  },
  {
   "cell_type": "code",
   "execution_count": 31,
   "id": "397ab251",
   "metadata": {},
   "outputs": [
    {
     "data": {
      "text/html": [
       "<div>\n",
       "<style scoped>\n",
       "    .dataframe tbody tr th:only-of-type {\n",
       "        vertical-align: middle;\n",
       "    }\n",
       "\n",
       "    .dataframe tbody tr th {\n",
       "        vertical-align: top;\n",
       "    }\n",
       "\n",
       "    .dataframe thead th {\n",
       "        text-align: right;\n",
       "    }\n",
       "</style>\n",
       "<table border=\"1\" class=\"dataframe\">\n",
       "  <thead>\n",
       "    <tr style=\"text-align: right;\">\n",
       "      <th></th>\n",
       "      <th>Instrument</th>\n",
       "      <th>Holding RIC</th>\n",
       "      <th>Holding Name</th>\n",
       "      <th>Percentage of Fund Assets</th>\n",
       "      <th>Number of Shares</th>\n",
       "      <th>Number of Shares Changed</th>\n",
       "    </tr>\n",
       "  </thead>\n",
       "  <tbody>\n",
       "    <tr>\n",
       "      <th>0</th>\n",
       "      <td>XLE</td>\n",
       "      <td>XOM.N</td>\n",
       "      <td>EXXON MOBIL CORP ORD</td>\n",
       "      <td>23.1747</td>\n",
       "      <td>81790606.0</td>\n",
       "      <td>747838.0</td>\n",
       "    </tr>\n",
       "    <tr>\n",
       "      <th>1</th>\n",
       "      <td>XLE</td>\n",
       "      <td>CVX.N</td>\n",
       "      <td>CHEVRON CORP ORD</td>\n",
       "      <td>17.4105</td>\n",
       "      <td>42849825.0</td>\n",
       "      <td>391790.0</td>\n",
       "    </tr>\n",
       "    <tr>\n",
       "      <th>2</th>\n",
       "      <td>XLE</td>\n",
       "      <td>COP.N</td>\n",
       "      <td>CONOCOPHILLIPS ORD</td>\n",
       "      <td>8.9353</td>\n",
       "      <td>28981520.0</td>\n",
       "      <td>264942.0</td>\n",
       "    </tr>\n",
       "    <tr>\n",
       "      <th>3</th>\n",
       "      <td>XLE</td>\n",
       "      <td>EOG.N</td>\n",
       "      <td>EOG RESOURCES INC ORD</td>\n",
       "      <td>4.4636</td>\n",
       "      <td>14233161.0</td>\n",
       "      <td>130068.0</td>\n",
       "    </tr>\n",
       "    <tr>\n",
       "      <th>4</th>\n",
       "      <td>XLE</td>\n",
       "      <td>SLB.N</td>\n",
       "      <td>SCHLUMBERGER NV ORD</td>\n",
       "      <td>4.3814</td>\n",
       "      <td>32644460.0</td>\n",
       "      <td>298466.0</td>\n",
       "    </tr>\n",
       "    <tr>\n",
       "      <th>5</th>\n",
       "      <td>XLE</td>\n",
       "      <td>PSX.N</td>\n",
       "      <td>PHILLIPS 66 ORD</td>\n",
       "      <td>4.3028</td>\n",
       "      <td>10818827.0</td>\n",
       "      <td>98965.0</td>\n",
       "    </tr>\n",
       "    <tr>\n",
       "      <th>6</th>\n",
       "      <td>XLE</td>\n",
       "      <td>MPC.N</td>\n",
       "      <td>MARATHON PETROLEUM CORP ORD</td>\n",
       "      <td>4.2613</td>\n",
       "      <td>9337025.0</td>\n",
       "      <td>85360.0</td>\n",
       "    </tr>\n",
       "    <tr>\n",
       "      <th>7</th>\n",
       "      <td>XLE</td>\n",
       "      <td>PXD.N</td>\n",
       "      <td>PIONEER NATURAL RESOURCES CO ORD</td>\n",
       "      <td>3.634</td>\n",
       "      <td>5737253.0</td>\n",
       "      <td>52504.0</td>\n",
       "    </tr>\n",
       "    <tr>\n",
       "      <th>8</th>\n",
       "      <td>XLE</td>\n",
       "      <td>VLO.N</td>\n",
       "      <td>VALERO ENERGY CORP ORD</td>\n",
       "      <td>3.2048</td>\n",
       "      <td>8371980.0</td>\n",
       "      <td>76611.0</td>\n",
       "    </tr>\n",
       "    <tr>\n",
       "      <th>9</th>\n",
       "      <td>XLE</td>\n",
       "      <td>WMB.N</td>\n",
       "      <td>WILLIAMS COMPANIES INC ORD</td>\n",
       "      <td>2.8575</td>\n",
       "      <td>29914459.0</td>\n",
       "      <td>273551.0</td>\n",
       "    </tr>\n",
       "    <tr>\n",
       "      <th>10</th>\n",
       "      <td>XLE</td>\n",
       "      <td>OKE.N</td>\n",
       "      <td>ONEOK INC ORD</td>\n",
       "      <td>2.6945</td>\n",
       "      <td>14325268.0</td>\n",
       "      <td>130982.0</td>\n",
       "    </tr>\n",
       "    <tr>\n",
       "      <th>11</th>\n",
       "      <td>XLE</td>\n",
       "      <td>HES.N</td>\n",
       "      <td>HESS CORP ORD</td>\n",
       "      <td>2.6328</td>\n",
       "      <td>6797872.0</td>\n",
       "      <td>62133.0</td>\n",
       "    </tr>\n",
       "    <tr>\n",
       "      <th>12</th>\n",
       "      <td>XLE</td>\n",
       "      <td>OXY.N</td>\n",
       "      <td>OCCIDENTAL PETROLEUM CORP ORD</td>\n",
       "      <td>2.5761</td>\n",
       "      <td>16236699.0</td>\n",
       "      <td>148467.0</td>\n",
       "    </tr>\n",
       "    <tr>\n",
       "      <th>13</th>\n",
       "      <td>XLE</td>\n",
       "      <td>KMI.N</td>\n",
       "      <td>KINDER MORGAN INC ORD</td>\n",
       "      <td>2.2175</td>\n",
       "      <td>47553722.0</td>\n",
       "      <td>434772.0</td>\n",
       "    </tr>\n",
       "    <tr>\n",
       "      <th>14</th>\n",
       "      <td>XLE</td>\n",
       "      <td>HAL.N</td>\n",
       "      <td>HALLIBURTON CO ORD</td>\n",
       "      <td>2.1625</td>\n",
       "      <td>22009918.0</td>\n",
       "      <td>201255.0</td>\n",
       "    </tr>\n",
       "    <tr>\n",
       "      <th>15</th>\n",
       "      <td>XLE</td>\n",
       "      <td>BKR.OQ</td>\n",
       "      <td>BAKER HUGHES CO ORD</td>\n",
       "      <td>1.9435</td>\n",
       "      <td>24743956.0</td>\n",
       "      <td>226217.0</td>\n",
       "    </tr>\n",
       "    <tr>\n",
       "      <th>16</th>\n",
       "      <td>XLE</td>\n",
       "      <td>FANG.OQ</td>\n",
       "      <td>DIAMONDBACK ENERGY INC ORD</td>\n",
       "      <td>1.8649</td>\n",
       "      <td>4401392.0</td>\n",
       "      <td>40259.0</td>\n",
       "    </tr>\n",
       "    <tr>\n",
       "      <th>17</th>\n",
       "      <td>XLE</td>\n",
       "      <td>DVN.N</td>\n",
       "      <td>DEVON ENERGY CORP ORD</td>\n",
       "      <td>1.8246</td>\n",
       "      <td>15755239.0</td>\n",
       "      <td>144113.0</td>\n",
       "    </tr>\n",
       "    <tr>\n",
       "      <th>18</th>\n",
       "      <td>XLE</td>\n",
       "      <td>TRGP.N</td>\n",
       "      <td>TARGA RESOURCES CORP ORD</td>\n",
       "      <td>1.2839</td>\n",
       "      <td>5483164.0</td>\n",
       "      <td>50262.0</td>\n",
       "    </tr>\n",
       "    <tr>\n",
       "      <th>19</th>\n",
       "      <td>XLE</td>\n",
       "      <td>CTRA.N</td>\n",
       "      <td>COTERRA ENERGY INC ORD</td>\n",
       "      <td>1.2683</td>\n",
       "      <td>18496916.0</td>\n",
       "      <td>169098.0</td>\n",
       "    </tr>\n",
       "    <tr>\n",
       "      <th>20</th>\n",
       "      <td>XLE</td>\n",
       "      <td>EQT.N</td>\n",
       "      <td>EQT CORP ORD</td>\n",
       "      <td>0.9868</td>\n",
       "      <td>10114969.0</td>\n",
       "      <td>92514.0</td>\n",
       "    </tr>\n",
       "    <tr>\n",
       "      <th>21</th>\n",
       "      <td>XLE</td>\n",
       "      <td>MRO.N</td>\n",
       "      <td>MARATHON OIL CORP ORD</td>\n",
       "      <td>0.9063</td>\n",
       "      <td>14391582.0</td>\n",
       "      <td>131650.0</td>\n",
       "    </tr>\n",
       "    <tr>\n",
       "      <th>22</th>\n",
       "      <td>XLE</td>\n",
       "      <td>APA.OQ</td>\n",
       "      <td>APA CORP (US) ORD</td>\n",
       "      <td>0.6512</td>\n",
       "      <td>7542373.0</td>\n",
       "      <td>68892.0</td>\n",
       "    </tr>\n",
       "    <tr>\n",
       "      <th>23</th>\n",
       "      <td>XLE</td>\n",
       "      <td>XAEH24</td>\n",
       "      <td>EMINI ENRGY H24</td>\n",
       "      <td>0.3364</td>\n",
       "      <td>139200.0</td>\n",
       "      <td>0.0</td>\n",
       "    </tr>\n",
       "    <tr>\n",
       "      <th>24</th>\n",
       "      <td>XLE</td>\n",
       "      <td>LP40098642</td>\n",
       "      <td>STATE STREET INSTITUTIONAL LIQUID RESERVES FD;...</td>\n",
       "      <td>0.2486</td>\n",
       "      <td>90164858.93</td>\n",
       "      <td>-17180758.87</td>\n",
       "    </tr>\n",
       "    <tr>\n",
       "      <th>25</th>\n",
       "      <td>XLE</td>\n",
       "      <td></td>\n",
       "      <td>USD CASH</td>\n",
       "      <td>0.0162</td>\n",
       "      <td>5874190.96</td>\n",
       "      <td>-835200.0</td>\n",
       "    </tr>\n",
       "    <tr>\n",
       "      <th>26</th>\n",
       "      <td>XLE</td>\n",
       "      <td></td>\n",
       "      <td>OTHER ASSETS LESS LIABILITIES</td>\n",
       "      <td>-0.2401</td>\n",
       "      <td>&lt;NA&gt;</td>\n",
       "      <td>&lt;NA&gt;</td>\n",
       "    </tr>\n",
       "  </tbody>\n",
       "</table>\n",
       "</div>"
      ],
      "text/plain": [
       "   Instrument Holding RIC                                       Holding Name   \n",
       "0         XLE       XOM.N                               EXXON MOBIL CORP ORD  \\\n",
       "1         XLE       CVX.N                                   CHEVRON CORP ORD   \n",
       "2         XLE       COP.N                                 CONOCOPHILLIPS ORD   \n",
       "3         XLE       EOG.N                              EOG RESOURCES INC ORD   \n",
       "4         XLE       SLB.N                                SCHLUMBERGER NV ORD   \n",
       "5         XLE       PSX.N                                    PHILLIPS 66 ORD   \n",
       "6         XLE       MPC.N                        MARATHON PETROLEUM CORP ORD   \n",
       "7         XLE       PXD.N                   PIONEER NATURAL RESOURCES CO ORD   \n",
       "8         XLE       VLO.N                             VALERO ENERGY CORP ORD   \n",
       "9         XLE       WMB.N                         WILLIAMS COMPANIES INC ORD   \n",
       "10        XLE       OKE.N                                      ONEOK INC ORD   \n",
       "11        XLE       HES.N                                      HESS CORP ORD   \n",
       "12        XLE       OXY.N                      OCCIDENTAL PETROLEUM CORP ORD   \n",
       "13        XLE       KMI.N                              KINDER MORGAN INC ORD   \n",
       "14        XLE       HAL.N                                 HALLIBURTON CO ORD   \n",
       "15        XLE      BKR.OQ                                BAKER HUGHES CO ORD   \n",
       "16        XLE     FANG.OQ                         DIAMONDBACK ENERGY INC ORD   \n",
       "17        XLE       DVN.N                              DEVON ENERGY CORP ORD   \n",
       "18        XLE      TRGP.N                           TARGA RESOURCES CORP ORD   \n",
       "19        XLE      CTRA.N                             COTERRA ENERGY INC ORD   \n",
       "20        XLE       EQT.N                                       EQT CORP ORD   \n",
       "21        XLE       MRO.N                              MARATHON OIL CORP ORD   \n",
       "22        XLE      APA.OQ                                  APA CORP (US) ORD   \n",
       "23        XLE      XAEH24                                    EMINI ENRGY H24   \n",
       "24        XLE  LP40098642  STATE STREET INSTITUTIONAL LIQUID RESERVES FD;...   \n",
       "25        XLE                                                       USD CASH   \n",
       "26        XLE                                  OTHER ASSETS LESS LIABILITIES   \n",
       "\n",
       "    Percentage of Fund Assets  Number of Shares  Number of Shares Changed  \n",
       "0                     23.1747        81790606.0                  747838.0  \n",
       "1                     17.4105        42849825.0                  391790.0  \n",
       "2                      8.9353        28981520.0                  264942.0  \n",
       "3                      4.4636        14233161.0                  130068.0  \n",
       "4                      4.3814        32644460.0                  298466.0  \n",
       "5                      4.3028        10818827.0                   98965.0  \n",
       "6                      4.2613         9337025.0                   85360.0  \n",
       "7                       3.634         5737253.0                   52504.0  \n",
       "8                      3.2048         8371980.0                   76611.0  \n",
       "9                      2.8575        29914459.0                  273551.0  \n",
       "10                     2.6945        14325268.0                  130982.0  \n",
       "11                     2.6328         6797872.0                   62133.0  \n",
       "12                     2.5761        16236699.0                  148467.0  \n",
       "13                     2.2175        47553722.0                  434772.0  \n",
       "14                     2.1625        22009918.0                  201255.0  \n",
       "15                     1.9435        24743956.0                  226217.0  \n",
       "16                     1.8649         4401392.0                   40259.0  \n",
       "17                     1.8246        15755239.0                  144113.0  \n",
       "18                     1.2839         5483164.0                   50262.0  \n",
       "19                     1.2683        18496916.0                  169098.0  \n",
       "20                     0.9868        10114969.0                   92514.0  \n",
       "21                     0.9063        14391582.0                  131650.0  \n",
       "22                     0.6512         7542373.0                   68892.0  \n",
       "23                     0.3364          139200.0                       0.0  \n",
       "24                     0.2486       90164858.93              -17180758.87  \n",
       "25                     0.0162        5874190.96                 -835200.0  \n",
       "26                    -0.2401              <NA>                      <NA>  "
      ]
     },
     "execution_count": 31,
     "metadata": {},
     "output_type": "execute_result"
    }
   ],
   "source": [
    "XLE"
   ]
  },
  {
   "cell_type": "code",
   "execution_count": 32,
   "id": "cd6ecd3e",
   "metadata": {},
   "outputs": [
    {
     "data": {
      "text/plain": [
       "Holding RIC\n",
       "XOM.N          81790606.0\n",
       "CVX.N          42849825.0\n",
       "COP.N          28981520.0\n",
       "EOG.N          14233161.0\n",
       "SLB.N          32644460.0\n",
       "PSX.N          10818827.0\n",
       "MPC.N           9337025.0\n",
       "PXD.N           5737253.0\n",
       "VLO.N           8371980.0\n",
       "WMB.N          29914459.0\n",
       "OKE.N          14325268.0\n",
       "HES.N           6797872.0\n",
       "OXY.N          16236699.0\n",
       "KMI.N          47553722.0\n",
       "HAL.N          22009918.0\n",
       "BKR.OQ         24743956.0\n",
       "FANG.OQ         4401392.0\n",
       "DVN.N          15755239.0\n",
       "TRGP.N          5483164.0\n",
       "CTRA.N         18496916.0\n",
       "EQT.N          10114969.0\n",
       "MRO.N          14391582.0\n",
       "APA.OQ          7542373.0\n",
       "XAEH24           139200.0\n",
       "LP40098642    90164858.93\n",
       "               5874190.96\n",
       "                     <NA>\n",
       "Name: Number of Shares, dtype: Float64"
      ]
     },
     "execution_count": 32,
     "metadata": {},
     "output_type": "execute_result"
    }
   ],
   "source": [
    "XLE.set_index('Holding RIC')['Number of Shares']"
   ]
  },
  {
   "cell_type": "code",
   "execution_count": 33,
   "id": "fa606808",
   "metadata": {},
   "outputs": [
    {
     "data": {
      "application/vnd.plotly.v1+json": {
       "config": {
        "linkText": "Export to plot.ly",
        "plotlyServerURL": "https://plot.ly",
        "showLink": true
       },
       "data": [
        {
         "marker": {
          "color": "rgba(55, 128, 191, 0.6)",
          "line": {
           "color": "rgba(55, 128, 191, 1.0)",
           "width": 1
          }
         },
         "name": "Number of Shares",
         "orientation": "v",
         "text": "",
         "type": "bar",
         "x": [
          "XAEH24",
          "FANG.OQ",
          "TRGP.N",
          "PXD.N",
          "HES.N",
          "APA.OQ",
          "VLO.N",
          "MPC.N",
          "EQT.N",
          "PSX.N",
          "EOG.N",
          "OKE.N",
          "MRO.N",
          "DVN.N",
          "OXY.N",
          "CTRA.N",
          "HAL.N",
          "BKR.OQ",
          "COP.N",
          "WMB.N",
          "SLB.N",
          "CVX.N",
          "KMI.N",
          "XOM.N",
          "LP40098642"
         ],
         "y": [
          139200,
          4401392,
          5483164,
          5737253,
          6797872,
          7542373,
          8371980,
          9337025,
          10114969,
          10818827,
          14233161,
          14325268,
          14391582,
          15755239,
          16236699,
          18496916,
          22009918,
          24743956,
          28981520,
          29914459,
          32644460,
          42849825,
          47553722,
          81790606,
          90164858.93
         ]
        }
       ],
       "layout": {
        "legend": {
         "bgcolor": "#F5F6F9",
         "font": {
          "color": "#4D5663"
         }
        },
        "paper_bgcolor": "#F5F6F9",
        "plot_bgcolor": "#F5F6F9",
        "template": {
         "data": {
          "bar": [
           {
            "error_x": {
             "color": "#2a3f5f"
            },
            "error_y": {
             "color": "#2a3f5f"
            },
            "marker": {
             "line": {
              "color": "#E5ECF6",
              "width": 0.5
             },
             "pattern": {
              "fillmode": "overlay",
              "size": 10,
              "solidity": 0.2
             }
            },
            "type": "bar"
           }
          ],
          "barpolar": [
           {
            "marker": {
             "line": {
              "color": "#E5ECF6",
              "width": 0.5
             },
             "pattern": {
              "fillmode": "overlay",
              "size": 10,
              "solidity": 0.2
             }
            },
            "type": "barpolar"
           }
          ],
          "carpet": [
           {
            "aaxis": {
             "endlinecolor": "#2a3f5f",
             "gridcolor": "white",
             "linecolor": "white",
             "minorgridcolor": "white",
             "startlinecolor": "#2a3f5f"
            },
            "baxis": {
             "endlinecolor": "#2a3f5f",
             "gridcolor": "white",
             "linecolor": "white",
             "minorgridcolor": "white",
             "startlinecolor": "#2a3f5f"
            },
            "type": "carpet"
           }
          ],
          "choropleth": [
           {
            "colorbar": {
             "outlinewidth": 0,
             "ticks": ""
            },
            "type": "choropleth"
           }
          ],
          "contour": [
           {
            "colorbar": {
             "outlinewidth": 0,
             "ticks": ""
            },
            "colorscale": [
             [
              0,
              "#0d0887"
             ],
             [
              0.1111111111111111,
              "#46039f"
             ],
             [
              0.2222222222222222,
              "#7201a8"
             ],
             [
              0.3333333333333333,
              "#9c179e"
             ],
             [
              0.4444444444444444,
              "#bd3786"
             ],
             [
              0.5555555555555556,
              "#d8576b"
             ],
             [
              0.6666666666666666,
              "#ed7953"
             ],
             [
              0.7777777777777778,
              "#fb9f3a"
             ],
             [
              0.8888888888888888,
              "#fdca26"
             ],
             [
              1,
              "#f0f921"
             ]
            ],
            "type": "contour"
           }
          ],
          "contourcarpet": [
           {
            "colorbar": {
             "outlinewidth": 0,
             "ticks": ""
            },
            "type": "contourcarpet"
           }
          ],
          "heatmap": [
           {
            "colorbar": {
             "outlinewidth": 0,
             "ticks": ""
            },
            "colorscale": [
             [
              0,
              "#0d0887"
             ],
             [
              0.1111111111111111,
              "#46039f"
             ],
             [
              0.2222222222222222,
              "#7201a8"
             ],
             [
              0.3333333333333333,
              "#9c179e"
             ],
             [
              0.4444444444444444,
              "#bd3786"
             ],
             [
              0.5555555555555556,
              "#d8576b"
             ],
             [
              0.6666666666666666,
              "#ed7953"
             ],
             [
              0.7777777777777778,
              "#fb9f3a"
             ],
             [
              0.8888888888888888,
              "#fdca26"
             ],
             [
              1,
              "#f0f921"
             ]
            ],
            "type": "heatmap"
           }
          ],
          "heatmapgl": [
           {
            "colorbar": {
             "outlinewidth": 0,
             "ticks": ""
            },
            "colorscale": [
             [
              0,
              "#0d0887"
             ],
             [
              0.1111111111111111,
              "#46039f"
             ],
             [
              0.2222222222222222,
              "#7201a8"
             ],
             [
              0.3333333333333333,
              "#9c179e"
             ],
             [
              0.4444444444444444,
              "#bd3786"
             ],
             [
              0.5555555555555556,
              "#d8576b"
             ],
             [
              0.6666666666666666,
              "#ed7953"
             ],
             [
              0.7777777777777778,
              "#fb9f3a"
             ],
             [
              0.8888888888888888,
              "#fdca26"
             ],
             [
              1,
              "#f0f921"
             ]
            ],
            "type": "heatmapgl"
           }
          ],
          "histogram": [
           {
            "marker": {
             "pattern": {
              "fillmode": "overlay",
              "size": 10,
              "solidity": 0.2
             }
            },
            "type": "histogram"
           }
          ],
          "histogram2d": [
           {
            "colorbar": {
             "outlinewidth": 0,
             "ticks": ""
            },
            "colorscale": [
             [
              0,
              "#0d0887"
             ],
             [
              0.1111111111111111,
              "#46039f"
             ],
             [
              0.2222222222222222,
              "#7201a8"
             ],
             [
              0.3333333333333333,
              "#9c179e"
             ],
             [
              0.4444444444444444,
              "#bd3786"
             ],
             [
              0.5555555555555556,
              "#d8576b"
             ],
             [
              0.6666666666666666,
              "#ed7953"
             ],
             [
              0.7777777777777778,
              "#fb9f3a"
             ],
             [
              0.8888888888888888,
              "#fdca26"
             ],
             [
              1,
              "#f0f921"
             ]
            ],
            "type": "histogram2d"
           }
          ],
          "histogram2dcontour": [
           {
            "colorbar": {
             "outlinewidth": 0,
             "ticks": ""
            },
            "colorscale": [
             [
              0,
              "#0d0887"
             ],
             [
              0.1111111111111111,
              "#46039f"
             ],
             [
              0.2222222222222222,
              "#7201a8"
             ],
             [
              0.3333333333333333,
              "#9c179e"
             ],
             [
              0.4444444444444444,
              "#bd3786"
             ],
             [
              0.5555555555555556,
              "#d8576b"
             ],
             [
              0.6666666666666666,
              "#ed7953"
             ],
             [
              0.7777777777777778,
              "#fb9f3a"
             ],
             [
              0.8888888888888888,
              "#fdca26"
             ],
             [
              1,
              "#f0f921"
             ]
            ],
            "type": "histogram2dcontour"
           }
          ],
          "mesh3d": [
           {
            "colorbar": {
             "outlinewidth": 0,
             "ticks": ""
            },
            "type": "mesh3d"
           }
          ],
          "parcoords": [
           {
            "line": {
             "colorbar": {
              "outlinewidth": 0,
              "ticks": ""
             }
            },
            "type": "parcoords"
           }
          ],
          "pie": [
           {
            "automargin": true,
            "type": "pie"
           }
          ],
          "scatter": [
           {
            "fillpattern": {
             "fillmode": "overlay",
             "size": 10,
             "solidity": 0.2
            },
            "type": "scatter"
           }
          ],
          "scatter3d": [
           {
            "line": {
             "colorbar": {
              "outlinewidth": 0,
              "ticks": ""
             }
            },
            "marker": {
             "colorbar": {
              "outlinewidth": 0,
              "ticks": ""
             }
            },
            "type": "scatter3d"
           }
          ],
          "scattercarpet": [
           {
            "marker": {
             "colorbar": {
              "outlinewidth": 0,
              "ticks": ""
             }
            },
            "type": "scattercarpet"
           }
          ],
          "scattergeo": [
           {
            "marker": {
             "colorbar": {
              "outlinewidth": 0,
              "ticks": ""
             }
            },
            "type": "scattergeo"
           }
          ],
          "scattergl": [
           {
            "marker": {
             "colorbar": {
              "outlinewidth": 0,
              "ticks": ""
             }
            },
            "type": "scattergl"
           }
          ],
          "scattermapbox": [
           {
            "marker": {
             "colorbar": {
              "outlinewidth": 0,
              "ticks": ""
             }
            },
            "type": "scattermapbox"
           }
          ],
          "scatterpolar": [
           {
            "marker": {
             "colorbar": {
              "outlinewidth": 0,
              "ticks": ""
             }
            },
            "type": "scatterpolar"
           }
          ],
          "scatterpolargl": [
           {
            "marker": {
             "colorbar": {
              "outlinewidth": 0,
              "ticks": ""
             }
            },
            "type": "scatterpolargl"
           }
          ],
          "scatterternary": [
           {
            "marker": {
             "colorbar": {
              "outlinewidth": 0,
              "ticks": ""
             }
            },
            "type": "scatterternary"
           }
          ],
          "surface": [
           {
            "colorbar": {
             "outlinewidth": 0,
             "ticks": ""
            },
            "colorscale": [
             [
              0,
              "#0d0887"
             ],
             [
              0.1111111111111111,
              "#46039f"
             ],
             [
              0.2222222222222222,
              "#7201a8"
             ],
             [
              0.3333333333333333,
              "#9c179e"
             ],
             [
              0.4444444444444444,
              "#bd3786"
             ],
             [
              0.5555555555555556,
              "#d8576b"
             ],
             [
              0.6666666666666666,
              "#ed7953"
             ],
             [
              0.7777777777777778,
              "#fb9f3a"
             ],
             [
              0.8888888888888888,
              "#fdca26"
             ],
             [
              1,
              "#f0f921"
             ]
            ],
            "type": "surface"
           }
          ],
          "table": [
           {
            "cells": {
             "fill": {
              "color": "#EBF0F8"
             },
             "line": {
              "color": "white"
             }
            },
            "header": {
             "fill": {
              "color": "#C8D4E3"
             },
             "line": {
              "color": "white"
             }
            },
            "type": "table"
           }
          ]
         },
         "layout": {
          "annotationdefaults": {
           "arrowcolor": "#2a3f5f",
           "arrowhead": 0,
           "arrowwidth": 1
          },
          "autotypenumbers": "strict",
          "coloraxis": {
           "colorbar": {
            "outlinewidth": 0,
            "ticks": ""
           }
          },
          "colorscale": {
           "diverging": [
            [
             0,
             "#8e0152"
            ],
            [
             0.1,
             "#c51b7d"
            ],
            [
             0.2,
             "#de77ae"
            ],
            [
             0.3,
             "#f1b6da"
            ],
            [
             0.4,
             "#fde0ef"
            ],
            [
             0.5,
             "#f7f7f7"
            ],
            [
             0.6,
             "#e6f5d0"
            ],
            [
             0.7,
             "#b8e186"
            ],
            [
             0.8,
             "#7fbc41"
            ],
            [
             0.9,
             "#4d9221"
            ],
            [
             1,
             "#276419"
            ]
           ],
           "sequential": [
            [
             0,
             "#0d0887"
            ],
            [
             0.1111111111111111,
             "#46039f"
            ],
            [
             0.2222222222222222,
             "#7201a8"
            ],
            [
             0.3333333333333333,
             "#9c179e"
            ],
            [
             0.4444444444444444,
             "#bd3786"
            ],
            [
             0.5555555555555556,
             "#d8576b"
            ],
            [
             0.6666666666666666,
             "#ed7953"
            ],
            [
             0.7777777777777778,
             "#fb9f3a"
            ],
            [
             0.8888888888888888,
             "#fdca26"
            ],
            [
             1,
             "#f0f921"
            ]
           ],
           "sequentialminus": [
            [
             0,
             "#0d0887"
            ],
            [
             0.1111111111111111,
             "#46039f"
            ],
            [
             0.2222222222222222,
             "#7201a8"
            ],
            [
             0.3333333333333333,
             "#9c179e"
            ],
            [
             0.4444444444444444,
             "#bd3786"
            ],
            [
             0.5555555555555556,
             "#d8576b"
            ],
            [
             0.6666666666666666,
             "#ed7953"
            ],
            [
             0.7777777777777778,
             "#fb9f3a"
            ],
            [
             0.8888888888888888,
             "#fdca26"
            ],
            [
             1,
             "#f0f921"
            ]
           ]
          },
          "colorway": [
           "#636efa",
           "#EF553B",
           "#00cc96",
           "#ab63fa",
           "#FFA15A",
           "#19d3f3",
           "#FF6692",
           "#B6E880",
           "#FF97FF",
           "#FECB52"
          ],
          "font": {
           "color": "#2a3f5f"
          },
          "geo": {
           "bgcolor": "white",
           "lakecolor": "white",
           "landcolor": "#E5ECF6",
           "showlakes": true,
           "showland": true,
           "subunitcolor": "white"
          },
          "hoverlabel": {
           "align": "left"
          },
          "hovermode": "closest",
          "mapbox": {
           "style": "light"
          },
          "paper_bgcolor": "white",
          "plot_bgcolor": "#E5ECF6",
          "polar": {
           "angularaxis": {
            "gridcolor": "white",
            "linecolor": "white",
            "ticks": ""
           },
           "bgcolor": "#E5ECF6",
           "radialaxis": {
            "gridcolor": "white",
            "linecolor": "white",
            "ticks": ""
           }
          },
          "scene": {
           "xaxis": {
            "backgroundcolor": "#E5ECF6",
            "gridcolor": "white",
            "gridwidth": 2,
            "linecolor": "white",
            "showbackground": true,
            "ticks": "",
            "zerolinecolor": "white"
           },
           "yaxis": {
            "backgroundcolor": "#E5ECF6",
            "gridcolor": "white",
            "gridwidth": 2,
            "linecolor": "white",
            "showbackground": true,
            "ticks": "",
            "zerolinecolor": "white"
           },
           "zaxis": {
            "backgroundcolor": "#E5ECF6",
            "gridcolor": "white",
            "gridwidth": 2,
            "linecolor": "white",
            "showbackground": true,
            "ticks": "",
            "zerolinecolor": "white"
           }
          },
          "shapedefaults": {
           "line": {
            "color": "#2a3f5f"
           }
          },
          "ternary": {
           "aaxis": {
            "gridcolor": "white",
            "linecolor": "white",
            "ticks": ""
           },
           "baxis": {
            "gridcolor": "white",
            "linecolor": "white",
            "ticks": ""
           },
           "bgcolor": "#E5ECF6",
           "caxis": {
            "gridcolor": "white",
            "linecolor": "white",
            "ticks": ""
           }
          },
          "title": {
           "x": 0.05
          },
          "xaxis": {
           "automargin": true,
           "gridcolor": "white",
           "linecolor": "white",
           "ticks": "",
           "title": {
            "standoff": 15
           },
           "zerolinecolor": "white",
           "zerolinewidth": 2
          },
          "yaxis": {
           "automargin": true,
           "gridcolor": "white",
           "linecolor": "white",
           "ticks": "",
           "title": {
            "standoff": 15
           },
           "zerolinecolor": "white",
           "zerolinewidth": 2
          }
         }
        },
        "title": {
         "font": {
          "color": "#4D5663"
         }
        },
        "xaxis": {
         "gridcolor": "#E1E5ED",
         "showgrid": true,
         "tickfont": {
          "color": "#4D5663"
         },
         "title": {
          "font": {
           "color": "#4D5663"
          },
          "text": ""
         },
         "zerolinecolor": "#E1E5ED"
        },
        "yaxis": {
         "gridcolor": "#E1E5ED",
         "showgrid": true,
         "tickfont": {
          "color": "#4D5663"
         },
         "title": {
          "font": {
           "color": "#4D5663"
          },
          "text": ""
         },
         "zerolinecolor": "#E1E5ED"
        }
       }
      },
      "text/html": [
       "<div>                            <div id=\"4c1729c1-8769-4507-81eb-6dee7b77824f\" class=\"plotly-graph-div\" style=\"height:525px; width:100%;\"></div>            <script type=\"text/javascript\">                require([\"plotly\"], function(Plotly) {                    window.PLOTLYENV=window.PLOTLYENV || {};\n",
       "                    window.PLOTLYENV.BASE_URL='https://plot.ly';                                    if (document.getElementById(\"4c1729c1-8769-4507-81eb-6dee7b77824f\")) {                    Plotly.newPlot(                        \"4c1729c1-8769-4507-81eb-6dee7b77824f\",                        [{\"marker\":{\"color\":\"rgba(55, 128, 191, 0.6)\",\"line\":{\"color\":\"rgba(55, 128, 191, 1.0)\",\"width\":1}},\"name\":\"Number of Shares\",\"orientation\":\"v\",\"text\":\"\",\"x\":[\"XAEH24\",\"FANG.OQ\",\"TRGP.N\",\"PXD.N\",\"HES.N\",\"APA.OQ\",\"VLO.N\",\"MPC.N\",\"EQT.N\",\"PSX.N\",\"EOG.N\",\"OKE.N\",\"MRO.N\",\"DVN.N\",\"OXY.N\",\"CTRA.N\",\"HAL.N\",\"BKR.OQ\",\"COP.N\",\"WMB.N\",\"SLB.N\",\"CVX.N\",\"KMI.N\",\"XOM.N\",\"LP40098642\"],\"y\":[139200.0,4401392.0,5483164.0,5737253.0,6797872.0,7542373.0,8371980.0,9337025.0,10114969.0,10818827.0,14233161.0,14325268.0,14391582.0,15755239.0,16236699.0,18496916.0,22009918.0,24743956.0,28981520.0,29914459.0,32644460.0,42849825.0,47553722.0,81790606.0,90164858.93],\"type\":\"bar\"}],                        {\"legend\":{\"bgcolor\":\"#F5F6F9\",\"font\":{\"color\":\"#4D5663\"}},\"paper_bgcolor\":\"#F5F6F9\",\"plot_bgcolor\":\"#F5F6F9\",\"template\":{\"data\":{\"barpolar\":[{\"marker\":{\"line\":{\"color\":\"#E5ECF6\",\"width\":0.5},\"pattern\":{\"fillmode\":\"overlay\",\"size\":10,\"solidity\":0.2}},\"type\":\"barpolar\"}],\"bar\":[{\"error_x\":{\"color\":\"#2a3f5f\"},\"error_y\":{\"color\":\"#2a3f5f\"},\"marker\":{\"line\":{\"color\":\"#E5ECF6\",\"width\":0.5},\"pattern\":{\"fillmode\":\"overlay\",\"size\":10,\"solidity\":0.2}},\"type\":\"bar\"}],\"carpet\":[{\"aaxis\":{\"endlinecolor\":\"#2a3f5f\",\"gridcolor\":\"white\",\"linecolor\":\"white\",\"minorgridcolor\":\"white\",\"startlinecolor\":\"#2a3f5f\"},\"baxis\":{\"endlinecolor\":\"#2a3f5f\",\"gridcolor\":\"white\",\"linecolor\":\"white\",\"minorgridcolor\":\"white\",\"startlinecolor\":\"#2a3f5f\"},\"type\":\"carpet\"}],\"choropleth\":[{\"colorbar\":{\"outlinewidth\":0,\"ticks\":\"\"},\"type\":\"choropleth\"}],\"contourcarpet\":[{\"colorbar\":{\"outlinewidth\":0,\"ticks\":\"\"},\"type\":\"contourcarpet\"}],\"contour\":[{\"colorbar\":{\"outlinewidth\":0,\"ticks\":\"\"},\"colorscale\":[[0.0,\"#0d0887\"],[0.1111111111111111,\"#46039f\"],[0.2222222222222222,\"#7201a8\"],[0.3333333333333333,\"#9c179e\"],[0.4444444444444444,\"#bd3786\"],[0.5555555555555556,\"#d8576b\"],[0.6666666666666666,\"#ed7953\"],[0.7777777777777778,\"#fb9f3a\"],[0.8888888888888888,\"#fdca26\"],[1.0,\"#f0f921\"]],\"type\":\"contour\"}],\"heatmapgl\":[{\"colorbar\":{\"outlinewidth\":0,\"ticks\":\"\"},\"colorscale\":[[0.0,\"#0d0887\"],[0.1111111111111111,\"#46039f\"],[0.2222222222222222,\"#7201a8\"],[0.3333333333333333,\"#9c179e\"],[0.4444444444444444,\"#bd3786\"],[0.5555555555555556,\"#d8576b\"],[0.6666666666666666,\"#ed7953\"],[0.7777777777777778,\"#fb9f3a\"],[0.8888888888888888,\"#fdca26\"],[1.0,\"#f0f921\"]],\"type\":\"heatmapgl\"}],\"heatmap\":[{\"colorbar\":{\"outlinewidth\":0,\"ticks\":\"\"},\"colorscale\":[[0.0,\"#0d0887\"],[0.1111111111111111,\"#46039f\"],[0.2222222222222222,\"#7201a8\"],[0.3333333333333333,\"#9c179e\"],[0.4444444444444444,\"#bd3786\"],[0.5555555555555556,\"#d8576b\"],[0.6666666666666666,\"#ed7953\"],[0.7777777777777778,\"#fb9f3a\"],[0.8888888888888888,\"#fdca26\"],[1.0,\"#f0f921\"]],\"type\":\"heatmap\"}],\"histogram2dcontour\":[{\"colorbar\":{\"outlinewidth\":0,\"ticks\":\"\"},\"colorscale\":[[0.0,\"#0d0887\"],[0.1111111111111111,\"#46039f\"],[0.2222222222222222,\"#7201a8\"],[0.3333333333333333,\"#9c179e\"],[0.4444444444444444,\"#bd3786\"],[0.5555555555555556,\"#d8576b\"],[0.6666666666666666,\"#ed7953\"],[0.7777777777777778,\"#fb9f3a\"],[0.8888888888888888,\"#fdca26\"],[1.0,\"#f0f921\"]],\"type\":\"histogram2dcontour\"}],\"histogram2d\":[{\"colorbar\":{\"outlinewidth\":0,\"ticks\":\"\"},\"colorscale\":[[0.0,\"#0d0887\"],[0.1111111111111111,\"#46039f\"],[0.2222222222222222,\"#7201a8\"],[0.3333333333333333,\"#9c179e\"],[0.4444444444444444,\"#bd3786\"],[0.5555555555555556,\"#d8576b\"],[0.6666666666666666,\"#ed7953\"],[0.7777777777777778,\"#fb9f3a\"],[0.8888888888888888,\"#fdca26\"],[1.0,\"#f0f921\"]],\"type\":\"histogram2d\"}],\"histogram\":[{\"marker\":{\"pattern\":{\"fillmode\":\"overlay\",\"size\":10,\"solidity\":0.2}},\"type\":\"histogram\"}],\"mesh3d\":[{\"colorbar\":{\"outlinewidth\":0,\"ticks\":\"\"},\"type\":\"mesh3d\"}],\"parcoords\":[{\"line\":{\"colorbar\":{\"outlinewidth\":0,\"ticks\":\"\"}},\"type\":\"parcoords\"}],\"pie\":[{\"automargin\":true,\"type\":\"pie\"}],\"scatter3d\":[{\"line\":{\"colorbar\":{\"outlinewidth\":0,\"ticks\":\"\"}},\"marker\":{\"colorbar\":{\"outlinewidth\":0,\"ticks\":\"\"}},\"type\":\"scatter3d\"}],\"scattercarpet\":[{\"marker\":{\"colorbar\":{\"outlinewidth\":0,\"ticks\":\"\"}},\"type\":\"scattercarpet\"}],\"scattergeo\":[{\"marker\":{\"colorbar\":{\"outlinewidth\":0,\"ticks\":\"\"}},\"type\":\"scattergeo\"}],\"scattergl\":[{\"marker\":{\"colorbar\":{\"outlinewidth\":0,\"ticks\":\"\"}},\"type\":\"scattergl\"}],\"scattermapbox\":[{\"marker\":{\"colorbar\":{\"outlinewidth\":0,\"ticks\":\"\"}},\"type\":\"scattermapbox\"}],\"scatterpolargl\":[{\"marker\":{\"colorbar\":{\"outlinewidth\":0,\"ticks\":\"\"}},\"type\":\"scatterpolargl\"}],\"scatterpolar\":[{\"marker\":{\"colorbar\":{\"outlinewidth\":0,\"ticks\":\"\"}},\"type\":\"scatterpolar\"}],\"scatter\":[{\"fillpattern\":{\"fillmode\":\"overlay\",\"size\":10,\"solidity\":0.2},\"type\":\"scatter\"}],\"scatterternary\":[{\"marker\":{\"colorbar\":{\"outlinewidth\":0,\"ticks\":\"\"}},\"type\":\"scatterternary\"}],\"surface\":[{\"colorbar\":{\"outlinewidth\":0,\"ticks\":\"\"},\"colorscale\":[[0.0,\"#0d0887\"],[0.1111111111111111,\"#46039f\"],[0.2222222222222222,\"#7201a8\"],[0.3333333333333333,\"#9c179e\"],[0.4444444444444444,\"#bd3786\"],[0.5555555555555556,\"#d8576b\"],[0.6666666666666666,\"#ed7953\"],[0.7777777777777778,\"#fb9f3a\"],[0.8888888888888888,\"#fdca26\"],[1.0,\"#f0f921\"]],\"type\":\"surface\"}],\"table\":[{\"cells\":{\"fill\":{\"color\":\"#EBF0F8\"},\"line\":{\"color\":\"white\"}},\"header\":{\"fill\":{\"color\":\"#C8D4E3\"},\"line\":{\"color\":\"white\"}},\"type\":\"table\"}]},\"layout\":{\"annotationdefaults\":{\"arrowcolor\":\"#2a3f5f\",\"arrowhead\":0,\"arrowwidth\":1},\"autotypenumbers\":\"strict\",\"coloraxis\":{\"colorbar\":{\"outlinewidth\":0,\"ticks\":\"\"}},\"colorscale\":{\"diverging\":[[0,\"#8e0152\"],[0.1,\"#c51b7d\"],[0.2,\"#de77ae\"],[0.3,\"#f1b6da\"],[0.4,\"#fde0ef\"],[0.5,\"#f7f7f7\"],[0.6,\"#e6f5d0\"],[0.7,\"#b8e186\"],[0.8,\"#7fbc41\"],[0.9,\"#4d9221\"],[1,\"#276419\"]],\"sequential\":[[0.0,\"#0d0887\"],[0.1111111111111111,\"#46039f\"],[0.2222222222222222,\"#7201a8\"],[0.3333333333333333,\"#9c179e\"],[0.4444444444444444,\"#bd3786\"],[0.5555555555555556,\"#d8576b\"],[0.6666666666666666,\"#ed7953\"],[0.7777777777777778,\"#fb9f3a\"],[0.8888888888888888,\"#fdca26\"],[1.0,\"#f0f921\"]],\"sequentialminus\":[[0.0,\"#0d0887\"],[0.1111111111111111,\"#46039f\"],[0.2222222222222222,\"#7201a8\"],[0.3333333333333333,\"#9c179e\"],[0.4444444444444444,\"#bd3786\"],[0.5555555555555556,\"#d8576b\"],[0.6666666666666666,\"#ed7953\"],[0.7777777777777778,\"#fb9f3a\"],[0.8888888888888888,\"#fdca26\"],[1.0,\"#f0f921\"]]},\"colorway\":[\"#636efa\",\"#EF553B\",\"#00cc96\",\"#ab63fa\",\"#FFA15A\",\"#19d3f3\",\"#FF6692\",\"#B6E880\",\"#FF97FF\",\"#FECB52\"],\"font\":{\"color\":\"#2a3f5f\"},\"geo\":{\"bgcolor\":\"white\",\"lakecolor\":\"white\",\"landcolor\":\"#E5ECF6\",\"showlakes\":true,\"showland\":true,\"subunitcolor\":\"white\"},\"hoverlabel\":{\"align\":\"left\"},\"hovermode\":\"closest\",\"mapbox\":{\"style\":\"light\"},\"paper_bgcolor\":\"white\",\"plot_bgcolor\":\"#E5ECF6\",\"polar\":{\"angularaxis\":{\"gridcolor\":\"white\",\"linecolor\":\"white\",\"ticks\":\"\"},\"bgcolor\":\"#E5ECF6\",\"radialaxis\":{\"gridcolor\":\"white\",\"linecolor\":\"white\",\"ticks\":\"\"}},\"scene\":{\"xaxis\":{\"backgroundcolor\":\"#E5ECF6\",\"gridcolor\":\"white\",\"gridwidth\":2,\"linecolor\":\"white\",\"showbackground\":true,\"ticks\":\"\",\"zerolinecolor\":\"white\"},\"yaxis\":{\"backgroundcolor\":\"#E5ECF6\",\"gridcolor\":\"white\",\"gridwidth\":2,\"linecolor\":\"white\",\"showbackground\":true,\"ticks\":\"\",\"zerolinecolor\":\"white\"},\"zaxis\":{\"backgroundcolor\":\"#E5ECF6\",\"gridcolor\":\"white\",\"gridwidth\":2,\"linecolor\":\"white\",\"showbackground\":true,\"ticks\":\"\",\"zerolinecolor\":\"white\"}},\"shapedefaults\":{\"line\":{\"color\":\"#2a3f5f\"}},\"ternary\":{\"aaxis\":{\"gridcolor\":\"white\",\"linecolor\":\"white\",\"ticks\":\"\"},\"baxis\":{\"gridcolor\":\"white\",\"linecolor\":\"white\",\"ticks\":\"\"},\"bgcolor\":\"#E5ECF6\",\"caxis\":{\"gridcolor\":\"white\",\"linecolor\":\"white\",\"ticks\":\"\"}},\"title\":{\"x\":0.05},\"xaxis\":{\"automargin\":true,\"gridcolor\":\"white\",\"linecolor\":\"white\",\"ticks\":\"\",\"title\":{\"standoff\":15},\"zerolinecolor\":\"white\",\"zerolinewidth\":2},\"yaxis\":{\"automargin\":true,\"gridcolor\":\"white\",\"linecolor\":\"white\",\"ticks\":\"\",\"title\":{\"standoff\":15},\"zerolinecolor\":\"white\",\"zerolinewidth\":2}}},\"title\":{\"font\":{\"color\":\"#4D5663\"}},\"xaxis\":{\"gridcolor\":\"#E1E5ED\",\"showgrid\":true,\"tickfont\":{\"color\":\"#4D5663\"},\"title\":{\"font\":{\"color\":\"#4D5663\"},\"text\":\"\"},\"zerolinecolor\":\"#E1E5ED\"},\"yaxis\":{\"gridcolor\":\"#E1E5ED\",\"showgrid\":true,\"tickfont\":{\"color\":\"#4D5663\"},\"title\":{\"font\":{\"color\":\"#4D5663\"},\"text\":\"\"},\"zerolinecolor\":\"#E1E5ED\"}},                        {\"showLink\": true, \"linkText\": \"Export to plot.ly\", \"plotlyServerURL\": \"https://plot.ly\", \"responsive\": true}                    ).then(function(){\n",
       "                            \n",
       "var gd = document.getElementById('4c1729c1-8769-4507-81eb-6dee7b77824f');\n",
       "var x = new MutationObserver(function (mutations, observer) {{\n",
       "        var display = window.getComputedStyle(gd).display;\n",
       "        if (!display || display === 'none') {{\n",
       "            console.log([gd, 'removed!']);\n",
       "            Plotly.purge(gd);\n",
       "            observer.disconnect();\n",
       "        }}\n",
       "}});\n",
       "\n",
       "// Listen for the removal of the full notebook cells\n",
       "var notebookContainer = gd.closest('#notebook-container');\n",
       "if (notebookContainer) {{\n",
       "    x.observe(notebookContainer, {childList: true});\n",
       "}}\n",
       "\n",
       "// Listen for the clearing of the current output cell\n",
       "var outputEl = gd.closest('.output');\n",
       "if (outputEl) {{\n",
       "    x.observe(outputEl, {childList: true});\n",
       "}}\n",
       "\n",
       "                        })                };                });            </script>        </div>"
      ]
     },
     "metadata": {},
     "output_type": "display_data"
    }
   ],
   "source": [
    "XLE[(XLE['Holding RIC'] != '')].set_index('Holding RIC')['Number of Shares'].sort_values().iplot(kind='bar', color='blue')"
   ]
  },
  {
   "cell_type": "code",
   "execution_count": 34,
   "id": "b87a5c30",
   "metadata": {},
   "outputs": [
    {
     "name": "stdout",
     "output_type": "stream",
     "text": [
      "Help on function get_data in module eikon.data_grid:\n",
      "\n",
      "get_data(instruments, fields, parameters=None, field_name=False, raw_output=False, debug=False)\n",
      "    Returns a pandas.DataFrame with fields in columns and instruments as row index\n",
      "    \n",
      "    Parameters\n",
      "    ----------\n",
      "    instruments: string or list\n",
      "        Single instrument or list of instruments to request.\n",
      "    \n",
      "    fields: string, dictionary or list of strings and/or dictionaries.\n",
      "        List of fields to request.\n",
      "    \n",
      "        Examples:\n",
      "    \n",
      "        - 'TR.PriceClose'\n",
      "        - {'TR.GrossProfit': { 'params':{ 'Scale': 6, 'Curn': 'EUR' }}\n",
      "        - {'TR.GrossProfit': { 'params':{ 'Scale': 6, 'Curn': 'EUR' },sort_dir:'desc'}\n",
      "        - ['TR.PriceClose','TR.PriceOpen']\n",
      "        - [{'TR.PriceClose':  {'sort_dir':asc,sort_priority:1}},{'TR.PriceOpen':  {'sort_dir':asc,sort_priority:0}}\n",
      "        \n",
      "        You can use the function TR_Field to build the fields:\n",
      "    \n",
      "        >>> fields = [ek.TR_Field('tr.revenue'),ek.TR_Field('tr.open','asc',1),ek.TR_Field('TR.GrossProfit',{'Scale': 6, 'Curn': 'EUR'},'asc',0)]\n",
      "        >>> data, err = ek.get_data([\"IBM\",\"MSFT.O\"],fields)\n",
      "       \n",
      "        Tips:\n",
      "        You can launch the Data Item Browser to discover fields and parameters,\n",
      "        or copy field names and parameters from TR Eikon - MS Office formulas\n",
      "    \n",
      "    parameters: string or dictionary, optional\n",
      "        Single global parameter key=value or dictionary of global parameters to request.\n",
      "    \n",
      "        Default: None\n",
      "    \n",
      "    field_name: boolean, optional\n",
      "        Define if column headers are filled with field name or display names.\n",
      "    \n",
      "        If True value, field names will ube used as column headers. Otherwise, the full display name will be used.\n",
      "    \n",
      "        Default: False\n",
      "    \n",
      "    raw_output: boolean, optional\n",
      "        By default the output is a pandas.DataFrame.\n",
      "    \n",
      "        Set raw_output=True to get data in Json format.\n",
      "    \n",
      "        Default: False\n",
      "    \n",
      "    debug: boolean, optional\n",
      "        When set to True, the json request and response are printed. Default value is False\n",
      "    \n",
      "    Returns\n",
      "    -------\n",
      "        pandas.DataFrame\n",
      "            Returns pandas.DataFrame with fields in columns and instruments as row index\n",
      "    \n",
      "        errors\n",
      "            Returns a list of errors\n",
      "    \n",
      "    Raises\n",
      "    ----------\n",
      "        Exception\n",
      "            If http request fails or if server returns an error.\n",
      "    \n",
      "        ValueError\n",
      "            If a parameter type or value is wrong.\n",
      "    \n",
      "    Examples\n",
      "    --------\n",
      "    >>> import eikon as ek\n",
      "    >>> ek.set_app_key('set your app key here')\n",
      "    >>> data, err = ek.get_data([\"IBM\", \"GOOG.O\", \"MSFT.O\"], [\"TR.PriceClose\", \"TR.Volume\", \"TR.PriceLow\"])\n",
      "    >>> data, err = ek.get_data(\"IBM\", ['TR.Employees', {'TR.GrossProfit':{'params':{'Scale': 6, 'Curn': 'EUR'},'sort_dir':'asc'}}])\n",
      "    >>> fields = [ek.TR_Field('tr.revenue'),ek.TR_Field('tr.open',None,'asc',1),ek.TR_Field('TR.GrossProfit',{'Scale': 6, 'Curn': 'EUR'},'asc',0)]\n",
      "    >>> data, err = ek.get_data([\"IBM\",\"MSFT.O\"],fields)\n",
      "\n"
     ]
    }
   ],
   "source": [
    "help(ek.get_data)"
   ]
  },
  {
   "cell_type": "markdown",
   "id": "73aeb56c",
   "metadata": {},
   "source": [
    "# Descargar series de tiempo"
   ]
  },
  {
   "cell_type": "code",
   "execution_count": 35,
   "id": "73c2ec30",
   "metadata": {},
   "outputs": [],
   "source": [
    "#help(ek.get_timeseries)"
   ]
  },
  {
   "cell_type": "code",
   "execution_count": 36,
   "id": "93f30e3e",
   "metadata": {},
   "outputs": [
    {
     "name": "stdout",
     "output_type": "stream",
     "text": [
      "2024-02-19 2023-11-11\n"
     ]
    }
   ],
   "source": [
    "import datetime as dt\n",
    "today = dt.date.today()\n",
    "d = today - dt.timedelta(days=100)\n",
    "print(today, d)"
   ]
  },
  {
   "cell_type": "code",
   "execution_count": null,
   "id": "8c024382",
   "metadata": {},
   "outputs": [],
   "source": []
  },
  {
   "cell_type": "code",
   "execution_count": 37,
   "id": "c4563de2",
   "metadata": {},
   "outputs": [
    {
     "data": {
      "text/html": [
       "<div>\n",
       "<style scoped>\n",
       "    .dataframe tbody tr th:only-of-type {\n",
       "        vertical-align: middle;\n",
       "    }\n",
       "\n",
       "    .dataframe tbody tr th {\n",
       "        vertical-align: top;\n",
       "    }\n",
       "\n",
       "    .dataframe thead th {\n",
       "        text-align: right;\n",
       "    }\n",
       "</style>\n",
       "<table border=\"1\" class=\"dataframe\">\n",
       "  <thead>\n",
       "    <tr style=\"text-align: right;\">\n",
       "      <th>000001.SZ</th>\n",
       "      <th>HIGH</th>\n",
       "      <th>CLOSE</th>\n",
       "      <th>LOW</th>\n",
       "      <th>OPEN</th>\n",
       "      <th>VOLUME</th>\n",
       "    </tr>\n",
       "    <tr>\n",
       "      <th>Date</th>\n",
       "      <th></th>\n",
       "      <th></th>\n",
       "      <th></th>\n",
       "      <th></th>\n",
       "      <th></th>\n",
       "    </tr>\n",
       "  </thead>\n",
       "  <tbody>\n",
       "    <tr>\n",
       "      <th>2016-06-14</th>\n",
       "      <td>8.674997</td>\n",
       "      <td>8.666663</td>\n",
       "      <td>8.599997</td>\n",
       "      <td>8.616663</td>\n",
       "      <td>32836484.334594</td>\n",
       "    </tr>\n",
       "    <tr>\n",
       "      <th>2016-06-15</th>\n",
       "      <td>8.73333</td>\n",
       "      <td>8.699997</td>\n",
       "      <td>8.599997</td>\n",
       "      <td>8.60833</td>\n",
       "      <td>45380707.352283</td>\n",
       "    </tr>\n",
       "    <tr>\n",
       "      <th>2016-06-16</th>\n",
       "      <td>8.6</td>\n",
       "      <td>8.57</td>\n",
       "      <td>8.53</td>\n",
       "      <td>8.57</td>\n",
       "      <td>38667008.0</td>\n",
       "    </tr>\n",
       "    <tr>\n",
       "      <th>2016-06-17</th>\n",
       "      <td>8.61</td>\n",
       "      <td>8.58</td>\n",
       "      <td>8.54</td>\n",
       "      <td>8.57</td>\n",
       "      <td>31517300.0</td>\n",
       "    </tr>\n",
       "    <tr>\n",
       "      <th>2016-06-20</th>\n",
       "      <td>8.6</td>\n",
       "      <td>8.6</td>\n",
       "      <td>8.56</td>\n",
       "      <td>8.59</td>\n",
       "      <td>27073158.0</td>\n",
       "    </tr>\n",
       "  </tbody>\n",
       "</table>\n",
       "</div>"
      ],
      "text/plain": [
       "000001.SZ       HIGH     CLOSE       LOW      OPEN           VOLUME\n",
       "Date                                                               \n",
       "2016-06-14  8.674997  8.666663  8.599997  8.616663  32836484.334594\n",
       "2016-06-15   8.73333  8.699997  8.599997   8.60833  45380707.352283\n",
       "2016-06-16       8.6      8.57      8.53      8.57       38667008.0\n",
       "2016-06-17      8.61      8.58      8.54      8.57       31517300.0\n",
       "2016-06-20       8.6       8.6      8.56      8.59       27073158.0"
      ]
     },
     "execution_count": 37,
     "metadata": {},
     "output_type": "execute_result"
    }
   ],
   "source": [
    "df_ts = ek.get_timeseries([\"000001.SZ\"], \n",
    "                          start_date = \"2016-06-14\", \n",
    "                          end_date = \"2016-06-20\", \n",
    "                          interval=\"daily\", \n",
    "                          corax = 'adjusted' )\n",
    "df_ts"
   ]
  },
  {
   "cell_type": "code",
   "execution_count": 38,
   "id": "4a75ae24",
   "metadata": {},
   "outputs": [
    {
     "name": "stdout",
     "output_type": "stream",
     "text": [
      "2024-02-19 15:22:07.679788 2023-11-11 15:22:07.679788\n"
     ]
    }
   ],
   "source": [
    "import datetime as dt\n",
    "today = dt.datetime.today()\n",
    "d = today - dt.timedelta(days=100)\n",
    "print(today, d)"
   ]
  },
  {
   "cell_type": "code",
   "execution_count": 39,
   "id": "8f78dd2e",
   "metadata": {},
   "outputs": [
    {
     "data": {
      "text/html": [
       "<div>\n",
       "<style scoped>\n",
       "    .dataframe tbody tr th:only-of-type {\n",
       "        vertical-align: middle;\n",
       "    }\n",
       "\n",
       "    .dataframe tbody tr th {\n",
       "        vertical-align: top;\n",
       "    }\n",
       "\n",
       "    .dataframe thead th {\n",
       "        text-align: right;\n",
       "    }\n",
       "</style>\n",
       "<table border=\"1\" class=\"dataframe\">\n",
       "  <thead>\n",
       "    <tr style=\"text-align: right;\">\n",
       "      <th>000001.SZ</th>\n",
       "      <th>HIGH</th>\n",
       "      <th>CLOSE</th>\n",
       "      <th>LOW</th>\n",
       "      <th>OPEN</th>\n",
       "      <th>VOLUME</th>\n",
       "    </tr>\n",
       "    <tr>\n",
       "      <th>Date</th>\n",
       "      <th></th>\n",
       "      <th></th>\n",
       "      <th></th>\n",
       "      <th></th>\n",
       "      <th></th>\n",
       "    </tr>\n",
       "  </thead>\n",
       "  <tbody>\n",
       "    <tr>\n",
       "      <th>2016-06-14</th>\n",
       "      <td>10.41</td>\n",
       "      <td>10.4</td>\n",
       "      <td>10.32</td>\n",
       "      <td>10.34</td>\n",
       "      <td>27363726</td>\n",
       "    </tr>\n",
       "    <tr>\n",
       "      <th>2016-06-15</th>\n",
       "      <td>10.48</td>\n",
       "      <td>10.44</td>\n",
       "      <td>10.32</td>\n",
       "      <td>10.33</td>\n",
       "      <td>37817241</td>\n",
       "    </tr>\n",
       "    <tr>\n",
       "      <th>2016-06-16</th>\n",
       "      <td>8.6</td>\n",
       "      <td>8.57</td>\n",
       "      <td>8.53</td>\n",
       "      <td>8.57</td>\n",
       "      <td>38667008</td>\n",
       "    </tr>\n",
       "    <tr>\n",
       "      <th>2016-06-17</th>\n",
       "      <td>8.61</td>\n",
       "      <td>8.58</td>\n",
       "      <td>8.54</td>\n",
       "      <td>8.57</td>\n",
       "      <td>31517300</td>\n",
       "    </tr>\n",
       "    <tr>\n",
       "      <th>2016-06-20</th>\n",
       "      <td>8.6</td>\n",
       "      <td>8.6</td>\n",
       "      <td>8.56</td>\n",
       "      <td>8.59</td>\n",
       "      <td>27073158</td>\n",
       "    </tr>\n",
       "  </tbody>\n",
       "</table>\n",
       "</div>"
      ],
      "text/plain": [
       "000001.SZ    HIGH  CLOSE    LOW   OPEN    VOLUME\n",
       "Date                                            \n",
       "2016-06-14  10.41   10.4  10.32  10.34  27363726\n",
       "2016-06-15  10.48  10.44  10.32  10.33  37817241\n",
       "2016-06-16    8.6   8.57   8.53   8.57  38667008\n",
       "2016-06-17   8.61   8.58   8.54   8.57  31517300\n",
       "2016-06-20    8.6    8.6   8.56   8.59  27073158"
      ]
     },
     "execution_count": 39,
     "metadata": {},
     "output_type": "execute_result"
    }
   ],
   "source": [
    "df_ts = ek.get_timeseries([\"000001.SZ\"], start_date = \"2016-06-14\", end_date = \"2016-06-20\", interval=\"daily\", corax = 'unadjusted')\n",
    "df_ts"
   ]
  },
  {
   "cell_type": "code",
   "execution_count": 40,
   "id": "b4a29d47",
   "metadata": {},
   "outputs": [
    {
     "data": {
      "text/html": [
       "<div>\n",
       "<style scoped>\n",
       "    .dataframe tbody tr th:only-of-type {\n",
       "        vertical-align: middle;\n",
       "    }\n",
       "\n",
       "    .dataframe tbody tr th {\n",
       "        vertical-align: top;\n",
       "    }\n",
       "\n",
       "    .dataframe thead th {\n",
       "        text-align: right;\n",
       "    }\n",
       "</style>\n",
       "<table border=\"1\" class=\"dataframe\">\n",
       "  <thead>\n",
       "    <tr style=\"text-align: right;\">\n",
       "      <th>MSFT.O</th>\n",
       "      <th>HIGH</th>\n",
       "      <th>CLOSE</th>\n",
       "      <th>LOW</th>\n",
       "      <th>OPEN</th>\n",
       "      <th>COUNT</th>\n",
       "      <th>VOLUME</th>\n",
       "    </tr>\n",
       "    <tr>\n",
       "      <th>Date</th>\n",
       "      <th></th>\n",
       "      <th></th>\n",
       "      <th></th>\n",
       "      <th></th>\n",
       "      <th></th>\n",
       "      <th></th>\n",
       "    </tr>\n",
       "  </thead>\n",
       "  <tbody>\n",
       "    <tr>\n",
       "      <th>2023-11-13</th>\n",
       "      <td>368.47</td>\n",
       "      <td>366.68</td>\n",
       "      <td>365.9</td>\n",
       "      <td>368.22</td>\n",
       "      <td>340608</td>\n",
       "      <td>19986506</td>\n",
       "    </tr>\n",
       "    <tr>\n",
       "      <th>2023-11-14</th>\n",
       "      <td>371.95</td>\n",
       "      <td>370.27</td>\n",
       "      <td>367.3454</td>\n",
       "      <td>371.01</td>\n",
       "      <td>409291</td>\n",
       "      <td>27683862</td>\n",
       "    </tr>\n",
       "    <tr>\n",
       "      <th>2023-11-15</th>\n",
       "      <td>373.13</td>\n",
       "      <td>369.67</td>\n",
       "      <td>367.11</td>\n",
       "      <td>371.28</td>\n",
       "      <td>399874</td>\n",
       "      <td>26860095</td>\n",
       "    </tr>\n",
       "    <tr>\n",
       "      <th>2023-11-16</th>\n",
       "      <td>376.35</td>\n",
       "      <td>376.17</td>\n",
       "      <td>370.18</td>\n",
       "      <td>370.96</td>\n",
       "      <td>405563</td>\n",
       "      <td>27182315</td>\n",
       "    </tr>\n",
       "    <tr>\n",
       "      <th>2023-11-17</th>\n",
       "      <td>374.37</td>\n",
       "      <td>369.85</td>\n",
       "      <td>367.0</td>\n",
       "      <td>373.61</td>\n",
       "      <td>560742</td>\n",
       "      <td>40325371</td>\n",
       "    </tr>\n",
       "    <tr>\n",
       "      <th>...</th>\n",
       "      <td>...</td>\n",
       "      <td>...</td>\n",
       "      <td>...</td>\n",
       "      <td>...</td>\n",
       "      <td>...</td>\n",
       "      <td>...</td>\n",
       "    </tr>\n",
       "    <tr>\n",
       "      <th>2024-02-12</th>\n",
       "      <td>420.74</td>\n",
       "      <td>415.26</td>\n",
       "      <td>414.75</td>\n",
       "      <td>420.555</td>\n",
       "      <td>401543</td>\n",
       "      <td>21202921</td>\n",
       "    </tr>\n",
       "    <tr>\n",
       "      <th>2024-02-13</th>\n",
       "      <td>410.071</td>\n",
       "      <td>406.32</td>\n",
       "      <td>403.39</td>\n",
       "      <td>404.94</td>\n",
       "      <td>544613</td>\n",
       "      <td>27824936</td>\n",
       "    </tr>\n",
       "    <tr>\n",
       "      <th>2024-02-14</th>\n",
       "      <td>409.84</td>\n",
       "      <td>409.49</td>\n",
       "      <td>404.57</td>\n",
       "      <td>408.07</td>\n",
       "      <td>384410</td>\n",
       "      <td>20401190</td>\n",
       "    </tr>\n",
       "    <tr>\n",
       "      <th>2024-02-15</th>\n",
       "      <td>409.13</td>\n",
       "      <td>406.56</td>\n",
       "      <td>404.29</td>\n",
       "      <td>408.14</td>\n",
       "      <td>412617</td>\n",
       "      <td>21825525</td>\n",
       "    </tr>\n",
       "    <tr>\n",
       "      <th>2024-02-16</th>\n",
       "      <td>408.29</td>\n",
       "      <td>404.06</td>\n",
       "      <td>403.44</td>\n",
       "      <td>407.96</td>\n",
       "      <td>371675</td>\n",
       "      <td>22296495</td>\n",
       "    </tr>\n",
       "  </tbody>\n",
       "</table>\n",
       "<p>66 rows × 6 columns</p>\n",
       "</div>"
      ],
      "text/plain": [
       "MSFT.O         HIGH   CLOSE       LOW     OPEN   COUNT    VOLUME\n",
       "Date                                                            \n",
       "2023-11-13   368.47  366.68     365.9   368.22  340608  19986506\n",
       "2023-11-14   371.95  370.27  367.3454   371.01  409291  27683862\n",
       "2023-11-15   373.13  369.67    367.11   371.28  399874  26860095\n",
       "2023-11-16   376.35  376.17    370.18   370.96  405563  27182315\n",
       "2023-11-17   374.37  369.85     367.0   373.61  560742  40325371\n",
       "...             ...     ...       ...      ...     ...       ...\n",
       "2024-02-12   420.74  415.26    414.75  420.555  401543  21202921\n",
       "2024-02-13  410.071  406.32    403.39   404.94  544613  27824936\n",
       "2024-02-14   409.84  409.49    404.57   408.07  384410  20401190\n",
       "2024-02-15   409.13  406.56    404.29   408.14  412617  21825525\n",
       "2024-02-16   408.29  404.06    403.44   407.96  371675  22296495\n",
       "\n",
       "[66 rows x 6 columns]"
      ]
     },
     "execution_count": 40,
     "metadata": {},
     "output_type": "execute_result"
    }
   ],
   "source": [
    "df_ts = ek.get_timeseries([\"MSFT.O\"], start_date = d, end_date = today, interval=\"daily\", corax = 'unadjusted')\n",
    "df_ts"
   ]
  },
  {
   "cell_type": "code",
   "execution_count": 41,
   "id": "a7e4bc73",
   "metadata": {},
   "outputs": [
    {
     "data": {
      "text/plain": [
       "pandas.core.frame.DataFrame"
      ]
     },
     "execution_count": 41,
     "metadata": {},
     "output_type": "execute_result"
    }
   ],
   "source": [
    "type(df_ts)"
   ]
  },
  {
   "cell_type": "code",
   "execution_count": 42,
   "id": "8db9ac8a",
   "metadata": {},
   "outputs": [
    {
     "data": {
      "text/plain": [
       "MSFT.O\n",
       "HIGH      Float64\n",
       "CLOSE     Float64\n",
       "LOW       Float64\n",
       "OPEN      Float64\n",
       "COUNT       Int64\n",
       "VOLUME      Int64\n",
       "dtype: object"
      ]
     },
     "execution_count": 42,
     "metadata": {},
     "output_type": "execute_result"
    }
   ],
   "source": [
    "df_ts.dtypes"
   ]
  },
  {
   "cell_type": "code",
   "execution_count": 43,
   "id": "623e0e9b",
   "metadata": {},
   "outputs": [],
   "source": [
    "#df_ts.values"
   ]
  },
  {
   "cell_type": "code",
   "execution_count": 44,
   "id": "2383c8f0",
   "metadata": {},
   "outputs": [
    {
     "data": {
      "text/plain": [
       "Date\n",
       "2023-11-13    366.68\n",
       "2023-11-14    370.27\n",
       "2023-11-15    369.67\n",
       "2023-11-16    376.17\n",
       "2023-11-17    369.85\n",
       "               ...  \n",
       "2024-02-12    415.26\n",
       "2024-02-13    406.32\n",
       "2024-02-14    409.49\n",
       "2024-02-15    406.56\n",
       "2024-02-16    404.06\n",
       "Name: CLOSE, Length: 66, dtype: Float64"
      ]
     },
     "execution_count": 44,
     "metadata": {},
     "output_type": "execute_result"
    }
   ],
   "source": [
    "df_ts['CLOSE']"
   ]
  },
  {
   "cell_type": "code",
   "execution_count": 45,
   "id": "95ee8dd9",
   "metadata": {},
   "outputs": [
    {
     "data": {
      "text/html": [
       "<div>\n",
       "<style scoped>\n",
       "    .dataframe tbody tr th:only-of-type {\n",
       "        vertical-align: middle;\n",
       "    }\n",
       "\n",
       "    .dataframe tbody tr th {\n",
       "        vertical-align: top;\n",
       "    }\n",
       "\n",
       "    .dataframe thead th {\n",
       "        text-align: right;\n",
       "    }\n",
       "</style>\n",
       "<table border=\"1\" class=\"dataframe\">\n",
       "  <thead>\n",
       "    <tr style=\"text-align: right;\">\n",
       "      <th>MSFT.O</th>\n",
       "      <th>HIGH</th>\n",
       "      <th>CLOSE</th>\n",
       "      <th>LOW</th>\n",
       "      <th>OPEN</th>\n",
       "      <th>COUNT</th>\n",
       "      <th>VOLUME</th>\n",
       "    </tr>\n",
       "    <tr>\n",
       "      <th>Date</th>\n",
       "      <th></th>\n",
       "      <th></th>\n",
       "      <th></th>\n",
       "      <th></th>\n",
       "      <th></th>\n",
       "      <th></th>\n",
       "    </tr>\n",
       "  </thead>\n",
       "  <tbody>\n",
       "    <tr>\n",
       "      <th>2023-11-13</th>\n",
       "      <td>368.47</td>\n",
       "      <td>366.68</td>\n",
       "      <td>365.9</td>\n",
       "      <td>368.22</td>\n",
       "      <td>340608</td>\n",
       "      <td>19986506</td>\n",
       "    </tr>\n",
       "    <tr>\n",
       "      <th>2023-11-14</th>\n",
       "      <td>371.95</td>\n",
       "      <td>370.27</td>\n",
       "      <td>367.3454</td>\n",
       "      <td>371.01</td>\n",
       "      <td>409291</td>\n",
       "      <td>27683862</td>\n",
       "    </tr>\n",
       "    <tr>\n",
       "      <th>2023-11-15</th>\n",
       "      <td>373.13</td>\n",
       "      <td>369.67</td>\n",
       "      <td>367.11</td>\n",
       "      <td>371.28</td>\n",
       "      <td>399874</td>\n",
       "      <td>26860095</td>\n",
       "    </tr>\n",
       "    <tr>\n",
       "      <th>2023-11-16</th>\n",
       "      <td>376.35</td>\n",
       "      <td>376.17</td>\n",
       "      <td>370.18</td>\n",
       "      <td>370.96</td>\n",
       "      <td>405563</td>\n",
       "      <td>27182315</td>\n",
       "    </tr>\n",
       "    <tr>\n",
       "      <th>2023-11-17</th>\n",
       "      <td>374.37</td>\n",
       "      <td>369.85</td>\n",
       "      <td>367.0</td>\n",
       "      <td>373.61</td>\n",
       "      <td>560742</td>\n",
       "      <td>40325371</td>\n",
       "    </tr>\n",
       "    <tr>\n",
       "      <th>...</th>\n",
       "      <td>...</td>\n",
       "      <td>...</td>\n",
       "      <td>...</td>\n",
       "      <td>...</td>\n",
       "      <td>...</td>\n",
       "      <td>...</td>\n",
       "    </tr>\n",
       "    <tr>\n",
       "      <th>2024-02-12</th>\n",
       "      <td>420.74</td>\n",
       "      <td>415.26</td>\n",
       "      <td>414.75</td>\n",
       "      <td>420.555</td>\n",
       "      <td>401543</td>\n",
       "      <td>21202921</td>\n",
       "    </tr>\n",
       "    <tr>\n",
       "      <th>2024-02-13</th>\n",
       "      <td>410.071</td>\n",
       "      <td>406.32</td>\n",
       "      <td>403.39</td>\n",
       "      <td>404.94</td>\n",
       "      <td>544613</td>\n",
       "      <td>27824936</td>\n",
       "    </tr>\n",
       "    <tr>\n",
       "      <th>2024-02-14</th>\n",
       "      <td>409.84</td>\n",
       "      <td>409.49</td>\n",
       "      <td>404.57</td>\n",
       "      <td>408.07</td>\n",
       "      <td>384410</td>\n",
       "      <td>20401190</td>\n",
       "    </tr>\n",
       "    <tr>\n",
       "      <th>2024-02-15</th>\n",
       "      <td>409.13</td>\n",
       "      <td>406.56</td>\n",
       "      <td>404.29</td>\n",
       "      <td>408.14</td>\n",
       "      <td>412617</td>\n",
       "      <td>21825525</td>\n",
       "    </tr>\n",
       "    <tr>\n",
       "      <th>2024-02-16</th>\n",
       "      <td>408.29</td>\n",
       "      <td>404.06</td>\n",
       "      <td>403.44</td>\n",
       "      <td>407.96</td>\n",
       "      <td>371675</td>\n",
       "      <td>22296495</td>\n",
       "    </tr>\n",
       "  </tbody>\n",
       "</table>\n",
       "<p>66 rows × 6 columns</p>\n",
       "</div>"
      ],
      "text/plain": [
       "MSFT.O         HIGH   CLOSE       LOW     OPEN   COUNT    VOLUME\n",
       "Date                                                            \n",
       "2023-11-13   368.47  366.68     365.9   368.22  340608  19986506\n",
       "2023-11-14   371.95  370.27  367.3454   371.01  409291  27683862\n",
       "2023-11-15   373.13  369.67    367.11   371.28  399874  26860095\n",
       "2023-11-16   376.35  376.17    370.18   370.96  405563  27182315\n",
       "2023-11-17   374.37  369.85     367.0   373.61  560742  40325371\n",
       "...             ...     ...       ...      ...     ...       ...\n",
       "2024-02-12   420.74  415.26    414.75  420.555  401543  21202921\n",
       "2024-02-13  410.071  406.32    403.39   404.94  544613  27824936\n",
       "2024-02-14   409.84  409.49    404.57   408.07  384410  20401190\n",
       "2024-02-15   409.13  406.56    404.29   408.14  412617  21825525\n",
       "2024-02-16   408.29  404.06    403.44   407.96  371675  22296495\n",
       "\n",
       "[66 rows x 6 columns]"
      ]
     },
     "execution_count": 45,
     "metadata": {},
     "output_type": "execute_result"
    }
   ],
   "source": [
    "#podemos usar la seleccion boleeana dentro del pandas.DataFrame\n",
    "df_ts[(df_ts['HIGH'] > 250)]"
   ]
  },
  {
   "cell_type": "code",
   "execution_count": 46,
   "id": "6b3ac04a",
   "metadata": {},
   "outputs": [
    {
     "data": {
      "text/plain": [
       "DatetimeIndex(['2023-11-13', '2023-11-14', '2023-11-15', '2023-11-16',\n",
       "               '2023-11-17', '2023-11-20', '2023-11-21', '2023-11-22',\n",
       "               '2023-11-24', '2023-11-27', '2023-11-28', '2023-11-29',\n",
       "               '2023-11-30', '2023-12-01', '2023-12-04', '2023-12-05',\n",
       "               '2023-12-06', '2023-12-07', '2023-12-08', '2023-12-11',\n",
       "               '2023-12-12', '2023-12-13', '2023-12-14', '2023-12-15',\n",
       "               '2023-12-18', '2023-12-19', '2023-12-20', '2023-12-21',\n",
       "               '2023-12-22', '2023-12-26', '2023-12-27', '2023-12-28',\n",
       "               '2023-12-29', '2024-01-02', '2024-01-03', '2024-01-04',\n",
       "               '2024-01-05', '2024-01-08', '2024-01-09', '2024-01-10',\n",
       "               '2024-01-11', '2024-01-12', '2024-01-16', '2024-01-17',\n",
       "               '2024-01-18', '2024-01-19', '2024-01-22', '2024-01-23',\n",
       "               '2024-01-24', '2024-01-25', '2024-01-26', '2024-01-29',\n",
       "               '2024-01-30', '2024-01-31', '2024-02-01', '2024-02-02',\n",
       "               '2024-02-05', '2024-02-06', '2024-02-07', '2024-02-08',\n",
       "               '2024-02-09', '2024-02-12', '2024-02-13', '2024-02-14',\n",
       "               '2024-02-15', '2024-02-16'],\n",
       "              dtype='datetime64[s]', name='Date', freq=None)"
      ]
     },
     "execution_count": 46,
     "metadata": {},
     "output_type": "execute_result"
    }
   ],
   "source": [
    "df_ts.index"
   ]
  },
  {
   "cell_type": "code",
   "execution_count": 47,
   "id": "235318b7",
   "metadata": {},
   "outputs": [
    {
     "name": "stdout",
     "output_type": "stream",
     "text": [
      "2024-02-07\n"
     ]
    }
   ],
   "source": [
    "today_date = dt.date.today()\n",
    "d = today_date - dt.timedelta(days=12)\n",
    "print(d)"
   ]
  },
  {
   "cell_type": "code",
   "execution_count": 48,
   "id": "86922fe8",
   "metadata": {},
   "outputs": [
    {
     "data": {
      "text/html": [
       "<div>\n",
       "<style scoped>\n",
       "    .dataframe tbody tr th:only-of-type {\n",
       "        vertical-align: middle;\n",
       "    }\n",
       "\n",
       "    .dataframe tbody tr th {\n",
       "        vertical-align: top;\n",
       "    }\n",
       "\n",
       "    .dataframe thead th {\n",
       "        text-align: right;\n",
       "    }\n",
       "</style>\n",
       "<table border=\"1\" class=\"dataframe\">\n",
       "  <thead>\n",
       "    <tr style=\"text-align: right;\">\n",
       "      <th>MSFT.O</th>\n",
       "      <th>HIGH</th>\n",
       "      <th>CLOSE</th>\n",
       "      <th>LOW</th>\n",
       "      <th>OPEN</th>\n",
       "      <th>COUNT</th>\n",
       "      <th>VOLUME</th>\n",
       "    </tr>\n",
       "    <tr>\n",
       "      <th>Date</th>\n",
       "      <th></th>\n",
       "      <th></th>\n",
       "      <th></th>\n",
       "      <th></th>\n",
       "      <th></th>\n",
       "      <th></th>\n",
       "    </tr>\n",
       "  </thead>\n",
       "  <tbody>\n",
       "    <tr>\n",
       "      <th>2023-11-14</th>\n",
       "      <td>371.95</td>\n",
       "      <td>370.27</td>\n",
       "      <td>367.3454</td>\n",
       "      <td>371.01</td>\n",
       "      <td>409291</td>\n",
       "      <td>27683862</td>\n",
       "    </tr>\n",
       "    <tr>\n",
       "      <th>2023-11-15</th>\n",
       "      <td>373.13</td>\n",
       "      <td>369.67</td>\n",
       "      <td>367.11</td>\n",
       "      <td>371.28</td>\n",
       "      <td>399874</td>\n",
       "      <td>26860095</td>\n",
       "    </tr>\n",
       "    <tr>\n",
       "      <th>2023-11-16</th>\n",
       "      <td>376.35</td>\n",
       "      <td>376.17</td>\n",
       "      <td>370.18</td>\n",
       "      <td>370.96</td>\n",
       "      <td>405563</td>\n",
       "      <td>27182315</td>\n",
       "    </tr>\n",
       "  </tbody>\n",
       "</table>\n",
       "</div>"
      ],
      "text/plain": [
       "MSFT.O        HIGH   CLOSE       LOW    OPEN   COUNT    VOLUME\n",
       "Date                                                          \n",
       "2023-11-14  371.95  370.27  367.3454  371.01  409291  27683862\n",
       "2023-11-15  373.13  369.67    367.11  371.28  399874  26860095\n",
       "2023-11-16  376.35  376.17    370.18  370.96  405563  27182315"
      ]
     },
     "execution_count": 48,
     "metadata": {},
     "output_type": "execute_result"
    }
   ],
   "source": [
    "#Podemos seleccionar una sola fila, como lo haciamos en numpy, de la siguiente manera:\n",
    "df_ts.iloc[1:4]"
   ]
  },
  {
   "cell_type": "code",
   "execution_count": 49,
   "id": "3ab4c2cd",
   "metadata": {},
   "outputs": [
    {
     "data": {
      "text/html": [
       "<div>\n",
       "<style scoped>\n",
       "    .dataframe tbody tr th:only-of-type {\n",
       "        vertical-align: middle;\n",
       "    }\n",
       "\n",
       "    .dataframe tbody tr th {\n",
       "        vertical-align: top;\n",
       "    }\n",
       "\n",
       "    .dataframe thead th {\n",
       "        text-align: right;\n",
       "    }\n",
       "</style>\n",
       "<table border=\"1\" class=\"dataframe\">\n",
       "  <thead>\n",
       "    <tr style=\"text-align: right;\">\n",
       "      <th>MSFT.O</th>\n",
       "      <th>HIGH</th>\n",
       "      <th>CLOSE</th>\n",
       "      <th>LOW</th>\n",
       "      <th>OPEN</th>\n",
       "      <th>COUNT</th>\n",
       "      <th>VOLUME</th>\n",
       "    </tr>\n",
       "    <tr>\n",
       "      <th>Date</th>\n",
       "      <th></th>\n",
       "      <th></th>\n",
       "      <th></th>\n",
       "      <th></th>\n",
       "      <th></th>\n",
       "      <th></th>\n",
       "    </tr>\n",
       "  </thead>\n",
       "  <tbody>\n",
       "    <tr>\n",
       "      <th>2024-02-07</th>\n",
       "      <td>414.3</td>\n",
       "      <td>414.05</td>\n",
       "      <td>407.4</td>\n",
       "      <td>407.44</td>\n",
       "      <td>352956</td>\n",
       "      <td>22340526</td>\n",
       "    </tr>\n",
       "  </tbody>\n",
       "</table>\n",
       "</div>"
      ],
      "text/plain": [
       "MSFT.O       HIGH   CLOSE    LOW    OPEN   COUNT    VOLUME\n",
       "Date                                                      \n",
       "2024-02-07  414.3  414.05  407.4  407.44  352956  22340526"
      ]
     },
     "execution_count": 49,
     "metadata": {},
     "output_type": "execute_result"
    }
   ],
   "source": [
    "#El atributo pandas.DateFrame.loc nos permite indexar las filas en vez de las columnas\n",
    "df_ts.loc[[d]]"
   ]
  },
  {
   "cell_type": "code",
   "execution_count": 50,
   "id": "720a7e01",
   "metadata": {},
   "outputs": [
    {
     "data": {
      "text/html": [
       "<div>\n",
       "<style scoped>\n",
       "    .dataframe tbody tr th:only-of-type {\n",
       "        vertical-align: middle;\n",
       "    }\n",
       "\n",
       "    .dataframe tbody tr th {\n",
       "        vertical-align: top;\n",
       "    }\n",
       "\n",
       "    .dataframe thead th {\n",
       "        text-align: right;\n",
       "    }\n",
       "</style>\n",
       "<table border=\"1\" class=\"dataframe\">\n",
       "  <thead>\n",
       "    <tr style=\"text-align: right;\">\n",
       "      <th>MSFT.O</th>\n",
       "      <th>HIGH</th>\n",
       "      <th>CLOSE</th>\n",
       "      <th>LOW</th>\n",
       "      <th>OPEN</th>\n",
       "      <th>COUNT</th>\n",
       "      <th>VOLUME</th>\n",
       "    </tr>\n",
       "    <tr>\n",
       "      <th>Date</th>\n",
       "      <th></th>\n",
       "      <th></th>\n",
       "      <th></th>\n",
       "      <th></th>\n",
       "      <th></th>\n",
       "      <th></th>\n",
       "    </tr>\n",
       "  </thead>\n",
       "  <tbody>\n",
       "    <tr>\n",
       "      <th>2024-02-05</th>\n",
       "      <td>411.16</td>\n",
       "      <td>405.65</td>\n",
       "      <td>403.99</td>\n",
       "      <td>409.9</td>\n",
       "      <td>455599</td>\n",
       "      <td>25352286</td>\n",
       "    </tr>\n",
       "    <tr>\n",
       "      <th>2024-02-06</th>\n",
       "      <td>407.97</td>\n",
       "      <td>405.49</td>\n",
       "      <td>402.91</td>\n",
       "      <td>405.88</td>\n",
       "      <td>342464</td>\n",
       "      <td>18382624</td>\n",
       "    </tr>\n",
       "    <tr>\n",
       "      <th>2024-02-07</th>\n",
       "      <td>414.3</td>\n",
       "      <td>414.05</td>\n",
       "      <td>407.4</td>\n",
       "      <td>407.44</td>\n",
       "      <td>352956</td>\n",
       "      <td>22340526</td>\n",
       "    </tr>\n",
       "    <tr>\n",
       "      <th>2024-02-08</th>\n",
       "      <td>415.56</td>\n",
       "      <td>414.11</td>\n",
       "      <td>412.53</td>\n",
       "      <td>414.05</td>\n",
       "      <td>323852</td>\n",
       "      <td>21225257</td>\n",
       "    </tr>\n",
       "    <tr>\n",
       "      <th>2024-02-09</th>\n",
       "      <td>420.82</td>\n",
       "      <td>420.55</td>\n",
       "      <td>415.09</td>\n",
       "      <td>415.25</td>\n",
       "      <td>369747</td>\n",
       "      <td>22032844</td>\n",
       "    </tr>\n",
       "    <tr>\n",
       "      <th>2024-02-12</th>\n",
       "      <td>420.74</td>\n",
       "      <td>415.26</td>\n",
       "      <td>414.75</td>\n",
       "      <td>420.555</td>\n",
       "      <td>401543</td>\n",
       "      <td>21202921</td>\n",
       "    </tr>\n",
       "    <tr>\n",
       "      <th>2024-02-13</th>\n",
       "      <td>410.071</td>\n",
       "      <td>406.32</td>\n",
       "      <td>403.39</td>\n",
       "      <td>404.94</td>\n",
       "      <td>544613</td>\n",
       "      <td>27824936</td>\n",
       "    </tr>\n",
       "    <tr>\n",
       "      <th>2024-02-14</th>\n",
       "      <td>409.84</td>\n",
       "      <td>409.49</td>\n",
       "      <td>404.57</td>\n",
       "      <td>408.07</td>\n",
       "      <td>384410</td>\n",
       "      <td>20401190</td>\n",
       "    </tr>\n",
       "    <tr>\n",
       "      <th>2024-02-15</th>\n",
       "      <td>409.13</td>\n",
       "      <td>406.56</td>\n",
       "      <td>404.29</td>\n",
       "      <td>408.14</td>\n",
       "      <td>412617</td>\n",
       "      <td>21825525</td>\n",
       "    </tr>\n",
       "    <tr>\n",
       "      <th>2024-02-16</th>\n",
       "      <td>408.29</td>\n",
       "      <td>404.06</td>\n",
       "      <td>403.44</td>\n",
       "      <td>407.96</td>\n",
       "      <td>371675</td>\n",
       "      <td>22296495</td>\n",
       "    </tr>\n",
       "  </tbody>\n",
       "</table>\n",
       "</div>"
      ],
      "text/plain": [
       "MSFT.O         HIGH   CLOSE     LOW     OPEN   COUNT    VOLUME\n",
       "Date                                                          \n",
       "2024-02-05   411.16  405.65  403.99    409.9  455599  25352286\n",
       "2024-02-06   407.97  405.49  402.91   405.88  342464  18382624\n",
       "2024-02-07    414.3  414.05   407.4   407.44  352956  22340526\n",
       "2024-02-08   415.56  414.11  412.53   414.05  323852  21225257\n",
       "2024-02-09   420.82  420.55  415.09   415.25  369747  22032844\n",
       "2024-02-12   420.74  415.26  414.75  420.555  401543  21202921\n",
       "2024-02-13  410.071  406.32  403.39   404.94  544613  27824936\n",
       "2024-02-14   409.84  409.49  404.57   408.07  384410  20401190\n",
       "2024-02-15   409.13  406.56  404.29   408.14  412617  21825525\n",
       "2024-02-16   408.29  404.06  403.44   407.96  371675  22296495"
      ]
     },
     "execution_count": 50,
     "metadata": {},
     "output_type": "execute_result"
    }
   ],
   "source": [
    "df_ts[-10:]"
   ]
  },
  {
   "cell_type": "markdown",
   "id": "80e047f0",
   "metadata": {},
   "source": [
    "# Estadística básica"
   ]
  },
  {
   "cell_type": "code",
   "execution_count": 51,
   "id": "5063a2fb",
   "metadata": {},
   "outputs": [
    {
     "data": {
      "text/plain": [
       "['BASFn.DE',\n",
       " 'IFXGn.DE',\n",
       " 'SIEGn.DE',\n",
       " 'EONGn.DE',\n",
       " 'DBKGn.DE',\n",
       " 'SATG_p.DE',\n",
       " 'SAPG.DE',\n",
       " 'BAYGn.DE',\n",
       " 'RWEG.DE',\n",
       " '1COV.DE']"
      ]
     },
     "execution_count": 51,
     "metadata": {},
     "output_type": "execute_result"
    }
   ],
   "source": [
    "dax_corto = dax['Instrument'][0:10].tolist()\n",
    "dax_corto"
   ]
  },
  {
   "cell_type": "code",
   "execution_count": 52,
   "id": "c79a93b7",
   "metadata": {},
   "outputs": [
    {
     "name": "stdout",
     "output_type": "stream",
     "text": [
      "2024-02-19 15:22:21.923331 2023-11-11 15:22:21.923331\n"
     ]
    }
   ],
   "source": [
    "today = dt.datetime.today()\n",
    "d = today - dt.timedelta(days=100)\n",
    "print(today, d)"
   ]
  },
  {
   "cell_type": "code",
   "execution_count": 53,
   "id": "8d753be3",
   "metadata": {},
   "outputs": [
    {
     "data": {
      "text/html": [
       "<div>\n",
       "<style scoped>\n",
       "    .dataframe tbody tr th:only-of-type {\n",
       "        vertical-align: middle;\n",
       "    }\n",
       "\n",
       "    .dataframe tbody tr th {\n",
       "        vertical-align: top;\n",
       "    }\n",
       "\n",
       "    .dataframe thead th {\n",
       "        text-align: right;\n",
       "    }\n",
       "</style>\n",
       "<table border=\"1\" class=\"dataframe\">\n",
       "  <thead>\n",
       "    <tr style=\"text-align: right;\">\n",
       "      <th>CLOSE</th>\n",
       "      <th>BASFn.DE</th>\n",
       "      <th>IFXGn.DE</th>\n",
       "      <th>SIEGn.DE</th>\n",
       "      <th>EONGn.DE</th>\n",
       "      <th>DBKGn.DE</th>\n",
       "      <th>SATG_p.DE</th>\n",
       "      <th>SAPG.DE</th>\n",
       "      <th>BAYGn.DE</th>\n",
       "      <th>RWEG.DE</th>\n",
       "      <th>1COV.DE</th>\n",
       "    </tr>\n",
       "    <tr>\n",
       "      <th>Date</th>\n",
       "      <th></th>\n",
       "      <th></th>\n",
       "      <th></th>\n",
       "      <th></th>\n",
       "      <th></th>\n",
       "      <th></th>\n",
       "      <th></th>\n",
       "      <th></th>\n",
       "      <th></th>\n",
       "      <th></th>\n",
       "    </tr>\n",
       "  </thead>\n",
       "  <tbody>\n",
       "    <tr>\n",
       "      <th>2023-11-13</th>\n",
       "      <td>44.085</td>\n",
       "      <td>29.625</td>\n",
       "      <td>132.9</td>\n",
       "      <td>11.31</td>\n",
       "      <td>10.606</td>\n",
       "      <td>246.7</td>\n",
       "      <td>135.42</td>\n",
       "      <td>40.25</td>\n",
       "      <td>36.31</td>\n",
       "      <td>47.15</td>\n",
       "    </tr>\n",
       "    <tr>\n",
       "      <th>2023-11-14</th>\n",
       "      <td>44.75</td>\n",
       "      <td>30.605</td>\n",
       "      <td>136.56</td>\n",
       "      <td>11.43</td>\n",
       "      <td>10.724</td>\n",
       "      <td>266.5</td>\n",
       "      <td>136.26</td>\n",
       "      <td>40.64</td>\n",
       "      <td>37.66</td>\n",
       "      <td>48.12</td>\n",
       "    </tr>\n",
       "    <tr>\n",
       "      <th>2023-11-15</th>\n",
       "      <td>45.045</td>\n",
       "      <td>33.57</td>\n",
       "      <td>138.9</td>\n",
       "      <td>11.285</td>\n",
       "      <td>10.92</td>\n",
       "      <td>273.0</td>\n",
       "      <td>137.26</td>\n",
       "      <td>41.09</td>\n",
       "      <td>38.02</td>\n",
       "      <td>48.6</td>\n",
       "    </tr>\n",
       "    <tr>\n",
       "      <th>2023-11-16</th>\n",
       "      <td>43.93</td>\n",
       "      <td>33.96</td>\n",
       "      <td>146.82</td>\n",
       "      <td>11.515</td>\n",
       "      <td>10.886</td>\n",
       "      <td>269.1</td>\n",
       "      <td>136.44</td>\n",
       "      <td>40.6</td>\n",
       "      <td>38.23</td>\n",
       "      <td>48.5</td>\n",
       "    </tr>\n",
       "    <tr>\n",
       "      <th>2023-11-17</th>\n",
       "      <td>44.285</td>\n",
       "      <td>33.58</td>\n",
       "      <td>148.46</td>\n",
       "      <td>11.555</td>\n",
       "      <td>11.172</td>\n",
       "      <td>273.8</td>\n",
       "      <td>137.22</td>\n",
       "      <td>41.45</td>\n",
       "      <td>38.34</td>\n",
       "      <td>48.0</td>\n",
       "    </tr>\n",
       "    <tr>\n",
       "      <th>...</th>\n",
       "      <td>...</td>\n",
       "      <td>...</td>\n",
       "      <td>...</td>\n",
       "      <td>...</td>\n",
       "      <td>...</td>\n",
       "      <td>...</td>\n",
       "      <td>...</td>\n",
       "      <td>...</td>\n",
       "      <td>...</td>\n",
       "      <td>...</td>\n",
       "    </tr>\n",
       "    <tr>\n",
       "      <th>2024-02-13</th>\n",
       "      <td>45.06</td>\n",
       "      <td>32.565</td>\n",
       "      <td>163.68</td>\n",
       "      <td>11.875</td>\n",
       "      <td>11.876</td>\n",
       "      <td>329.9</td>\n",
       "      <td>162.76</td>\n",
       "      <td>27.91</td>\n",
       "      <td>32.19</td>\n",
       "      <td>48.7</td>\n",
       "    </tr>\n",
       "    <tr>\n",
       "      <th>2024-02-14</th>\n",
       "      <td>45.57</td>\n",
       "      <td>32.995</td>\n",
       "      <td>165.04</td>\n",
       "      <td>11.77</td>\n",
       "      <td>11.93</td>\n",
       "      <td>329.4</td>\n",
       "      <td>164.88</td>\n",
       "      <td>28.07</td>\n",
       "      <td>31.84</td>\n",
       "      <td>48.75</td>\n",
       "    </tr>\n",
       "    <tr>\n",
       "      <th>2024-02-15</th>\n",
       "      <td>46.085</td>\n",
       "      <td>33.34</td>\n",
       "      <td>167.0</td>\n",
       "      <td>11.855</td>\n",
       "      <td>12.012</td>\n",
       "      <td>331.6</td>\n",
       "      <td>164.38</td>\n",
       "      <td>28.055</td>\n",
       "      <td>32.08</td>\n",
       "      <td>48.78</td>\n",
       "    </tr>\n",
       "    <tr>\n",
       "      <th>2024-02-16</th>\n",
       "      <td>46.59</td>\n",
       "      <td>33.46</td>\n",
       "      <td>169.22</td>\n",
       "      <td>11.755</td>\n",
       "      <td>11.982</td>\n",
       "      <td>337.7</td>\n",
       "      <td>165.08</td>\n",
       "      <td>28.61</td>\n",
       "      <td>31.8</td>\n",
       "      <td>48.17</td>\n",
       "    </tr>\n",
       "    <tr>\n",
       "      <th>2024-02-19</th>\n",
       "      <td>45.775</td>\n",
       "      <td>33.14</td>\n",
       "      <td>169.58</td>\n",
       "      <td>11.84</td>\n",
       "      <td>11.996</td>\n",
       "      <td>331.6</td>\n",
       "      <td>164.24</td>\n",
       "      <td>28.9</td>\n",
       "      <td>31.21</td>\n",
       "      <td>46.98</td>\n",
       "    </tr>\n",
       "  </tbody>\n",
       "</table>\n",
       "<p>68 rows × 10 columns</p>\n",
       "</div>"
      ],
      "text/plain": [
       "CLOSE       BASFn.DE  IFXGn.DE  SIEGn.DE  EONGn.DE  DBKGn.DE  SATG_p.DE   \n",
       "Date                                                                      \n",
       "2023-11-13    44.085    29.625     132.9     11.31    10.606      246.7  \\\n",
       "2023-11-14     44.75    30.605    136.56     11.43    10.724      266.5   \n",
       "2023-11-15    45.045     33.57     138.9    11.285     10.92      273.0   \n",
       "2023-11-16     43.93     33.96    146.82    11.515    10.886      269.1   \n",
       "2023-11-17    44.285     33.58    148.46    11.555    11.172      273.8   \n",
       "...              ...       ...       ...       ...       ...        ...   \n",
       "2024-02-13     45.06    32.565    163.68    11.875    11.876      329.9   \n",
       "2024-02-14     45.57    32.995    165.04     11.77     11.93      329.4   \n",
       "2024-02-15    46.085     33.34     167.0    11.855    12.012      331.6   \n",
       "2024-02-16     46.59     33.46    169.22    11.755    11.982      337.7   \n",
       "2024-02-19    45.775     33.14    169.58     11.84    11.996      331.6   \n",
       "\n",
       "CLOSE       SAPG.DE  BAYGn.DE  RWEG.DE  1COV.DE  \n",
       "Date                                             \n",
       "2023-11-13   135.42     40.25    36.31    47.15  \n",
       "2023-11-14   136.26     40.64    37.66    48.12  \n",
       "2023-11-15   137.26     41.09    38.02     48.6  \n",
       "2023-11-16   136.44      40.6    38.23     48.5  \n",
       "2023-11-17   137.22     41.45    38.34     48.0  \n",
       "...             ...       ...      ...      ...  \n",
       "2024-02-13   162.76     27.91    32.19     48.7  \n",
       "2024-02-14   164.88     28.07    31.84    48.75  \n",
       "2024-02-15   164.38    28.055    32.08    48.78  \n",
       "2024-02-16   165.08     28.61     31.8    48.17  \n",
       "2024-02-19   164.24      28.9    31.21    46.98  \n",
       "\n",
       "[68 rows x 10 columns]"
      ]
     },
     "execution_count": 53,
     "metadata": {},
     "output_type": "execute_result"
    }
   ],
   "source": [
    "df = ek.get_timeseries(dax_corto, start_date = d, end_date = today, fields='CLOSE', interval=\"daily\")\n",
    "df"
   ]
  },
  {
   "cell_type": "code",
   "execution_count": 54,
   "id": "b4c35f3d",
   "metadata": {},
   "outputs": [
    {
     "data": {
      "text/html": [
       "<div>\n",
       "<style scoped>\n",
       "    .dataframe tbody tr th:only-of-type {\n",
       "        vertical-align: middle;\n",
       "    }\n",
       "\n",
       "    .dataframe tbody tr th {\n",
       "        vertical-align: top;\n",
       "    }\n",
       "\n",
       "    .dataframe thead th {\n",
       "        text-align: right;\n",
       "    }\n",
       "</style>\n",
       "<table border=\"1\" class=\"dataframe\">\n",
       "  <thead>\n",
       "    <tr style=\"text-align: right;\">\n",
       "      <th>CLOSE</th>\n",
       "      <th>BASFn.DE</th>\n",
       "      <th>IFXGn.DE</th>\n",
       "      <th>SIEGn.DE</th>\n",
       "      <th>EONGn.DE</th>\n",
       "      <th>DBKGn.DE</th>\n",
       "      <th>SATG_p.DE</th>\n",
       "      <th>SAPG.DE</th>\n",
       "      <th>BAYGn.DE</th>\n",
       "      <th>RWEG.DE</th>\n",
       "      <th>1COV.DE</th>\n",
       "    </tr>\n",
       "  </thead>\n",
       "  <tbody>\n",
       "    <tr>\n",
       "      <th>count</th>\n",
       "      <td>68.0</td>\n",
       "      <td>68.0</td>\n",
       "      <td>68.0</td>\n",
       "      <td>68.0</td>\n",
       "      <td>68.0</td>\n",
       "      <td>68.0</td>\n",
       "      <td>68.0</td>\n",
       "      <td>68.0</td>\n",
       "      <td>68.0</td>\n",
       "      <td>68.0</td>\n",
       "    </tr>\n",
       "    <tr>\n",
       "      <th>mean</th>\n",
       "      <td>45.289191</td>\n",
       "      <td>34.880662</td>\n",
       "      <td>160.933235</td>\n",
       "      <td>12.171985</td>\n",
       "      <td>11.865588</td>\n",
       "      <td>313.25</td>\n",
       "      <td>148.333824</td>\n",
       "      <td>32.420956</td>\n",
       "      <td>37.788088</td>\n",
       "      <td>49.655441</td>\n",
       "    </tr>\n",
       "    <tr>\n",
       "      <th>std</th>\n",
       "      <td>1.810791</td>\n",
       "      <td>1.915444</td>\n",
       "      <td>8.328542</td>\n",
       "      <td>0.362951</td>\n",
       "      <td>0.511974</td>\n",
       "      <td>24.723</td>\n",
       "      <td>10.558682</td>\n",
       "      <td>3.165261</td>\n",
       "      <td>3.122013</td>\n",
       "      <td>1.993049</td>\n",
       "    </tr>\n",
       "    <tr>\n",
       "      <th>min</th>\n",
       "      <td>42.685</td>\n",
       "      <td>29.625</td>\n",
       "      <td>132.9</td>\n",
       "      <td>11.285</td>\n",
       "      <td>10.606</td>\n",
       "      <td>246.7</td>\n",
       "      <td>135.42</td>\n",
       "      <td>27.745</td>\n",
       "      <td>31.21</td>\n",
       "      <td>46.98</td>\n",
       "    </tr>\n",
       "    <tr>\n",
       "      <th>25%</th>\n",
       "      <td>43.9975</td>\n",
       "      <td>33.595</td>\n",
       "      <td>158.89</td>\n",
       "      <td>11.95375</td>\n",
       "      <td>11.569</td>\n",
       "      <td>294.425</td>\n",
       "      <td>139.79</td>\n",
       "      <td>30.72625</td>\n",
       "      <td>35.8375</td>\n",
       "      <td>48.09</td>\n",
       "    </tr>\n",
       "    <tr>\n",
       "      <th>50%</th>\n",
       "      <td>44.8</td>\n",
       "      <td>34.31</td>\n",
       "      <td>163.0</td>\n",
       "      <td>12.225</td>\n",
       "      <td>11.939</td>\n",
       "      <td>315.75</td>\n",
       "      <td>144.84</td>\n",
       "      <td>32.39</td>\n",
       "      <td>38.35</td>\n",
       "      <td>48.92</td>\n",
       "    </tr>\n",
       "    <tr>\n",
       "      <th>75%</th>\n",
       "      <td>46.21125</td>\n",
       "      <td>36.20875</td>\n",
       "      <td>167.235</td>\n",
       "      <td>12.4525</td>\n",
       "      <td>12.2125</td>\n",
       "      <td>335.025</td>\n",
       "      <td>160.76</td>\n",
       "      <td>33.57</td>\n",
       "      <td>40.5275</td>\n",
       "      <td>51.25</td>\n",
       "    </tr>\n",
       "    <tr>\n",
       "      <th>max</th>\n",
       "      <td>49.07</td>\n",
       "      <td>38.915</td>\n",
       "      <td>169.92</td>\n",
       "      <td>12.785</td>\n",
       "      <td>12.826</td>\n",
       "      <td>349.3</td>\n",
       "      <td>168.32</td>\n",
       "      <td>41.45</td>\n",
       "      <td>41.74</td>\n",
       "      <td>53.74</td>\n",
       "    </tr>\n",
       "  </tbody>\n",
       "</table>\n",
       "</div>"
      ],
      "text/plain": [
       "CLOSE   BASFn.DE   IFXGn.DE    SIEGn.DE   EONGn.DE   DBKGn.DE  SATG_p.DE   \n",
       "count       68.0       68.0        68.0       68.0       68.0       68.0  \\\n",
       "mean   45.289191  34.880662  160.933235  12.171985  11.865588     313.25   \n",
       "std     1.810791   1.915444    8.328542   0.362951   0.511974     24.723   \n",
       "min       42.685     29.625       132.9     11.285     10.606      246.7   \n",
       "25%      43.9975     33.595      158.89   11.95375     11.569    294.425   \n",
       "50%         44.8      34.31       163.0     12.225     11.939     315.75   \n",
       "75%     46.21125   36.20875     167.235    12.4525    12.2125    335.025   \n",
       "max        49.07     38.915      169.92     12.785     12.826      349.3   \n",
       "\n",
       "CLOSE     SAPG.DE   BAYGn.DE    RWEG.DE    1COV.DE  \n",
       "count        68.0       68.0       68.0       68.0  \n",
       "mean   148.333824  32.420956  37.788088  49.655441  \n",
       "std     10.558682   3.165261   3.122013   1.993049  \n",
       "min        135.42     27.745      31.21      46.98  \n",
       "25%        139.79   30.72625    35.8375      48.09  \n",
       "50%        144.84      32.39      38.35      48.92  \n",
       "75%        160.76      33.57    40.5275      51.25  \n",
       "max        168.32      41.45      41.74      53.74  "
      ]
     },
     "execution_count": 54,
     "metadata": {},
     "output_type": "execute_result"
    }
   ],
   "source": [
    "df.describe()"
   ]
  },
  {
   "cell_type": "code",
   "execution_count": 55,
   "id": "9f4b2137",
   "metadata": {},
   "outputs": [
    {
     "name": "stdout",
     "output_type": "stream",
     "text": [
      "CLOSE      BASFn.DE  IFXGn.DE  SIEGn.DE  EONGn.DE  DBKGn.DE  SATG_p.DE   \n",
      "CLOSE                                                                    \n",
      "BASFn.DE   1.000000  0.623549  0.476446  0.221595  0.539773   0.632935  \\\n",
      "IFXGn.DE   0.623549  1.000000  0.450871  0.455913  0.431569   0.380223   \n",
      "SIEGn.DE   0.476446  0.450871  1.000000  0.646819  0.789981   0.877070   \n",
      "EONGn.DE   0.221595  0.455913  0.646819  1.000000  0.722990   0.471650   \n",
      "DBKGn.DE   0.539773  0.431569  0.789981  0.722990  1.000000   0.739727   \n",
      "SATG_p.DE  0.632935  0.380223  0.877070  0.471650  0.739727   1.000000   \n",
      "SAPG.DE   -0.254333 -0.348004  0.510986  0.078676  0.187064   0.440902   \n",
      "BAYGn.DE   0.057108 -0.068148 -0.652591 -0.261112 -0.307356  -0.590024   \n",
      "RWEG.DE    0.359092  0.691313 -0.173539  0.280064  0.065250  -0.205760   \n",
      "1COV.DE    0.804633  0.821001  0.339182  0.370119  0.446034   0.409469   \n",
      "\n",
      "CLOSE       SAPG.DE  BAYGn.DE   RWEG.DE   1COV.DE  \n",
      "CLOSE                                              \n",
      "BASFn.DE  -0.254333  0.057108  0.359092  0.804633  \n",
      "IFXGn.DE  -0.348004 -0.068148  0.691313  0.821001  \n",
      "SIEGn.DE   0.510986 -0.652591 -0.173539  0.339182  \n",
      "EONGn.DE   0.078676 -0.261112  0.280064  0.370119  \n",
      "DBKGn.DE   0.187064 -0.307356  0.065250  0.446034  \n",
      "SATG_p.DE  0.440902 -0.590024 -0.205760  0.409469  \n",
      "SAPG.DE    1.000000 -0.766790 -0.862785 -0.494420  \n",
      "BAYGn.DE  -0.766790  1.000000  0.507645  0.127072  \n",
      "RWEG.DE   -0.862785  0.507645  1.000000  0.701490  \n",
      "1COV.DE   -0.494420  0.127072  0.701490  1.000000  \n"
     ]
    }
   ],
   "source": [
    "correlacion = df[dax_corto].corr()\n",
    "print(correlacion)"
   ]
  },
  {
   "cell_type": "code",
   "execution_count": 56,
   "id": "9fc5e2f0",
   "metadata": {},
   "outputs": [
    {
     "data": {
      "text/plain": [
       "<Axes: xlabel='CLOSE', ylabel='CLOSE'>"
      ]
     },
     "execution_count": 56,
     "metadata": {},
     "output_type": "execute_result"
    },
    {
     "data": {
      "image/png": "[encoded data removed]",
      "text/plain": [
       "<Figure size 640x480 with 2 Axes>"
      ]
     },
     "metadata": {},
     "output_type": "display_data"
    }
   ],
   "source": [
    "import seaborn as sns\n",
    "sns.heatmap(df[dax_corto].corr(), annot = True, fmt='.2g',cmap= 'coolwarm')"
   ]
  },
  {
   "cell_type": "markdown",
   "id": "843c63ce",
   "metadata": {},
   "source": [
    "# Bibliografía"
   ]
  },
  {
   "cell_type": "markdown",
   "id": "733cbe37",
   "metadata": {},
   "source": [
    "Python for Finance, 2nd Edition. December 2018 O'Reilly Media, Inc.\n",
    "Numpy | ndarray Last Updated : 28 Jun, 2021 https://www.geeksforgeeks.org/numpy-ndarray/\n",
    "Machine Learning for Trading, Tucker Balch, Arpan Chakraborty, Udacity. https://www.udacity.com/course/machine-learning-for-trading--ud501"
   ]
  },
  {
   "cell_type": "code",
   "execution_count": null,
   "id": "577d1927",
   "metadata": {},
   "outputs": [],
   "source": []
  }
 ],
 "metadata": {
  "kernelspec": {
   "display_name": "Python 3 (ipykernel)",
   "language": "python",
   "name": "python3"
  },
  "language_info": {
   "codemirror_mode": {
    "name": "ipython",
    "version": 3
   },
   "file_extension": ".py",
   "mimetype": "text/x-python",
   "name": "python",
   "nbconvert_exporter": "python",
   "pygments_lexer": "ipython3",
   "version": "3.8.15"
  }
 },
 "nbformat": 4,
 "nbformat_minor": 5
}
